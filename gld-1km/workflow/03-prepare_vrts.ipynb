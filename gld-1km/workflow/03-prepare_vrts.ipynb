{
 "cells": [
  {
   "cell_type": "code",
   "execution_count": 1,
   "id": "de063017-396e-4ebc-9edd-c73aa3c66366",
   "metadata": {
    "tags": []
   },
   "outputs": [
    {
     "data": {
      "text/html": [
       "<div>\n",
       "<style scoped>\n",
       "    .dataframe tbody tr th:only-of-type {\n",
       "        vertical-align: middle;\n",
       "    }\n",
       "\n",
       "    .dataframe tbody tr th {\n",
       "        vertical-align: top;\n",
       "    }\n",
       "\n",
       "    .dataframe thead th {\n",
       "        text-align: right;\n",
       "    }\n",
       "</style>\n",
       "<table border=\"1\" class=\"dataframe\">\n",
       "  <thead>\n",
       "    <tr style=\"text-align: right;\">\n",
       "      <th></th>\n",
       "      <th>Unnamed: 0</th>\n",
       "      <th>url</th>\n",
       "      <th>type</th>\n",
       "      <th>start_year</th>\n",
       "      <th>end_year</th>\n",
       "      <th>layername</th>\n",
       "      <th>spatial_res</th>\n",
       "      <th>url_lan</th>\n",
       "      <th>url_ib</th>\n",
       "      <th>url_ext</th>\n",
       "      <th>vrt</th>\n",
       "    </tr>\n",
       "  </thead>\n",
       "  <tbody>\n",
       "    <tr>\n",
       "      <th>0</th>\n",
       "      <td>0</td>\n",
       "      <td>http://192.168.1.30:8333/global/dtm/easterness...</td>\n",
       "      <td>static</td>\n",
       "      <td>NaN</td>\n",
       "      <td>NaN</td>\n",
       "      <td>easterness_edtm_m_240m_s_20000101_20221231_go_...</td>\n",
       "      <td>240m</td>\n",
       "      <td>http://192.168.1.30:8333/global/dtm/easterness...</td>\n",
       "      <td>http://192.168.49.40:8333/global/dtm/easternes...</td>\n",
       "      <td>http://s3.opengeohub.org:8333.30:8333/global/d...</td>\n",
       "      <td>vrts/easterness_edtm_m_240m_s_20000101_2022123...</td>\n",
       "    </tr>\n",
       "    <tr>\n",
       "      <th>1</th>\n",
       "      <td>1</td>\n",
       "      <td>http://192.168.1.30:8333/global/dtm/filtered.d...</td>\n",
       "      <td>static</td>\n",
       "      <td>NaN</td>\n",
       "      <td>NaN</td>\n",
       "      <td>filtered.dtm_edtm_m_240m_s_20000101_20221231_g...</td>\n",
       "      <td>240m</td>\n",
       "      <td>http://192.168.1.30:8333/global/dtm/filtered.d...</td>\n",
       "      <td>http://192.168.49.40:8333/global/dtm/filtered....</td>\n",
       "      <td>http://s3.opengeohub.org:8333.30:8333/global/d...</td>\n",
       "      <td>vrts/filtered.dtm_edtm_m_240m_s_20000101_20221...</td>\n",
       "    </tr>\n",
       "    <tr>\n",
       "      <th>2</th>\n",
       "      <td>2</td>\n",
       "      <td>http://192.168.1.30:8333/global/dtm/flow.accum...</td>\n",
       "      <td>static</td>\n",
       "      <td>NaN</td>\n",
       "      <td>NaN</td>\n",
       "      <td>flow.accum_edtm_m_240m_s_20000101_20221231_go_...</td>\n",
       "      <td>240m</td>\n",
       "      <td>http://192.168.1.30:8333/global/dtm/flow.accum...</td>\n",
       "      <td>http://192.168.49.40:8333/global/dtm/flow.accu...</td>\n",
       "      <td>http://s3.opengeohub.org:8333.30:8333/global/d...</td>\n",
       "      <td>vrts/flow.accum_edtm_m_240m_s_20000101_2022123...</td>\n",
       "    </tr>\n",
       "    <tr>\n",
       "      <th>3</th>\n",
       "      <td>3</td>\n",
       "      <td>http://192.168.1.30:8333/global/dtm/geomorphon...</td>\n",
       "      <td>static</td>\n",
       "      <td>NaN</td>\n",
       "      <td>NaN</td>\n",
       "      <td>geomorphon_edtm_m_240m_s_20000101_20221231_go_...</td>\n",
       "      <td>240m</td>\n",
       "      <td>http://192.168.1.30:8333/global/dtm/geomorphon...</td>\n",
       "      <td>http://192.168.49.40:8333/global/dtm/geomorpho...</td>\n",
       "      <td>http://s3.opengeohub.org:8333.30:8333/global/d...</td>\n",
       "      <td>vrts/geomorphon_edtm_m_240m_s_20000101_2022123...</td>\n",
       "    </tr>\n",
       "    <tr>\n",
       "      <th>4</th>\n",
       "      <td>4</td>\n",
       "      <td>http://192.168.1.30:8333/global/dtm/hillshade_...</td>\n",
       "      <td>static</td>\n",
       "      <td>NaN</td>\n",
       "      <td>NaN</td>\n",
       "      <td>hillshade_edtm_m_240m_s_20000101_20221231_go_e...</td>\n",
       "      <td>240m</td>\n",
       "      <td>http://192.168.1.30:8333/global/dtm/hillshade_...</td>\n",
       "      <td>http://192.168.49.40:8333/global/dtm/hillshade...</td>\n",
       "      <td>http://s3.opengeohub.org:8333.30:8333/global/d...</td>\n",
       "      <td>vrts/hillshade_edtm_m_240m_s_20000101_20221231...</td>\n",
       "    </tr>\n",
       "    <tr>\n",
       "      <th>...</th>\n",
       "      <td>...</td>\n",
       "      <td>...</td>\n",
       "      <td>...</td>\n",
       "      <td>...</td>\n",
       "      <td>...</td>\n",
       "      <td>...</td>\n",
       "      <td>...</td>\n",
       "      <td>...</td>\n",
       "      <td>...</td>\n",
       "      <td>...</td>\n",
       "      <td>...</td>\n",
       "    </tr>\n",
       "    <tr>\n",
       "      <th>449</th>\n",
       "      <td>449</td>\n",
       "      <td>http://192.168.1.30:8333/global/nh3.emissions/...</td>\n",
       "      <td>temporal</td>\n",
       "      <td>2000.0</td>\n",
       "      <td>2022.0</td>\n",
       "      <td>nh3.emissions_edgarv8.1_m_10km_s_{year}0101_{y...</td>\n",
       "      <td>10km</td>\n",
       "      <td>http://192.168.1.30:8333/global/nh3.emissions/...</td>\n",
       "      <td>http://192.168.49.30:8333/global/nh3.emissions...</td>\n",
       "      <td>http://s3.opengeohub.org:8333/global/nh3.emiss...</td>\n",
       "      <td>vrt/nh3.emissions_edgarv8.1_m_10km_s_{year}010...</td>\n",
       "    </tr>\n",
       "    <tr>\n",
       "      <th>450</th>\n",
       "      <td>450</td>\n",
       "      <td>http://192.168.1.30:8333/global/nox.emissions/...</td>\n",
       "      <td>temporal</td>\n",
       "      <td>2000.0</td>\n",
       "      <td>2022.0</td>\n",
       "      <td>nox.emissions_edgarv8.1_m_10km_s_{year}0101_{y...</td>\n",
       "      <td>10km</td>\n",
       "      <td>http://192.168.1.30:8333/global/nox.emissions/...</td>\n",
       "      <td>http://192.168.49.30:8333/global/nox.emissions...</td>\n",
       "      <td>http://s3.opengeohub.org:8333/global/nox.emiss...</td>\n",
       "      <td>vrt/nox.emissions_edgarv8.1_m_10km_s_{year}010...</td>\n",
       "    </tr>\n",
       "    <tr>\n",
       "      <th>451</th>\n",
       "      <td>451</td>\n",
       "      <td>http://192.168.1.30:8333/global/pm10.emissions...</td>\n",
       "      <td>temporal</td>\n",
       "      <td>2000.0</td>\n",
       "      <td>2022.0</td>\n",
       "      <td>pm10.emissions_edgarv8.1_m_10km_s_{year}0101_{...</td>\n",
       "      <td>10km</td>\n",
       "      <td>http://192.168.1.30:8333/global/pm10.emissions...</td>\n",
       "      <td>http://192.168.49.30:8333/global/pm10.emission...</td>\n",
       "      <td>http://s3.opengeohub.org:8333/global/pm10.emis...</td>\n",
       "      <td>vrt/pm10.emissions_edgarv8.1_m_10km_s_{year}01...</td>\n",
       "    </tr>\n",
       "    <tr>\n",
       "      <th>452</th>\n",
       "      <td>452</td>\n",
       "      <td>http://192.168.1.30:8333/global/pm2.5.emission...</td>\n",
       "      <td>temporal</td>\n",
       "      <td>2000.0</td>\n",
       "      <td>2022.0</td>\n",
       "      <td>pm2.5.emissions_edgarv8.1_m_10km_s_{year}0101_...</td>\n",
       "      <td>10km</td>\n",
       "      <td>http://192.168.1.30:8333/global/pm2.5.emission...</td>\n",
       "      <td>http://192.168.49.30:8333/global/pm2.5.emissio...</td>\n",
       "      <td>http://s3.opengeohub.org:8333/global/pm2.5.emi...</td>\n",
       "      <td>vrt/pm2.5.emissions_edgarv8.1_m_10km_s_{year}0...</td>\n",
       "    </tr>\n",
       "    <tr>\n",
       "      <th>453</th>\n",
       "      <td>453</td>\n",
       "      <td>http://192.168.1.30:8333/global/rural.pop.dist...</td>\n",
       "      <td>temporal</td>\n",
       "      <td>2000.0</td>\n",
       "      <td>2022.0</td>\n",
       "      <td>rural.pop.dist_worldpop_m_1km_{year}0101_{year...</td>\n",
       "      <td>1km</td>\n",
       "      <td>http://192.168.1.30:8333/global/rural.pop.dist...</td>\n",
       "      <td>http://192.168.49.30:8333/global/rural.pop.dis...</td>\n",
       "      <td>http://s3.opengeohub.orgL8333/global/rural.pop...</td>\n",
       "      <td>vrt/rural.pop.dist_worldpop_m_1km_{year}0101_{...</td>\n",
       "    </tr>\n",
       "  </tbody>\n",
       "</table>\n",
       "<p>454 rows × 11 columns</p>\n",
       "</div>"
      ],
      "text/plain": [
       "     Unnamed: 0                                                url      type  \\\n",
       "0             0  http://192.168.1.30:8333/global/dtm/easterness...    static   \n",
       "1             1  http://192.168.1.30:8333/global/dtm/filtered.d...    static   \n",
       "2             2  http://192.168.1.30:8333/global/dtm/flow.accum...    static   \n",
       "3             3  http://192.168.1.30:8333/global/dtm/geomorphon...    static   \n",
       "4             4  http://192.168.1.30:8333/global/dtm/hillshade_...    static   \n",
       "..          ...                                                ...       ...   \n",
       "449         449  http://192.168.1.30:8333/global/nh3.emissions/...  temporal   \n",
       "450         450  http://192.168.1.30:8333/global/nox.emissions/...  temporal   \n",
       "451         451  http://192.168.1.30:8333/global/pm10.emissions...  temporal   \n",
       "452         452  http://192.168.1.30:8333/global/pm2.5.emission...  temporal   \n",
       "453         453  http://192.168.1.30:8333/global/rural.pop.dist...  temporal   \n",
       "\n",
       "     start_year  end_year                                          layername  \\\n",
       "0           NaN       NaN  easterness_edtm_m_240m_s_20000101_20221231_go_...   \n",
       "1           NaN       NaN  filtered.dtm_edtm_m_240m_s_20000101_20221231_g...   \n",
       "2           NaN       NaN  flow.accum_edtm_m_240m_s_20000101_20221231_go_...   \n",
       "3           NaN       NaN  geomorphon_edtm_m_240m_s_20000101_20221231_go_...   \n",
       "4           NaN       NaN  hillshade_edtm_m_240m_s_20000101_20221231_go_e...   \n",
       "..          ...       ...                                                ...   \n",
       "449      2000.0    2022.0  nh3.emissions_edgarv8.1_m_10km_s_{year}0101_{y...   \n",
       "450      2000.0    2022.0  nox.emissions_edgarv8.1_m_10km_s_{year}0101_{y...   \n",
       "451      2000.0    2022.0  pm10.emissions_edgarv8.1_m_10km_s_{year}0101_{...   \n",
       "452      2000.0    2022.0  pm2.5.emissions_edgarv8.1_m_10km_s_{year}0101_...   \n",
       "453      2000.0    2022.0  rural.pop.dist_worldpop_m_1km_{year}0101_{year...   \n",
       "\n",
       "    spatial_res                                            url_lan  \\\n",
       "0          240m  http://192.168.1.30:8333/global/dtm/easterness...   \n",
       "1          240m  http://192.168.1.30:8333/global/dtm/filtered.d...   \n",
       "2          240m  http://192.168.1.30:8333/global/dtm/flow.accum...   \n",
       "3          240m  http://192.168.1.30:8333/global/dtm/geomorphon...   \n",
       "4          240m  http://192.168.1.30:8333/global/dtm/hillshade_...   \n",
       "..          ...                                                ...   \n",
       "449        10km  http://192.168.1.30:8333/global/nh3.emissions/...   \n",
       "450        10km  http://192.168.1.30:8333/global/nox.emissions/...   \n",
       "451        10km  http://192.168.1.30:8333/global/pm10.emissions...   \n",
       "452        10km  http://192.168.1.30:8333/global/pm2.5.emission...   \n",
       "453         1km  http://192.168.1.30:8333/global/rural.pop.dist...   \n",
       "\n",
       "                                                url_ib  \\\n",
       "0    http://192.168.49.40:8333/global/dtm/easternes...   \n",
       "1    http://192.168.49.40:8333/global/dtm/filtered....   \n",
       "2    http://192.168.49.40:8333/global/dtm/flow.accu...   \n",
       "3    http://192.168.49.40:8333/global/dtm/geomorpho...   \n",
       "4    http://192.168.49.40:8333/global/dtm/hillshade...   \n",
       "..                                                 ...   \n",
       "449  http://192.168.49.30:8333/global/nh3.emissions...   \n",
       "450  http://192.168.49.30:8333/global/nox.emissions...   \n",
       "451  http://192.168.49.30:8333/global/pm10.emission...   \n",
       "452  http://192.168.49.30:8333/global/pm2.5.emissio...   \n",
       "453  http://192.168.49.30:8333/global/rural.pop.dis...   \n",
       "\n",
       "                                               url_ext  \\\n",
       "0    http://s3.opengeohub.org:8333.30:8333/global/d...   \n",
       "1    http://s3.opengeohub.org:8333.30:8333/global/d...   \n",
       "2    http://s3.opengeohub.org:8333.30:8333/global/d...   \n",
       "3    http://s3.opengeohub.org:8333.30:8333/global/d...   \n",
       "4    http://s3.opengeohub.org:8333.30:8333/global/d...   \n",
       "..                                                 ...   \n",
       "449  http://s3.opengeohub.org:8333/global/nh3.emiss...   \n",
       "450  http://s3.opengeohub.org:8333/global/nox.emiss...   \n",
       "451  http://s3.opengeohub.org:8333/global/pm10.emis...   \n",
       "452  http://s3.opengeohub.org:8333/global/pm2.5.emi...   \n",
       "453  http://s3.opengeohub.orgL8333/global/rural.pop...   \n",
       "\n",
       "                                                   vrt  \n",
       "0    vrts/easterness_edtm_m_240m_s_20000101_2022123...  \n",
       "1    vrts/filtered.dtm_edtm_m_240m_s_20000101_20221...  \n",
       "2    vrts/flow.accum_edtm_m_240m_s_20000101_2022123...  \n",
       "3    vrts/geomorphon_edtm_m_240m_s_20000101_2022123...  \n",
       "4    vrts/hillshade_edtm_m_240m_s_20000101_20221231...  \n",
       "..                                                 ...  \n",
       "449  vrt/nh3.emissions_edgarv8.1_m_10km_s_{year}010...  \n",
       "450  vrt/nox.emissions_edgarv8.1_m_10km_s_{year}010...  \n",
       "451  vrt/pm10.emissions_edgarv8.1_m_10km_s_{year}01...  \n",
       "452  vrt/pm2.5.emissions_edgarv8.1_m_10km_s_{year}0...  \n",
       "453  vrt/rural.pop.dist_worldpop_m_1km_{year}0101_{...  \n",
       "\n",
       "[454 rows x 11 columns]"
      ]
     },
     "execution_count": 1,
     "metadata": {},
     "output_type": "execute_result"
    }
   ],
   "source": [
    "import pandas as pd\n",
    "from pathlib import Path\n",
    "\n",
    "wd = '/mnt/tupi/WRI/livestock_global_modeling'\n",
    "\n",
    "livestock_covs = pd.read_csv(f'{wd}/livestock_census_ard/livestock_cov.csv')\n",
    "livestock_covs"
   ]
  },
  {
   "cell_type": "code",
   "execution_count": 21,
   "id": "6cec0366-7732-44f8-85df-d723ecad579b",
   "metadata": {
    "tags": []
   },
   "outputs": [],
   "source": [
    "# Livestock production systems\n",
    "livestock_covs = pd.concat([\n",
    "    livestock_covs,\n",
    "    pd.DataFrame([\n",
    "        {\n",
    "            'Unnamed: 0': livestock_covs.shape[0] + 1,\n",
    "            'url': 'http://192.168.1.30:8333/gpw/livestock/gpw_livestock.pot.land_grassland.cropland.rules_p_1km_{year}0101_{year}1231_go_epsg.4326_v1.tif',\n",
    "            'type': 'temporal',\n",
    "            'start_year': 2000,\n",
    "            'end_year': 2022,\n",
    "            'layername': 'gpw_livestock.pot.land_grassland.cropland.rules_p_1km_{year}0101_{year}1231_go_epsg.4326_v1.tif',\n",
    "            'spatial_res': '1km',\n",
    "            'url_lan': 'http://192.168.1.30:8333/gpw/livestock/gpw_livestock.pot.land_grassland.cropland.rules_p_1km_{year}0101_{year}1231_go_epsg.4326_v1.tif',\n",
    "            'url_ib': 'http://192.168.49.40:8333/gpw/livestock/gpw_livestock.pot.land_grassland.cropland.rules_p_1km_{year}0101_{year}1231_go_epsg.4326_v1.tif',\n",
    "            'url_ext': 'http://s3.opengeohub.org:8333.30:8333/gpw/livestock/gpw_livestock.pot.land_grassland.cropland.rules_p_1km_{year}0101_{year}1231_go_epsg.4326_v1.tif',\n",
    "            'vrt': 'vrts/gpw_livestock.pot.land_grassland.cropland.rules_p_1km_{year}0101_{year}1231_go_epsg.4326_v1.vrt'\n",
    "        },\n",
    "        {\n",
    "            'Unnamed: 0': livestock_covs.shape[0] + 2,\n",
    "            'url': 'http://192.168.1.30:8333/gpw/livestock/gpw_livestock.systems_grassland.cropland.rules_c_1km_{year}0101_{year}1231_go_epsg.4326_v1.tif',\n",
    "            'type': 'temporal',\n",
    "            'start_year': 2000,\n",
    "            'end_year': 2022,\n",
    "            'layername': 'gpw_livestock.systems_grassland.cropland.rules_c_1km_{year}0101_{year}1231_go_epsg.4326_v1.tif',\n",
    "            'spatial_res': '1km',\n",
    "            'url_lan': 'http://192.168.1.30:8333/gpw/livestock/gpw_livestock.systems_grassland.cropland.rules_c_1km_{year}0101_{year}1231_go_epsg.4326_v1.tif',\n",
    "            'url_ib': 'http://192.168.49.40:8333/gpw/livestock/gpw_livestock.systems_grassland.cropland.rules_c_1km_{year}0101_{year}1231_go_epsg.4326_v1.tif',\n",
    "            'url_ext': 'http://s3.opengeohub.org:8333.30:8333/gpw/livestock/gpw_livestock.systems_grassland.cropland.rules_c_1km_{year}0101_{year}1231_go_epsg.4326_v1.tif',\n",
    "            'vrt': 'vrts/gpw_livestock.systems_grassland.cropland.rules_c_1km_{year}0101_{year}1231_go_epsg.4326_v1.vrt'\n",
    "        }\n",
    "    ])\n",
    "]).reset_index(drop=True)"
   ]
  },
  {
   "cell_type": "code",
   "execution_count": 2,
   "id": "7f01e552-0ece-42b7-b622-285c89db81f0",
   "metadata": {
    "tags": []
   },
   "outputs": [
    {
     "name": "stdout",
     "output_type": "stream",
     "text": [
      "Cmd size: 23\n"
     ]
    }
   ],
   "source": [
    "from pathlib import Path\n",
    "\n",
    "base_features = []\n",
    "\n",
    "cmds = []\n",
    "te = '-19927000 -6150000 20024000 7855000'\n",
    "#Extent: (-17677000.000000, -6150000.000000) - (20024000.000000, 7855000.000000\n",
    "#te = '-180 -90 180 90'\n",
    "\n",
    "tr = '1000 1000'\n",
    "#tr = '0.008 0.008'\n",
    "\n",
    "t_srs = '+proj=igh +lon_0=0 +x_0=0 +y_0=0 +datum=WGS84 +units=m +no_defs +type=crs'\n",
    "#t_srs = 'EPSG:4326'\n",
    "\n",
    "basedir = 'vrt'\n",
    "#basedir = 'vrt_wgs84'\n",
    "\n",
    "for id, row in livestock_covs.iterrows():\n",
    "    r = 'near'\n",
    "    if row['spatial_res'] == '10km':\n",
    "        r = 'cubicspline'\n",
    "    elif row['spatial_res'] != '1km':\n",
    "        r = 'average'\n",
    "    \n",
    "    gi = str(30 + (int(id) % 15))\n",
    "    url = row['url_ib'].replace('.40:8333',f'.{gi}:8333')\n",
    "    basename = Path(url).stem\n",
    "    \n",
    "    if basename == 'gpw_livestock.systems_grassland.cropland.rules_c_1km_{year}0101_{year}1231_go_epsg.4326_v1':\n",
    "        r = 'mode'\n",
    "        print(basename, r)\n",
    "        \n",
    "    if row['type'] == 'static':\n",
    "        if not Path(f'{wd}/{basedir}/{basename}.vrt').exists():\n",
    "            cmds.append(\n",
    "                f\"gdalwarp -te {te} -t_srs '{t_srs}' -r {r} -tr {tr} /vsicurl/{url} {wd}/{basedir}/{basename}.vrt\"\n",
    "            )\n",
    "    elif row['type'] == 'temporal':\n",
    "        for y in range(int(row['start_year']), int(row['end_year'])+1):\n",
    "            y_url = url.replace('{year}', str(y))\n",
    "            y_basename = Path(y_url).stem\n",
    "            if not Path(f'{wd}/{basedir}/{y_basename}.vrt').exists():\n",
    "                cmds.append(\n",
    "                    f\"gdalwarp -te {te} -t_srs '{t_srs}' -r {r} -tr {tr} /vsicurl/{y_url} {wd}/{basedir}/{y_basename}.vrt\"\n",
    "                )\n",
    "print(f\"Cmd size: {len(cmds)}\")"
   ]
  },
  {
   "cell_type": "code",
   "execution_count": 18,
   "id": "79cbd7bd-803c-4c58-addb-22980ae36849",
   "metadata": {
    "tags": []
   },
   "outputs": [
    {
     "name": "stdout",
     "output_type": "stream",
     "text": [
      "Cmd size: 25\n"
     ]
    }
   ],
   "source": [
    "for y in range(2000,2023):\n",
    "    y_url = f'http://192.168.49.30:8333/gpw/arco/gpw_grassland_rf.savgol.bthr_c12_1km_{y}0101_{y}1231_go_epsg.4326_v1.tif'\n",
    "    y_basename = Path(y_url).stem\n",
    "    cmds.append(\n",
    "        f\"gdalwarp -te {te} -t_srs '{t_srs}' -r {r} -tr {tr} /vsicurl/{y_url} {wd}/{basedir}/{y_basename}.vrt\"\n",
    "    )\n",
    "\n",
    "cmds.append(\n",
    "    f\"gdalwarp -te {te} -t_srs '{t_srs}' -r {r} -tr {tr} {wd}/gpw_grassland.mask_rf.savgol.bthr_max_1km_20000101_20221231_go_epsg.4326_v1.tif {wd}/{basedir}/gpw_grassland.mask_rf.savgol.bthr_max_1km_20000101_20221231_go_epsg.4326_v1.vrt\"\n",
    ")\n",
    "\n",
    "cmds.append(\n",
    "    f\"gdalwarp -te {te} -t_srs '{t_srs}' -r {r} -tr {tr} /vsicurl/http://192.168.49.30:8333/gpw/arco/lcv_landmask_esacci.lc.l4_c_1km_s0..0cm_2000..2015_v1.0.tif {wd}/{basedir}/lcv_landmask_esacci.lc.l4_c_1km_s0..0cm_2000..2015_v1.0.vrt\"\n",
    ")\n",
    "\n",
    "print(f\"Cmd size: {len(cmds)}\")"
   ]
  },
  {
   "cell_type": "code",
   "execution_count": 7,
   "id": "a48e5ca0-d08e-4080-8521-a081de11afa9",
   "metadata": {
    "tags": []
   },
   "outputs": [
    {
     "data": {
      "text/plain": [
       "'/mnt/tupi/WRI/livestock_global_modeling/warp_vrt_2.in'"
      ]
     },
     "execution_count": 7,
     "metadata": {},
     "output_type": "execute_result"
    }
   ],
   "source": [
    "f'{wd}/warp_vrt_2.in'"
   ]
  },
  {
   "cell_type": "code",
   "execution_count": 4,
   "id": "f94535db-c503-43c5-8104-6a09244fc339",
   "metadata": {
    "tags": []
   },
   "outputs": [],
   "source": [
    "with open(f\"{wd}/warp_vrt_2.in\", \"w\") as txt_file:\n",
    "    for line in cmds:\n",
    "        txt_file.write(f\"{line}\\n\")"
   ]
  },
  {
   "cell_type": "markdown",
   "id": "4f1bf5c0-95bb-4a6a-974f-1d5985e41b14",
   "metadata": {},
   "source": [
    "### Check internal tiles"
   ]
  },
  {
   "cell_type": "code",
   "execution_count": null,
   "id": "c849417a-2e17-49b6-8066-63f3939d9dba",
   "metadata": {
    "tags": []
   },
   "outputs": [],
   "source": [
    "from pathlib import Path\n",
    "import rasterio\n",
    "\n",
    "base_features = []\n",
    "\n",
    "cmds = []\n",
    "te = '-180 -90 180 90'\n",
    "tr = '0.00800 0.00800'\n",
    "\n",
    "for id, row in livestock_covs.iterrows():\n",
    "    r = 'near'\n",
    "    if row['spatial_res'] != '1km':\n",
    "        r = 'average'\n",
    "    \n",
    "    gi = str(30 + (int(id) % 15))\n",
    "    url = row['url_ib'].replace('.40:8333',f'.{gi}:8333')\n",
    "    basename = Path(url).stem\n",
    "    if row['type'] == 'static':\n",
    "        src = rasterio.open(f'/vsicurl/{url}')\n",
    "        _, window = next(src.block_windows(1))\n",
    "        if (window.width == 1 or window.height == 1):\n",
    "            print(f'{window}: {url}')\n",
    "    elif row['type'] == 'temporal':\n",
    "        for y in range(int(row['start_year']), int(row['end_year'])+1):\n",
    "            y_url = url.replace('{year}', str(y))\n",
    "            y_basename = Path(y_url).stem\n",
    "            src = rasterio.open(f'/vsicurl/{y_url}')\n",
    "            _, window = next(src.block_windows(1))\n",
    "            if (window.width == 1 or window.height == 1):\n",
    "                print(f'{window}: {y_url}')\n",
    "print(f\"Cmd size: {len(cmds)}\")"
   ]
  },
  {
   "cell_type": "markdown",
   "id": "0130c026-04ee-4634-bddf-9147c920d13f",
   "metadata": {},
   "source": [
    "## Base features"
   ]
  },
  {
   "cell_type": "code",
   "execution_count": 10,
   "id": "f62ff878-eee9-44bf-b33d-e73d8a47b6c6",
   "metadata": {
    "tags": []
   },
   "outputs": [],
   "source": [
    "base_feat = []\n",
    "for _, row in livestock_covs[livestock_covs['type'] == 'temporal'].sort_values('url_ib').iterrows():\n",
    "    base_feat.append({\n",
    "       'type': 'temporal',\n",
    "       'name': Path(row['url_ib']).stem.replace('{year}','year'),\n",
    "       'path': f'{wd}/vrt/' + Path(row['url_ib']).stem + '.vrt'\n",
    "    })\n",
    "for _, row in livestock_covs[livestock_covs['type'] == 'static'].sort_values('url_ib').iterrows():\n",
    "    base_feat.append({\n",
    "       'type': 'static',\n",
    "       'name': Path(row['url_ib']).stem,\n",
    "       'path': f'{wd}/vrt/' + Path(row['url_ib']).stem + '.vrt'\n",
    "    })\n",
    "\n",
    "for m in range(1,13):\n",
    "    base_feat.append({\n",
    "        'type': 'on-the-fly',\n",
    "        'name': f'clm_lst_min.geom.temp_m_30m_s_m{m}',\n",
    "        'path': ''\n",
    "    })\n",
    "    base_feat.append({\n",
    "        'type': 'on-the-fly',\n",
    "        'name': f'clm_lst_max.geom.temp_m_30m_s_m{m}',\n",
    "        'path': ''\n",
    "    })\n",
    "    \n",
    "base_feat.append({\n",
    "        'type': 'on-the-fly',\n",
    "        'name': f'bsf_veg_ndvi_mod13q1.v061_p50_250m_s0..0cm_v1',\n",
    "        'path': ''\n",
    "    })\n",
    "\n",
    "base_feat = pd.DataFrame(base_feat)\n",
    "base_feat.loc[:, 'idx'] = base_feat.index\n",
    "base_feat.to_csv(f'{wd}/livestock_census_ard/features_livestock_all_zonal.csv')"
   ]
  },
  {
   "cell_type": "markdown",
   "id": "f8a30d44-f1c7-46cb-bafb-dad7537217db",
   "metadata": {},
   "source": [
    "## Tile system"
   ]
  },
  {
   "cell_type": "code",
   "execution_count": 25,
   "id": "618c5a8a-710e-468a-be5a-0e05c3a7a2ab",
   "metadata": {
    "tags": []
   },
   "outputs": [],
   "source": [
    "from skmap.parallel import TilingProcessing\n",
    "import rasterio"
   ]
  },
  {
   "cell_type": "code",
   "execution_count": 35,
   "id": "e446e770-f4da-4129-a7c7-73d4dd59cc2b",
   "metadata": {
    "tags": []
   },
   "outputs": [],
   "source": [
    "base_raster = '/mnt/tupi/WRI/livestock_global_modeling/vrt/gpw_grassland.mask_rf.savgol.bthr_max_1km_20000101_20221231_go_epsg.4326_v1.vrt'\n",
    "#base_raster = 'http://192.168.49.35:8333/global/lc/lc_esa.worldcover_c_10m_s_20210101_20211231_go_epsg.4326_v20240901.tif'\n",
    "ds = rasterio.open(base_raster)\n",
    "tile_size = ds.transform[0] * 2250 #1024 * 4\n",
    "#tile_size\n",
    "tiling_system = TilingProcessing.generate_tiles(tile_size, ds.bounds, ds.crs, raster_layer_fn=base_raster)"
   ]
  },
  {
   "cell_type": "code",
   "execution_count": 42,
   "id": "f38bb9b4-664b-43a4-9c81-26bda8d24ed6",
   "metadata": {
    "tags": []
   },
   "outputs": [],
   "source": [
    "tiling_system['x_size'] = (tiling_system['maxx'] - tiling_system['minx']) / ds.transform[0]\n",
    "tiling_system['y_size'] = (tiling_system['maxy'] - tiling_system['miny']) / ds.transform[0]"
   ]
  },
  {
   "cell_type": "code",
   "execution_count": 43,
   "id": "856b175c-261c-42ba-b59d-b00ef92e7324",
   "metadata": {
    "tags": []
   },
   "outputs": [],
   "source": [
    "tiling_system[tiling_system['raster_mode_count'] > 0].to_file(f'{wd}/gpw_livestock_tile_igh.gpkg', driver=\"GPKG\")"
   ]
  },
  {
   "cell_type": "markdown",
   "id": "4bf21493-1b57-4baa-bf99-a12fe119703f",
   "metadata": {},
   "source": [
    "### Converting grassland mask"
   ]
  },
  {
   "cell_type": "code",
   "execution_count": null,
   "id": "a41bf19f-6006-4c22-b1f0-0c3f7208b1ab",
   "metadata": {},
   "outputs": [],
   "source": [
    "find ../../../livestock_global_modeling/cogs/ -name '*grassland*.tif' -exec echo echo gdal_translate -projwin -180 90 180 -90 -co COMPRESS=deflate -co TILED=true {} tmp/\\`basename {}\\` \\; | bash | parallel -j10"
   ]
  },
  {
   "cell_type": "markdown",
   "id": "a5d120db-c094-47f2-91e1-d81eae3e0a8f",
   "metadata": {},
   "source": [
    "### Area layer"
   ]
  },
  {
   "cell_type": "code",
   "execution_count": 21,
   "id": "b3ce8af1-d0a5-4964-88f1-41d876869a1b",
   "metadata": {
    "tags": []
   },
   "outputs": [
    {
     "data": {
      "text/plain": [
       "(22500, 45000)"
      ]
     },
     "execution_count": 21,
     "metadata": {},
     "output_type": "execute_result"
    }
   ],
   "source": [
    "import rasterio \n",
    "import numpy as np\n",
    "base_raster = 'http://192.168.49.30:8333/gpw/arco/lcv_landmask_esacci.lc.l4_c_1km_s0..0cm_2000..2015_v1.0.tif'\n",
    "ds = rasterio.open(base_raster)\n",
    "data = ds.read(1, out_dtype='float64')\n",
    "nodata = 2 #ds.nodatavals[0]\n",
    "\n",
    "data[data == nodata] = np.nan\n",
    "data[:] = (data * 0) + np.arange(0, data.shape[0] * data.shape[1], 1).reshape(data.shape)\n",
    "data.shape"
   ]
  },
  {
   "cell_type": "code",
   "execution_count": 3,
   "id": "c912f52d-317c-4322-91ae-b4211564bcf8",
   "metadata": {
    "tags": []
   },
   "outputs": [],
   "source": [
    "#base_raster = 'http://192.168.1.30:8333/gpw/arco/gpw_grassland.mask_rf.savgol.bthr_max_1km_20000101_20221231_go_epsg.4326_v1.tif'"
   ]
  },
  {
   "cell_type": "code",
   "execution_count": 22,
   "id": "233c6041-7f25-4cbb-bb6a-a5ea4303493b",
   "metadata": {
    "tags": []
   },
   "outputs": [],
   "source": [
    "from pathlib import Path \n",
    "def _new_raster(base_raster, raster_file, data, window = None,\n",
    "  dtype = None, nodata = None):\n",
    "\n",
    "  if (not isinstance(raster_file, Path)):\n",
    "    raster_file = Path(raster_file)\n",
    "\n",
    "  raster_file.parent.mkdir(parents=True, exist_ok=True)\n",
    "\n",
    "  if len(data.shape) < 3:\n",
    "    data = np.stack([data], axis=2)\n",
    "\n",
    "  x_size, y_size, nbands = data.shape\n",
    "\n",
    "  with rasterio.open(base_raster, 'r') as base_raster:\n",
    "    if dtype is None:\n",
    "      dtype = base_raster.dtypes[0]\n",
    "\n",
    "    if nodata is None:\n",
    "      nodata = base_raster.nodata\n",
    "\n",
    "    transform = base_raster.transform\n",
    "\n",
    "    if window is not None:\n",
    "      transform = rasterio.windows.transform(window, transform)\n",
    "\n",
    "    return rasterio.open(raster_file, 'w',\n",
    "            driver='GTiff',\n",
    "            height=x_size,\n",
    "            width=y_size,\n",
    "            count=nbands,\n",
    "            dtype=dtype,\n",
    "            crs=base_raster.crs,\n",
    "            compress='LZW',\n",
    "            transform=transform,\n",
    "            nodata=nodata)\n",
    "\n",
    "with _new_raster(base_raster, 'seq_1km_wgs84.tif', data, None, dtype=np.int32, nodata=-1) as new_raster:\n",
    "    band_dtype = new_raster.dtypes[0]\n",
    "    data[:,:][np.isnan(data)] = new_raster.nodata\n",
    "    new_raster.write(data.astype(band_dtype), indexes=1)"
   ]
  },
  {
   "cell_type": "code",
   "execution_count": null,
   "id": "22ca1bf9-048c-4517-a3ad-5f904cc3a3b4",
   "metadata": {},
   "outputs": [],
   "source": [
    "gdal_polygonize.py -f FlatGeobuf seq_1km_wgs84.tif seq_1km_wgs84.fgb"
   ]
  },
  {
   "cell_type": "code",
   "execution_count": null,
   "id": "2b34b53a-f86a-43e4-b4c6-4a00d501e5c7",
   "metadata": {},
   "outputs": [],
   "source": [
    "#ogrinfo -sql \"SELECT (ST_Area(ST_Transform(geom, 0, null, '+proj=igh +lon_0=0 +x_0=0 +y_0=0 +datum=WGS84 +units=m +no_defs +type=crs','+proj=igh +lon_0=0 +x_0=0 +y_0=0 +datum=WGS84 +units=m +no_defs +type=crs')) / 1000000) * 1000  as area_km2 FROM seq_1km_wgs84_area LIMIT 10\" -dialect sqlite seq_1km_wgs84.fgb\n",
    "\n",
    "ogr2ogr -sql \"SELECT (ST_Area(ST_Transform(geometry, '+proj=igh +lon_0=0 +x_0=0 +y_0=0 +datum=WGS84 +units=m +no_defs +type=crs')) / 1000000) * 1000  as out, * FROM seq_1km_wgs84\" -dialect sqlite seq_1km_wgs84_area.fgb seq_1km_wgs84.fgb\n",
    "\n",
    "gdal_rasterize -ot Int16 -a_nodata -1 -co COMPRESS=deflate -co TILED=TRUE -tr 0.008 0.008 -a area_km2 seq_1km_wgs84_area.fgb seq_1km_wgs84_area_int.tif\n",
    "\n",
    "gdal_edit.py -scale 0.001 seq_1km_wgs84_area.tif\n",
    "\n",
    "gdalwarp -dstnodata -1 -co COMPRESS=deflate -co TILED=true -te -180 -72 180 90 seq_1km_wgs84_area.tif seq_1km_wgs84_area_2.tif\n",
    "\n",
    "gdal_calc.py --overwrite --type \"Int16\"  --co COMPRESS=DEFLATE --co TILED=TRUE -A /vsicurl/http://192.168.49.40:8333/gpw/arco/gpw_cattle.total_eml_m_1km_s_20200101_20201231_go_epsg.4326_v20240809.tif -B seq_1km_wgs84_area_2.tif --calc=\"numpy.round((A*B)/10)\" --outfile=gpw_cattle.total_eml_m_1km_s_20200101_20201231_go_epsg.4326_v20240809.tif"
   ]
  },
  {
   "cell_type": "markdown",
   "id": "ee04b058-57a2-4966-88ad-53a56dd7aa7a",
   "metadata": {},
   "source": [
    "### Production system thresholds"
   ]
  },
  {
   "cell_type": "code",
   "execution_count": 1,
   "id": "444801e7-9939-4c83-ac1a-f280f5caddda",
   "metadata": {
    "tags": []
   },
   "outputs": [],
   "source": [
    "import sys\n",
    "sys.path.insert(0,'./scikit-map')"
   ]
  },
  {
   "cell_type": "code",
   "execution_count": 16,
   "id": "081396d0-8e23-42a5-9fbd-82de9a999aa1",
   "metadata": {
    "tags": []
   },
   "outputs": [],
   "source": [
    "wd = '/mnt/tupi/WRI/livestock_global_modeling/livestock_systems'\n",
    "\n",
    "raster_files = [\n",
    "    f'{wd}/input/cropland_glad.potapov.et.al_p_1km_s_20150101_20151231_go_epsg.4326_v20240624.vrt',\n",
    "    f'{wd}/input/gpw_cultiv.grassland_rf.savgol.bthr.mode5_p_1km_20150101_20151231_go_epsg.4326_v1.vrt',\n",
    "    f'{wd}/input/gpw_nat.semi.grassland_rf.savgol.bthr.mode5_p_1km_20150101_20151231_go_epsg.4326_v1.vrt',\n",
    "    f'{wd}/Global_Map_2015_wgs84_1km.tif'\n",
    "]"
   ]
  },
  {
   "cell_type": "code",
   "execution_count": 17,
   "id": "ed83638f-a503-41e3-b48c-3e7416b54e1a",
   "metadata": {
    "tags": []
   },
   "outputs": [
    {
     "data": {
      "text/plain": [
       "['/mnt/tupi/WRI/livestock_global_modeling/livestock_systems/input/cropland_glad.potapov.et.al_p_1km_s_20150101_20151231_go_epsg.4326_v20240624.vrt',\n",
       " '/mnt/tupi/WRI/livestock_global_modeling/livestock_systems/input/gpw_cultiv.grassland_rf.savgol.bthr.mode5_p_1km_20150101_20151231_go_epsg.4326_v1.vrt',\n",
       " '/mnt/tupi/WRI/livestock_global_modeling/livestock_systems/input/gpw_nat.semi.grassland_rf.savgol.bthr.mode5_p_1km_20150101_20151231_go_epsg.4326_v1.vrt',\n",
       " '/mnt/tupi/WRI/livestock_global_modeling/livestock_systems/Global_Map_2015_wgs84_1km.tif']"
      ]
     },
     "execution_count": 17,
     "metadata": {},
     "output_type": "execute_result"
    }
   ],
   "source": [
    "raster_files"
   ]
  },
  {
   "cell_type": "code",
   "execution_count": 18,
   "id": "557a4627-052b-4ac6-bd8c-39c151009089",
   "metadata": {
    "tags": []
   },
   "outputs": [
    {
     "name": "stdout",
     "output_type": "stream",
     "text": [
      "[23:00:24] Reading 4 layers using window=Window(col_off=0, row_off=0, width=45000, height=22500) and array=(4, 1012500000)\n",
      "[23:01:31] End\n"
     ]
    },
    {
     "data": {
      "text/plain": [
       "(4, 1012500000)"
      ]
     },
     "execution_count": 18,
     "metadata": {},
     "output_type": "execute_result"
    }
   ],
   "source": [
    "from skmap import io\n",
    "raster_data = io.read_rasters_cpp(raster_files, verbose=True, n_jobs=96)\n",
    "raster_data.shape"
   ]
  },
  {
   "cell_type": "code",
   "execution_count": 19,
   "id": "9acdd70c-472a-4941-bd37-8cc51cdcee83",
   "metadata": {
    "tags": []
   },
   "outputs": [
    {
     "data": {
      "text/plain": [
       "array([ 0.,  1.,  2.,  3.,  4.,  5.,  6.,  7.,  8.,  9., 10., 11., 12.,\n",
       "       13., 14., 15., 16., 17., 18., 19., 20., 21., 22.], dtype=float32)"
      ]
     },
     "execution_count": 19,
     "metadata": {},
     "output_type": "execute_result"
    }
   ],
   "source": [
    "import numpy as np\n",
    "prod_system_class = np.unique(raster_data[3,:])\n",
    "prod_system_class"
   ]
  },
  {
   "cell_type": "code",
   "execution_count": 20,
   "id": "d982c550-1031-479c-ab35-7c7b66bbabbb",
   "metadata": {
    "tags": []
   },
   "outputs": [
    {
     "name": "stdout",
     "output_type": "stream",
     "text": [
      "{'layer': 'cropland_glad.potapov.et.al_p_1km_s_20150101_20151231_go_epsg.4326_v20240624', 'class': 0.0, 'mean': 0.2937079668045044, 'std': 4.774389743804932}\n",
      "{'layer': 'gpw_cultiv.grassland_rf.savgol.bthr.mode5_p_1km_20150101_20151231_go_epsg.4326_v1', 'class': 0.0, 'mean': 0.04937867820262909, 'std': 1.7079136371612549}\n",
      "{'layer': 'gpw_nat.semi.grassland_rf.savgol.bthr.mode5_p_1km_20150101_20151231_go_epsg.4326_v1', 'class': 0.0, 'mean': 0.19321051239967346, 'std': 3.9332025051116943}\n",
      "{'layer': 'cropland_glad.potapov.et.al_p_1km_s_20150101_20151231_go_epsg.4326_v20240624', 'class': 1.0, 'mean': 67.0252456665039, 'std': 32.34263229370117}\n",
      "{'layer': 'gpw_cultiv.grassland_rf.savgol.bthr.mode5_p_1km_20150101_20151231_go_epsg.4326_v1', 'class': 1.0, 'mean': 9.534008026123047, 'std': 20.196483612060547}\n",
      "{'layer': 'gpw_nat.semi.grassland_rf.savgol.bthr.mode5_p_1km_20150101_20151231_go_epsg.4326_v1', 'class': 1.0, 'mean': 8.239190101623535, 'std': 23.935331344604492}\n",
      "{'layer': 'cropland_glad.potapov.et.al_p_1km_s_20150101_20151231_go_epsg.4326_v20240624', 'class': 2.0, 'mean': 71.02159881591797, 'std': 29.67917823791504}\n",
      "{'layer': 'gpw_cultiv.grassland_rf.savgol.bthr.mode5_p_1km_20150101_20151231_go_epsg.4326_v1', 'class': 2.0, 'mean': 6.954818248748779, 'std': 16.561870574951172}\n",
      "{'layer': 'gpw_nat.semi.grassland_rf.savgol.bthr.mode5_p_1km_20150101_20151231_go_epsg.4326_v1', 'class': 2.0, 'mean': 2.4036519527435303, 'std': 13.02554988861084}\n",
      "{'layer': 'cropland_glad.potapov.et.al_p_1km_s_20150101_20151231_go_epsg.4326_v20240624', 'class': 3.0, 'mean': 19.563390731811523, 'std': 29.777088165283203}\n",
      "{'layer': 'gpw_cultiv.grassland_rf.savgol.bthr.mode5_p_1km_20150101_20151231_go_epsg.4326_v1', 'class': 3.0, 'mean': 15.158759117126465, 'std': 29.28049087524414}\n",
      "{'layer': 'gpw_nat.semi.grassland_rf.savgol.bthr.mode5_p_1km_20150101_20151231_go_epsg.4326_v1', 'class': 3.0, 'mean': 46.79353332519531, 'std': 45.389495849609375}\n",
      "{'layer': 'cropland_glad.potapov.et.al_p_1km_s_20150101_20151231_go_epsg.4326_v20240624', 'class': 4.0, 'mean': 36.31691360473633, 'std': 34.803619384765625}\n",
      "{'layer': 'gpw_cultiv.grassland_rf.savgol.bthr.mode5_p_1km_20150101_20151231_go_epsg.4326_v1', 'class': 4.0, 'mean': 17.748275756835938, 'std': 29.511320114135742}\n",
      "{'layer': 'gpw_nat.semi.grassland_rf.savgol.bthr.mode5_p_1km_20150101_20151231_go_epsg.4326_v1', 'class': 4.0, 'mean': 31.129701614379883, 'std': 42.012306213378906}\n",
      "{'layer': 'cropland_glad.potapov.et.al_p_1km_s_20150101_20151231_go_epsg.4326_v20240624', 'class': 5.0, 'mean': 36.9692497253418, 'std': 33.942893981933594}\n",
      "{'layer': 'gpw_cultiv.grassland_rf.savgol.bthr.mode5_p_1km_20150101_20151231_go_epsg.4326_v1', 'class': 5.0, 'mean': 21.307506561279297, 'std': 31.976543426513672}\n",
      "{'layer': 'gpw_nat.semi.grassland_rf.savgol.bthr.mode5_p_1km_20150101_20151231_go_epsg.4326_v1', 'class': 5.0, 'mean': 18.630098342895508, 'std': 35.147823333740234}\n",
      "{'layer': 'cropland_glad.potapov.et.al_p_1km_s_20150101_20151231_go_epsg.4326_v20240624', 'class': 6.0, 'mean': 12.706621170043945, 'std': 21.716873168945312}\n",
      "{'layer': 'gpw_cultiv.grassland_rf.savgol.bthr.mode5_p_1km_20150101_20151231_go_epsg.4326_v1', 'class': 6.0, 'mean': 17.97817039489746, 'std': 28.114839553833008}\n",
      "{'layer': 'gpw_nat.semi.grassland_rf.savgol.bthr.mode5_p_1km_20150101_20151231_go_epsg.4326_v1', 'class': 6.0, 'mean': 7.097867012023926, 'std': 21.683345794677734}\n",
      "{'layer': 'cropland_glad.potapov.et.al_p_1km_s_20150101_20151231_go_epsg.4326_v20240624', 'class': 7.0, 'mean': 27.65549659729004, 'std': 30.604644775390625}\n",
      "{'layer': 'gpw_cultiv.grassland_rf.savgol.bthr.mode5_p_1km_20150101_20151231_go_epsg.4326_v1', 'class': 7.0, 'mean': 19.128671646118164, 'std': 27.597904205322266}\n",
      "{'layer': 'gpw_nat.semi.grassland_rf.savgol.bthr.mode5_p_1km_20150101_20151231_go_epsg.4326_v1', 'class': 7.0, 'mean': 2.135734796524048, 'std': 11.677350997924805}\n",
      "{'layer': 'cropland_glad.potapov.et.al_p_1km_s_20150101_20151231_go_epsg.4326_v20240624', 'class': 8.0, 'mean': 35.91632080078125, 'std': 30.582624435424805}\n",
      "{'layer': 'gpw_cultiv.grassland_rf.savgol.bthr.mode5_p_1km_20150101_20151231_go_epsg.4326_v1', 'class': 8.0, 'mean': 14.54974365234375, 'std': 24.370399475097656}\n",
      "{'layer': 'gpw_nat.semi.grassland_rf.savgol.bthr.mode5_p_1km_20150101_20151231_go_epsg.4326_v1', 'class': 8.0, 'mean': 0.5852643847465515, 'std': 6.216174125671387}\n",
      "{'layer': 'cropland_glad.potapov.et.al_p_1km_s_20150101_20151231_go_epsg.4326_v20240624', 'class': 9.0, 'mean': 0.684599757194519, 'std': 5.0625410079956055}\n",
      "{'layer': 'gpw_cultiv.grassland_rf.savgol.bthr.mode5_p_1km_20150101_20151231_go_epsg.4326_v1', 'class': 9.0, 'mean': 1.028299331665039, 'std': 6.402781963348389}\n",
      "{'layer': 'gpw_nat.semi.grassland_rf.savgol.bthr.mode5_p_1km_20150101_20151231_go_epsg.4326_v1', 'class': 9.0, 'mean': 2.884742259979248, 'std': 11.406645774841309}\n",
      "{'layer': 'cropland_glad.potapov.et.al_p_1km_s_20150101_20151231_go_epsg.4326_v20240624', 'class': 10.0, 'mean': 2.0732262134552, 'std': 9.035224914550781}\n",
      "{'layer': 'gpw_cultiv.grassland_rf.savgol.bthr.mode5_p_1km_20150101_20151231_go_epsg.4326_v1', 'class': 10.0, 'mean': 4.168978214263916, 'std': 13.987658500671387}\n",
      "{'layer': 'gpw_nat.semi.grassland_rf.savgol.bthr.mode5_p_1km_20150101_20151231_go_epsg.4326_v1', 'class': 10.0, 'mean': 12.285346984863281, 'std': 22.87759017944336}\n",
      "{'layer': 'cropland_glad.potapov.et.al_p_1km_s_20150101_20151231_go_epsg.4326_v20240624', 'class': 11.0, 'mean': 1.7887190580368042, 'std': 8.937920570373535}\n",
      "{'layer': 'gpw_cultiv.grassland_rf.savgol.bthr.mode5_p_1km_20150101_20151231_go_epsg.4326_v1', 'class': 11.0, 'mean': 4.81910514831543, 'std': 16.135683059692383}\n",
      "{'layer': 'gpw_nat.semi.grassland_rf.savgol.bthr.mode5_p_1km_20150101_20151231_go_epsg.4326_v1', 'class': 11.0, 'mean': 36.33317565917969, 'std': 39.94257736206055}\n",
      "{'layer': 'cropland_glad.potapov.et.al_p_1km_s_20150101_20151231_go_epsg.4326_v20240624', 'class': 12.0, 'mean': 0.5628677606582642, 'std': 5.3029985427856445}\n",
      "{'layer': 'gpw_cultiv.grassland_rf.savgol.bthr.mode5_p_1km_20150101_20151231_go_epsg.4326_v1', 'class': 12.0, 'mean': 0.14663122594356537, 'std': 2.487462043762207}\n",
      "{'layer': 'gpw_nat.semi.grassland_rf.savgol.bthr.mode5_p_1km_20150101_20151231_go_epsg.4326_v1', 'class': 12.0, 'mean': 57.49494171142578, 'std': 40.85362243652344}\n",
      "{'layer': 'cropland_glad.potapov.et.al_p_1km_s_20150101_20151231_go_epsg.4326_v20240624', 'class': 13.0, 'mean': 1.2401950359344482, 'std': 7.868423938751221}\n",
      "{'layer': 'gpw_cultiv.grassland_rf.savgol.bthr.mode5_p_1km_20150101_20151231_go_epsg.4326_v1', 'class': 13.0, 'mean': 1.177298903465271, 'std': 8.697871208190918}\n",
      "{'layer': 'gpw_nat.semi.grassland_rf.savgol.bthr.mode5_p_1km_20150101_20151231_go_epsg.4326_v1', 'class': 13.0, 'mean': 62.10403060913086, 'std': 34.64133071899414}\n",
      "{'layer': 'cropland_glad.potapov.et.al_p_1km_s_20150101_20151231_go_epsg.4326_v20240624', 'class': 14.0, 'mean': 5.700945854187012, 'std': 16.977184295654297}\n",
      "{'layer': 'gpw_cultiv.grassland_rf.savgol.bthr.mode5_p_1km_20150101_20151231_go_epsg.4326_v1', 'class': 14.0, 'mean': 11.529789924621582, 'std': 27.457605361938477}\n",
      "{'layer': 'gpw_nat.semi.grassland_rf.savgol.bthr.mode5_p_1km_20150101_20151231_go_epsg.4326_v1', 'class': 14.0, 'mean': 59.495906829833984, 'std': 44.3395881652832}\n",
      "{'layer': 'cropland_glad.potapov.et.al_p_1km_s_20150101_20151231_go_epsg.4326_v20240624', 'class': 15.0, 'mean': 3.917635917663574, 'std': 13.111600875854492}\n",
      "{'layer': 'gpw_cultiv.grassland_rf.savgol.bthr.mode5_p_1km_20150101_20151231_go_epsg.4326_v1', 'class': 15.0, 'mean': 34.98525619506836, 'std': 36.96908950805664}\n",
      "{'layer': 'gpw_nat.semi.grassland_rf.savgol.bthr.mode5_p_1km_20150101_20151231_go_epsg.4326_v1', 'class': 15.0, 'mean': 13.446303367614746, 'std': 30.498783111572266}\n",
      "{'layer': 'cropland_glad.potapov.et.al_p_1km_s_20150101_20151231_go_epsg.4326_v20240624', 'class': 16.0, 'mean': 0.5679451823234558, 'std': 4.878347396850586}\n",
      "{'layer': 'gpw_cultiv.grassland_rf.savgol.bthr.mode5_p_1km_20150101_20151231_go_epsg.4326_v1', 'class': 16.0, 'mean': 0.5167725682258606, 'std': 5.135087490081787}\n",
      "{'layer': 'gpw_nat.semi.grassland_rf.savgol.bthr.mode5_p_1km_20150101_20151231_go_epsg.4326_v1', 'class': 16.0, 'mean': 71.86041259765625, 'std': 41.6673469543457}\n",
      "{'layer': 'cropland_glad.potapov.et.al_p_1km_s_20150101_20151231_go_epsg.4326_v20240624', 'class': 17.0, 'mean': 36.266666412353516, 'std': 36.018585205078125}\n",
      "{'layer': 'gpw_cultiv.grassland_rf.savgol.bthr.mode5_p_1km_20150101_20151231_go_epsg.4326_v1', 'class': 17.0, 'mean': 6.173946380615234, 'std': 16.300289154052734}\n",
      "{'layer': 'gpw_nat.semi.grassland_rf.savgol.bthr.mode5_p_1km_20150101_20151231_go_epsg.4326_v1', 'class': 17.0, 'mean': 2.360839366912842, 'std': 13.044900894165039}\n",
      "{'layer': 'cropland_glad.potapov.et.al_p_1km_s_20150101_20151231_go_epsg.4326_v20240624', 'class': 18.0, 'mean': 21.072021484375, 'std': 29.474042892456055}\n",
      "{'layer': 'gpw_cultiv.grassland_rf.savgol.bthr.mode5_p_1km_20150101_20151231_go_epsg.4326_v1', 'class': 18.0, 'mean': 3.851836681365967, 'std': 12.485573768615723}\n",
      "{'layer': 'gpw_nat.semi.grassland_rf.savgol.bthr.mode5_p_1km_20150101_20151231_go_epsg.4326_v1', 'class': 18.0, 'mean': 1.2682210206985474, 'std': 9.240583419799805}\n",
      "{'layer': 'cropland_glad.potapov.et.al_p_1km_s_20150101_20151231_go_epsg.4326_v20240624', 'class': 19.0, 'mean': 4.251033306121826, 'std': 12.908778190612793}\n",
      "{'layer': 'gpw_cultiv.grassland_rf.savgol.bthr.mode5_p_1km_20150101_20151231_go_epsg.4326_v1', 'class': 19.0, 'mean': 4.268149375915527, 'std': 13.00401782989502}\n",
      "{'layer': 'gpw_nat.semi.grassland_rf.savgol.bthr.mode5_p_1km_20150101_20151231_go_epsg.4326_v1', 'class': 19.0, 'mean': 2.6530463695526123, 'std': 12.364583969116211}\n",
      "{'layer': 'cropland_glad.potapov.et.al_p_1km_s_20150101_20151231_go_epsg.4326_v20240624', 'class': 20.0, 'mean': 3.9252052307128906, 'std': 16.067790985107422}\n",
      "{'layer': 'gpw_cultiv.grassland_rf.savgol.bthr.mode5_p_1km_20150101_20151231_go_epsg.4326_v1', 'class': 20.0, 'mean': 2.1150455474853516, 'std': 10.496193885803223}\n",
      "{'layer': 'gpw_nat.semi.grassland_rf.savgol.bthr.mode5_p_1km_20150101_20151231_go_epsg.4326_v1', 'class': 20.0, 'mean': 40.819129943847656, 'std': 38.93888473510742}\n",
      "{'layer': 'cropland_glad.potapov.et.al_p_1km_s_20150101_20151231_go_epsg.4326_v20240624', 'class': 21.0, 'mean': 0.33020591735839844, 'std': 3.9312570095062256}\n",
      "{'layer': 'gpw_cultiv.grassland_rf.savgol.bthr.mode5_p_1km_20150101_20151231_go_epsg.4326_v1', 'class': 21.0, 'mean': 0.055954787880182266, 'std': 1.2301881313323975}\n",
      "{'layer': 'gpw_nat.semi.grassland_rf.savgol.bthr.mode5_p_1km_20150101_20151231_go_epsg.4326_v1', 'class': 21.0, 'mean': 4.993870258331299, 'std': 17.697561264038086}\n",
      "{'layer': 'cropland_glad.potapov.et.al_p_1km_s_20150101_20151231_go_epsg.4326_v20240624', 'class': 22.0, 'mean': 0.004848034121096134, 'std': 0.27056634426116943}\n",
      "{'layer': 'gpw_cultiv.grassland_rf.savgol.bthr.mode5_p_1km_20150101_20151231_go_epsg.4326_v1', 'class': 22.0, 'mean': 0.0048224166966974735, 'std': 0.37617355585098267}\n",
      "{'layer': 'gpw_nat.semi.grassland_rf.savgol.bthr.mode5_p_1km_20150101_20151231_go_epsg.4326_v1', 'class': 22.0, 'mean': 6.269758701324463, 'std': 18.704303741455078}\n"
     ]
    }
   ],
   "source": [
    "import bottleneck as bn\n",
    "from pathlib import Path\n",
    "\n",
    "result = []\n",
    "\n",
    "for c in prod_system_class:\n",
    "    mask = (raster_data[3,:] == c)\n",
    "    for i in range(0,3):\n",
    "        result.append({\n",
    "            'layer': Path(raster_files[i]).stem,\n",
    "            'class': c,\n",
    "            'mean': bn.nanmean(raster_data[i,:][mask]),\n",
    "            'std': bn.nanstd(raster_data[i,:][mask])\n",
    "        })\n",
    "        print(result[-1])\n",
    "        "
   ]
  },
  {
   "cell_type": "code",
   "execution_count": 25,
   "id": "02c0bee7-56e8-45ed-b2cf-3e58a85d20dc",
   "metadata": {
    "tags": []
   },
   "outputs": [],
   "source": [
    "class_remap = {\n",
    "  0: 'Cropland - Low Intensity',\n",
    "  1: 'Cropland - Medium Intensity',\n",
    "  2: 'Cropland - High Intensity',\n",
    "  3: 'Mosaic Crop and Grass - Low Intensity',\n",
    "  4: 'Mosaic Crop and Grass - Med Intensity',\n",
    "  5: 'Mosaic Crop and Grass - High Intensity',\n",
    "  6: 'Mosaic Crop and Forest - Low Intensity',\n",
    "  7: 'Mosaic Crop and Forest - Med Intensity',\n",
    "  8: 'Mosaic Crop and Forest - High Intensity',\n",
    "  9: 'Dense Forest',\n",
    "  10: 'Open Forest',\n",
    "  11: 'Mosaic Grass and Forest',\n",
    "  12: 'Mosaic Grass and Bare',\n",
    "  13: 'Grassland',\n",
    "  14: 'Grazing Grassland',\n",
    "  15: 'Grazing Grass and Forest Mosaic',\n",
    "  16: 'Shrubland',\n",
    "  17: 'Peri-urban',\n",
    "  18: 'Dense Urban',\n",
    "  19: 'Plantation Forest',\n",
    "  20: 'Wetland',\n",
    "  21: 'Bare',\n",
    "  22: 'Snow/Ice'\n",
    "}"
   ]
  },
  {
   "cell_type": "code",
   "execution_count": 27,
   "id": "f2eed32e-c0c3-461e-8ba3-242f72c9f706",
   "metadata": {
    "tags": []
   },
   "outputs": [],
   "source": [
    "import pandas as pd \n",
    "result = pd.DataFrame(result)\n",
    "result['class'] = result['class'].astype('int').map(class_remap)"
   ]
  },
  {
   "cell_type": "code",
   "execution_count": 30,
   "id": "89e9dc04-a6ca-4888-b93b-e7186b6e9981",
   "metadata": {
    "tags": []
   },
   "outputs": [],
   "source": [
    "result.to_csv('production_systems_cropland_grassland_zonal.csv')"
   ]
  },
  {
   "cell_type": "markdown",
   "id": "4bc95474-e52f-4bfd-a113-45b9a739486d",
   "metadata": {},
   "source": [
    "Livestock mostly supported by natural/semi-natural grassland systems:\n",
    "natural/semi-natural grassland > cultivated grassland area\n",
    "0%—19% of cropland area\n",
    "\n",
    "Livestock mostly supported by cultivated grassland systems\n",
    "cultivated grassland > natural/semi-natural grassland area\n",
    "0%—19% of cropland area\n",
    "\n",
    "Livestock supported by mosaic cropland & grassland systems\n",
    "grassland area > 0% \n",
    "19%—37% of cropland area\n",
    "\n",
    "Livestock supported by cropland systems:\n",
    "36%—71% of cropland area"
   ]
  },
  {
   "cell_type": "markdown",
   "id": "5ef1df8b-73e6-423e-b9bf-d8f87d56c6ee",
   "metadata": {},
   "source": [
    "Mosaic Crop and Grass - Low Intensity: 19\n",
    "Mosaic Crop and Grass - High Intensity: 37\n",
    "Cropland - High Intensity: 71"
   ]
  },
  {
   "cell_type": "code",
   "execution_count": 41,
   "id": "706b9fb2-3e8b-4ff4-98e8-ec5668ff466d",
   "metadata": {
    "tags": []
   },
   "outputs": [
    {
     "data": {
      "text/html": [
       "<div>\n",
       "<style scoped>\n",
       "    .dataframe tbody tr th:only-of-type {\n",
       "        vertical-align: middle;\n",
       "    }\n",
       "\n",
       "    .dataframe tbody tr th {\n",
       "        vertical-align: top;\n",
       "    }\n",
       "\n",
       "    .dataframe thead th {\n",
       "        text-align: right;\n",
       "    }\n",
       "</style>\n",
       "<table border=\"1\" class=\"dataframe\">\n",
       "  <thead>\n",
       "    <tr style=\"text-align: right;\">\n",
       "      <th></th>\n",
       "      <th>layer</th>\n",
       "      <th>class</th>\n",
       "      <th>mean</th>\n",
       "      <th>std</th>\n",
       "    </tr>\n",
       "  </thead>\n",
       "  <tbody>\n",
       "    <tr>\n",
       "      <th>66</th>\n",
       "      <td>cropland_glad.potapov.et.al_p_1km_s_20150101_2...</td>\n",
       "      <td>Snow/Ice</td>\n",
       "      <td>0.004848</td>\n",
       "      <td>0.270566</td>\n",
       "    </tr>\n",
       "    <tr>\n",
       "      <th>0</th>\n",
       "      <td>cropland_glad.potapov.et.al_p_1km_s_20150101_2...</td>\n",
       "      <td>Cropland - Low Intensity</td>\n",
       "      <td>0.293708</td>\n",
       "      <td>4.774390</td>\n",
       "    </tr>\n",
       "    <tr>\n",
       "      <th>63</th>\n",
       "      <td>cropland_glad.potapov.et.al_p_1km_s_20150101_2...</td>\n",
       "      <td>Bare</td>\n",
       "      <td>0.330206</td>\n",
       "      <td>3.931257</td>\n",
       "    </tr>\n",
       "    <tr>\n",
       "      <th>36</th>\n",
       "      <td>cropland_glad.potapov.et.al_p_1km_s_20150101_2...</td>\n",
       "      <td>Mosaic Grass and Bare</td>\n",
       "      <td>0.562868</td>\n",
       "      <td>5.302999</td>\n",
       "    </tr>\n",
       "    <tr>\n",
       "      <th>48</th>\n",
       "      <td>cropland_glad.potapov.et.al_p_1km_s_20150101_2...</td>\n",
       "      <td>Shrubland</td>\n",
       "      <td>0.567945</td>\n",
       "      <td>4.878347</td>\n",
       "    </tr>\n",
       "    <tr>\n",
       "      <th>27</th>\n",
       "      <td>cropland_glad.potapov.et.al_p_1km_s_20150101_2...</td>\n",
       "      <td>Dense Forest</td>\n",
       "      <td>0.684600</td>\n",
       "      <td>5.062541</td>\n",
       "    </tr>\n",
       "    <tr>\n",
       "      <th>39</th>\n",
       "      <td>cropland_glad.potapov.et.al_p_1km_s_20150101_2...</td>\n",
       "      <td>Grassland</td>\n",
       "      <td>1.240195</td>\n",
       "      <td>7.868424</td>\n",
       "    </tr>\n",
       "    <tr>\n",
       "      <th>33</th>\n",
       "      <td>cropland_glad.potapov.et.al_p_1km_s_20150101_2...</td>\n",
       "      <td>Mosaic Grass and Forest</td>\n",
       "      <td>1.788719</td>\n",
       "      <td>8.937921</td>\n",
       "    </tr>\n",
       "    <tr>\n",
       "      <th>30</th>\n",
       "      <td>cropland_glad.potapov.et.al_p_1km_s_20150101_2...</td>\n",
       "      <td>Open Forest</td>\n",
       "      <td>2.073226</td>\n",
       "      <td>9.035225</td>\n",
       "    </tr>\n",
       "    <tr>\n",
       "      <th>45</th>\n",
       "      <td>cropland_glad.potapov.et.al_p_1km_s_20150101_2...</td>\n",
       "      <td>Grazing Grass and Forest Mosaic</td>\n",
       "      <td>3.917636</td>\n",
       "      <td>13.111601</td>\n",
       "    </tr>\n",
       "    <tr>\n",
       "      <th>60</th>\n",
       "      <td>cropland_glad.potapov.et.al_p_1km_s_20150101_2...</td>\n",
       "      <td>Wetland</td>\n",
       "      <td>3.925205</td>\n",
       "      <td>16.067791</td>\n",
       "    </tr>\n",
       "    <tr>\n",
       "      <th>57</th>\n",
       "      <td>cropland_glad.potapov.et.al_p_1km_s_20150101_2...</td>\n",
       "      <td>Plantation Forest</td>\n",
       "      <td>4.251033</td>\n",
       "      <td>12.908778</td>\n",
       "    </tr>\n",
       "    <tr>\n",
       "      <th>42</th>\n",
       "      <td>cropland_glad.potapov.et.al_p_1km_s_20150101_2...</td>\n",
       "      <td>Grazing Grassland</td>\n",
       "      <td>5.700946</td>\n",
       "      <td>16.977184</td>\n",
       "    </tr>\n",
       "    <tr>\n",
       "      <th>18</th>\n",
       "      <td>cropland_glad.potapov.et.al_p_1km_s_20150101_2...</td>\n",
       "      <td>Mosaic Crop and Forest - Low Intensity</td>\n",
       "      <td>12.706621</td>\n",
       "      <td>21.716873</td>\n",
       "    </tr>\n",
       "    <tr>\n",
       "      <th>9</th>\n",
       "      <td>cropland_glad.potapov.et.al_p_1km_s_20150101_2...</td>\n",
       "      <td>Mosaic Crop and Grass - Low Intensity</td>\n",
       "      <td>19.563391</td>\n",
       "      <td>29.777088</td>\n",
       "    </tr>\n",
       "    <tr>\n",
       "      <th>54</th>\n",
       "      <td>cropland_glad.potapov.et.al_p_1km_s_20150101_2...</td>\n",
       "      <td>Dense Urban</td>\n",
       "      <td>21.072021</td>\n",
       "      <td>29.474043</td>\n",
       "    </tr>\n",
       "    <tr>\n",
       "      <th>21</th>\n",
       "      <td>cropland_glad.potapov.et.al_p_1km_s_20150101_2...</td>\n",
       "      <td>Mosaic Crop and Forest - Med Intensity</td>\n",
       "      <td>27.655497</td>\n",
       "      <td>30.604645</td>\n",
       "    </tr>\n",
       "    <tr>\n",
       "      <th>24</th>\n",
       "      <td>cropland_glad.potapov.et.al_p_1km_s_20150101_2...</td>\n",
       "      <td>Mosaic Crop and Forest - High Intensity</td>\n",
       "      <td>35.916321</td>\n",
       "      <td>30.582624</td>\n",
       "    </tr>\n",
       "    <tr>\n",
       "      <th>51</th>\n",
       "      <td>cropland_glad.potapov.et.al_p_1km_s_20150101_2...</td>\n",
       "      <td>Peri-urban</td>\n",
       "      <td>36.266666</td>\n",
       "      <td>36.018585</td>\n",
       "    </tr>\n",
       "    <tr>\n",
       "      <th>12</th>\n",
       "      <td>cropland_glad.potapov.et.al_p_1km_s_20150101_2...</td>\n",
       "      <td>Mosaic Crop and Grass - Med Intensity</td>\n",
       "      <td>36.316914</td>\n",
       "      <td>34.803619</td>\n",
       "    </tr>\n",
       "    <tr>\n",
       "      <th>15</th>\n",
       "      <td>cropland_glad.potapov.et.al_p_1km_s_20150101_2...</td>\n",
       "      <td>Mosaic Crop and Grass - High Intensity</td>\n",
       "      <td>36.969250</td>\n",
       "      <td>33.942894</td>\n",
       "    </tr>\n",
       "    <tr>\n",
       "      <th>3</th>\n",
       "      <td>cropland_glad.potapov.et.al_p_1km_s_20150101_2...</td>\n",
       "      <td>Cropland - Medium Intensity</td>\n",
       "      <td>67.025246</td>\n",
       "      <td>32.342632</td>\n",
       "    </tr>\n",
       "    <tr>\n",
       "      <th>6</th>\n",
       "      <td>cropland_glad.potapov.et.al_p_1km_s_20150101_2...</td>\n",
       "      <td>Cropland - High Intensity</td>\n",
       "      <td>71.021599</td>\n",
       "      <td>29.679178</td>\n",
       "    </tr>\n",
       "  </tbody>\n",
       "</table>\n",
       "</div>"
      ],
      "text/plain": [
       "                                                layer  \\\n",
       "66  cropland_glad.potapov.et.al_p_1km_s_20150101_2...   \n",
       "0   cropland_glad.potapov.et.al_p_1km_s_20150101_2...   \n",
       "63  cropland_glad.potapov.et.al_p_1km_s_20150101_2...   \n",
       "36  cropland_glad.potapov.et.al_p_1km_s_20150101_2...   \n",
       "48  cropland_glad.potapov.et.al_p_1km_s_20150101_2...   \n",
       "27  cropland_glad.potapov.et.al_p_1km_s_20150101_2...   \n",
       "39  cropland_glad.potapov.et.al_p_1km_s_20150101_2...   \n",
       "33  cropland_glad.potapov.et.al_p_1km_s_20150101_2...   \n",
       "30  cropland_glad.potapov.et.al_p_1km_s_20150101_2...   \n",
       "45  cropland_glad.potapov.et.al_p_1km_s_20150101_2...   \n",
       "60  cropland_glad.potapov.et.al_p_1km_s_20150101_2...   \n",
       "57  cropland_glad.potapov.et.al_p_1km_s_20150101_2...   \n",
       "42  cropland_glad.potapov.et.al_p_1km_s_20150101_2...   \n",
       "18  cropland_glad.potapov.et.al_p_1km_s_20150101_2...   \n",
       "9   cropland_glad.potapov.et.al_p_1km_s_20150101_2...   \n",
       "54  cropland_glad.potapov.et.al_p_1km_s_20150101_2...   \n",
       "21  cropland_glad.potapov.et.al_p_1km_s_20150101_2...   \n",
       "24  cropland_glad.potapov.et.al_p_1km_s_20150101_2...   \n",
       "51  cropland_glad.potapov.et.al_p_1km_s_20150101_2...   \n",
       "12  cropland_glad.potapov.et.al_p_1km_s_20150101_2...   \n",
       "15  cropland_glad.potapov.et.al_p_1km_s_20150101_2...   \n",
       "3   cropland_glad.potapov.et.al_p_1km_s_20150101_2...   \n",
       "6   cropland_glad.potapov.et.al_p_1km_s_20150101_2...   \n",
       "\n",
       "                                      class       mean        std  \n",
       "66                                 Snow/Ice   0.004848   0.270566  \n",
       "0                  Cropland - Low Intensity   0.293708   4.774390  \n",
       "63                                     Bare   0.330206   3.931257  \n",
       "36                    Mosaic Grass and Bare   0.562868   5.302999  \n",
       "48                                Shrubland   0.567945   4.878347  \n",
       "27                             Dense Forest   0.684600   5.062541  \n",
       "39                                Grassland   1.240195   7.868424  \n",
       "33                  Mosaic Grass and Forest   1.788719   8.937921  \n",
       "30                              Open Forest   2.073226   9.035225  \n",
       "45          Grazing Grass and Forest Mosaic   3.917636  13.111601  \n",
       "60                                  Wetland   3.925205  16.067791  \n",
       "57                        Plantation Forest   4.251033  12.908778  \n",
       "42                        Grazing Grassland   5.700946  16.977184  \n",
       "18   Mosaic Crop and Forest - Low Intensity  12.706621  21.716873  \n",
       "9     Mosaic Crop and Grass - Low Intensity  19.563391  29.777088  \n",
       "54                              Dense Urban  21.072021  29.474043  \n",
       "21   Mosaic Crop and Forest - Med Intensity  27.655497  30.604645  \n",
       "24  Mosaic Crop and Forest - High Intensity  35.916321  30.582624  \n",
       "51                               Peri-urban  36.266666  36.018585  \n",
       "12    Mosaic Crop and Grass - Med Intensity  36.316914  34.803619  \n",
       "15   Mosaic Crop and Grass - High Intensity  36.969250  33.942894  \n",
       "3               Cropland - Medium Intensity  67.025246  32.342632  \n",
       "6                 Cropland - High Intensity  71.021599  29.679178  "
      ]
     },
     "execution_count": 41,
     "metadata": {},
     "output_type": "execute_result"
    }
   ],
   "source": [
    "result[result['layer'].str.contains('crop')].sort_values('mean')"
   ]
  }
 ],
 "metadata": {
  "kernelspec": {
   "display_name": "Python 3 (ipykernel)",
   "language": "python",
   "name": "python3"
  },
  "language_info": {
   "codemirror_mode": {
    "name": "ipython",
    "version": 3
   },
   "file_extension": ".py",
   "mimetype": "text/x-python",
   "name": "python",
   "nbconvert_exporter": "python",
   "pygments_lexer": "ipython3",
   "version": "3.8.16"
  }
 },
 "nbformat": 4,
 "nbformat_minor": 5
}
