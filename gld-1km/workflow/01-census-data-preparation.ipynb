{
 "cells": [
  {
   "cell_type": "code",
   "execution_count": null,
   "id": "7d89387b-fc08-4514-98a0-6a099a821597",
   "metadata": {
    "tags": []
   },
   "outputs": [],
   "source": [
    "from eumap.misc import find_files\n",
    "from eumap import parallel\n",
    "import datatable as dt\n",
    "import geopandas as gpd\n",
    "import pandas as pd\n",
    "from pathlib import Path\n",
    "import seaborn as sns\n",
    "sns.set_theme()\n",
    "\n",
    "wd = '/mnt/tupi/WRI/livestock_global_modeling/livestock_census_raw'\n",
    "ard_census_dir='/mnt/tupi/WRI/livestock_global_modeling/livestock_census_ard'"
   ]
  },
  {
   "cell_type": "markdown",
   "id": "6b391d8a-48dd-4584-b844-d15825f94fb3",
   "metadata": {},
   "source": [
    "All processing steps to integrate the census livestock data is implemented following, considering Global Pasture Watch (GPW), FAO (Gridded Livestock of the World v4), Malek et al., 2024 and FAOSTAT."
   ]
  },
  {
   "cell_type": "markdown",
   "id": "d023942c-b2c3-4afa-a69e-01148b78ce69",
   "metadata": {
    "jp-MarkdownHeadingCollapsed": true,
    "tags": [],
    "toc-hr-collapsed": true
   },
   "source": [
    "## GPW data"
   ]
  },
  {
   "cell_type": "code",
   "execution_count": null,
   "id": "98702077-6202-41bf-b934-878bf1f69505",
   "metadata": {
    "tags": []
   },
   "outputs": [],
   "source": [
    "CENSUS_DB=f'{wd}/ArealDB_GPW'\n",
    "\n",
    "adb_tables_path=f'{CENSUS_DB}/tables'\n",
    "adb_geometries_path=f'{CENSUS_DB}/geometries'"
   ]
  },
  {
   "cell_type": "markdown",
   "id": "c5cac054-1250-4308-9133-5003ebaabb4c",
   "metadata": {},
   "source": [
    "### Reading number of animals"
   ]
  },
  {
   "cell_type": "code",
   "execution_count": null,
   "id": "7cdb0535-c7d4-45eb-8146-0168b6f3fd1c",
   "metadata": {
    "tags": []
   },
   "outputs": [],
   "source": [
    "def _read_csv(csv_file):\n",
    "    return dt.fread(csv_file).to_pandas()\n",
    "\n",
    "args = [ (f,) for f in find_files(adb_tables_path, '*.csv') ]\n",
    "df = pd.concat([ df for df in parallel.job(_read_csv, args, n_jobs=-1) ])\n",
    "df['ontoMatch'] = df['ontoMatch'].str.lower()\n",
    "                 \n",
    "df['animal'] = df['ontoName'].str.lower()\n",
    "df['level'] = df['gazName'].str.split('.', expand=False).str.len()\n",
    "df['country'] = df['gazName'].str.split('.', expand=True)[0]\n",
    "df['year'] = pd.to_numeric(df['year'].astype('string').str.slice(0,4), errors='coerce')\n",
    "df = df.reset_index(drop=True)\n",
    "\n",
    "df['country'] = df['country'].replace('United States','United States of America')"
   ]
  },
  {
   "cell_type": "markdown",
   "id": "85c1bb21-0c20-418b-a5f7-40ad58f7f4db",
   "metadata": {
    "tags": []
   },
   "source": [
    "### Sanity checks"
   ]
  },
  {
   "cell_type": "markdown",
   "id": "001972ad-def7-4056-84cc-70c502b6b105",
   "metadata": {
    "tags": []
   },
   "source": [
    "#### Brazil double check"
   ]
  },
  {
   "cell_type": "code",
   "execution_count": null,
   "id": "86ab4e55-ed29-43ca-9b60-2f5b54ad75ab",
   "metadata": {
    "tags": []
   },
   "outputs": [],
   "source": [
    "df_br = df.query(\"country == 'Brazil' and level > 2 and gazName == 'Brazil.Goiás.Jataí' and year == 2021\")\n",
    "df_br"
   ]
  },
  {
   "cell_type": "markdown",
   "id": "7c4e6e68-f190-478c-bfa6-06304b280551",
   "metadata": {
    "jp-MarkdownHeadingCollapsed": true,
    "tags": [],
    "toc-hr-collapsed": true
   },
   "source": [
    "## GPW Level 2+"
   ]
  },
  {
   "cell_type": "code",
   "execution_count": null,
   "id": "c3611b3a-0921-43f0-9588-8785d05933e8",
   "metadata": {
    "tags": []
   },
   "outputs": [],
   "source": [
    "df_gpw = df.query('year >= 2000 & number_heads >= 0 & level >= 2')\n",
    "\n",
    "mask = (df_gpw['animal'] == '')\n",
    "df_gpw.loc[mask,'animal'] = df_gpw[mask]['ontoMatch'].map({\n",
    "       'овцы и козы': 'sheep and goats',\n",
    "       'livestock - meat cattle - cows and heifers 1 year and over (no)': 'cattle',\n",
    "       'live bovine animals': 'cattle',\n",
    "       'bovine animals, less than 1 year old': 'cattle',\n",
    "       'livestock - dairy cattle - cows in milk and dry (no)': 'cattle',\n",
    "       'livestock - meat cattle - calves less than 1 year (no)': 'cattle',\n",
    "       'bovine animals, less than 1 year old, for slaughter': 'cattle',\n",
    "       'livestock - dairy cattle - heifers 1 to 2 years (no)': 'cattle',\n",
    "       'livestock - dairy cattle - heifers over 2 years (no)': 'cattle',\n",
    "       'bovine animals, less than 1 year old, not for slaughter': 'cattle',\n",
    "       'bovine animals, 1 to less than 2 years old': 'cattle',\n",
    "       'bovine animals, 2 years old or over': 'cattle',\n",
    "       'livestock - meat cattle - all other (no)': 'cattle',\n",
    "       'livestock - sheep and lambs - breeding ewes 1 year and over - other breeding ewes nec (no)': 'sheep',\n",
    "       'livestock - sheep and lambs - all other (no)': 'sheep',\n",
    "       'livestock - sheep and lambs - breeding ewes 1 year and over - merinos (no)': 'sheep'\n",
    "}).fillna('')\n",
    "\n",
    "df_gpw[df_gpw['level'] >= 2][['gazID','year']].value_counts().reset_index().groupby('gazID').agg({'year':'count', 'count': 'sum'}).reset_index().sort_values('year', ascending=False)"
   ]
  },
  {
   "cell_type": "code",
   "execution_count": null,
   "id": "d9909f41-4a69-4201-bc34-1422315403e3",
   "metadata": {
    "tags": []
   },
   "outputs": [],
   "source": [
    "import numpy as np\n",
    "country_stats = df_gpw[np.logical_and(df_gpw['level'] >= 2, df_gpw['gazID'] != '')][['country','year']].value_counts().reset_index().groupby('country').agg({'year':'count', 'count': 'sum'}).reset_index().sort_values('year', ascending=False)\n",
    "country_stats"
   ]
  },
  {
   "cell_type": "markdown",
   "id": "56140e4e-f6a7-4c4d-bb22-24a0f6b91b90",
   "metadata": {},
   "source": [
    "#### Geometries"
   ]
  },
  {
   "cell_type": "code",
   "execution_count": null,
   "id": "6ba467ea-5342-46a3-96f3-ebbc82aecd32",
   "metadata": {
    "scrolled": true,
    "tags": []
   },
   "outputs": [],
   "source": [
    "# pip install pyogrio\n",
    "def read_geom(geom_dir, country, level):\n",
    "    try:\n",
    "        gdf = gpd.read_file(f'{geom_dir}/{country}.gpkg', layer=f'al{level}' )\n",
    "        return gdf[['gazID', 'gazName','gazClass','geoID','geometry']]\n",
    "    except:\n",
    "        try:\n",
    "            gdf = gpd.read_file(f'{geom_dir}/{country}.gpkg', layer=f'ADM{int(level) - 1}' )\n",
    "            return gdf[['gazID', 'gazName','gazClass','geoID','geometry']]\n",
    "        except:\n",
    "            return gpd.GeoDataFrame([])\n",
    "    \n",
    "args = [ (adb_geometries_path, cl.split('#')[0], cl.split('#')[1]) for cl in pd.unique(df_gpw['country']+ '#' + df_gpw['level'].astype(str)) ]\n",
    "#args[0]\n",
    "gdf_gpw = pd.concat([ df for df in parallel.job(read_geom, args, n_jobs=40) ])\n",
    "\n",
    "# Only geometries with livesotck information \n",
    "gdf_gpw = gdf_gpw[gdf_gpw['gazName'].isin(df_gpw['gazName'].unique())]\n",
    "gdf_gpw = gdf_gpw.drop_duplicates(['gazID'], keep='first', ignore_index=True)\n",
    "gdf_gpw"
   ]
  },
  {
   "cell_type": "code",
   "execution_count": null,
   "id": "22a8a3ed-9d2b-4efc-9930-57d97af3042b",
   "metadata": {
    "tags": []
   },
   "outputs": [],
   "source": [
    "gdf_gpw_countries = pd.DataFrame(gdf_gpw['gazName'].str.split('.', expand=True)[0].value_counts()).reset_index().sort_values(0).rename(columns={0:'country'})\n",
    "gdf_gpw_countries[gdf_gpw_countries['country'].isin(['Mexico', 'Bolivia', 'Colombia', 'Peru', 'Paraguay', 'Chile', 'Ukraine'])]"
   ]
  },
  {
   "cell_type": "code",
   "execution_count": null,
   "id": "80af3ed1-bb58-46c2-95fc-2da6d4c8e181",
   "metadata": {
    "tags": []
   },
   "outputs": [],
   "source": [
    "## Ad-hoc fixing for names\n",
    "ngazid_mask = (df_gpw['gazID'] == '')\n",
    "df_gpw.loc[:,'gazMatch_new'] = df_gpw['gazMatch'].str.title() \\\n",
    "    .str.replace('][','.') \\\n",
    "    .str.replace('United States','United States of America')\n",
    "\n",
    "df_gpw.loc[ngazid_mask, ['gazMatch_new0','gazMatch_new1','gazMatch_new2']] = df_gpw[ngazid_mask]['gazMatch_new'].str.split('.', expand=True).to_numpy()[:, 0:3]\n",
    "gdf_gpw.loc[:, ['gazMatch_new0','gazMatch_new1','gazMatch_new2']] = gdf_gpw['gazName'].str.split('.', expand=True).to_numpy()[:, 0:3]"
   ]
  },
  {
   "cell_type": "markdown",
   "id": "72759d58-eb84-46a0-9f63-8ca1f4ae37ec",
   "metadata": {
    "tags": []
   },
   "source": [
    "#### googletrans"
   ]
  },
  {
   "cell_type": "code",
   "execution_count": null,
   "id": "0bcd31b9-1312-455c-9fd2-53886a6a5252",
   "metadata": {
    "tags": []
   },
   "outputs": [],
   "source": [
    "#pip install googletrans==3.1.0a0\n",
    "from googletrans import Translator\n",
    "import numpy as np\n",
    "\n",
    "def translate(x):\n",
    "    translator = Translator()\n",
    "    text = translator.translate(x, dest='en').text\n",
    "    #text = text.lower().replace('city', '') \\\n",
    "    #    .replace('districts', '') \\\n",
    "    #    .replace('municipal','') \\\n",
    "    #    .replace('district','') \\\n",
    "    #    .replace('region','') \\\n",
    "    #    .replace('of the ','') \\\n",
    "    #    .replace(\"urban\",\"\") \\\n",
    "    #    .replace(\"autonomous\",\"\")\n",
    "    return text\n",
    "\n",
    "mask = np.logical_and(ngazid_mask, df_gpw['gazMatch_new0'] == 'Russian Federation')\n",
    "#ru_map = {}\n",
    "#for t in df_gpw[mask]['gazMatch_new2'].unique():\n",
    "#    ru_map[t] = translate(t)\n",
    "#ru_map"
   ]
  },
  {
   "cell_type": "code",
   "execution_count": null,
   "id": "4203414c-5c80-4166-9e60-262b546a1a9e",
   "metadata": {
    "tags": []
   },
   "outputs": [],
   "source": [
    "ru_map = {\n",
    "\t'Городской Округ Вахрушев': 'Vakhrushev', \n",
    "\t'Зато Фокино': \"Fokino\", \n",
    "\t'Александро-Невский Муниципальный Район': 'Alexandro-Nevsky', \n",
    "\t'Федоровский Муниципальный Район': 'Fedorovsky', \n",
    "\t'Калининский Муниципальный Район': 'Kalininsky', \n",
    "\t'Камышлинский Муниципальный Район': 'Kamyshlinsky', \n",
    "\t'Клявлинский Муниципальный Район': 'Klyavlinsky', \n",
    "\t'Краснинский Муниципальный Район': 'Krasninsky', \n",
    "\t'Красноярский Муниципальный Район': 'Krasnoyarsk', \n",
    "\t'Ленский Муниципальный Район': 'Lensky', \n",
    "\t'Северо-Курильский Городской Округ': 'North Kuril', \n",
    "\t'Островский Муниципальный Район': 'Ostrovsky', \n",
    "\t'Починковский Муниципальный Район': 'Pochinkovsky',\n",
    "\t'Похвистнево': 'Pokhvistnevo', \n",
    "\t'Городские Округа Приморского Края': 'Primorsky Krai', \n",
    "\t'Приволжский Муниципальный Район': 'Privolzhsky', \n",
    "\t'Городские Округа Рязанской Области': 'Ryazan Region', \n",
    "\t'Городские Округа Республики Саха (Якутии)': 'Sakha (Yakutia)', \n",
    "\t'Город Саратов': 'Saratov', \n",
    "\t'Южно-Курильский Городской Округ': 'South Kuril', \n",
    "\t'Город Великие Луки': 'Velikie Luki', \n",
    "\t'Волжский Муниципальный Район': 'Volzhsky', \n",
    "\t'Воскресенский Муниципальный Район': 'Voskresensky', \n",
    "\t'Вяземский Муниципальный Район': 'Vyazemsky', \n",
    "\t'Город Южно-Сахалинск': 'Yuzhno-Sakhalinsk', \n",
    "\t'Янтарный': 'Amber', \n",
    "\t'Город Новосибирск': 'Novosibirsk', \n",
    "\t'Абатский Муниципальный Район': 'Abatsky', \n",
    "\t'Город Абаза': 'Abaza', \n",
    "\t'Город Ачинск': 'Achinsk', \n",
    "\t'Городские Округа Республики Адыгеи (Адыгеи)': 'Adygea', \n",
    "\t'Сельские Муниципальные Районы Республики Адыгеи': 'Adygea', \n",
    "\t'Город Адыгейск': 'Adygeisk', \n",
    "\t'Город Агидель': 'Agidel', \n",
    "\t'Алексеевский Муниципальный Район И Город Алексеевка': 'Alekseevsky and Alekseevka', \n",
    "\t'Алексеевский Муниципальный Район': 'Alekseevsky', \n",
    "\t'Алексеевский': 'Alekseevsky', \n",
    "\t'Населенные Пункты Входящие В Состав Городского Округа  Город Алексин': 'Aleksin', \n",
    "\t'Сельские Поселения Алексинского Муниципального Района': 'Aleksinsky', \n",
    "\t'Александровский Муниципальный Район': 'Alexandrovsky', \n",
    "\t'Сельские Поселения Александровского Муниципального Района  (До 2021 Года)': 'Alexandrovsky', \n",
    "\t'Алтайский Муниципальный Район': 'Altai', \n",
    "\t'Городской Округ Алушта': 'Alushta', \n",
    "\t'Городской Округ Анадырь': 'Anadyr', \n",
    "\t'Сельские Поселения Андроповского Муниципального Района (До 2021 Года)': 'Andropov', \n",
    "\t'Сельские Поселения Апанасенковского Муниципального Района (До 2021 Года)': 'Apanasenkovsky', \n",
    "\t'Ардатовский Муниципальный Район': 'Ardatovsky', \n",
    "\t'Архаринский Муниципальный Район': 'Arkharinsky', \n",
    "\t'Городской Округ Армянск': 'Armyansk', \n",
    "\t'Сельские Поселения Арсеньевского Муниципального Района': 'Arsenyevsky', \n",
    "\t'Сельские Поселения Арзгирского Муниципального Района (До 2021 Года)': 'Arzgir', \n",
    "\t'Багратионовский': 'Bagrationovsky', \n",
    "\t'Бахчисарайский Муниципальный Район': 'Bakhchisaraysky', \n",
    "\t'Баксан': 'Baksan', \n",
    "\t'Baltiysk': 'Baltic', \n",
    "\t'Балтийский Муниципальный Район': 'Baltic', \n",
    "\t'Городские Округа Республики Башкортостан': 'Bashkortostan', \n",
    "\t'Башмаковский Муниципальный Район': 'Bashmakovsky', \n",
    "\t'Бековский Муниципальный Район': 'Bekovsky', \n",
    "\t'Сельские Поселения Белевского Муниципального Района': 'Belevsky', \n",
    "\t'Город Белгород': 'Belgorod', \n",
    "\t'Белгородский Муниципальный Район': 'Belgorodsky', \n",
    "\t'Белинский Муниципальный Район': 'Belinsky', \n",
    "\t'Город Белогорск': 'Belogorsk', \n",
    "\t'Белогорский Муниципальный Район': 'Belogorsky', \n",
    "\t'Беловский Муниципальный Район': 'Belovsky', \n",
    "\t'Березовский Муниципальный Район': 'Berezovsky', \n",
    "\t'Бессоновский Муниципальный Район': 'Bessonovsky', \n",
    "\t'Город Биробиджан': 'Birobidzhan', \n",
    "\t'Городские Поселения Благодарненского Муниципального Района (До 2018 Года)': 'Blagodarnensky', \n",
    "\t'Сельские Поселения Благодарненского Муниципального Района (До 2018 Года)': 'Blagodarnensky', \n",
    "\t'Город Благовещенск': 'Blagoveshchensk', \n",
    "\t'Благовещенский Муниципальный Район': 'Blagoveshchensky', \n",
    "\t'Бодайбинский Муниципальный Район': 'Bodaybinsky', \n",
    "\t'Городские Поселения Богородицкого  Муниципального Района': 'Bogoroditsky', \n",
    "\t'Сельские Поселения Богородицкого Муниципального Района': 'Bogoroditsky', \n",
    "\t'Богородский Муниципальный Район': 'Bogorodsky', \n",
    "\t'Богородский': 'Bogorodsky', \n",
    "\t'Борисовский Муниципальный Район': 'Borisovsky', \n",
    "\t'Бронницы': 'Bronnitsy', \n",
    "\t'Городские Округа Брянской Области': 'Bryansk', \n",
    "\t'Сельские Поселения Буденновского Муниципального Района (До 2021 Года)': 'Budennovsky', \n",
    "\t'Бурейский Муниципальный Район': 'Bureysky', \n",
    "\t'Зато Северск': 'But Seversk', \n",
    "\t'Городские Округа Челябинской Области': 'Chelyabinsk', \n",
    "\t'Городские Округа Челябинской Области': 'Chelyabinsk', \n",
    "\t'Город Черногорск': 'Chernogorsk', \n",
    "\t'Черноморский Муниципальный Район': 'Chernomorsky', \n",
    "\t'Сельские Поселения Чернского Муниципального Района': 'Chernsky', \n",
    "\t'Чернянский Муниципальный Район': 'Chernyansky', \n",
    "\t'Город Чкаловск': 'Chkalovsk', \n",
    "\t'Городские Округа Республики Крым': 'Crimea', \n",
    "\t'Муниципальные Районы Республики Крым': 'Crimea', \n",
    "\t'Городские Округа Республики Дагестан': 'Dagestan', \n",
    "\t'Дубенский Муниципальный Район': 'Dubensky', \n",
    "\t'Сельские Поселения Дубенского Муниципального Района': 'Dubensky', \n",
    "\t'Дубна': 'Dubna', \n",
    "\t'Город Дзержинск': 'Dzerzhinsk', \n",
    "\t'Дзержинский Муниципальный Район': 'Dzerzhinsky', \n",
    "\t'Джанкойский Муниципальный Район': 'Dzhankoysky', \n",
    "\t'Джейрахский Муниципальный Район': 'Dzheyrakhsky', \n",
    "\t'Населенные Пункты Входящие В Состав Городского Округа  Город Ефремов': 'Efremov', \n",
    "\t'Городской Округ Эгвекинот': 'Egvekinot', \n",
    "\t'Ермекеевский Муниципальный Район': 'Ermekeyevsky', \n",
    "\t'Эвенкийский Муниципальный Район': 'Evenki', \n",
    "\t'Городской Округ Феодосия': 'Feodosia', \n",
    "\t'Город Фокино': 'Fokino', \n",
    "\t'Георгиевский  Городской  Округ (До 2018 Года Г Георгиевск)': 'Georgievsky', \n",
    "\t'Сельские Поселения Георгиевского Муниципального Района (До 2018 Года)': 'Georgievsky', \n",
    "\t'Гиагинский Муниципальный Район': 'Giaginsky', \n",
    "\t'Го Воротынский': 'Go Vorotynsky', \n",
    "\t'Городищенский Муниципальный Район': 'Gorodishche', \n",
    "\t'Сельские Поселения Грачевского Муниципального Района (До 2021 Года)': 'Grachevsky', \n",
    "\t'Грайворонский Муниципальный Район': 'Grayvoronsky', \n",
    "\t'Грайворонский': 'Grayvoronsky', \n",
    "\t'Город Губкин И Губкинский Муниципальный Район': 'Gubkin and Gubkinsky', \n",
    "\t'Губкинский': 'Gubkinsky', \n",
    "\t'Гурьевский': 'Guryevsky', \n",
    "\t'Гусевский': 'Gusevsky', \n",
    "\t'Гвардейский': 'Gvardeysky', \n",
    "\t'Городские Округа С Внутригородским Делением': 'Intra Divisions', \n",
    "\t'Городские Поселения Ипатовского Муниципального Района (До 2018 Года)': 'Ipatovsky', \n",
    "\t'Сельские Поселения Ипатовского Муниципального Района (До 2018 Года)': 'Ipatovsky', \n",
    "\t'Городские Округа Иркутской Области/': 'Irkutsk', \n",
    "\t'Иссинский Муниципальный Район': 'Issinsky', \n",
    "\t'Ивановский Муниципальный Район': 'Ivanovsky', \n",
    "\t'Ивнянский Муниципальный Район': 'Ivnyansky', \n",
    "\t'Сельские Поселения Изобильненского Муниципального Района (До 2018 Года)': 'Izobilnensky', \n",
    "\t'Городские Округа Еврейской Автономной Области': 'Jewish Autonomous', \n",
    "\t'Калининград': 'Kaliningrad', \n",
    "\t'Городские Округа Республики Калмыкии': 'Kalmykia', \n",
    "\t'Калтанский': 'Kaltansky', \n",
    "\t'Каменский Муниципальный Район': 'Kamensky', \n",
    "\t'Сельские Поселения Каменского Муниципального Района': 'Kamensky', \n",
    "\t'Камешкирский Муниципальный Район': 'Kameshkir', \n",
    "\t'Город Карабулак': 'Karabulak', \n",
    "\t'Городские Округа Республики Карелия': 'Karelia', \n",
    "\t'Муниципальные Районы Республики Карелия': 'Karelia', \n",
    "\t'Кайбицкий Муниципальный Район': 'Kaybitsky', \n",
    "\t'Город Казань': 'Kazan', \n",
    "\t'Город Кедровый': 'Kedrovy', \n",
    "\t'Городской Округ Керчь': 'Kerch', \n",
    "\t'Городские Округа Хабаровского Края/': 'Khabarovsk', \n",
    "\t'Городские Округа Ханты-Мансийского Автономного Округа - Югры': 'Khanty-Mansiysk Autonomous Okrug - Ugra', \n",
    "\t'Районные Округа Ханты-Мансийского Автономного Округа - Югры': 'Khanty-Mansiysk Autonomous Okrug - Ugra', \n",
    "\t'Город Хасавюрт': 'Khasavyurt', \n",
    "\t'Городские Поселения Кимовского Муниципального Района': 'Kimovsky', \n",
    "\t'Сельские Поселения Кимовского Муниципального Района': 'Kimovsky', \n",
    "\t'Городские Поселения Киреевского Муниципального Района': 'Kireyevsky', \n",
    "\t'Городские Поселения Кировского Муниципального Района (До 2018 Года)': 'Kirov', \n",
    "\t'Сельские Поселения Кировского Муниципального Района (До 2018 Года)': 'Kirov', \n",
    "\t'Кировский Муниципальный Район': 'Kirovsky', \n",
    "\t'Город-Курорт Кисловодск': 'Kislovodsk', \n",
    "\t'Сельские Поселения Кочубеевского Муниципального Района (До 2021 Года)': 'Kochubeevsky', \n",
    "\t'Колышлейский Муниципальный Район': 'Kolyshleysky', \n",
    "\t'Городские Округа Республики Коми': 'Komi', \n",
    "\t'Муниципальные Районы Республики Коми': 'Komi', \n",
    "\t'Комсомольский Муниципальный Район': 'Komsomolsky', \n",
    "\t'Константиновский Муниципальный Район': 'Konstantinovsky', \n",
    "\t'Корочанский Муниципальный Район': 'Korochansky', \n",
    "\t'Королев': 'Korolev', \n",
    "\t'Кошехабльский Муниципальный Район': 'Koshekhablsky', \n",
    "\t'Городские Округа Костромской Области': 'Kostroma Region', \n",
    "\t'Красненский Муниципальный Район': 'Krasnensky', \n",
    "\t'Красноармейский Муниципальный Район': 'Krasnoarmeysky', \n",
    "\t'Краснобродский': 'Krasnobrodsky', \n",
    "\t'Сельские Поселения Красногвардейского Муниципального Района (До 2021 Года)': 'Krasnogvardeisky', \n",
    "\t'Красногвардейский Муниципальный Район': 'Krasnogvardeysky', \n",
    "\t'Краснокамский Муниципальный Район': 'Krasnokamsk', \n",
    "\t'Городской Округ Красноперекопск': 'Krasnoperekopsk', \n",
    "\t'Красноперекопский Муниципальный Район': 'Krasnoperekopsky', \n",
    "\t'Краснояружский Муниципальный Район': 'Krasnoyaruzhsky', \n",
    "\t'Краснознаменский': 'Krasnoznamensky', \n",
    "\t'Куйбышевский Муниципальный Район': 'Kuibyshevsky', \n",
    "\t'Кумторкалинский Муниципальный Район': 'Kumtorkalinsky', \n",
    "\t'Курчалоевский Муниципальный Район': 'Kurchaloyevsky', \n",
    "\t'Сельские Поселения Куркинского Муниципального Района': 'Kurkinsky', \n",
    "\t'Сельские Поселения Курского Муниципального Района (До 2021 Года)': 'Kursk', \n",
    "\t'Город Кузнецк': 'Kuznetsk', \n",
    "\t'Кузнецкий Муниципальный Район': 'Kuznetsk', \n",
    "\t'Ладушкинский': 'Ladushkinsky', \n",
    "\t'Ленинск-Кузнецкий': 'Leninsk-Kuznetsky', \n",
    "\t'Ленинский Муниципальный Район': 'Leninsky', \n",
    "\t'Лескенский Муниципальный Район': 'Leskensky', \n",
    "\t'Город Лесосибирск': 'Lesosibirsk', \n",
    "\t'Сельские Поселения Левокумского Муниципального Района (До 2021 Года)': 'Levokum', \n",
    "\t'Ликино-Дулево': 'Likino-Dulevo', \n",
    "\t'Лопатинский Муниципальный Район': 'Lopatinsky', \n",
    "\t'Лунинский Муниципальный Район': 'Luninsky', \n",
    "\t'Магдагачинский Муниципальный Район': 'Magdagachinsky', \n",
    "\t'Город Малгобек': 'Malgobek', \n",
    "\t'Малосердобинский Муниципальный Район': 'Maloserdobinsky', \n",
    "\t'Мамоновский': 'Mamonovsky', \n",
    "\t'Мантуровский Муниципальный Район': 'Manturovo', \n",
    "\t'Городские Округа Республики Марий Эл': 'Mari El', \n",
    "\t'Город Майкоп': 'Maykop', \n",
    "\t'Майкопский Муниципальный Район': 'Maykopsky', \n",
    "\t'Мазановский Муниципальный Район': 'Mazanovsky', \n",
    "\t'Мелекесский Муниципальный Район': 'Melekessky', \n",
    "\t'Михайловский Муниципальный Район': 'Mikhaylovsky', \n",
    "\t'Сельские Поселения Минераловодского Муниципального Района (До 2017 Года)': 'Mineralovodsk', \n",
    "\t'Мишкинский Муниципальный Район': 'Mishkinsky', \n",
    "\t'Мокшанский Муниципальный Район': 'Mokshansky', \n",
    "\t'Городские Округа Республики Мордовии/': 'Mordovia', \n",
    "\t'Муниципальные Образования Республики Мордовии': 'Mordovia', \n",
    "\t'Муниципальный Район': 'Municipal District', \n",
    "\t'Нальчик': 'Nalchik', \n",
    "\t'Наровчатский Муниципальный Район': 'Narovchatsky', \n",
    "\t'Город Нарьян-Мар': 'Naryan-Mar', \n",
    "\t'Навашинский': 'Navashinsky', \n",
    "\t'Город Назарово': 'Nazarovo', \n",
    "\t'Город Назрань': 'Nazran', \n",
    "\t'Сельские Поселения Нефтекумского Муниципального Района (До 2018 Года)': 'Neftekumsky', \n",
    "\t'Нестеровский': 'Nesterovsky', \n",
    "\t'Неверкинский Муниципальный Район': 'Neverkinsky', \n",
    "\t'Никольский Муниципальный Район': 'Nikolsky', \n",
    "\t'Нижнегорский Муниципальный Район': 'Nizhnegorsky', \n",
    "\t'Нижнеломовский Муниципальный Район': 'Nizhnelomovsky', \n",
    "\t'Город Норильск': 'Norilsk', \n",
    "\t'Городские Округа Республики Северной Осетии-Алании': 'North Ossetia-Alania', \n",
    "\t'Северный Муниципальный Район': 'Northern', \n",
    "\t'Городские Поселения Новоалександровского Муниципального Района (До 2018 Года)': 'Novoaleksandrovsky', \n",
    "\t'Сельские Поселения Новоалександровского Муниципального Района (До 2018 Года)': 'Novoaleksandrovsky', \n",
    "\t'Городские Поселения Новомосковского Муниципального Района': 'Novomoskovsk', \n",
    "\t'Новооскольский Муниципальный Район': 'Novooskolsky', \n",
    "\t'Новооскольский': 'Novooskolsky', \n",
    "\t'Сельские Поселения Новоселицкого Муниципального Района (До 2021 Года)': 'Novoselitsky', \n",
    "\t'Городской Округ Новозыбковский С 2020 Года': 'Novozybkovsky', \n",
    "\t'Нурлатский Муниципальный Район': 'Nurlatsky', \n",
    "\t'Сельские Поселения Одоевского Муниципального Района': 'Odoevsky', \n",
    "\t'Октябрьский Муниципальный Район': 'Oktyabrsky', \n",
    "\t'Ольгинский Муниципальный Район': 'Olginsky', \n",
    "\t'Город Омск': 'Omsk', \n",
    "\t'Город Орск': 'Orsk', \n",
    "\t'Орловский Муниципальный Район': 'Oryol', \n",
    "\t'Озерский': 'Ozersky', \n",
    "\t'Пачелмский Муниципальный Район': 'Pachelma', \n",
    "\t'Партизанский Муниципальный Район': 'Partizansky', \n",
    "\t'Павловский Муниципальный Район': 'Pavlovsky', \n",
    "\t'Город Пенза': 'Penza', \n",
    "\t'Пензенский Муниципальный Район (Включая Кондольский С 14-06-2006)': 'Penza', \n",
    "\t'Перевозский': 'Perevozsky', \n",
    "\t'Пермский Край': 'Perm Region', \n",
    "\t'Perm': 'Perm', \n",
    "\t'Городской Округ Город Пермь': 'Perm', \n",
    "\t'Город Первомайск': 'Pervomaisk', \n",
    "\t'Первомайский Муниципальный Район': 'Pervomaysky', \n",
    "\t'Петропавловск-Камчатский': 'Petropavlovsk-Kamchatsky', \n",
    "\t'Городские Поселения Петровского Муниципального Района (До 2018 Года)': 'Petrovsky', \n",
    "\t'Петровский Муниципальный Район': 'Petrovsky', \n",
    "\t'Сельские Поселения Петровского Муниципального Района (До 2018 Года)': 'Petrovsky', \n",
    "\t'Городской Округ Певек': 'Pevek', \n",
    "\t'Сельские Поселения Предгорного Муниципального Района (До 2021 Года)': 'Piedmont', \n",
    "\t'Пионерский': 'Pionersky', \n",
    "\t'Сельские Поселения Плавского Муниципального Района': 'Plavsky', \n",
    "\t'Полесский': 'Polessky', \n",
    "\t'Полысаевский': 'Polysaevsky', \n",
    "\t'Правдинский': 'Pravdinsky', \n",
    "\t'Рабочий Поселок Прогресс': 'Progress', \n",
    "\t'Прохоровский Муниципальный Район': 'Prokhorovsky', \n",
    "\t'Городской Округ Провиденский': 'Providensky', \n",
    "\t'Рабочий Поселок Кольцово': 'Rabochiy Poselok Koltsovo', \n",
    "\t'Город Райчихинск': 'Raichikhinsk', \n",
    "\t'Ракитянский Муниципальный Район': 'Rakityansky', \n",
    "\t'Раздольненский Муниципальный Район': 'Razdolnensky', \n",
    "\t'Ромненский Муниципальный Район': 'Romnensky', \n",
    "\t'Ровеньский Муниципальный Район': 'Rovensky', \n",
    "\t'Сакский Муниципальный Район': 'Saksky', \n",
    "\t'Санчурский': 'Sanchursky', \n",
    "\t'Селемджинский Муниципальный Район': 'Selemdzhinsky', \n",
    "\t'Город Сельцо': 'Seltso', \n",
    "\t'Семеновский': 'Semenovsky', \n",
    "\t'Сердобский Муниципальный Район': 'Serdobsky', \n",
    "\t'Серноводский Муниципальный Район': 'Sernovodsky', \n",
    "\t'Серышевский Муниципальный Район': 'Seryshevsky', \n",
    "\t'Город Шахунья': 'Shakhunya', \n",
    "\t'Шаройский Муниципальный Район': 'Sharoysky', \n",
    "\t'Город Шарыпово': 'Sharypovo', \n",
    "\t'Городские Поселения Щекинского Муниципального Района': 'Shchekinsky', \n",
    "\t'Сельские Поселения Щекинского Муниципального Района': 'Shchekinsky', \n",
    "\t'Шебекинский Муниципальный Район И Город Шебекино': 'Shebekinsky and Shebekino', \n",
    "\t'Шебекинский': 'Shebekinsky', \n",
    "\t'Шемышейский Муниципальный Район': 'Shemyshey', \n",
    "\t'Город Шимановск': 'Shimanovsk', \n",
    "\t'Шимановский Муниципальный Район': 'Shimanovsky', \n",
    "\t'Шовгеновский Муниципальный Район': 'Shovgenovsky', \n",
    "\t'Городские Поселения Шпаковского Муниципального Района (До 2021 Года)': 'Shpakovsky', \n",
    "\t'Сельские Поселения Шпаковского Муниципального Района (До 2021 Года)': 'Shpakovsky', \n",
    "\t'Городской Округ Симферополь': 'Simferopol', \n",
    "\t'Симферопольский Муниципальный Район': 'Simferopolsky', \n",
    "\t'Сковородинский Муниципальный Район': 'Skovorodinsky', \n",
    "\t'Славский': 'Slavsky', \n",
    "\t'Город Слободской': 'Slobodskaya', \n",
    "\t'Сокольский Муниципальный Район': 'Sokolsky', \n",
    "\t'Сокольский': 'Sokolsky', \n",
    "\t'Соль-Илецкий': 'Sol-Iletsky', \n",
    "\t'Сорочинский (До 2016 Г - Го Город Сорочинск)': 'Sorochinsky', \n",
    "\t'Город Сорск': 'Sorsk', \n",
    "\t'Сосновоборский Муниципальный Район': 'Sosnovoborsky', \n",
    "\t'Сосновский Муниципальный Район': 'Sosnovsky', \n",
    "\t'Советский Муниципальный Район': 'Sovetsky', \n",
    "\t'Городские Поселения Советского Муниципального Района (До 2018 Года)': 'Soviet', \n",
    "\t'Сельские Поселения Советского Муниципального Района (До 2018 Года)': 'Soviet', \n",
    "\t'Спасский Муниципальный Район': 'Spassky', \n",
    "\t'Город Стародуб': 'Starodub', \n",
    "\t'Город Старый Оскол И Старооскольский Муниципальный Район': 'Stary Oskol and Stary Oskolsky', \n",
    "\t'Старооскольский': 'Stary Oskolsky', \n",
    "\t'Городские Округа Ставропольского Края': 'Stavropol', \n",
    "\t'Сельские Поселения Степновского Муниципального Района (До 2021 Года)': 'Stepnovsky', \n",
    "\t'Город Стерлитамак': 'Sterlitamak', \n",
    "\t'Пригородный Муниципальный Район': 'Suburban', \n",
    "\t'Городской Округ Судак': 'Sudak', \n",
    "\t'Город Сунжа (С 2017Года)': 'Sunzha', \n",
    "\t'Городские Поселения Суворовского Муниципального Района': 'Suvorov', \n",
    "\t'Сельские Поселения Суворовского Муниципального Района': 'Suvorovsky', \n",
    "\t'Городские Округа Свердловской Области': 'Sverdlovsk', \n",
    "\t'Светлогорский': 'Svetlogorsky',\n",
    "\t'Светловский': 'Svetlovsky', \n",
    "\t'Город Свирск': 'Svirsk', \n",
    "\t'Свободненский Муниципальный Район': 'Svobodnensky', \n",
    "\t'Город Свободный': 'Svobodny', \n",
    "\t'Сыктывкар': 'Syktyvkar', \n",
    "\t'Тайгинский': 'Taiginsky', \n",
    "\t'Таймырский Долгано-Ненецкий Муниципальный Район': 'Taimyr Dolgano-Nenets', \n",
    "\t'Тахтамукайский Муниципальный Район': 'Takhtamukaysky', \n",
    "\t'Тамалинский Муниципальный Район': 'Tamalinsky', \n",
    "\t'Тамбовский Муниципальный Район': 'Tambovsky', \n",
    "\t'Сельские Поселения Тепло-Огаревского Муниципального Района': 'Teply-Ogarevsky', \n",
    "\t'Терский Муниципальный Район': 'Tersky', \n",
    "\t'Теучежский Муниципальный Район': 'Teuchezhsky', \n",
    "\t'Городские Округа Курской Области': 'the Kursk Region', \n",
    "\t'Троицкий Городской Округ': 'Troitsk', \n",
    "\t'Сельские Поселения Труновского Муниципального Района (До 2021 Года)': 'Trunovsky', \n",
    "\t'Целинный Муниципальный Район': 'Tselinny', \n",
    "\t'Цивильский Муниципальный Район': 'Tsivilsky', \n",
    "\t'Городские Округа Тульской Области': 'Tula', \n",
    "\t'Районные Округа Тульской Области': 'Tula', \n",
    "\t'Сельские Поселения Туркменского Муниципального Района (До 2021 Года)': 'Turkmen', \n",
    "\t'Город Тында': 'Tynda', \n",
    "\t'Тындинский Муниципальный Район': 'Tyndinsky', \n",
    "\t'Городские Округа Тюменской Области': 'Tyumen', \n",
    "\t'Город Уфа': 'Ufa', \n",
    "\t'Городские Округа Ульяновской Области': 'Ulyanovsk', \n",
    "\t'Городской Округ С Внутригородским Делением': 'Urban District With Intra Division', \n",
    "\t'Усольский Муниципальный Район': 'Usolsky', \n",
    "\t'Сельские Поселения Узловского Муниципального Района': 'Uzlovsky', \n",
    "\t'Вадинский Муниципальный Район': 'Vadinsky', \n",
    "\t'Город Валуйки И Валуйский Муниципальный Район': 'Valuyki and Valuysky', \n",
    "\t'Валуйский': 'Valuysky', \n",
    "\t'Вейделевский Муниципальный Район': 'Veidelevsky', \n",
    "\t'Городские Поселения Веневского Муниципального Района': 'Venevsky', \n",
    "\t'Сельские Поселения Веневского Муниципального Района': 'Venevsky', \n",
    "\t'Верхнеуральский Муниципальный Район': 'Verkhneuralsky', \n",
    "\t'Верхний Уфалейский Городской Округ': 'Verkhniy Ufaleisky', \n",
    "\t'Володарский Муниципальный Район': 'Volodarsky', \n",
    "\t'Волоконовский Муниципальный Район': 'Volokonovsky', \n",
    "\t'Воловский Муниципальный Район': 'Volovsky', \n",
    "\t'Воркута': 'Vorkuta', \n",
    "\t'Муниципальный Район Вуктыл (До 1 Января 2017 Года)': 'Vuktyl', \n",
    "\t'Яковлевский Муниципальный Район': 'Yakovlevsky', \n",
    "\t'Яковлевский': 'Yakovlevsky', \n",
    "\t'Городской Округ Ялта': 'Yalta', \n",
    "\t'Городские Округа Ямало-Ненецкого Автономного Округа': 'Yamalo-Nenets Autonomous Okrug', \n",
    "\t'Районные Округа Ямало-Ненецкого Автономного Округа': 'Yamalo-Nenets Autonomous Okrug', \n",
    "\t'Сельские Поселения Ясногорского Муниципального Района': 'Yasnogorsky', \n",
    "\t'Ейский Муниципальный Район': 'Yeisk', \n",
    "\t'Городской Округ Евпатория': 'Yevpatoria', \n",
    "\t'Город Южно-Сухокумск': 'Yuzhno-Sukhokumsk', \n",
    "\t'Сельские Поселения Заокского Муниципального Района': 'Zaoksky', \n",
    "\t'Заполярный Район': 'Zapolyarny', \n",
    "\t'Зато Город Заречный': 'Zarechny', \n",
    "\t'Завитинский Муниципальный Район': 'Zavitinsky', \n",
    "\t'Заводоуковский Городской Округ': 'Zavodoukovsky', \n",
    "\t'Зеленоградский Муниципальный Район': 'Zelenograd', \n",
    "\t'Зеленоградский': 'Zelenogradsky', \n",
    "\t'Земетчинский Муниципальный Район': 'Zemetchinsky', \n",
    "\t'Город Зея': 'Zeya', \n",
    "\t'Зейский Муниципальный Район': 'Zeysky', \n",
    "\t'Жуковский Муниципальный Район': 'Zhukovsky', \n",
    "\t'Город Знаменск': 'Znamensk', \n",
    "\t'Сельские Поселения Бабаевского Муниципального Района': 'Babaevsky',\n",
    "\t'Сельские Поселения Бабушкинского Муниципального Района': 'Babushkinsky',\n",
    "\t'Сельские Поселения Белозерского Муниципального Района': 'Belozersky',\n",
    "\t'Сельские Поселения Вашкинского Муниципального Района': 'Vashkinsky',\n",
    "\t'Городские Поселения Великоустюгского Муниципального Рай': 'Veliky Ustyug',\n",
    "\t'Сельские Поселения Великоустюгского Муниципального Райо': 'Veliky Ustyug',\n",
    "\t'Сельские Поселения Верховажского Муниципального Района': 'Verkhovazhsky',\n",
    "\t'Городские Поселения Вожегодского Муниципального Района': 'Vozhegodsky',\n",
    "\t'Сельские Поселения Вожегодского Муниципального Района': 'Vozhegodsky',\n",
    "\t'Сельские Поселения Вологодского Муниципального Района': 'the Vologda',\n",
    "\t'Сельские Поселения Вытегорского Муниципального Района': 'Vytegorsky',\n",
    "\t'Городские Поселения Грязовецкого Муниципального Района': 'Gryazovets',\n",
    "\t'Сельские Поселения Грязовецкого Муниципального Района': 'Gryazovets',\n",
    "\t'Городские Поселения Кадуйского Муниципального Района': 'Kaduysky',\n",
    "\t'Сельские Поселения Кадуйского Муниципального Района': 'Kaduysky',\n",
    "\t'Городские Поселения Кирилловского Муниципального Района': 'Kirillovsky',\n",
    "\t'Сельские Поселения Кирилловского Муниципального Района': 'Kirillovsky',\n",
    "\t'Сельские Поселения Кичменгско-Городецкого Муниципального Района': 'Kichmengsko-Gorodetsky',\n",
    "\t'Сельские Поселения Междуреченского Муниципального Район': 'Mezhdurechensky',\n",
    "\t'Городские Поселения Никольского Муниципального Района': 'Nikolsky',\n",
    "\t'Сельские Поселения Никольского Муниципального Района': 'Nikolsky',\n",
    "\t'Сельские Поселения Нюксенского Муниципального Района': 'Nyuksen',\n",
    "\t'Сельские Поселения Сокольского Муниципального Района': 'Sokolsky',\n",
    "\t'Сельские Поселения Сямженского Муниципального Района': 'Syamzhensky',\n",
    "\t'Сельские Поселения Тарногского Муниципального Района': 'Tarnog',\n",
    "\t'Сельские Поселения Тотемского Муниципального Района': 'Totem',\n",
    "\t'Сельские Поселения Усть-Кубинского Муниципального Район': 'Ust-Kubinsky',\n",
    "\t'Городские Поселения Устюженского Муниципального Района': 'Ustyuzhensky',\n",
    "\t'Сельские Поселения Устюженского Муниципального Района': 'Ustyuzhensky',\n",
    "\t'Городские Поселения Харовского Муниципального Района': 'Kharovsky',\n",
    "\t'Сельские Поселения Харовского Муниципального Района': 'Kharovsky',\n",
    "\t'Сельские Поселения Чагодощенского Муниципального Района': 'Chagodoshchensky',\n",
    "\t'Сельские Поселения Череповецкого Муниципального Района': 'Cherepovets',\n",
    "\t'Городские Поселения Шекснинского Муниципального Района': 'Sheksninsky',\n",
    "\t'Сельские Поселения Шекснинского Муниципального Района': 'Sheksninsky',\n",
    "\t'Город Воронеж': 'Voronezh',\n",
    "\t'Город Нововоронеж': 'Novovoronezh',\n",
    "\t'Даниловский Муниципальный Район': 'Danilovsky',\n",
    "\t'Рыбинский Муниципальный Район': 'Rybinsk',\n",
    "\t'Город Переславль-Залесский': 'Pereslavl-Zalessky',\n",
    "\t'Знаменский Муниципальный Район': 'Znamensky',\n",
    "\t'Тере-Хольский Муниципальный Район': 'Tere-Khol',\n",
    "\t'Город Ак-Довурак': 'Ak-Dovurak',\n",
    "\t'Юргинский Муниципальный Район': 'Yurginsky',\n",
    "\t'Городские Округа Тюменской Области': 'Tyumen',\n",
    "\t'Белоярский Муниципальный Район': 'Beloyarsky',\n",
    "\t'Кондинский Муниципальный Район': 'Kondinsky',\n",
    "\t'Нефтеюганский Муниципальный Район': 'Nefteyugansk',\n",
    "\t'Сургутский Муниципальный Район': 'Surgut',\n",
    "\t'Ханты-Мансийский Муниципальный Район': 'Khanty-Mansiysk',\n",
    "\t'Городские Округа Ханты-Мансийского Автономного Округа - Югры': 'Khanty-Mansiysk Autonomous Okrug - Ugra',\n",
    "\t'Красноселькупский Муниципальный Район': 'Krasnoselkup',\n",
    "\t'Надымский Муниципальный Район': 'Nadym',\n",
    "\t'Приуральский Муниципальный Район': 'Priuralsky',\n",
    "\t'Пуровский Муниципальный Район': 'Purovsky',\n",
    "\t'Тазовский Муниципальный Район': 'Tazovsky',\n",
    "\t'Шурышкарский Муниципальный Район': 'Shuryshkarsky',\n",
    "\t'Ямальский Муниципальный Район': 'Yamal',\n",
    "\t'Городские Округа Ямало-Ненецкого Автономного Округа/': 'Yamalo-Nenets Autonomous Okrug',\n",
    "\t'Красногорский Муниципальный Район': 'Krasnogorsk',\n",
    "\t'Город Ижевск': 'Izhevsk',\n",
    "\t'Николаевский Муниципальный Район': 'Nikolaevsky',\n",
    "\t'Ульяновский Муниципальный Район': 'Ulyanovsk',\n",
    "\t'Город Новоульяновск': 'Novoulyanovsk',\n",
    "\t'Городские Округа Владимирской Области': 'Vladimir',\n",
    "\t'Дубовский Муниципальный Район': 'Dubovsky',\n",
    "\t'Руднянский Муниципальный Район': 'Rudnyansky',\n",
    "\t'Город-Герой Волгоград': 'Hero Volgograd',\n",
    "\t'Город Камышин': 'Kamyshin',\n",
    "\t'Сельские Поселения Воловского Муниципального Района': 'Volovsky',\n",
    "\t'Сельские Поселения Ефремовского Муниципального Района': 'Efremov',\n",
    "\t'Сельские Поселения Киреевского Муниципального Района': 'Kireyevsky',\n",
    "\t'Сельские Поселения Ленинского Муниципального Района': 'Leninsky',\n",
    "\t'Сельские Поселения Новомосковского Муниципального Района': 'Novomoskovsk',\n",
    "    'Эвенкийский  Муниципальный Район': 'Evenki',\n",
    "    'Таймырский  Долгано-Ненецкий Муниципальный Район': 'Taimyr Dolgano-Nenets',\n",
    "    'Балтийский':'Baltic'\n",
    "}"
   ]
  },
  {
   "cell_type": "code",
   "execution_count": null,
   "id": "78c35e56-b8cd-4320-956a-dcad5e8e5cae",
   "metadata": {
    "tags": []
   },
   "outputs": [],
   "source": [
    "df_gpw.loc[mask,'gazMatch_new2'] = df_gpw[mask]['gazMatch_new2'].replace(ru_map)"
   ]
  },
  {
   "cell_type": "markdown",
   "id": "4d899c2d-eb42-4ba3-b3ff-cb3af26ceab2",
   "metadata": {
    "jp-MarkdownHeadingCollapsed": true,
    "tags": []
   },
   "source": [
    "#### textdistance"
   ]
  },
  {
   "cell_type": "code",
   "execution_count": null,
   "id": "f3b65771-384f-4fdf-88c6-2c17c266c9a7",
   "metadata": {
    "tags": []
   },
   "outputs": [],
   "source": [
    "#import numpy as np\n",
    "#mask = np.logical_and(ngazid_mask, df_gpw['gazMatch_new0'] != 'Russian Federation')\n",
    "#gazMatch_df = df_gpw[mask][['gazMatch_new0','gazMatch_new1','gazMatch_new2']]\n",
    "#chuncks = np.array_split(gazMatch_df,96)"
   ]
  },
  {
   "cell_type": "code",
   "execution_count": null,
   "id": "c9066ade-9892-41ad-bbc3-102480a923cc",
   "metadata": {
    "tags": []
   },
   "outputs": [],
   "source": [
    "#args = [ (c, gdf_gpw) for c in chuncks ]"
   ]
  },
  {
   "cell_type": "code",
   "execution_count": null,
   "id": "74069fbf-c62d-4c8f-8662-35d94a6cb49c",
   "metadata": {
    "tags": []
   },
   "outputs": [],
   "source": [
    "#from textdistance import levenshtein\n",
    "\n",
    "#def text_match(chunck, gdf_gpw):\n",
    "#    result = []\n",
    "#    for country, coun_df in chunck.groupby('gazMatch_new0'):\n",
    "#        for gm2 in coun_df['gazMatch_new2'].unique():\n",
    "#            coun_gpw = gdf_gpw[gdf_gpw['gazMatch_new0'] == country]\n",
    "#            #print(coun_gpw.shape, country, gm2)\n",
    "#            r = coun_gpw['gazMatch_new2'].apply(lambda x: levenshtein.distance(x,  gm2))\n",
    "#            gpw_gm2 = coun_gpw[r == r.min()]['gazMatch_new2'].iloc[0]\n",
    "#            result.append({\n",
    "#                'gm2': gm2,\n",
    "#                'gm2_match': gpw_gm2,\n",
    "#                'min':r.min()\n",
    "#            })\n",
    "#            #return gpw_gm2\n",
    "#    return pd.DataFrame(result)\n",
    "\n",
    "#r = gdf_gpw['gazMatch_new2'].apply(lambda x: levenshtein.distance(x,  'Pereslavl-Zalessky'))\n",
    "#gdf_gpw[r == r.min()]\n",
    "#dict_gazmatch_new2 = [ d for d in parallel.job(text_match, args, n_jobs=40) ]\n",
    "#gazmatch_new2 = pd.concat([ df for df in parallel.job(text_match, args, n_jobs=96) ])\n",
    "#gazmatch_new2"
   ]
  },
  {
   "cell_type": "code",
   "execution_count": null,
   "id": "5b61aa26-ac1c-43ab-8d92-8fd4d2d376c4",
   "metadata": {
    "tags": []
   },
   "outputs": [],
   "source": [
    "#gm2_remap = gazmatch_new2.loc[gazmatch_new2['min'] <= 2,['gm2', 'gm2_match']].groupby(['gm2', 'gm2_match']).count().reset_index().set_index('gm2').to_dict()['gm2_match']\n",
    "#del gm2_remap['Araporã']\n",
    "#gm2_remap"
   ]
  },
  {
   "cell_type": "code",
   "execution_count": null,
   "id": "337e1286-3d1d-43f4-b4d3-c852bf0d1d4c",
   "metadata": {
    "tags": []
   },
   "outputs": [],
   "source": [
    "#df_gpw.loc[mask, 'gazMatch_new2'] = df_gpw[mask]['gazMatch_new2'].replace(gm2_remap)\n",
    "#df_gpw[df_gpw['gazMatch_new2'] == 'Unión']"
   ]
  },
  {
   "cell_type": "markdown",
   "id": "ddc8d733-5894-48ef-92d7-4e2d5a71fe03",
   "metadata": {},
   "source": [
    "### Fixing names"
   ]
  },
  {
   "cell_type": "code",
   "execution_count": null,
   "id": "e4ae0005-8ee0-400a-9470-9d30c46230b0",
   "metadata": {
    "tags": []
   },
   "outputs": [],
   "source": [
    "gazid_lookup = gdf_gpw[['gazID','gazMatch_new0','gazMatch_new1','gazMatch_new2']].sort_values('gazID').groupby(['gazMatch_new0','gazMatch_new2']).first().reset_index(drop=False)\n",
    "df_gpw.loc[:,'index'] = df_gpw.index\n",
    "df_gpw_adhoc = df_gpw[ngazid_mask][['gazMatch_new0','gazMatch_new2','index']].merge(gazid_lookup, on=['gazMatch_new0','gazMatch_new2'], how='inner')\n",
    "df_gpw_adhoc"
   ]
  },
  {
   "cell_type": "code",
   "execution_count": null,
   "id": "92745102-0125-40dc-9f57-ab60e0966d73",
   "metadata": {
    "tags": []
   },
   "outputs": [],
   "source": [
    "df_gpw.loc[df_gpw_adhoc['index'],['gazID','gazMatch_new2']] = df_gpw_adhoc[['gazID','gazMatch_new2']]"
   ]
  },
  {
   "cell_type": "code",
   "execution_count": null,
   "id": "1803842f-d5f1-4535-a37b-51f77b31ace2",
   "metadata": {
    "tags": []
   },
   "outputs": [],
   "source": [
    "# 68927\n",
    "gazID_stats = df_gpw[df_gpw['level'] >= 2][['gazID','year']].value_counts().reset_index().groupby('gazID').agg({'year':'count', 'count': 'sum'}).reset_index().sort_values('year', ascending=False)\n",
    "gazID_stats"
   ]
  },
  {
   "cell_type": "code",
   "execution_count": null,
   "id": "a0893cbc-fcbe-41d8-a780-9a43226fa331",
   "metadata": {
    "tags": []
   },
   "outputs": [],
   "source": [
    "df_gpw_gazid = df_gpw[df_gpw['gazID'] != ''][['gazName','gazID','year','animal','number_heads']].groupby(['gazName','gazID','year','animal']).sum().reset_index()\n",
    "df_gpw_gazid['animal'] = df_gpw_gazid['animal'].replace({'buffalo|bison': 'buffalo'})\n",
    "df_gpw_gazid = df_gpw_gazid[df_gpw_gazid['animal'].isin(['cattle','goat','horse','sheep','buffalo'])]\n",
    "df_gpw_gazid"
   ]
  },
  {
   "cell_type": "code",
   "execution_count": null,
   "id": "f0f8ceb1-80a8-4d23-8f13-c948edb0e13e",
   "metadata": {
    "tags": []
   },
   "outputs": [],
   "source": [
    "df_gpw_gazid['level'] = df_gpw_gazid['gazName'].str.split('.', expand=False).str.len()\n",
    "df_gpw_gazid['country'] = df_gpw_gazid['gazName'].str.split('.', expand=True)[0]\n",
    "df_max_level = df_gpw_gazid[['country','level','year']].value_counts().reset_index().groupby(['country']).agg({'level': 'max'}).reset_index().sort_values('country', ascending=False)\n",
    "\n",
    "df_gpw_gazid_nodup = []\n",
    "\n",
    "for _, rows in df_max_level.iterrows():\n",
    "    df_gpw_gazid_nodup.append(\n",
    "        df_gpw_gazid[\n",
    "            np.logical_and(\n",
    "                df_gpw_gazid['country'] == rows['country'],\n",
    "                df_gpw_gazid['level'] == rows['level']\n",
    "            )\n",
    "        ]\n",
    "    )\n",
    "\n",
    "df_gpw_gazid_nodup = pd.concat(df_gpw_gazid_nodup)"
   ]
  },
  {
   "cell_type": "code",
   "execution_count": null,
   "id": "782b0520-09c5-43b5-9705-655c8cc1fd02",
   "metadata": {
    "tags": []
   },
   "outputs": [],
   "source": [
    "df_gpw_gazid[['country','level','year']].value_counts().reset_index().groupby(['country','level']).agg({'year':'count', 'count': 'sum'}).reset_index().sort_values('country', ascending=True)"
   ]
  },
  {
   "cell_type": "code",
   "execution_count": null,
   "id": "86bed71d-01f0-429d-a8a8-13fb97ad4a9d",
   "metadata": {
    "tags": []
   },
   "outputs": [],
   "source": [
    "def extract_data(gazID, gaz_df_arg):\n",
    "    #try:\n",
    "        gaz_df = gaz_df_arg.copy()\n",
    "        gaz_df.loc[:,'col'] = gaz_df['animal'] + '_' + gaz_df['year'].astype('int').astype('string')\n",
    "        gaz_df.loc[:,'number_heads'] = gaz_df['number_heads'].astype('int')\n",
    "        gaz_df = gaz_df.set_index('col')[['number_heads']].T.reset_index(drop=True)\\\n",
    "            .rename_axis(None, axis=1)#.iloc[0].to_dict()\n",
    "        gaz_df['source'] = 'GPW'\n",
    "        gaz_df['gazID'] = gazID\n",
    "        gaz_df['gazName'] =  gaz_df_arg.iloc[0]['gazName']\n",
    "        return gaz_df"
   ]
  },
  {
   "cell_type": "code",
   "execution_count": null,
   "id": "a5fd610c-4be3-4caa-bd82-38240040892a",
   "metadata": {
    "tags": []
   },
   "outputs": [],
   "source": [
    "def extract_data(gazID, gaz_df_arg):\n",
    "    #try:\n",
    "        gaz_df = gaz_df_arg.copy()\n",
    "        gaz_df.loc[:,'col'] = gaz_df['animal'] + '_' + gaz_df['year'].astype('int').astype('string')\n",
    "        gaz_df.loc[:,'number_heads'] = gaz_df['number_heads'].astype('int')\n",
    "        gaz_df = gaz_df.set_index('col')[['number_heads']].T.reset_index(drop=True)\\\n",
    "            .rename_axis(None, axis=1)#.iloc[0].to_dict()\n",
    "        gaz_df['source'] = 'GPW'\n",
    "        gaz_df['gazID'] = gazID\n",
    "        gaz_df['gazName'] =  gaz_df_arg.iloc[0]['gazName']\n",
    "        return gaz_df\n",
    "    #except:\n",
    "    #    return pd.DataFrame([])\n",
    "    \n",
    "args = [ (gazID, gaz_df) for gazID, gaz_df in df_gpw_gazid_nodup.groupby('gazID') ]\n",
    "\n",
    "result = pd.concat([ df for df in parallel.job(extract_data, args, n_jobs=40) ])\n",
    "result"
   ]
  },
  {
   "cell_type": "code",
   "execution_count": null,
   "id": "df745fbd-49a3-4cf2-a70e-f2b390fc386a",
   "metadata": {
    "tags": []
   },
   "outputs": [],
   "source": [
    "df_gpw_final = gdf_gpw[['gazID','geometry']].merge(result, on='gazID', how='inner')\n",
    "\n",
    "ignore_cols = ['gazID','gazName','source','geometry']\n",
    "cols = ignore_cols + sorted([ c for c in df_gpw_final.columns if c not in ignore_cols ])        \n",
    "df_gpw_final = df_gpw_final[cols]"
   ]
  },
  {
   "cell_type": "code",
   "execution_count": null,
   "id": "e953d448-9abc-4f38-99f9-c8f962a97499",
   "metadata": {
    "tags": []
   },
   "outputs": [],
   "source": [
    "## Dropping overlapping geometries in Australia\n",
    "australia_adhoc = pd.read_csv(f'{CENSUS_DB}/australia-adhoc.csv')\n",
    "df_gpw_final = df_gpw_final[np.logical_not(df_gpw_final['gazID'].isin(australia_adhoc['gazID']))]\n",
    "df_gpw_final"
   ]
  },
  {
   "cell_type": "code",
   "execution_count": null,
   "id": "ff7e67d6-42be-45f9-9188-26a568f7aae2",
   "metadata": {
    "tags": []
   },
   "outputs": [],
   "source": [
    "## Dropping Crimea for keep some Ukrainian data based on GLW3\n",
    "df_gpw_final = df_gpw_final[np.logical_not(df_gpw_final['gazName'].str.contains('Crimea'))]"
   ]
  },
  {
   "cell_type": "code",
   "execution_count": null,
   "id": "cc7f965f-175d-4634-945c-54c726ec308b",
   "metadata": {
    "tags": []
   },
   "outputs": [],
   "source": [
    "gdf_gpw_countries = pd.DataFrame(df_gpw_final['gazName'].str.split('.', expand=True)[0].value_counts()).reset_index().sort_values(0).rename(columns={0:'country'})\n",
    "gdf_gpw_countries[gdf_gpw_countries['country'].isin(['Mexico', 'Bolivia', 'Colombia', 'Peru', 'Paraguay', 'Chile', 'Ukraine'])]"
   ]
  },
  {
   "cell_type": "code",
   "execution_count": null,
   "id": "5a416566-3f56-4e0a-a0cd-1c185a999c10",
   "metadata": {
    "tags": []
   },
   "outputs": [],
   "source": [
    "from datetime import datetime\n",
    "version = datetime.today().strftime('%Y%m%d')\n",
    "df_gpw_final.to_file(f'{wd}/gpw_livestock_{version}.gpkg')"
   ]
  },
  {
   "cell_type": "code",
   "execution_count": null,
   "id": "10ed95b7-f2aa-4594-ac34-9f2cf0cf5b56",
   "metadata": {
    "tags": []
   },
   "outputs": [],
   "source": [
    "df_gpw_final.loc[:,'country'] = df_gpw_final['gazName'].str.split('.', expand=True)[0]\n",
    "df_gpw_final.loc[:,'admin_level'] = df_gpw_final['gazName'].str.split('.', expand=False).str.len()"
   ]
  },
  {
   "cell_type": "code",
   "execution_count": null,
   "id": "0424aeb2-bcc4-4d02-9ddf-15e880718410",
   "metadata": {
    "tags": []
   },
   "outputs": [],
   "source": [
    "# largest_polyon: 226098.2877692241\n",
    "df_gpw_final.loc[:, 'geom_area_km'] = df_gpw_final['geometry'].to_crs('+proj=igh +lon_0=0 +x_0=0 +y_0=0 +datum=WGS84 +units=m +no_defs +type=crs').area / 1e6\n",
    "largest_polygon_area = df_gpw_final[\n",
    "    np.logical_and.reduce([\n",
    "        ~df_gpw_final['country'].isin(['Australia', 'Canada', 'Russian Federation']),\n",
    "        ~df_gpw_final['gazName'].str.contains('Alaska'),\n",
    "        df_gpw_final['admin_level'] >= 3\n",
    "    ])]['geom_area_km'].max()\n",
    "print(f\"largest_polyon: {largest_polygon_area}\")"
   ]
  },
  {
   "cell_type": "code",
   "execution_count": null,
   "id": "b78ef9a2-5f50-464c-b025-682aac4911f8",
   "metadata": {
    "tags": []
   },
   "outputs": [],
   "source": [
    "df_gpw_final[df_gpw_final['geom_area_km'] == largest_polygon_area]"
   ]
  },
  {
   "cell_type": "markdown",
   "id": "2970d948-819c-40f2-bf42-38d30be4db89",
   "metadata": {
    "jp-MarkdownHeadingCollapsed": true,
    "tags": []
   },
   "source": [
    "## GPW Ad-hoc level 2+"
   ]
  },
  {
   "cell_type": "code",
   "execution_count": null,
   "id": "81c3b6df-1072-468a-8428-5a5c28cb5053",
   "metadata": {
    "tags": []
   },
   "outputs": [],
   "source": [
    "from skmap.misc import find_files\n",
    "ADHOC_DIR = f'{wd}/AdHoc_GPW'"
   ]
  },
  {
   "cell_type": "code",
   "execution_count": null,
   "id": "5cdfa785-eb00-4be7-8c29-85887bb1d567",
   "metadata": {
    "tags": []
   },
   "outputs": [],
   "source": [
    "adhoc_df = pd.concat(\n",
    "    [ gpd.read_file(f) for f in find_files(ADHOC_DIR, '*.gpkg')]\n",
    ")\n",
    "adhoc_df"
   ]
  },
  {
   "cell_type": "code",
   "execution_count": null,
   "id": "449ce020-fdd7-4d1b-9511-095a98c2163e",
   "metadata": {
    "tags": []
   },
   "outputs": [],
   "source": [
    "def _gazName(row):\n",
    "    cols = ['COUNTRY', 'NAME_1', 'NAME_12', 'NAME_2', 'NAME_23', 'Region' ]\n",
    "    vals =[ str(row[c]).replace(' - ','_').replace(' ','_').capitalize() for c in cols if (~pd.isnull(row[c]) and str(row[c]) != 'nan') ]\n",
    "    return '.'.join(list(dict.fromkeys(vals)))\n",
    "\n",
    "adhoc_df['gazName'] = adhoc_df.apply(_gazName, axis=1)"
   ]
  },
  {
   "cell_type": "code",
   "execution_count": null,
   "id": "25edde06-af0a-46de-b823-58a51f9d5623",
   "metadata": {
    "tags": []
   },
   "outputs": [],
   "source": [
    "import hashlib\n",
    "\n",
    "cols = ['Bovins05','Bovins06','Bovins07','Bovins08','Bovins09','Bovins10','Bovins11','Bovins12','Bovins13','Bovins14','Bovins15','Bovins16','Bovins17','Bovins18','Bovins19','Bovins20','Bovins21','Bovins22','Cattle09','Cattle10','Cattle11','Cattle12','Cattle13','Cattle14']\n",
    "dyear = { 'Bovins05': 2005,'Bovins06': 2006,'Bovins07': 2007,'Bovins08': 2008,'Bovins09': 2008,'Bovins10': 2010,'Bovins11': 2011,'Bovins12': 2012,'Bovins13': 2013,'Bovins14': 2014,'Bovins15': 2015,'Bovins16': 2016,'Bovins17': 2017,'Bovins18': 2018,'Bovins19': 2019,'Bovins20': 2020,'Bovins21': 2021,'Bovins22': 2022,'Cattle09': 2009,'Cattle10': 2010,'Cattle11': 2011,'Cattle12': 2012,'Cattle13': 2013,'Cattle14': 2014}\n",
    "\n",
    "adhoc_rwise_df = []\n",
    "\n",
    "for id, row in adhoc_df.iterrows():\n",
    "    for c in cols:\n",
    "        if (row[c] >= 0 and int(row[c]) != 9999):\n",
    "            adhoc_rwise_df.append({\n",
    "                'gazName': row['gazName'],\n",
    "                'gazID': str(hashlib.md5(str(row['geometry']).encode('utf-8')).hexdigest()),\n",
    "                'year': dyear[c],\n",
    "                'animal': 'cattle',\n",
    "                'number_heads': row[c],\n",
    "                'geometry': row['geometry']\n",
    "            })\n",
    "    \n",
    "\n",
    "adhoc_rwise_df = pd.DataFrame(adhoc_rwise_df)\n",
    "adhoc_rwise_df['level'] = adhoc_rwise_df['gazName'].str.split('.', expand=False).str.len()\n",
    "adhoc_rwise_df['country'] = adhoc_rwise_df['gazName'].str.split('.', expand=True)[0]\n",
    "adhoc_rwise_df.drop_duplicates(subset=['gazID','year'], keep='last', inplace=True)\n",
    "adhoc_rwise_df"
   ]
  },
  {
   "cell_type": "code",
   "execution_count": null,
   "id": "31562370-e63f-4174-8afc-51d6c5ad6d28",
   "metadata": {
    "tags": []
   },
   "outputs": [],
   "source": [
    "# Removing Guinea.Conakry & Niger.Tillabéry polygons with zero cattle\n",
    "adhoc_rwise_df = adhoc_rwise_df[adhoc_rwise_df['number_heads'] > 0]"
   ]
  },
  {
   "cell_type": "code",
   "execution_count": null,
   "id": "a94c21e2-ce6d-4320-9e8d-8bd9c65de5c0",
   "metadata": {
    "tags": []
   },
   "outputs": [],
   "source": [
    "args = [ (gazID, gaz_df) for gazID, gaz_df in adhoc_rwise_df.sort_values(['gazID','year']).groupby('gazID') ]\n",
    "\n",
    "result = pd.concat([ df for df in parallel.job(extract_data, args, n_jobs=10) ])\n",
    "result"
   ]
  },
  {
   "cell_type": "code",
   "execution_count": null,
   "id": "75127bb4-60e5-4af1-adc7-b25d3b537fde",
   "metadata": {
    "tags": []
   },
   "outputs": [],
   "source": [
    "df_gpw_adhoc = adhoc_rwise_df.drop_duplicates(subset=['gazID','geometry'])[['gazID','geometry']].merge(result, on='gazID', how='inner')\n",
    "\n",
    "ignore_cols = ['gazID','gazName','source','geometry']\n",
    "cols = ignore_cols + sorted([ c for c in df_gpw_adhoc.columns if c not in ignore_cols ])        \n",
    "df_gpw_adhoc = df_gpw_adhoc[cols]"
   ]
  },
  {
   "cell_type": "code",
   "execution_count": null,
   "id": "9dcee73e-36db-491a-8869-2da6c35a4d7c",
   "metadata": {
    "tags": []
   },
   "outputs": [],
   "source": [
    "df_gpw_adhoc = gpd.GeoDataFrame(df_gpw_adhoc).set_crs(4326)"
   ]
  },
  {
   "cell_type": "code",
   "execution_count": null,
   "id": "d9c8dad4-baf4-4cf1-8b2e-4f4506597d61",
   "metadata": {
    "tags": []
   },
   "outputs": [],
   "source": [
    "from datetime import datetime\n",
    "version = datetime.today().strftime('%Y%m%d')\n",
    "df_gpw_adhoc.to_file(f'{wd}/gpw_livestock.adhoc_{version}.gpkg')"
   ]
  },
  {
   "cell_type": "markdown",
   "id": "ff9c4ca7-3ea4-4521-b996-4d35b559dfd7",
   "metadata": {
    "jp-MarkdownHeadingCollapsed": true,
    "tags": []
   },
   "source": [
    "## FAO"
   ]
  },
  {
   "cell_type": "code",
   "execution_count": null,
   "id": "48b09764-2cfa-498a-aab2-8cbd4d93350c",
   "metadata": {
    "tags": []
   },
   "outputs": [],
   "source": [
    "from skmap.misc import find_files\n",
    "FAO_DIR = f'{wd}/DB_FAO'"
   ]
  },
  {
   "cell_type": "code",
   "execution_count": null,
   "id": "8e53eaee-633f-48d5-ab87-24803e53613e",
   "metadata": {
    "tags": []
   },
   "outputs": [],
   "source": [
    "f'{wd}/DB_FAO'"
   ]
  },
  {
   "cell_type": "code",
   "execution_count": null,
   "id": "c78efd0b-ed2b-4edf-8800-bcd9b22f29ed",
   "metadata": {
    "tags": []
   },
   "outputs": [],
   "source": [
    "def _read_csv(csv_file):\n",
    "    return dt.fread(csv_file).to_pandas()\n",
    "\n",
    "args = [ (f,) for f in find_files(FAO_DIR, '*.csv') ]\n",
    "fao_df = pd.concat([ df for df in parallel.job(_read_csv, args, n_jobs=16) ])\n",
    "fao_df = fao_df[['YEAR','ADM_CODE','SPECIES','N0','FILE']].rename(columns={\n",
    "    'YEAR': 'year',\n",
    "    'ADM_CODE': 'gazID',\n",
    "    'FILE': 'country_code',\n",
    "    'SPECIES': 'animal',\n",
    "    'N0': 'number_heads'\n",
    "})\n",
    "\n",
    "fao_df['country_code'] = fao_df['country_code'].str[:3]"
   ]
  },
  {
   "cell_type": "code",
   "execution_count": null,
   "id": "5be208bb-57d8-4308-9ee5-2f2a53d52de1",
   "metadata": {
    "tags": []
   },
   "outputs": [],
   "source": [
    "specie_remap = {\n",
    "\t'LVAL': 'All livestock',\n",
    "\t'ARAL': 'All ruminants',\n",
    "\t'BOVN': 'cattle',\n",
    "\t'CTAL': 'cattle',\n",
    "\t'CTME': 'cattle',\n",
    "\t'CTMI': 'cattle',\n",
    "\t'YKAL': 'Yaks',\n",
    "\t'CTDR': 'cattle',\n",
    "\t'BFAL': 'buffalo',\n",
    "\t'BFME': 'buffalo',\n",
    "\t'BFMI': 'buffalo',\n",
    "\t'BFDR': 'buffalo',\n",
    "\t'CAAL': 'Camelids',\n",
    "\t'CMAL': 'Camels',\n",
    "\t'ALAL': 'Alpacas',\n",
    "\t'LLAL': 'Llamas',\n",
    "\t'SRAL': 'Small ruminants',\n",
    "\t'SHAL': 'sheep',\n",
    "\t'SHMI': 'sheep',\n",
    "\t'GTAL': 'goat',\n",
    "\t'GTME': 'goat',\n",
    "\t'GTMI': 'goat',\n",
    "\t'AMAL': 'All monogastrics',\n",
    "\t'POAL': 'Poultry',\n",
    "\t'CHAL': 'Chickens',\n",
    "\t'CHLA': 'Layer chickens',\n",
    "\t'CHBO': 'Broiler chickens',\n",
    "\t'CHBR': 'Breeder chickens',\n",
    "\t'CHBY': 'Backyard chickens',\n",
    "\t'TUAL': 'Turkeys',\n",
    "\t'WAFL': 'Waterfowl',\n",
    "\t'DKAL': 'Ducks',\n",
    "\t'GSAL': 'Geese',\n",
    "\t'SUAL': 'Suines',\n",
    "\t'PGAL': 'Pigs',\n",
    "\t'ALEQ': 'horse', #All equines\n",
    "\t'EQAL': 'horse', #Equines\n",
    "\t'HOAL': 'horse',\n",
    "\t'ASAL': 'horse', #Asses\n",
    "\t'MUAL': 'horse', #Mules\n",
    "\t'UNSP': 'Unspecified',\n",
    "\t'WIAN': 'Wild animals',\n",
    "\t'ALSU': 'All susceptible'\n",
    "}\n",
    "fao_df['animal'] = fao_df['animal'].map(specie_remap)\n",
    "fao_df = fao_df[fao_df['animal'].isin(['cattle','goat','sheep','horse','buffalo'])]\n",
    "fao_df['animal'].value_counts()"
   ]
  },
  {
   "cell_type": "code",
   "execution_count": null,
   "id": "7fa47f4b-3b38-4c60-8b3d-475ec5339c93",
   "metadata": {
    "tags": []
   },
   "outputs": [],
   "source": [
    "fao_df[fao_df['gazID'] == 2091]"
   ]
  },
  {
   "cell_type": "code",
   "execution_count": null,
   "id": "6e78b417-3ee8-4e0d-a451-440a68d90bee",
   "metadata": {
    "tags": []
   },
   "outputs": [],
   "source": [
    "import fiona\n",
    "from pathlib import Path\n",
    "\n",
    "def read_geom(geom_fn):\n",
    "\n",
    "    gdf_list = []\n",
    "    for layer in fiona.listlayers(geom_fn):\n",
    "        fn = Path(geom_fn).stem\n",
    "        gdf = gpd.read_file(geom_fn, layer=layer )\n",
    "        gdf[['file', 'layer']] = (fn, layer)\n",
    "        gdf_list.append(gdf)\n",
    "\n",
    "    return pd.concat(gdf_list)\n",
    "\n",
    "args = [ (f,) for f in find_files(FAO_DIR, '*.gpkg') ]\n",
    "gdf_fao = pd.concat([ gdf for gdf in parallel.job(read_geom, args, n_jobs=16) ])\n",
    "gdf_fao"
   ]
  },
  {
   "cell_type": "code",
   "execution_count": null,
   "id": "18b67661-1d2b-4cd9-8615-186e87c6f6a6",
   "metadata": {
    "tags": []
   },
   "outputs": [],
   "source": [
    "gdf_fao = gdf_fao.rename(columns={'ADM_CODE': 'gazID', 'file': 'country_code'})\n",
    "gdf_fao['gazID'] = gdf_fao['gazID'].astype('string')\n",
    "fao_df['gazID'] = fao_df['gazID'].astype('string')"
   ]
  },
  {
   "cell_type": "code",
   "execution_count": null,
   "id": "22d1b690-f7a6-421d-a7c5-bc7847188b30",
   "metadata": {
    "tags": []
   },
   "outputs": [],
   "source": [
    "# 9872\n",
    "fao_dfm = fao_df.merge(gdf_fao.rename(columns={'ADM_CODE': 'gazID', 'file': 'country_code'}), on=['gazID', 'country_code'], how='inner')\n",
    "fao_dfm"
   ]
  },
  {
   "cell_type": "code",
   "execution_count": null,
   "id": "5cebc437-b98f-4df5-97cd-ca663007a8b5",
   "metadata": {
    "tags": []
   },
   "outputs": [],
   "source": [
    "import numpy as np\n",
    "fao_dfm[np.logical_and(fao_dfm['country_code_x'] == 'ISL',fao_dfm['NAME'].isnull())]"
   ]
  },
  {
   "cell_type": "code",
   "execution_count": null,
   "id": "844e2d89-9c1a-44cc-9b47-8730cd40b08a",
   "metadata": {
    "tags": []
   },
   "outputs": [],
   "source": [
    "fao_dfm['NAME'].isnull().value_counts()"
   ]
  },
  {
   "cell_type": "code",
   "execution_count": null,
   "id": "e4a15551-04e3-4535-9304-7b336e8795e9",
   "metadata": {
    "tags": []
   },
   "outputs": [],
   "source": [
    "fao_dfm[fao_dfm['NAME'].isnull()]['country_code_x'].value_counts()"
   ]
  },
  {
   "cell_type": "code",
   "execution_count": null,
   "id": "971b645e-011d-4fde-a964-b9484f78dc97",
   "metadata": {
    "tags": []
   },
   "outputs": [],
   "source": [
    "fao_dfm['gazName'] = fao_dfm['ADM0_NAME'] + '.' + fao_dfm['NAME']\n",
    "gdf_fao = fao_dfm[['gazName', 'gazID', 'year', 'animal', 'number_heads', 'geometry', 'ADM0_NAME', 'LEVEL']].rename(columns={\n",
    "    'ADM0_NAME': 'country',\n",
    "    'LEVEL': 'level',\n",
    "})\n",
    "gdf_fao = gdf_fao[np.logical_not(fao_dfm['geometry'].isnull())]\n",
    "gdf_fao['level'] = gdf_fao['level'].astype('int') + 1\n",
    "gdf_fao = gdf_fao[gdf_fao['year'] >= 2000]\n",
    "gdf_fao.drop_duplicates(subset=['gazID','year'], keep='last', inplace=True)\n",
    "gdf_fao['number_heads'] = gdf_fao['number_heads'].astype('float')\n",
    "gdf_fao = gdf_fao[np.logical_not(np.isnan(gdf_fao['number_heads']))]\n",
    "gdf_fao = gdf_fao[gdf_fao['number_heads'] > 0]\n",
    "gdf_fao"
   ]
  },
  {
   "cell_type": "code",
   "execution_count": null,
   "id": "691ec10c-40ce-4ea6-b6bd-4d9e4352495a",
   "metadata": {
    "tags": []
   },
   "outputs": [],
   "source": [
    "args = [ (gazID, gaz_df) for gazID, gaz_df in gdf_fao.sort_values(['gazID','year']).groupby('gazID') ]\n",
    "\n",
    "result = pd.concat([ df for df in parallel.job(extract_data, args, n_jobs=10) ])"
   ]
  },
  {
   "cell_type": "code",
   "execution_count": null,
   "id": "b0f98561-2bdc-4495-8953-75fbfa917043",
   "metadata": {
    "tags": []
   },
   "outputs": [],
   "source": [
    "gdf_fao_agg = gdf_fao.drop_duplicates(subset=['gazID','geometry'])[['gazID','geometry']].merge(result, on='gazID', how='inner')\n",
    "\n",
    "ignore_cols = ['gazID','gazName','source','geometry']\n",
    "cols = ignore_cols + sorted([ c for c in gdf_fao_agg.columns if c not in ignore_cols ])        \n",
    "gdf_fao_agg = gdf_fao_agg[cols]\n",
    "gdf_fao_agg = gpd.GeoDataFrame(gdf_fao_agg, geometry=gpd.GeoSeries(gdf_fao_agg['geometry']))\n",
    "gdf_fao_agg['source'] = 'FAO'\n",
    "gdf_fao_agg"
   ]
  },
  {
   "cell_type": "code",
   "execution_count": null,
   "id": "d683f298-a0cc-46ef-9c9c-7cc6cb4b83d0",
   "metadata": {
    "tags": []
   },
   "outputs": [],
   "source": [
    "from datetime import datetime\n",
    "\n",
    "version = datetime.today().strftime('%Y%m%d')\n",
    "gdf_fao_agg.to_file(f'{wd}/gpw_livestock.fao_{version}.gpkg')"
   ]
  },
  {
   "cell_type": "markdown",
   "id": "fdc16c82-7fc0-41a3-80a7-5a18017948a5",
   "metadata": {
    "jp-MarkdownHeadingCollapsed": true,
    "tags": []
   },
   "source": [
    "## Malek et al., 2024"
   ]
  },
  {
   "cell_type": "code",
   "execution_count": null,
   "id": "906d221d-ab0b-46e6-9795-21cb495ac0b0",
   "metadata": {
    "tags": []
   },
   "outputs": [],
   "source": [
    "from skmap.misc import find_files\n",
    "MALEK_DIR = f'{wd}/Malek_2024/EU_2020'"
   ]
  },
  {
   "cell_type": "code",
   "execution_count": null,
   "id": "58523875-d668-4e83-ba31-d6ab3379133b",
   "metadata": {
    "tags": []
   },
   "outputs": [],
   "source": [
    "import fiona\n",
    "from pathlib import Path\n",
    "\n",
    "def read_geom(geom_fn):\n",
    "\n",
    "    gdf_list = []\n",
    "    for layer in fiona.listlayers(geom_fn):\n",
    "        fn = Path(geom_fn).stem\n",
    "        gdf = gpd.read_file(geom_fn, layer=layer ).to_crs(4326)\n",
    "        gdf[['file', 'layer']] = (fn, layer)\n",
    "        gdf_list.append(gdf)\n",
    "\n",
    "    return pd.concat(gdf_list)\n",
    "\n",
    "args = [ (f,) for f in find_files(MALEK_DIR, '*.gpkg') ]\n",
    "gdf = pd.concat([ df for df in parallel.job(read_geom, args, n_jobs=16) ])\n",
    "gdf"
   ]
  },
  {
   "cell_type": "code",
   "execution_count": null,
   "id": "1fff9fab-93a2-4f30-b8ea-07700d3ec86d",
   "metadata": {
    "tags": []
   },
   "outputs": [],
   "source": [
    "gdf.columns"
   ]
  },
  {
   "cell_type": "code",
   "execution_count": null,
   "id": "1011556a-930f-4318-8150-6c60ea16833f",
   "metadata": {
    "tags": []
   },
   "outputs": [],
   "source": [
    "import hashlib\n",
    "\n",
    "cols = ['buffalo','catt_tot','cattle tot','cattle','cattle2000','cattle2010','cattle2020','cattle_tot','Cattle_tot','goat','goat_t','goats','sheep','sheep2000','sheep2010','sheep2020','sheep_t','sheep_tot','Sheep_tota']\n",
    "dyear = { 'buffalo': 2020, 'catt_tot': 2020, 'cattle tot': 2020, 'cattle': 2020, 'cattle2000': 2000, 'cattle2010': 2010, 'cattle2020': 2020, 'cattle_tot': 2020, 'Cattle_tot': 2020, 'goat': 2020, 'goat_t': 2020, 'goats': 2020, 'sheep': 2020, 'sheep2000': 2000, 'sheep2010': 2010, 'sheep2020': 2020, 'sheep_t': 2020, 'sheep_tot': 2020, 'Sheep_tota': 2020 }\n",
    "danimal = {'buffalo': 'buffalo','catt_tot': 'cattle','cattle tot': 'cattle','cattle': 'cattle','cattle2000': 'cattle','cattle2010': 'cattle','cattle2020': 'cattle','cattle_tot': 'cattle','Cattle_tot': 'cattle','goat': 'goat','goat_t': 'goat','goats': 'goat','sheep': 'sheep','sheep2000': 'sheep','sheep2010': 'sheep','sheep2020': 'sheep','sheep_t': 'sheep','sheep_tot': 'sheep','Sheep_tota': 'sheep'}\n",
    "\n",
    "malek_rwise_df = []\n",
    "\n",
    "for id, row in gdf.iterrows():\n",
    "    for c in cols:\n",
    "        if (row[c] >= 0 and int(row[c]) != 9999):\n",
    "            malek_rwise_df.append({\n",
    "                'gazName': row['local'],\n",
    "                'gazID': str(hashlib.md5(str(row['geometry']).encode('utf-8')).hexdigest()),\n",
    "                'year': dyear[c],\n",
    "                'animal': danimal[c],\n",
    "                'number_heads': row[c],\n",
    "                'country': str(row['country']),\n",
    "                'geometry': row['geometry']\n",
    "            })\n",
    "    \n",
    "\n",
    "malek_rwise_df = pd.DataFrame(malek_rwise_df)\n",
    "malek_rwise_df['level'] = malek_rwise_df['gazName'].str.split('.', expand=False).str.len()\n",
    "malek_rwise_df.drop_duplicates(subset=['gazID','year'], keep='last', inplace=True)\n",
    "malek_rwise_df"
   ]
  },
  {
   "cell_type": "code",
   "execution_count": null,
   "id": "7695d940-de37-40db-aef6-cd62b1219c09",
   "metadata": {
    "tags": []
   },
   "outputs": [],
   "source": [
    "malek_rwise_df[malek_rwise_df['number_heads'] == 0]['country'].value_counts()"
   ]
  },
  {
   "cell_type": "code",
   "execution_count": null,
   "id": "6a4f5def-3fc2-436f-ad7a-9d4ab81e61ad",
   "metadata": {
    "tags": []
   },
   "outputs": [],
   "source": [
    "malek_rwise_df = malek_rwise_df[malek_rwise_df['number_heads'] > 0]\n",
    "malek_rwise_df"
   ]
  },
  {
   "cell_type": "code",
   "execution_count": null,
   "id": "dbbd0e8e-81ee-43b1-a6b0-cf0a7b67487d",
   "metadata": {
    "tags": []
   },
   "outputs": [],
   "source": [
    "args = [ (gazID, gaz_df) for gazID, gaz_df in malek_rwise_df.sort_values(['gazID','year']).groupby('gazID') ]\n",
    "\n",
    "result = pd.concat([ df for df in parallel.job(extract_data, args, n_jobs=10) ])\n",
    "result"
   ]
  },
  {
   "cell_type": "code",
   "execution_count": null,
   "id": "3d6ff4c1-2a99-4e67-97bb-11ba00ab2c19",
   "metadata": {
    "tags": []
   },
   "outputs": [],
   "source": [
    "malek_rwise = malek_rwise_df.drop_duplicates(subset=['gazID','geometry'])[['gazID','geometry']].merge(result, on='gazID', how='inner')\n",
    "\n",
    "ignore_cols = ['gazID','gazName','source','geometry']\n",
    "cols = ignore_cols + sorted([ c for c in malek_rwise.columns if c not in ignore_cols ])        \n",
    "malek_rwise = malek_rwise[cols]\n",
    "malek_rwise = gpd.GeoDataFrame(malek_rwise, geometry=gpd.GeoSeries(malek_rwise['geometry']))\n",
    "malek_rwise['source'] = 'Malek et al., 2024'\n",
    "malek_rwise"
   ]
  },
  {
   "cell_type": "code",
   "execution_count": null,
   "id": "fb1725bf-1f50-43c2-9589-dc9b936fb4a6",
   "metadata": {
    "tags": []
   },
   "outputs": [],
   "source": [
    "from datetime import datetime\n",
    "\n",
    "version = datetime.today().strftime('%Y%m%d')\n",
    "malek_rwise.to_file(f'{wd}/gpw_livestock.malek.2024_{version}.gpkg')"
   ]
  },
  {
   "cell_type": "markdown",
   "id": "c04d54e0-cfc9-4432-a8a0-cfe7adb9a6de",
   "metadata": {
    "jp-MarkdownHeadingCollapsed": true,
    "tags": []
   },
   "source": [
    "## FAO Level 1"
   ]
  },
  {
   "cell_type": "code",
   "execution_count": null,
   "id": "23fd7d89-bcd6-400f-bc11-0dab3d949cb6",
   "metadata": {
    "tags": []
   },
   "outputs": [],
   "source": [
    "adb_meta = f'{CENSUS_DB}/_meta'\n",
    "meta_dataseries = pd.read_csv(f'{adb_meta}/inv_dataseries.csv')\n",
    "meta_table = pd.read_csv(f'{adb_meta}/inv_tables.csv')\n",
    "metadata = meta_table.merge(meta_dataseries, on='datID')"
   ]
  },
  {
   "cell_type": "code",
   "execution_count": null,
   "id": "71ff7cc9-00c7-4ba1-bd8c-3ae2717c3679",
   "metadata": {
    "tags": []
   },
   "outputs": [],
   "source": [
    "FAOSAT_tab_id = metadata[metadata['name'] == 'faostat']['tabID'].iloc[0]\n",
    "FAOSAT_tab_id"
   ]
  },
  {
   "cell_type": "code",
   "execution_count": null,
   "id": "b2d2b34c-0d21-49d8-83e1-ec5dbe345f4a",
   "metadata": {
    "tags": []
   },
   "outputs": [],
   "source": [
    "df_gpw_l1 = df.query(f'year >= 2000 & number_heads >= 0 & tabID == {FAOSAT_tab_id}')\n",
    "df_gpw_l1 = df_gpw_l1[df_gpw_l1['ontoMatch'].str.contains('close--')]\n",
    "\n",
    "df_gpw_l1['animal'] = df_gpw_l1['animal'].replace({'buffalo|bison': 'buffalo'})\n",
    "df_gpw_l1 = df_gpw_l1[df_gpw_l1['animal'].isin(['cattle','goat','horse','sheep','buffalo'])]\n",
    "df_gpw_l1"
   ]
  },
  {
   "cell_type": "code",
   "execution_count": null,
   "id": "1ec6c3f1-b982-47e1-8402-2e56fa1fad82",
   "metadata": {
    "scrolled": true,
    "tags": []
   },
   "outputs": [],
   "source": [
    "# pip install pyogrio\n",
    "def read_geom(geom_dir, country, level):\n",
    "    try:\n",
    "        gdf = gpd.read_file(f'{geom_dir}/{country}.gpkg', layer=f'al{level}' )\n",
    "        return gdf[['gazID', 'gazName','gazClass','geoID','geometry']]\n",
    "    except:\n",
    "        try:\n",
    "            gdf = gpd.read_file(f'{geom_dir}/{country}.gpkg', layer=f'ADM{int(level) - 1}' )\n",
    "            return gdf[['gazID', 'gazName','gazClass','geoID','geometry']]\n",
    "        except:\n",
    "            return gpd.GeoDataFrame([])\n",
    "    \n",
    "args = [ (adb_geometries_path, cl.split('#')[0], cl.split('#')[1]) for cl in pd.unique(df_gpw_l1['country']+ '#' + df_gpw_l1['level'].astype(str)) ]\n",
    "gdf_gpw_l1 = pd.concat([ df for df in parallel.job(read_geom, args, n_jobs=40) ])\n",
    "\n",
    "# Only geometries with livesotck information \n",
    "gdf_gpw_l1 = gdf_gpw_l1[gdf_gpw_l1['gazName'].isin(df_gpw_l1['gazName'].unique())]\n",
    "gdf_gpw_l1 = gdf_gpw_l1.drop_duplicates(['gazID'], keep='first', ignore_index=True)\n",
    "gdf_gpw_l1"
   ]
  },
  {
   "cell_type": "code",
   "execution_count": null,
   "id": "3543a333-0d90-4e0a-86f7-d04bb3ca2823",
   "metadata": {
    "tags": []
   },
   "outputs": [],
   "source": [
    "gdf_gpw_l1['geom_area_km'] = gdf_gpw_l1['geometry'].to_crs('+proj=igh +lon_0=0 +x_0=0 +y_0=0 +datum=WGS84 +units=m +no_defs +type=crs').area / 1e6"
   ]
  },
  {
   "cell_type": "code",
   "execution_count": null,
   "id": "c85d8217-1f33-44cd-b61c-b3c78ed66112",
   "metadata": {
    "tags": []
   },
   "outputs": [],
   "source": [
    "result_l1 = []\n",
    "for gazID in df_gpw_l1['gazID'].unique():\n",
    "    mask = (df_gpw_l1['gazID'] == gazID)\n",
    "    gaz_df = df_gpw_l1[mask].copy()\n",
    "    gaz_df.loc[:,'col'] = gaz_df['animal'] + '_' + gaz_df['year'].astype('int').astype('string')\n",
    "    gaz_df.loc[:,'number_heads'] = gaz_df['number_heads'].astype('int')\n",
    "    gaz_df = gaz_df.set_index('col')[['number_heads']].T.reset_index(drop=True)\\\n",
    "        .rename_axis(None, axis=1).iloc[0].to_dict()\n",
    "    gaz_df['source'] = 'FAOSTAT'\n",
    "    gaz_df['gazID'] = gazID\n",
    "    gaz_df['gazName'] =  df_gpw_l1[mask].iloc[0]['gazName']\n",
    "    result_l1.append(gaz_df)\n",
    "\n",
    "result_l1 = pd.DataFrame(result_l1)\n",
    "result_l1"
   ]
  },
  {
   "cell_type": "code",
   "execution_count": null,
   "id": "1a243793-d93b-4bd6-be11-3c17c4aa3db8",
   "metadata": {
    "tags": []
   },
   "outputs": [],
   "source": [
    "#df_alaska = df[df['gazName'].str.contains('Alaska')].query(f\"year >= 2000 & number_heads >= 0 & animal in ('cattle','goat','horse','sheep','buffalo')\" )\n",
    "#df_alaska['country'] = df_alaska['gazName'].str.split('.', expand=True)[0] + '.' + df_alaska['gazName'].str.split('.', expand=True)[1]\n",
    "#df_alaska"
   ]
  },
  {
   "cell_type": "code",
   "execution_count": null,
   "id": "535fce44-8e2b-4f62-ad92-5f7a66347ef5",
   "metadata": {
    "tags": []
   },
   "outputs": [],
   "source": [
    "import joblib\n",
    "gdf_gpw_l1_final = gdf_gpw_l1[['gazID','geometry']].merge(result_l1, on='gazID', how='inner')\n",
    "\n",
    "ignore_cols = ['gazID','gazName','source','geometry']\n",
    "cols = ignore_cols + sorted([ c for c in gdf_gpw_l1_final.columns if c not in ignore_cols ])        \n",
    "gdf_gpw_l1_final = gdf_gpw_l1_final[cols]\n",
    "\n",
    "gdf_gpw_l1_final.to_file('faostat_livestock_all.gpkg')\n",
    "joblib.dump(gdf_gpw_l1_final, 'faostat_livestock_all.lz4', compress='lz4')\n",
    "gdf_gpw_l1_final"
   ]
  },
  {
   "cell_type": "code",
   "execution_count": null,
   "id": "356d846b-25d7-452e-9f62-527786ed705a",
   "metadata": {
    "tags": []
   },
   "outputs": [],
   "source": [
    "#largest_polygon_area = 226,098\n",
    "gdf_gpw_l1_final = gdf_gpw_l1[gdf_gpw_l1['geom_area_km'] <= largest_polygon_area][['gazID','geometry']].merge(result_l1, on='gazID', how='inner')\n",
    "\n",
    "ignore_cols = ['gazID','gazName','source','geometry']\n",
    "cols = ignore_cols + sorted([ c for c in gdf_gpw_l1_final.columns if c not in ignore_cols ])        \n",
    "gdf_gpw_l1_final = gdf_gpw_l1_final[cols]\n",
    "\n",
    "from datetime import datetime\n",
    "version = datetime.today().strftime('%Y%m%d')\n",
    "gdf_gpw_l1_final.to_file(F'{ard_census_dir}/faostat_livestock.adhoc_{version}.gpkg')\n",
    "\n",
    "#gdf_gpw_l1_final.to_file('faostat_livestock.gpkg')\n",
    "#gdf_gpw_l1_final"
   ]
  },
  {
   "cell_type": "markdown",
   "id": "18caa9c5-abab-4626-9fb5-aa5b8d47ceff",
   "metadata": {
    "jp-MarkdownHeadingCollapsed": true,
    "tags": []
   },
   "source": [
    "## GLW3"
   ]
  },
  {
   "cell_type": "code",
   "execution_count": null,
   "id": "beaef397-b505-490b-94f1-d14b8321306f",
   "metadata": {
    "tags": []
   },
   "outputs": [],
   "source": [
    "from eumap.misc import find_files\n",
    "from eumap.mapper import SpaceOverlay\n",
    "import geopandas as gpd\n",
    "import pandas as pd"
   ]
  },
  {
   "cell_type": "code",
   "execution_count": null,
   "id": "9a1e447b-7ef7-409a-ae81-807a128b62ab",
   "metadata": {
    "tags": []
   },
   "outputs": [],
   "source": [
    "raster_dir = '/mnt/tupi/WRI/livestock_global_modeling/Datasets/GLW3/'\n",
    "vector_adm_fn = '/mnt/tupi/WRI/livestock_global_modeling/Datasets/gaul_2015_2014_2.gpkg'\n",
    "glw_version = 'glw3'\n",
    "raster_files = find_files(raster_dir, '*Aw.tif') + find_files(raster_dir + '/cattle', '*Areakm*') + find_files(raster_dir, '*Ps.tif')"
   ]
  },
  {
   "cell_type": "code",
   "execution_count": null,
   "id": "41ca778a-2197-4ac3-9b35-208c0285a20e",
   "metadata": {
    "tags": []
   },
   "outputs": [],
   "source": [
    "country_code_fn = '/mnt/tupi/WRI/livestock_global_modeling/Datasets/gadm36_country_codes.csv'\n",
    "country_code = pd.read_csv(country_code_fn)\n",
    "country_code"
   ]
  },
  {
   "cell_type": "code",
   "execution_count": null,
   "id": "77543c9a-b2db-438b-b624-14a2043f30e3",
   "metadata": {
    "tags": []
   },
   "outputs": [],
   "source": [
    "vector_adm = gpd.read_file(vector_adm_fn)\n",
    "vector_adm['ADM0_NAME'] = vector_adm['ADM0_NAME'].replace({\n",
    "    'United States of America': 'United States',\n",
    "    'Viet Nam': 'Vietnam',\n",
    "    'Iran  (Islamic Republic of)': 'Iran',\n",
    "    'Dem People\\'s Rep of Korea': 'North Korea',\n",
    "    'United Republic of Tanzania': 'Tanzania',\n",
    "    'Lao People\\'s Democratic Republic': 'Laos',\n",
    "    'The former Yugoslav Republic of Macedonia': 'Macedonia',\n",
    "    'Russian Federation': 'Russia',\n",
    "    'Congo': 'Republic of Congo',\n",
    "    'U.K. of Great Britain and Northern Ireland': 'United Kingdom',\n",
    "    'Syrian Arab Republic': 'Syria',\n",
    "    'Moldova, Republic of': 'Moldova',\n",
    "    'Czech Republic': 'Czechia'\n",
    "})"
   ]
  },
  {
   "cell_type": "code",
   "execution_count": null,
   "id": "4b17b81a-0edb-4170-a59f-1a8e05578f90",
   "metadata": {
    "tags": []
   },
   "outputs": [],
   "source": [
    "vector_adm = vector_adm.merge(country_code, on='ADM0_NAME', how='left')\n",
    "vector_adm"
   ]
  },
  {
   "cell_type": "code",
   "execution_count": null,
   "id": "f42b7b7b-1ec4-459d-8ae1-3cecc53a7937",
   "metadata": {
    "tags": []
   },
   "outputs": [],
   "source": [
    "vector_adm_pts = vector_adm.representative_point()\n",
    "spc_overlay = SpaceOverlay(points=gpd.GeoDataFrame(geometry=vector_adm_pts), fn_layers=raster_files)\n",
    "result = spc_overlay.run()\n",
    "result = result[result.columns[2:]]\n",
    "result = result.set_axis([ f'{glw_version}_pixel_{c[2:]}'  for c  in result.columns ], axis=1)\n",
    "print(result.shape)"
   ]
  },
  {
   "cell_type": "code",
   "execution_count": null,
   "id": "78a533eb-a9e3-4338-b677-91f6a98b91ac",
   "metadata": {
    "tags": []
   },
   "outputs": [],
   "source": [
    "vector_adm"
   ]
  },
  {
   "cell_type": "code",
   "execution_count": null,
   "id": "c3983fcc-bf3f-465d-9166-fcb90d9efe47",
   "metadata": {
    "tags": []
   },
   "outputs": [],
   "source": [
    "vector_adm_overlaid = pd.merge(vector_adm, result,  left_index=True, right_index=True)"
   ]
  },
  {
   "cell_type": "code",
   "execution_count": null,
   "id": "356b9c2f-d438-4f3c-bf2b-4e55d5615a3f",
   "metadata": {
    "tags": []
   },
   "outputs": [],
   "source": [
    "vector_adm_overlaid['polygon_area_km'] = vector_adm_overlaid.to_crs('+proj=igh +towgs84=0,0,0').area / 1000000\n",
    "vector_adm_overlaid.columns"
   ]
  },
  {
   "cell_type": "code",
   "execution_count": null,
   "id": "f3244c29-470c-4f36-bd6f-d440f125600b",
   "metadata": {
    "tags": []
   },
   "outputs": [],
   "source": [
    "from pathlib import Path \n",
    "import pandas as pd\n",
    "aw_columns = vector_adm_overlaid.columns[vector_adm_overlaid.columns.str.contains('Aw')]\n",
    "metadata_dir = '/mnt/tupi/WRI/livestock_global_modeling/Datasets/GLW3'\n",
    "\n",
    "for aw_col in aw_columns:\n",
    "    \n",
    "    print(f\"Calculating vector_{aw_col}\")\n",
    "    \n",
    "    atype = aw_col.split('_')[2]\n",
    "    metadata_fn = Path(metadata_dir).joinpath(f'1_{atype}_2010_Metadata.html')\n",
    "    print(metadata_fn)\n",
    "    metadata = pd.read_html(metadata_fn)[0].rename(columns={'Unnamed: 0':'GID_0', 'Country': 'Country_name'})\n",
    "    metadata['faostat_census_ratio'] = metadata['FAOSTAT'] / metadata['Census']\n",
    "    metadata = metadata[['GID_0', 'Year', 'Source', 'faostat_census_ratio']].add_suffix(f'_{atype}').add_prefix(f'{glw_version}_mtd_')\n",
    "    \n",
    "    right_on = f'{glw_version}_mtd_GID_0_{atype}'\n",
    "    vector_adm_overlaid = pd.merge(vector_adm_overlaid, metadata, how='left', left_on=f'GID_0', right_on=right_on).drop(columns=[right_on])\n",
    "        \n",
    "    vector_adm_overlaid[f'polygon_{atype}'] = (vector_adm_overlaid['polygon_area_km'] / vector_adm_overlaid[f'{glw_version}_pixel_Areakm']) * vector_adm_overlaid[f'{glw_version}_pixel_{atype}_2010_Aw']\n",
    "    vector_adm_overlaid[f'polygon_{atype}'] = vector_adm_overlaid[f'polygon_{atype}'] / pd.to_numeric(vector_adm_overlaid[f'{glw_version}_mtd_faostat_census_ratio_{atype}'])\n",
    "    \n",
    "    print(vector_adm_overlaid.shape)"
   ]
  },
  {
   "cell_type": "code",
   "execution_count": null,
   "id": "5edd066f-2f81-49d8-8c11-a931f4e24636",
   "metadata": {
    "tags": []
   },
   "outputs": [],
   "source": [
    "vector_adm_overlaid.columns = map(str.lower, vector_adm_overlaid.columns)\n",
    "columns_sorted = sorted(list(vector_adm_overlaid.columns))\n",
    "columns_sorted.remove('geometry')\n",
    "columns_sorted"
   ]
  },
  {
   "cell_type": "code",
   "execution_count": null,
   "id": "480c6424-7f53-4595-833c-0d01785b8c73",
   "metadata": {
    "tags": []
   },
   "outputs": [],
   "source": [
    "import numpy as np\n",
    "cats = [ 'bf', 'ch', 'ct', 'dk', 'gt', 'ho', 'pg', 'sh' ]\n",
    "for c in cats:\n",
    "    mask = np.logical_or((vector_adm_overlaid[f'glw3_pixel_{c}_2010_ps'] == 1),~np.isfinite(vector_adm_overlaid[f'glw3_pixel_{c}_2010_aw']))\n",
    "    \n",
    "    print(f\"Removing interpolated samples for {c} {np.sum(mask.astype('int'))}\")\n",
    "    vector_adm_overlaid.loc[mask, f'glw3_pixel_{c}_2010_aw'] = np.nan\n",
    "    vector_adm_overlaid.loc[mask, f'polygon_{c}'] = np.nan\n",
    "    #vector_adm_overlaid[f'glw3_pixel_{c}_2010_ps'].value_counts()"
   ]
  },
  {
   "cell_type": "code",
   "execution_count": null,
   "id": "7c9e374d-d500-4287-b1af-c96184c70013",
   "metadata": {
    "tags": []
   },
   "outputs": [],
   "source": [
    "cats = [ 'bf', 'ch', 'ct', 'dk', 'gt', 'ho', 'pg', 'sh' ]\n",
    "for c in cats:\n",
    "    mask = (vector_adm_overlaid[f'glw3_pixel_{c}_2010_ps'] == 1)\n",
    "    vector_adm_overlaid[f'polygon_{c}'] = vector_adm_overlaid[f'polygon_{c}'].round(0)"
   ]
  },
  {
   "cell_type": "code",
   "execution_count": null,
   "id": "787fc09f-d8a0-425e-8587-a81eaa9002e2",
   "metadata": {
    "tags": []
   },
   "outputs": [],
   "source": [
    "vector_adm_overlaid[np.logical_and(vector_adm_overlaid['adm0_name'] == 'Brazil',vector_adm_overlaid['adm2_name'] == 'Querencia')]"
   ]
  },
  {
   "cell_type": "code",
   "execution_count": null,
   "id": "11d24264-14bd-4ccd-88ca-f89ee2ea51e2",
   "metadata": {
    "tags": []
   },
   "outputs": [],
   "source": [
    "# IBGE: https://sidra.ibge.gov.br/tabela/3939#resultado\n",
    "\n",
    "import numpy as np\n",
    "vector_adm_overlaid[np.logical_and(vector_adm_overlaid['adm2_name'] == 'Querencia', vector_adm_overlaid['adm0_name'] == 'Brazil')][[\n",
    "    'polygon_ct',f'{glw_version}_mtd_year_ct',f'{glw_version}_mtd_faostat_census_ratio_ct',\n",
    "    'polygon_area_km', f'{glw_version}_pixel_areakm', f'{glw_version}_pixel_ct_2010_aw'\n",
    "]]"
   ]
  },
  {
   "cell_type": "code",
   "execution_count": null,
   "id": "a56fc669-d045-40f4-a9f0-c711d29e8068",
   "metadata": {
    "tags": []
   },
   "outputs": [],
   "source": [
    "vector_adm_overlaid = vector_adm_overlaid.query(' | '.join([ f'polygon_{c} >= 0' for c in cats ]))\n",
    "vector_adm_overlaid"
   ]
  },
  {
   "cell_type": "code",
   "execution_count": null,
   "id": "08203b82-9914-472a-8b87-84e8bebc4938",
   "metadata": {
    "tags": []
   },
   "outputs": [],
   "source": [
    "vector_adm_overlaid"
   ]
  },
  {
   "cell_type": "code",
   "execution_count": null,
   "id": "e9142bdf-403d-4516-b63c-695b719f1379",
   "metadata": {
    "tags": []
   },
   "outputs": [],
   "source": [
    "vector_adm_overlaid.loc[:,'gazName'] = vector_adm_overlaid['adm0_name'] + '.' + vector_adm_overlaid['adm1_name'] + '.' + vector_adm_overlaid['adm2_name']\n",
    "vector_adm_overlaid.loc[:,'index'] = vector_adm_overlaid.index\n",
    "\n",
    "cat_map = {    \n",
    "    'ct': 'cattle',\n",
    "    'gt': 'goat',\n",
    "    'ho': 'horse',\n",
    "    'sh': 'sheep',\n",
    "    'bf': 'buffalo'\n",
    "}\n",
    "\n",
    "result = []\n",
    "\n",
    "for c in list(cat_map.keys()):\n",
    "    col_y = f'glw3_mtd_year_{c}'\n",
    "    col_c = f'polygon_{c}'\n",
    "    for year in vector_adm_overlaid[col_y].unique():\n",
    "        if year >= 2000:\n",
    "            gaz_df = vector_adm_overlaid[np.logical_and(vector_adm_overlaid[col_y] == year, vector_adm_overlaid[col_c] > 0)]\n",
    "            rename_cols = {}\n",
    "            rename_cols[col_c] = f'{cat_map[c]}_{int(year)}'\n",
    "            gaz_df = gaz_df[['index',col_c]].rename(columns=rename_cols)\n",
    "            result.append(gaz_df)\n",
    "            print(col_c, gaz_df.shape)\n",
    "\n",
    "result = pd.concat(result)\n",
    "result"
   ]
  },
  {
   "cell_type": "code",
   "execution_count": null,
   "id": "ec8b566c-ca81-4032-a97a-80df4604d309",
   "metadata": {
    "tags": []
   },
   "outputs": [],
   "source": [
    "ignore_cols = ['index']\n",
    "cols = ignore_cols + sorted([ c for c in result.columns if c not in ignore_cols ])        \n",
    "result = result[cols].fillna(0).groupby(['index']).sum().reset_index()\n",
    "result.loc[:,cols[1:]] = result[cols[1:]].replace({0:np.nan})"
   ]
  },
  {
   "cell_type": "code",
   "execution_count": null,
   "id": "ad7813c9-67ed-4a2a-8e0f-5eeeefd2d94d",
   "metadata": {
    "tags": []
   },
   "outputs": [],
   "source": [
    "result = vector_adm_overlaid[['index','gazName','geometry']].merge(result, on='index')\n",
    "result['gazID'] = 'NA'\n",
    "result['source'] = 'fao_glw3'"
   ]
  },
  {
   "cell_type": "code",
   "execution_count": null,
   "id": "00f54adb-a942-4bf4-b850-6034fd78552a",
   "metadata": {
    "tags": []
   },
   "outputs": [],
   "source": [
    "#df_gpw_final = gdf_gpw[['gazID','geometry']].merge(result, on='gazID', how='inner')\n",
    "\n",
    "ignore_cols = ['gazID','gazName','source','geometry']\n",
    "cols = ignore_cols + sorted([ c for c in result.columns if c not in ignore_cols ])        \n",
    "df_glw = result[cols]"
   ]
  },
  {
   "cell_type": "code",
   "execution_count": null,
   "id": "35acf55b-1d55-4b89-a76f-6b4ce0e51e07",
   "metadata": {
    "tags": []
   },
   "outputs": [],
   "source": [
    "df_glw"
   ]
  },
  {
   "cell_type": "code",
   "execution_count": null,
   "id": "5bc1a718-2c41-46b4-8464-e397abf544af",
   "metadata": {},
   "outputs": [],
   "source": [
    "df_glw.to_file('fao_glw3_livestock.gpkg')"
   ]
  },
  {
   "cell_type": "code",
   "execution_count": null,
   "id": "7315aab4-bc19-4117-bf3e-afd0b75ad750",
   "metadata": {
    "tags": []
   },
   "outputs": [],
   "source": [
    "df_glw"
   ]
  },
  {
   "cell_type": "markdown",
   "id": "ef717d60-4b8a-49b1-a0cd-edaf130ecd01",
   "metadata": {
    "jp-MarkdownHeadingCollapsed": true,
    "tags": []
   },
   "source": [
    "## Census data integration"
   ]
  },
  {
   "cell_type": "code",
   "execution_count": null,
   "id": "3cbf1de1-c7ea-4cde-a1de-9e41178e2baa",
   "metadata": {
    "tags": []
   },
   "outputs": [],
   "source": [
    "import pandas as pd\n",
    "import geopandas as gpd"
   ]
  },
  {
   "cell_type": "code",
   "execution_count": null,
   "id": "847f11c0-9519-4010-985b-e7f50f65abef",
   "metadata": {},
   "outputs": [],
   "source": [
    "#ard_dir = '/mnt/tupi/WRI/livestock_global_modeling/livestock_census_ard'\n",
    "gpw_df = gpd.read_file(f'{wd}/gpw_livestock_20250201.gpkg')\n",
    "gpw_ah_df = gpd.read_file(f'{wd}/gpw_livestock.adhoc_20250129.gpkg')\n",
    "fao_df = gpd.read_file(f'{wd}/gpw_livestock.fao_20250201.gpkg')\n",
    "malek_df = gpd.read_file(f'{wd}/gpw_livestock.malek.2024_20250129.gpkg')\n",
    "\n",
    "faostat_df = gpd.read_file(f'{wd}/faostat_livestock.adhoc_20250227.gpkg')\n",
    "#faoglw3_df = gpd.read_file(f'{wd}/fao_glw3_livestock.gpkg')"
   ]
  },
  {
   "cell_type": "code",
   "execution_count": null,
   "id": "c09c1fa7-14e6-48c1-9c48-ba6d1f55e71e",
   "metadata": {
    "tags": []
   },
   "outputs": [],
   "source": [
    "gpw_df = pd.concat([gpw_df, gpw_ah_df.to_crs(4326), fao_df.to_crs(4326), malek_df.to_crs(4326)])"
   ]
  },
  {
   "cell_type": "code",
   "execution_count": null,
   "id": "bfa3060a-c82d-423e-8550-e1d764e3132e",
   "metadata": {
    "tags": []
   },
   "outputs": [],
   "source": [
    "gpw_df['level'] = gpw_df['gazName'].str.split('.', expand=False).str.len()\n",
    "gpw_df['country'] = gpw_df['gazName'].str.split('.', expand=True)[0]\n",
    "\n",
    "faostat_df['level'] = faostat_df['gazName'].str.split('.', expand=False).str.len()\n",
    "faostat_df['country'] = faostat_df['gazName'].str.split('.', expand=True)[0]"
   ]
  },
  {
   "cell_type": "code",
   "execution_count": null,
   "id": "4fbbdaed-1c57-4986-9dd3-3f74b06a8d2c",
   "metadata": {
    "tags": []
   },
   "outputs": [],
   "source": [
    "#faoglw3_df['level'] = faoglw3_df['gazName'].str.split('.', expand=False).str.len()\n",
    "#faoglw3_df['country'] = faoglw3_df['gazName'].str.split('.', expand=True)[0]\n",
    "\n",
    "#faoglw3_df['country'] = faoglw3_df['country'].replace({\n",
    "#    'United States': 'United States of America',\n",
    "#    'Russia': 'Russian Federation',\n",
    "#    'Netherlands': 'Netherlands (Kingdom of the)',\n",
    "#    'Turkey': 'Türkiye',\n",
    "#    'Czech Republic': 'Czechia',\n",
    "#    'Macedonia': 'North Macedonia',\n",
    "#    'Moldova': 'Republic of Moldova',\n",
    "#    'United Kingdom': 'United Kingdom of Great Britain and Northern Ireland',\n",
    "#    'Burkina Faso': 'Burkina_faso',\n",
    "#    'Syria': 'Syrian Arab Republic',\n",
    "#    'Swaziland': 'Eswatini'\n",
    "#})\n",
    "\n",
    "#gpw_df_point = gpw_df.copy()\n",
    "#gpw_df_point.geometry = gpw_df.representative_point()\n",
    "\n",
    "#r_intesects = gpd.sjoin(faoglw3_df, luckinet_df, how='inner')\n",
    "#r_whitin = gpd.sjoin(faoglw3_df, gpw_df_point, how='inner')\n",
    "#faoglw3_df_new = faoglw3_df.drop(index=list(r_whitin.index.unique()))\n",
    "\n",
    "#faoglw3_df_new = faoglw3_df.drop(index=faoglw3_df[\n",
    "#    faoglw3_df['country'].isin(\n",
    "#        list(gpw_df['country'].unique()) + list(faostat_df_new['country'].unique())\n",
    "#    )\n",
    "#].index)"
   ]
  },
  {
   "cell_type": "code",
   "execution_count": null,
   "id": "86c2a7e6-b669-4cd8-88d0-3152851b2778",
   "metadata": {
    "tags": []
   },
   "outputs": [],
   "source": [
    "faostat_df_new = faostat_df.drop(index=faostat_df[faostat_df['country'].isin(list(gpw_df['country'].unique()))].index)"
   ]
  },
  {
   "cell_type": "code",
   "execution_count": null,
   "id": "f83bea4d-78c4-4d96-bf6b-9d8ff6598fb6",
   "metadata": {
    "tags": []
   },
   "outputs": [],
   "source": [
    "print(faostat_df_new.shape, faostat_df.shape)"
   ]
  },
  {
   "cell_type": "code",
   "execution_count": null,
   "id": "d9c166fb-e19d-4241-89af-68266ad65d73",
   "metadata": {
    "tags": []
   },
   "outputs": [],
   "source": [
    "gpw_final = pd.concat([gpw_df, faostat_df_new])\n",
    "gpw_final"
   ]
  },
  {
   "cell_type": "code",
   "execution_count": null,
   "id": "4d78fd98-fab3-4321-a29e-00cf0fccec2d",
   "metadata": {
    "tags": []
   },
   "outputs": [],
   "source": [
    "import numpy as np\n",
    "animals = ['cattle','goat','horse','sheep']\n",
    "for c in animals:\n",
    "    animal_cols = gpw_final.columns[gpw_final.columns.str.contains(c)]\n",
    "    gpw_final.loc[:,f'{c}_nyears'] = np.sum(( np.logical_not(np.isnan(gpw_final[animal_cols]).to_numpy()) ).astype('int'), axis=1)\n",
    "gpw_final = gpw_final.reset_index(drop=True)\n",
    "gpw_final"
   ]
  },
  {
   "cell_type": "code",
   "execution_count": null,
   "id": "1cb92d64-6f35-4742-8e89-71bf543b9cf3",
   "metadata": {
    "tags": []
   },
   "outputs": [],
   "source": [
    "to_remove = gpw_final[\n",
    "    np.logical_and(\n",
    "        gpw_final['source'] == 'FAO',\n",
    "        np.logical_or.reduce([\n",
    "            gpw_final['gazName'].str.contains('Brazil'),\n",
    "            gpw_final['gazName'].str.contains('Argentina'),\n",
    "            gpw_final['gazName'].str.contains('Russia')\n",
    "        ])\n",
    "    )].index\n",
    "print(f\"Removing {len(to_remove)} FAO samples\")"
   ]
  },
  {
   "cell_type": "code",
   "execution_count": null,
   "id": "c893e068-8dfa-4961-8f57-6ec3ec14ea1d",
   "metadata": {
    "tags": []
   },
   "outputs": [],
   "source": [
    "gpw_final = gpw_final.drop(to_remove)\n",
    "gpw_final"
   ]
  },
  {
   "cell_type": "code",
   "execution_count": null,
   "id": "b14fd8f4-5fa4-4999-93aa-4e3a15d8375d",
   "metadata": {
    "tags": []
   },
   "outputs": [],
   "source": [
    "import joblib\n",
    "joblib.dump(gpw_final, f'{wd}/gpw_livestock.animals_gpw.fao.glw3_polygon.samples_20000101_20231231_go_epsg.4326_v1.lz4', compress='lz4')\n",
    "gpw_final.to_file(f'{wd}/gpw_livestock.animals_gpw.fao.faostat.malek.2024_polygon.samples_20000101_20231231_go_epsg.4326_v1.gpkg')"
   ]
  }
 ],
 "metadata": {
  "kernelspec": {
   "display_name": "Python 3 (ipykernel)",
   "language": "python",
   "name": "python3"
  },
  "language_info": {
   "codemirror_mode": {
    "name": "ipython",
    "version": 3
   },
   "file_extension": ".py",
   "mimetype": "text/x-python",
   "name": "python",
   "nbconvert_exporter": "python",
   "pygments_lexer": "ipython3",
   "version": "3.8.16"
  }
 },
 "nbformat": 4,
 "nbformat_minor": 5
}
