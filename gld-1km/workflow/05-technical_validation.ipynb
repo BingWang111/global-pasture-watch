{
 "cells": [
  {
   "cell_type": "code",
   "execution_count": null,
   "id": "56c62139-f453-4282-a239-924f5dd810d3",
   "metadata": {
    "tags": []
   },
   "outputs": [],
   "source": [
    "from sklearn.metrics import make_scorer\n",
    "from statsmodels.stats.weightstats import DescrStatsW\n",
    "from sklearn.metrics import r2_score, mean_squared_error, d2_tweedie_score\n",
    "from sklearn.metrics import mean_absolute_error\n",
    "from sklearn.ensemble import RandomForestRegressor\n",
    "from sklearn.utils.validation import check_is_fitted\n",
    "from joblib import Parallel, delayed\n",
    "import threading\n",
    "\n",
    "import joblib\n",
    "import numpy as np\n",
    "import pandas as pd\n",
    "import seaborn as sns\n",
    "\n",
    "import bottleneck as bn\n",
    "\n",
    "def NormRootMeanSqrtErr(y_true, y_pred, type = \"minmax\"):\n",
    "    \"\"\"\n",
    "    Normalized Root Mean Square Error.\n",
    "    \n",
    "    interpretation: smaller is better.\n",
    "\n",
    "    Args:\n",
    "        y_true ([np.array]): test samples\n",
    "        y_pred ([np.array]): predicted samples\n",
    "        type (str): type of normalization. default is \"minmax\"\n",
    "        - sd (standard deviation) : it divides the value by the standard deviation of the data.\n",
    "        - mean (mean) : it divides the value by the mean of the data.\n",
    "        - minmax (min-max) : it divides the value by the range of the data.\n",
    "        - iqr (interquartile range) : it divides the value by the interquartile range of the data.\n",
    "\n",
    "    Returns:\n",
    "        [float]: normalized root mean square error\n",
    "    \"\"\"\n",
    "    if type==\"sd\":\n",
    "        return np.sqrt(mean_squared_error(y_true, y_pred))/np.std(y_true)\n",
    "    elif type==\"mean\":\n",
    "        return np.sqrt(mean_squared_error(y_true, y_pred))/np.mean(y_true)\n",
    "    elif type==\"minmax\":\n",
    "        return np.sqrt(mean_squared_error(y_true, y_pred))/(np.max(y_true) - np.min(y_true))\n",
    "    elif type==\"iqr\":\n",
    "        return np.sqrt(mean_squared_error(y_true, y_pred))/(np.quantile(y_true, 0.75) - np.quantile(y_true, 0.25))\n",
    "    elif type!=\"\":\n",
    "        raise ValueError(\"type must be either 'sd', 'mean', 'minmax', or 'iqr'\")\n",
    "\n",
    "def concordance_correlation_coefficient(y_true, y_pred, wei):\n",
    "  \"\"\"Concordance correlation coefficient.\"\"\"\n",
    "  # Raw data\n",
    "  dct = {\n",
    "      'y_true': y_true,\n",
    "      'y_pred': y_pred\n",
    "  }\n",
    "  df = pd.DataFrame(dct)\n",
    "  # Remove NaNs\n",
    "  df = df.dropna()\n",
    "  # Pearson product-moment correlation coefficients\n",
    "  y_true = df['y_true']\n",
    "  y_pred = df['y_pred']\n",
    "  #cor = np.corrcoef(y_true, y_pred)[0][1]\n",
    "  cor = DescrStatsW(df.to_numpy(), weights=wei).corrcoef[0][1]\n",
    "  # Means\n",
    "  mean_true = np.average(y_true, weights=wei)\n",
    "  mean_pred = np.average(y_pred, weights=wei)\n",
    "  # Population variances\n",
    "  #var_true = np.var(y_true)\n",
    "  var_true = DescrStatsW(y_true, weights=wei).var\n",
    "  #print(var_true, var_true1)\n",
    "  #var_pred = np.var(y_pred)\n",
    "  var_pred = DescrStatsW(y_pred, weights=wei).var\n",
    "  # Population standard deviations\n",
    "  sd_true = DescrStatsW(y_true, weights=wei).std\n",
    "  sd_pred = DescrStatsW(y_pred, weights=wei).std\n",
    "  # Calculate CCC\n",
    "  numerator = 2 * cor * sd_true * sd_pred\n",
    "  denominator = var_true + var_pred + (mean_true - mean_pred)**2\n",
    "\n",
    "  return numerator / denominator\n",
    "\n",
    "def _single_prediction(predict, X, out, i, lock):\n",
    "    prediction = predict(X, check_input=False)\n",
    "    with lock:\n",
    "        out[i, :] = prediction\n",
    "\n",
    "def cast_tree_rf(model):\n",
    "    model.__class__ = TreesRandomForestRegressor\n",
    "    return model\n",
    "\n",
    "class TreesRandomForestRegressor(RandomForestRegressor):\n",
    "    def predict(self, X):\n",
    "        \"\"\"\n",
    "        Predict regression target for X.\n",
    "\n",
    "        The predicted regression target of an input sample is computed according\n",
    "        to a list of functions that receives the predicted regression targets of each \n",
    "        single tree in the forest.\n",
    "\n",
    "        Parameters\n",
    "        ----------\n",
    "        X : {array-like, sparse matrix} of shape (n_samples, n_features)\n",
    "            The input samples. Internally, its dtype will be converted to\n",
    "            ``dtype=np.float32``. If a sparse matrix is provided, it will be\n",
    "            converted into a sparse ``csr_matrix``.\n",
    "\n",
    "        Returns\n",
    "        -------\n",
    "        s : an ndarray of shape (n_estimators, n_samples)\n",
    "            The predicted values for each single tree.\n",
    "        \"\"\"\n",
    "        check_is_fitted(self)\n",
    "        # Check data\n",
    "        X = self._validate_X_predict(X)\n",
    "\n",
    "        # store the output of every estimator\n",
    "        assert(self.n_outputs_ == 1)\n",
    "        pred_t = np.empty((len(self.estimators_), X.shape[0]), dtype=np.float32)\n",
    "        # Assign chunk of trees to jobs\n",
    "        n_jobs = min(self.n_estimators, self.n_jobs)\n",
    "        # Parallel loop prediction\n",
    "        lock = threading.Lock()\n",
    "        Parallel(n_jobs=n_jobs, verbose=self.verbose, require=\"sharedmem\")(\n",
    "            delayed(_single_prediction)(self.estimators_[i].predict, X, pred_t, i, lock)\n",
    "            for i in range(len(self.estimators_))\n",
    "        )\n",
    "        return pred_t\n",
    "\n",
    "ccc_scorer = make_scorer(concordance_correlation_coefficient, greater_is_better=True)\n",
    "\n",
    "sns.set_theme(style=\"whitegrid\", palette=\"pastel\")\n",
    "sns.set_context(\"notebook\")\n",
    "\n",
    "wd = '/mnt/tupi/WRI/livestock_global_modeling/livestock_census_ard'\n",
    "\n",
    "sample_fn = f'{wd}/gpw_livestock.animals_gpw.fao.glw3_zonal.samples_20000101_20211231_go_epsg.4326_v1.pq'\n",
    "#sample_fn = f'{wd}/gpw_livestock.animals_faostat_zonal.samples_20000101_20211231_go_epsg.4326_v1.pq'\n",
    "samples = pd.read_parquet(sample_fn)\n",
    "\n",
    "#animals = ['cattle', 'sheep', 'goat', 'horse', 'buffalo']\n",
    "animals = ['cattle','sheep', 'goat', 'horse']\n",
    "model_names = ['lgb', 'rf']\n",
    "max_density = {\n",
    "    'cattle': 1505,\n",
    "    'sheep': 496,\n",
    "    'goat': 292,\n",
    "    'horse': 47,\n",
    "    'buffalo': 129,\n",
    "}"
   ]
  },
  {
   "cell_type": "code",
   "execution_count": null,
   "id": "59a4fa88-7cf5-4401-9ac8-5acbe4842538",
   "metadata": {},
   "outputs": [],
   "source": [
    "polygon_samples = joblib.load('/mnt/tupi/WRI/internal-develop/gpw/livestock-modeling/faostat_livestock_all.lz4')\n",
    "polygon_samples"
   ]
  },
  {
   "cell_type": "code",
   "execution_count": null,
   "id": "9fee4796-b329-4e48-9394-bf5582c527f1",
   "metadata": {
    "tags": []
   },
   "outputs": [],
   "source": [
    "polygon_samples = joblib.load('/mnt/tupi/WRI/livestock_global_modeling/livestock_census_raw/gpw_livestock.animals_gpw.fao.glw3_polygon.samples_20000101_20231231_go_epsg.4326_v1.lz4')\n",
    "polygon_samples"
   ]
  },
  {
   "cell_type": "markdown",
   "id": "de3b5a05-482a-49a9-889d-80af24bed25f",
   "metadata": {},
   "source": [
    "## Number of samples"
   ]
  },
  {
   "cell_type": "code",
   "execution_count": null,
   "id": "7ad48f41-7494-41de-bed5-a3c2a9e9fb49",
   "metadata": {
    "tags": []
   },
   "outputs": [],
   "source": [
    "animals = ['cattle', 'sheep', 'goat', 'horse', 'buffalo']\n",
    "stats = []\n",
    "for a in animals:\n",
    "    mask = np.logical_and(samples[f'ind_{a}'] == 1, samples[f'{a}_density'] <= max_density[a])\n",
    "    omask = np.logical_and(samples[f'ind_{a}'] == 1, samples[f'{a}_density'] > max_density[a])\n",
    "    zmask = np.logical_and(samples[f'ind_{a}'] == 1, samples[f'{a}_density'] == 0.001)\n",
    "    samples[mask]['source'].unique()\n",
    "    stats.append({\n",
    "        'animal': a,\n",
    "        'source': ', '.join(list(samples[mask]['source'].unique())),\n",
    "        'q98': max_density[a],\n",
    "        #'n_countries': len(samples[mask]['country'].unique()),\n",
    "        'n_zeros': samples[zmask].shape[0],\n",
    "        'n_outlier': samples[omask].shape[0],\n",
    "        'n_samples': samples[mask].shape[0]\n",
    "    })\n",
    "\n",
    "pd.DataFrame(stats)#.to_csv('samples_stats.csv')"
   ]
  },
  {
   "cell_type": "code",
   "execution_count": null,
   "id": "d4fe4051-707b-46e6-a544-b0cc35a67543",
   "metadata": {
    "tags": []
   },
   "outputs": [],
   "source": [
    "samples[np.logical_and.reduce([\n",
    "        samples['ind_cattle'] == 1,\n",
    "        samples[f'{animal}_ml_type'] == 'testing',\n",
    "        samples['cattle_density'] <= max_density['cattle'],\n",
    "])][['cattle_density']].plot.hist(bins=128, title=f\"{fn_model}.{model}\", histtype='step', linewidth=1.5)"
   ]
  },
  {
   "cell_type": "markdown",
   "id": "94cbb5a1-7eaf-4a96-8224-c172df812ec7",
   "metadata": {},
   "source": [
    "## Reading models"
   ]
  },
  {
   "cell_type": "code",
   "execution_count": null,
   "id": "01dd4f00-2b50-4514-b6ba-9a64071ddafd",
   "metadata": {
    "tags": []
   },
   "outputs": [],
   "source": [
    "model_names"
   ]
  },
  {
   "cell_type": "code",
   "execution_count": null,
   "id": "a5e7fd8f-2423-43d4-8458-d283b29e209c",
   "metadata": {
    "tags": []
   },
   "outputs": [],
   "source": [
    "models = {}\n",
    "\n",
    "#model_names = ['lgb', 'rf']\n",
    "model_names = ['rf']\n",
    "\n",
    "model_fn = 'zonal_models_ultimate'\n",
    "\n",
    "#suffs = ['', '_boxcox']\n",
    "suffs = ['']\n",
    "\n",
    "for animal in animals:\n",
    "  for mod in model_names:\n",
    "    for s in suffs:\n",
    "\n",
    "        fn_model = f'{animal}.{animal}_density{s}'\n",
    "\n",
    "        wd = '/mnt/tupi/WRI/livestock_global_modeling/livestock_census_ard'\n",
    "\n",
    "        #locals().update(**joblib.load(f'{wd}/{model_fn}/{fn_model}.{model}_cv.lz4'))\n",
    "        locals().update(**joblib.load(f'{wd}/{model_fn}/{fn_model}.{mod}_prod.lz4'))\n",
    "        locals().update(**joblib.load(f'{wd}/{model_fn}/{fn_model}_rfecv.lz4'))\n",
    "\n",
    "        prod_mod = eval(f\"prod_{mod}\")\n",
    "        if 'rf' in mod:\n",
    "            prod_mod.__class__ = TreesRandomForestRegressor\n",
    "\n",
    "        models[f'{animal}_{mod}{s}'] = {\n",
    "            'rfe': covs_rfe,\n",
    "            'prod': prod_mod,\n",
    "            'pt': target_pt\n",
    "        }"
   ]
  },
  {
   "cell_type": "markdown",
   "id": "fa30797d-7f78-4d9d-a2bd-4897a44c121a",
   "metadata": {
    "tags": []
   },
   "source": [
    "## Predict test set"
   ]
  },
  {
   "cell_type": "code",
   "execution_count": null,
   "id": "0c0db862-48c8-44f8-99ed-27dbded6cec9",
   "metadata": {
    "tags": []
   },
   "outputs": [],
   "source": [
    "samples = samples.merge(polygon_samples[['gazID','geometry']], on='gazID')"
   ]
  },
  {
   "cell_type": "code",
   "execution_count": null,
   "id": "5bbb370f-93d9-4248-89be-6c28da5eeab7",
   "metadata": {
    "tags": []
   },
   "outputs": [],
   "source": [
    "samples['area_km2'] = gpd.GeoSeries(samples['geometry']).to_crs('+proj=igh +lon_0=0 +x_0=0 +y_0=0 +datum=WGS84 +units=m +no_defs +type=crs').area / 1e6\n",
    "samples['area_km2']"
   ]
  },
  {
   "cell_type": "code",
   "execution_count": null,
   "id": "7898cde5-46d5-4cbf-ad51-acaacd6cfb0b",
   "metadata": {
    "tags": []
   },
   "outputs": [],
   "source": [
    "import math\n",
    "\n",
    "livestock_test = []\n",
    "\n",
    "for animal in animals:\n",
    "  for mod in model_names: #(model_names + ['eml']):\n",
    "    for s in suffs:\n",
    "    \n",
    "        print(f\"Runing model {animal}_{mod}{s}\")\n",
    "\n",
    "        samples_test = samples[np.logical_and.reduce([\n",
    "            samples[f'ind_{animal}'] == 1 \n",
    "            ,samples[f'{animal}_ml_type'] == 'testing'\n",
    "        ])]\n",
    "        \n",
    "        \n",
    "        ## Adding area\n",
    "        #samples_test = samples_test.merge(polygon_samples[['gazID','geometry']], on='gazID')\n",
    "        mask = (samples_test[f'{animal}_density'] <= max_density[animal])\n",
    "        #mask = (samples_test[f'{animal}_density'] > 0)\n",
    "        #samples_test['area_km2'] = \n",
    "        #print(samples_test.shape)\n",
    "            \n",
    "        covs_rfe = models[f'{animal}_{mod}{s}']['rfe']\n",
    "        prod_mod = models[f'{animal}_{mod}{s}']['prod']\n",
    "        pt = models[f'{animal}_{mod}{s}']['pt']\n",
    "\n",
    "        pred = prod_mod.predict(samples_test[mask][covs_rfe])\n",
    "        if 'rf' in mod:\n",
    "            perc = np.nanpercentile(pred, [2.5,97.5], axis=0)\n",
    "            std = (perc[1,:] - perc[0,:]) / 4\n",
    "            pred = bn.nanmean(pred, axis=0)\n",
    "        \n",
    "        print(pred.shape, perc.shape)\n",
    "        \n",
    "        mod_row = pd.DataFrame({\n",
    "          'livestock_area_km': samples_test[mask][f'livestock_area_km'],\n",
    "          'predicted': pred,\n",
    "          'expected': samples_test[mask][f'{animal}_density'],\n",
    "          'predicted_p025': perc[0,:],\n",
    "          'predicted_p975': perc[1,:],\n",
    "          'predicted_lower': pred - std,\n",
    "          'predicted_upper': pred + std,\n",
    "          'weight': 1,\n",
    "          'source': samples_test[mask]['source'],\n",
    "          'gazName': samples_test[mask]['gazName'],\n",
    "          'year': samples_test[mask]['year'],\n",
    "          'model': f'{mod}{s}',\n",
    "          'animal': animal\n",
    "          #,'area_km2': samples_test[mask]['area_km2'] #gpd.GeoSeries(samples_test[mask]['geometry']).to_crs('+proj=igh +lon_0=0 +x_0=0 +y_0=0 +datum=WGS84 +units=m +no_defs +type=crs').area / 1e6\n",
    "        })\n",
    "\n",
    "        livestock_test.append(mod_row)\n",
    "    \n",
    "livestock_test = pd.concat(livestock_test)"
   ]
  },
  {
   "cell_type": "code",
   "execution_count": null,
   "id": "247435b9-cabd-4aea-8bf0-fcfe4fc0f31a",
   "metadata": {
    "tags": []
   },
   "outputs": [],
   "source": [
    "livestock_test['rf_inside_pr'] = np.logical_and.reduce([\n",
    "    livestock_test['predicted_lower'] < livestock_test['expected'],\n",
    "    livestock_test['predicted_upper'] > livestock_test['expected'],\n",
    "])"
   ]
  },
  {
   "cell_type": "code",
   "execution_count": null,
   "id": "73865cbe-5ba1-45d1-a304-f1cd0a2b9a23",
   "metadata": {
    "tags": []
   },
   "outputs": [],
   "source": [
    "livestock_test[np.logical_not(livestock_test['rf_inside_pr'])]"
   ]
  },
  {
   "cell_type": "code",
   "execution_count": null,
   "id": "919f4bdf-6d51-4afc-82b9-8671f16ae237",
   "metadata": {
    "tags": []
   },
   "outputs": [],
   "source": [
    "livestock_test"
   ]
  },
  {
   "cell_type": "code",
   "execution_count": null,
   "id": "5c85b3af-1d3b-4a5c-84cc-8aac145c9397",
   "metadata": {
    "tags": []
   },
   "outputs": [],
   "source": [
    "livestock_test[['rf_inside_pr','animal']].rename(columns={\n",
    "    'animal': 'Animals',\n",
    "    'rf_inside_pr': 'RF'\n",
    "}).groupby('Animals').mean().sort_values('RF').plot(kind='barh', xlabel=\"Prediction Interval Coverage Probability (PICP)\", xlim=(0, 1)).legend(loc='best', bbox_to_anchor=(1, 1))"
   ]
  },
  {
   "cell_type": "markdown",
   "id": "178eaa52-5af4-46c0-a3ba-33cfdca57e1f",
   "metadata": {
    "tags": []
   },
   "source": [
    "### Temporal validation"
   ]
  },
  {
   "cell_type": "code",
   "execution_count": null,
   "id": "35cde050-3257-487f-82fe-80d387681863",
   "metadata": {
    "tags": []
   },
   "outputs": [],
   "source": [
    "for (year,animal), rows in livestock_test.groupby(['year', 'animal']):\n",
    "    pred_label, expe_label = 'predicted', 'expected'\n",
    "    rmse = mean_squared_error(rows[expe_label], rows[pred_label], squared=False)\n",
    "    print(animal, year, rmse)"
   ]
  },
  {
   "cell_type": "markdown",
   "id": "5c77b2ff-cc1e-4050-bb1e-0c76ac00daf1",
   "metadata": {
    "tags": []
   },
   "source": [
    "## Accuracy plots"
   ]
  },
  {
   "cell_type": "code",
   "execution_count": null,
   "id": "99d7c651-e4f9-4206-82a3-b1c255ed1217",
   "metadata": {},
   "outputs": [],
   "source": [
    "from sklearn.metrics import r2_score, mean_squared_error\n",
    "from sklearn.metrics import mean_absolute_error\n",
    "from matplotlib import colors\n",
    "import math\n",
    "\n",
    "import math\n",
    "import seaborn as sns\n",
    "import matplotlib.pyplot as plt"
   ]
  },
  {
   "cell_type": "code",
   "execution_count": null,
   "id": "6a0ec0e3-d0f6-42a9-b78d-81b6810e0436",
   "metadata": {
    "tags": []
   },
   "outputs": [],
   "source": [
    "from sklearn.metrics import r2_score, mean_squared_error\n",
    "from sklearn.metrics import mean_absolute_error\n",
    "from matplotlib.ticker import LogFormatterExponent\n",
    "from matplotlib import colors\n",
    "import math\n",
    "\n",
    "def plot_hexbin(livestock_rows_df, model, animals, pos, title, n_col_rows, figsize=(10,8)):\n",
    "\n",
    "    fontsize = 14\n",
    "\n",
    "    plt.rc('font', size=fontsize)          # controls default text sizes\n",
    "    plt.rc('axes', titlesize=fontsize)     # fontsize of the axes title\n",
    "    plt.rc('axes', labelsize=fontsize)    # fontsize of the x and y labels\n",
    "    plt.rc('xtick', labelsize=fontsize)    # fontsize of the tick labels\n",
    "    plt.rc('ytick', labelsize=fontsize)    # fontsize of the tick labels\n",
    "    plt.rc('legend', fontsize=fontsize)    # legend fontsize\n",
    "    plt.rc('figure', titlesize=fontsize)  # fontsize of the figure title\n",
    "    \n",
    "    fig, axs = plt.subplots(ncols=n_col_rows[0], nrows=n_col_rows[1], figsize=figsize)\n",
    "    #fig.suptitle(title)\n",
    "    plt.tight_layout(pad=3, h_pad=4)\n",
    "\n",
    "    for (animal,p) in zip(animals, pos):\n",
    "        \n",
    "        pred_label = f'Predicted density (heads per km2)'\n",
    "        expe_label = f'Observed density (heads per km2)'\n",
    "        \n",
    "        col_remap = {}\n",
    "        col_remap['predicted'] = pred_label\n",
    "        col_remap['expected'] = expe_label\n",
    "        \n",
    "        livestock_rows_hexbin = livestock_rows_df[\n",
    "            np.logical_and.reduce([\n",
    "                livestock_rows_df['model'] == model,\n",
    "                livestock_rows_df['animal'] == animal,\n",
    "                livestock_rows_df['livestock_area_km'] > 0,\n",
    "                livestock_rows_df['expected'] > 0,\n",
    "                livestock_rows_df['predicted'] > 0,\n",
    "                #livestock_rows_df['expected_density'] > 1\n",
    "                #livestock_rows_df['source'].isin(['GPW']),\n",
    "                #livestock_rows_df['source'].isin(['Malek et al., 2024']),\n",
    "            ])\n",
    "        ].rename(columns=col_remap)[[expe_label,pred_label]]\n",
    "\n",
    "        max_log = math.ceil(np.max(np.log10(livestock_rows_hexbin.to_numpy())))\n",
    "        print(max_log)\n",
    "\n",
    "        d2 = d2_tweedie_score(livestock_rows_hexbin[expe_label], livestock_rows_hexbin[pred_label], power=1)\n",
    "        nrmse = NormRootMeanSqrtErr(livestock_rows_hexbin[expe_label], livestock_rows_hexbin[pred_label], 'sd')\n",
    "        rmse = mean_squared_error(livestock_rows_hexbin[expe_label], livestock_rows_hexbin[pred_label], squared=False)\n",
    "        ccc = concordance_correlation_coefficient(livestock_rows_hexbin[expe_label], livestock_rows_hexbin[pred_label], \n",
    "                                            np.ones(livestock_rows_hexbin.shape[0]))\n",
    "        r2 = r2_score(livestock_rows_hexbin[expe_label], livestock_rows_hexbin[pred_label])\n",
    "        stats=f'D2={d2:.3f}\\nR2={r2:.3f}\\nCCC={ccc:.3f}\\nRMSE={rmse:.2f}\\nNRMSE={nrmse:.2f}'\n",
    "\n",
    "        livestock_rows_hexbin.plot.hexbin(x=pred_label, y=expe_label, mincnt=1, gridsize=48,  cmap=\"copper_r\", \n",
    "                                               yscale='log', xscale='log', bins='log', extent=[-0.2,max_log,-0.2,max_log], ax=axs[p[0],p[1]])\n",
    "        axs[p[0],p[1]].set_title(f'{animal.capitalize()} model ({title})', fontweight='bold')\n",
    "        axs[p[0],p[1]].axline([0, 0], [1, 1], color='silver')\n",
    "        axs[p[0],p[1]].text(0.05, 0.95, stats, transform=axs[p[0],p[1]].transAxes, fontsize=11,\n",
    "            verticalalignment='top', bbox=dict(boxstyle='square,pad=.6',\n",
    "            facecolor=colors.to_rgba('white', alpha=0.8)))\n",
    "\n",
    "model, model_label = 'rf', 'Random Forest'\n",
    "title = f\"{model_label}\"\n",
    "animals = ['cattle', 'horse', 'goat', 'sheep']\n",
    "pos = [[0,0],[0,1],[1,0],[1,1]]\n",
    "        \n",
    "plot_hexbin(livestock_test, model, animals, pos, title, [2,2], figsize=(12,10))"
   ]
  },
  {
   "cell_type": "code",
   "execution_count": null,
   "id": "2d36f2f3-dc99-4268-b488-57d76afc6018",
   "metadata": {
    "tags": []
   },
   "outputs": [],
   "source": [
    "top10 = list(livestock_test.groupby('gazName').aggregate({'area_km2': 'first'}).sort_values('area_km2', ascending=False).head(10).reset_index()['gazName'])\n",
    "top10"
   ]
  },
  {
   "cell_type": "code",
   "execution_count": null,
   "id": "ecce3d92-e309-4c7c-9248-80787815c3f3",
   "metadata": {
    "tags": []
   },
   "outputs": [],
   "source": [
    "livestock_test[np.logical_and.reduce([\n",
    "    livestock_test['gazName'].isin(top10),\n",
    "    livestock_test['animal'] == 'cattle',\n",
    "    livestock_test['gazName'] == 'Algeria',\n",
    "])][['year','gazName','expected','predicted']].set_index('year').plot(kind='line')"
   ]
  },
  {
   "cell_type": "code",
   "execution_count": null,
   "id": "af1f0e3d-6752-4759-94af-9e50fff2cb0d",
   "metadata": {
    "tags": []
   },
   "outputs": [],
   "source": [
    "livestock_test.query(\"animal == 'sheep' & gazName == 'Netherlands'\")"
   ]
  },
  {
   "cell_type": "markdown",
   "id": "1ec5f148-f1ef-40a8-b4f9-97c5790e753e",
   "metadata": {
    "tags": []
   },
   "source": [
    "## Variable importance"
   ]
  },
  {
   "cell_type": "code",
   "execution_count": null,
   "id": "12dacc8c-f91d-4353-9fa4-37ed840254a8",
   "metadata": {
    "tags": []
   },
   "outputs": [],
   "source": [
    "import matplotlib.pyplot as plt \n",
    "import seaborn as sns\n",
    "sns.set_theme(style=\"whitegrid\", palette=\"deep\")\n",
    "sns.set_context(\"notebook\")"
   ]
  },
  {
   "cell_type": "code",
   "execution_count": null,
   "id": "9c58e4e1-7842-4515-968e-94cf130067ff",
   "metadata": {
    "tags": []
   },
   "outputs": [],
   "source": [
    "#set(sum([ list(models[f'{a}_rf']['rfe']) for a in animals ],[]))\n",
    "feat_labels = {\n",
    "\t'bare.rock_glc.gfz_p_1km_s_2015_2018_go_epsg4326_v20241017': 'Static bare rock (GLC/GFZ)',\n",
    "\t'bare.soil.sand_glc.gfz_p_1km_s_2015_2018_go_epsg4326_v20241017': 'Static bare sand (GLC/GFZ)',\n",
    "\t'bare.soil_mcd43a4.fc_m_500m_s_year0101_year1231_go_epsg.4326_v20240616': 'Annual bare soil fraction mean (MCD43A4)',\n",
    "\t'bare.soil_mcd43a4.fc_mx_500m_s_year0101_year1231_go_epsg.4326_v20240616': 'Annual bare soil fraction max. (MCD43A4)',\n",
    "\t'christianity.pct_world.religion_m_1km_s_20100101_20101231_go_epsg4326_v20241107': 'Christianity popuplation. pct. (World Religion Data)',\n",
    "\t'clm_accum.precipitation_chelsa.annual.log.csum_m_1km_s0..0cm_year_v2.1':  'Annual accumulated precipitation (CHELSA)',\n",
    "\t'clm_accum.precipitation_chelsa.annual_m_1km_s0..0cm_year_v2.1': 'Annual precipitation (CHELSA)',\n",
    "\t'clm_accum.precipitation_chelsa.montlhy_m_1km_s0..0cm_year.01.01..year.01.31_v2.1': 'Monthly precipitation - Jan. (CHELSA)',\n",
    "\t'clm_accum.precipitation_chelsa.montlhy_m_1km_s0..0cm_year.02.01..year.02.28_v2.1': 'Monthly precipitation - Feb. (CHELSA)',\n",
    "\t'clm_accum.precipitation_chelsa.montlhy_m_1km_s0..0cm_year.05.01..year.05.31_v2.1': 'Monthly precipitation - May. (CHELSA)',\n",
    "\t'clm_accum.precipitation_chelsa.montlhy_m_1km_s0..0cm_year.06.01..year.06.30_v2.1': 'Monthly precipitation - Jun. (CHELSA)',\n",
    "\t'clm_accum.precipitation_chelsa.montlhy_m_1km_s0..0cm_year.07.01..year.07.31_v2.1': 'Monthly precipitation - Jul. (CHELSA)',\n",
    "\t'clm_accum.precipitation_chelsa.montlhy_m_1km_s0..0cm_year.08.01..year.08.31_v2.1': 'Monthly precipitation - Aug. (CHELSA)',\n",
    "\t'clm_accum.precipitation_chelsa.montlhy_m_1km_s0..0cm_year.09.01..year.09.30_v2.1': 'Monthly precipitation - Sep. (CHELSA)',\n",
    "\t'clm_accum.precipitation_chelsa.montlhy_m_1km_s0..0cm_year.10.01..year.10.31_v2.1': 'Monthly precipitation - Oct. (CHELSA)',\n",
    "\t'clm_accum.precipitation_chelsa.montlhy_m_1km_s0..0cm_year.11.01..year.11.30_v2.1': 'Monthly precipitation - Nov. (CHELSA)',\n",
    "\t'clm_accum.precipitation_chelsa.montlhy_m_1km_s0..0cm_year.12.01..year.12.31_v2.1': 'Monthly precipitation - Dec. (CHELSA)',\n",
    "\t'clm_lst_max.geom.temp_m_30m_s_m1': 'Long-term geometric max. temperature - Jan. (Kilibarda et al., 2014)',\n",
    "\t'clm_lst_max.geom.temp_m_30m_s_m10': 'Long-term geometric max. temperature - Oct. (Kilibarda et al., 2014)',\n",
    "\t'clm_lst_max.geom.temp_m_30m_s_m11': 'Long-term geometric max. temperature - Nov. (Kilibarda et al., 2014)',\n",
    "\t'clm_lst_max.geom.temp_m_30m_s_m12': 'Long-term geometric max. temperature - Dec. (Kilibarda et al., 2014)',\n",
    "\t'clm_lst_max.geom.temp_m_30m_s_m2': 'Long-term geometric max. temperature - Feb. (Kilibarda et al., 2014)',\n",
    "\t'clm_lst_max.geom.temp_m_30m_s_m3': 'Long-term geometric max. temperature - Mar. (Kilibarda et al., 2014)',\n",
    "\t'clm_lst_max.geom.temp_m_30m_s_m5': 'Long-term geometric max. temperature - May. (Kilibarda et al., 2014)',\n",
    "\t'clm_lst_max.geom.temp_m_30m_s_m6': 'Long-term geometric max. temperature - Jun. (Kilibarda et al., 2014)',\n",
    "\t'clm_lst_max.geom.temp_m_30m_s_m7': 'Long-term geometric max. temperature - Jul. (Kilibarda et al., 2014)',\n",
    "\t'clm_lst_max.geom.temp_m_30m_s_m8': 'Long-term geometric max. temperature - Aug. (Kilibarda et al., 2014)',\n",
    "\t'clm_lst_max.geom.temp_m_30m_s_m9': 'Long-term geometric max. temperature - Sep. (Kilibarda et al., 2014)',\n",
    "\t'clm_lst_min.geom.temp_m_30m_s_m1': 'Long-term geometric min. temperature - Jan. (Kilibarda et al., 2014)',\n",
    "\t'clm_lst_min.geom.temp_m_30m_s_m10': 'Long-term geometric min. temperature - Oct. (Kilibarda et al., 2014)',\n",
    "\t'clm_lst_min.geom.temp_m_30m_s_m11': 'Long-term geometric min. temperature - Nov. (Kilibarda et al., 2014)',\n",
    "\t'clm_lst_min.geom.temp_m_30m_s_m2': 'Long-term geometric min. temperature - Feb. (Kilibarda et al., 2014)',\n",
    "\t'clm_lst_min.geom.temp_m_30m_s_m3': 'Long-term geometric min. temperature - Mar. (Kilibarda et al., 2014)',\n",
    "\t'clm_lst_min.geom.temp_m_30m_s_m4': 'Long-term geometric min. temperature - Apr. (Kilibarda et al., 2014)',\n",
    "\t'clm_lst_min.geom.temp_m_30m_s_m5': 'Long-term geometric min. temperature - May. (Kilibarda et al., 2014)',\n",
    "\t'clm_lst_min.geom.temp_m_30m_s_m6': 'Long-term geometric min. temperature - Jun. (Kilibarda et al., 2014)',\n",
    "\t'clm_lst_min.geom.temp_m_30m_s_m7': 'Long-term geometric min. temperature - Jul. (Kilibarda et al., 2014)',\n",
    "\t'clm_lst_min.geom.temp_m_30m_s_m8': 'Long-term geometric min. temperature - Aug. (Kilibarda et al., 2014)',\n",
    "\t'clm_lst_min.geom.temp_m_30m_s_m9': 'Long-term geometric min. temperature - Sep. (Kilibarda et al., 2014)',\n",
    "\t'clm_lst_mod11a2.daytime.trend_p50_1km_s0..0cm_year.01.01..year.01.31_v1.2': 'Monthly day-time land surf. temp. trend - Jan. (MOD11A2)',\n",
    "\t'clm_lst_mod11a2.daytime.trend_p50_1km_s0..0cm_year.02.01..year.02.28_v1.2': 'Monthly day-time land surf. temp. trend - Feb. (MOD11A2)',\n",
    "\t'clm_lst_mod11a2.daytime.trend_p50_1km_s0..0cm_year.03.01..year.03.31_v1.2': 'Monthly day-time land surf. temp. trend - Mar. (MOD11A2)',\n",
    "\t'clm_lst_mod11a2.daytime.trend_p50_1km_s0..0cm_year.07.01..year.07.31_v1.2': 'Monthly day-time land surf. temp. trend - Jul. (MOD11A2)',\n",
    "\t'clm_lst_mod11a2.daytime.trend_p50_1km_s0..0cm_year.09.01..year.09.30_v1.2': 'Monthly day-time land surf. temp. trend - Sep. (MOD11A2)',\n",
    "\t'clm_lst_mod11a2.daytime.trend_p50_1km_s0..0cm_year.12.01..year.12.31_v1.2': 'Monthly day-time land surf. temp. trend - Dec. (MOD11A2)',\n",
    "\t'clm_lst_mod11a2.daytime_p50_1km_s0..0cm_year.04.01..year.04.30_v1.2': 'Monthly day-time land surf. temp. - Apr. (MOD11A2)',\n",
    "\t'clm_lst_mod11a2.daytime_p50_1km_s0..0cm_year.05.01..year.05.31_v1.2': 'Monthly day-time land surf. temp. - May (MOD11A2)',\n",
    "\t'clm_lst_mod11a2.daytime_p50_1km_s0..0cm_year.06.01..year.06.30_v1.2': 'Monthly day-time land surf. temp. - Jun. (MOD11A2)',\n",
    "\t'clm_lst_mod11a2.daytime_p50_1km_s0..0cm_year.07.01..year.07.31_v1.2': 'Monthly day-time land surf. temp. - Jul. (MOD11A2)',\n",
    "\t'clm_lst_mod11a2.daytime_p50_1km_s0..0cm_year.08.01..year.08.31_v1.2': 'Monthly day-time land surf. temp. - Aug. (MOD11A2)',\n",
    "\t'clm_lst_mod11a2.daytime_p50_1km_s0..0cm_year.09.01..year.09.30_v1.2': 'Monthly day-time land surf. temp. - Sep. (MOD11A2)',\n",
    "\t'clm_lst_mod11a2.daytime_p50_1km_s0..0cm_year.10.01..year.10.31_v1.2': 'Monthly day-time land surf. temp. - Oct. (MOD11A2)',\n",
    "\t'clm_lst_mod11a2.daytime_p50_1km_s0..0cm_year.11.01..year.11.30_v1.2': 'Monthly day-time land surf. temp. - Nov. (MOD11A2)',\n",
    "\t'clm_lst_mod11a2.daytime_p50_1km_s0..0cm_year.12.01..year.12.31_v1.2': 'Monthly day-time land surf. temp. - Dec. (MOD11A2)',\n",
    "\t'clm_lst_mod11a2.nighttime.trend_p50_1km_s0..0cm_year.01.01..year.01.31_v1.2': 'Monthly night-time land surf. temp. trend - Jan. (MOD11A2)',\n",
    "\t'clm_lst_mod11a2.nighttime.trend_p50_1km_s0..0cm_year.02.01..year.02.28_v1.2': 'Monthly night-time land surf. temp. trend - Feb. (MOD11A2)',\n",
    "\t'clm_lst_mod11a2.nighttime.trend_p50_1km_s0..0cm_year.04.01..year.04.30_v1.2': 'Monthly night-time land surf. temp. trend - Apr. (MOD11A2)',\n",
    "\t'clm_lst_mod11a2.nighttime.trend_p50_1km_s0..0cm_year.07.01..year.07.31_v1.2': 'Monthly night-time land surf. temp. trend - Jul. (MOD11A2)',\n",
    "\t'clm_lst_mod11a2.nighttime.trend_p50_1km_s0..0cm_year.10.01..year.10.31_v1.2': 'Monthly night-time land surf. temp. trend - Oct. (MOD11A2)',\n",
    "\t'clm_lst_mod11a2.nighttime.trend_p50_1km_s0..0cm_year.11.01..year.11.30_v1.2': 'Monthly night-time land surf. temp. trend - Nov. (MOD11A2)',\n",
    "\t'clm_lst_mod11a2.nighttime.trend_p50_1km_s0..0cm_year.12.01..year.12.31_v1.2': 'Monthly night-time land surf. temp. trend - Dec. (MOD11A2)',\n",
    "\t'clm_lst_mod11a2.nighttime_p50_1km_s0..0cm_year.01.01..year.01.31_v1.2': 'Monthly night-time land surf. temp. - Jan. (MOD11A2)',\n",
    "\t'clm_lst_mod11a2.nighttime_p50_1km_s0..0cm_year.02.01..year.02.28_v1.2': 'Monthly night-time land surf. temp. - Feb. (MOD11A2)',\n",
    "\t'clm_lst_mod11a2.nighttime_p50_1km_s0..0cm_year.07.01..year.07.31_v1.2': 'Monthly night-time land surf. temp. - Jul. (MOD11A2)',\n",
    "\t'clm_lst_mod11a2.nighttime_p50_1km_s0..0cm_year.08.01..year.08.31_v1.2': 'Monthly night-time land surf. temp. - Aug. (MOD11A2)',\n",
    "\t'clm_lst_mod11a2.nighttime_p50_1km_s0..0cm_year.09.01..year.09.30_v1.2': 'Monthly night-time land surf. temp. - Sep. (MOD11A2)',\n",
    "\t'clm_lst_mod11a2.nighttime_p50_1km_s0..0cm_year.10.01..year.10.31_v1.2': 'Monthly night-time land surf. temp. - Oct. (MOD11A2)',\n",
    "\t'clm_lst_mod11a2.nighttime_p50_1km_s0..0cm_year.11.01..year.11.30_v1.2': 'Monthly night-time land surf. temp. - Nov. (MOD11A2)',\n",
    "\t'clm_lst_mod11a2.nighttime_p50_1km_s0..0cm_year.12.01..year.12.31_v1.2': 'Monthly night-time land surf. temp. - Dec. (MOD11A2)',\n",
    "\t'clm_lst_mod11a2.nighttime_p50_1km_s0..0cm_year_v1.2': 'Annual night-time land surf. temp. (MOD11A2)',\n",
    "\t'easterness_edtm_m_240m_s_20000101_20221231_go_epsg.4326_v20240528': \"Static easterness (EDTM)\",\n",
    "\t'filtered.dtm_edtm_m_240m_s_20000101_20221231_go_epsg.4326_v20240528': \"Static elevation (EDTM)\",\n",
    "\t'flow.accum_edtm_m_240m_s_20000101_20221231_go_epsg.4326_v20240528': \"Static flow accumulation (EDTM)\",\n",
    "\t'forest.cover_esa.cci_p_1km_s_year0101_year1231_go_epsg4326_v20241017': \"Annual fraction of forest cover (ESA/CCI)\",\n",
    "\t'gdp.per.capita.nat_sdata.kummu.2018_m_10km_s_year0101_year1231_go_epsg4326_v20241107': \"Annual national GDP per capita (Kummu et al., 2018)\",\n",
    "\t'gdp.per.capita_sdata.kummu.2018_m_10km_s_year0101_year1231_go_epsg4326_v20241107': \"Annual sub-national GDP per capita (Kummu et al., 2018)\",\n",
    "\t'geomorphon_edtm_m_240m_s_20000101_20221231_go_epsg.4326_v20240528': \"Static terrain form (EDTM)\",\n",
    "\t'hdi_sdata.kummu.2018_m_10km_s_year0101_year1231_go_epsg4326_v20241107': \"Annual Human Develop. Index (Kummu et al., 2018)\",\n",
    "\t'hillshade_edtm_m_240m_s_20000101_20221231_go_epsg.4326_v20240528': \"Static hillshade (EDTM)\",\n",
    "\t'islam.pct_world.religion_m_1km_s_20100101_20101231_go_epsg4326_v20241107': 'Islamic population pct. (World Religion Data)',\n",
    "\t'judaism.pct_world.religion_m_1km_s_20100101_20101231_go_epsg4326_v20241107': 'Judaism population pct. (World Religion Data)',\n",
    "\t'lcv_accessibility.to.cities_map.ox.var10_m_1km_s0..0cm_2015_v14052019': 'Travel time to near. city (20k to 110 mi. pop., Nelson et al., 2019)',\n",
    "    'lcv_accessibility.to.cities_map.ox.var11_m_1km_s0..0cm_2015_v14052019': 'Travel time to near. city (50k to 50 mi. pop., Nelson et al., 2019)',\n",
    "    'lcv_accessibility.to.cities_map.ox.var12_m_1km_s0..0cm_2015_v14052019': 'Travel time to near. city (5k to 110 mi. pop., Nelson et al., 2019)',\n",
    "    'lcv_accessibility.to.cities_map.ox.var1_m_1km_s0..0cm_2015_v14052019': 'Travel time to near. city (5—50 mi. pop., Nelson et al., 2019)',\n",
    "    'lcv_accessibility.to.cities_map.ox.var2_m_1km_s0..0cm_2015_v14052019': 'Travel time to near. city (1—5 mi. pop - Nelson et al., 2019)',\n",
    "    'lcv_accessibility.to.cities_map.ox.var3_m_1km_s0..0cm_2015_v14052019': 'Travel time to near. city (500—1000k pop., Nelson et al., 2019)',\n",
    "    'lcv_accessibility.to.cities_map.ox.var4_m_1km_s0..0cm_2015_v14052019': 'Travel time to near. city (200—500k pop., Nelson et al., 2019)',\n",
    "    'lcv_accessibility.to.cities_map.ox.var5_m_1km_s0..0cm_2015_v14052019': 'Travel time to near. city (100—200k pop., Nelson et al., 2019)',\n",
    "    'lcv_accessibility.to.cities_map.ox.var6_m_1km_s0..0cm_2015_v14052019': 'Travel time to near. city (50—100k pop., Nelson et al., 2019)',\n",
    "    'lcv_accessibility.to.cities_map.ox.var7_m_1km_s0..0cm_2015_v14052019': 'Travel time to near. city (20—50k pop., Nelson et al., 2019)',\n",
    "    'lcv_accessibility.to.cities_map.ox.var8_m_1km_s0..0cm_2015_v14052019': 'Travel time to near. city (10—20k pop., Nelson et al., 2019)',\n",
    "    'lcv_accessibility.to.cities_map.ox.var9_m_1km_s0..0cm_2015_v14052019': 'Travel time to near. city (5—10k pop., Nelson et al., 2019)',\n",
    "\t'lcv_accessibility.to.ports_map.ox.var1_m_1km_s0..0cm_2015_v14052019': 'Travel time to near. large port (Nelson et al. 2019)',\n",
    "    'lcv_accessibility.to.ports_map.ox.var2_m_1km_s0..0cm_2015_v14052019': 'Travel time to near. medium port (Nelson et al. 2019)',\n",
    "    'lcv_accessibility.to.ports_map.ox.var3_m_1km_s0..0cm_2015_v14052019': 'Travel time to near. small port (Nelson et al. 2019)',\n",
    "    'lcv_accessibility.to.ports_map.ox.var4_m_1km_s0..0cm_2015_v14052019': 'Travel time to near. very small port (Nelson et al. 2019)',\n",
    "    'lcv_accessibility.to.ports_map.ox.var5_m_1km_s0..0cm_2015_v14052019': 'Travel time to near. any port (Nelson et al. 2019)',\n",
    "\t'lcv_water.occurance_jrc.surfacewater_p_250m_b0..200cm_1984..2018_v1.1': 'Long-term water occur. (JRC Global Surface Water)',\n",
    "\t'lcv_water.permanent_probav.lc100_p_250m_s0..0cm_2017_v1.0': 'Static permanent water (PROBAV water)',\n",
    "\t'lcv_wetlands.groundwater-driven_upmc.wtd_p_250m_b0..200cm_2010..2015_v1.0': 'Long-term groundwater-driven wetlands (Tootchi et al.,2019)',\n",
    "\t'lcv_wetlands.permanent_upmc.wtd_p_250m_b0..200cm_2010..2015_v1.0': 'Long-term permanent wetlands (Tootchi et al.,2019)',\n",
    "\t'lcv_wetlands.regularly-flooded_upmc.wtd_p_250m_b0..200cm_2010..2015_v1.0': 'Long-term regur. flooded wetlands (Tootchi et al.,2019)',\n",
    "\t'lf.bslope_edtm_m_240m_s_20000101_20221231_go_epsg.4326_v20240528': 'Landform backslope (EDTM)',\n",
    "\t'neg.openness_edtm_m_240m_s_20000101_20221231_go_epsg.4326_v20240528': 'Negative openness (EDTM)',\n",
    "\t'northerness_edtm_m_240m_s_20000101_20221231_go_epsg.4326_v20240528': 'Northerness (EDTM)',\n",
    "\t'nosink_edtm_m_240m_s_20000101_20221231_go_epsg.4326_v20240528': 'Nosink (EDTM)',\n",
    "\t'other.religions.pct_world.religion_m_1km_s_20100101_20101231_go_epsg4326_v20241107': 'Other religions population pct. (World Religion Data)',\n",
    "\t'pos.openness_edtm_m_240m_s_20000101_20221231_go_epsg.4326_v20240528': 'Positive openness (EDTM)',\n",
    "\t'rural.pop.dist_worldpop_m_1km_year0101_year1231_go_epsg4326_v20241129': 'Distance from rural population (WorldPop/GHS-SMOD)',\n",
    "\t'slope_edtm_m_240m_s_20000101_20221231_go_epsg.4326_v20240528': 'Slope (EDTM)',\n",
    "\t'spec.catch.area.factor_edtm_m_240m_s_20000101_20221231_go_epsg.4326_v20240528': 'Catchment area (EDTM)',\n",
    "\t'surface.water.fraction_dlr.gwp.annual_m_1km_s_year0101_year1231_go_epsg4326_v20241028': \"Annual faction of surface water (Global WaterPack)\",\n",
    "\t'surface.water.fraction_dlr.gwp.long.term_m_1km_s_20030101_20221231_go_epsg4326_v20241017': \"Long-term faction of surface water (Global WaterPack)\",\n",
    "\t'veg_blue_mod13q1.v061_p50_250m_s0..0cm_year.01.01..year.01.31_v1': 'Monthly blue reflectance - Jan. (MOD13Q1)',\n",
    "\t'veg_blue_mod13q1.v061_p50_250m_s0..0cm_year.03.01..year.03.31_v1': 'Monthly blue reflectance - Mar. (MOD13Q1)',\n",
    "\t'veg_blue_mod13q1.v061_p50_250m_s0..0cm_year.04.01..year.04.30_v1': 'Monthly blue reflectance - Apr. (MOD13Q1)',\n",
    "\t'veg_blue_mod13q1.v061_p50_250m_s0..0cm_year.05.01..year.05.31_v1': 'Monthly blue reflectance - May (MOD13Q1)',\n",
    "\t'veg_blue_mod13q1.v061_p50_250m_s0..0cm_year.06.01..year.06.30_v1': 'Monthly blue reflectance - Jun. (MOD13Q1)',\n",
    "\t'veg_blue_mod13q1.v061_p50_250m_s0..0cm_year.07.01..year.07.31_v1': 'Monthly blue reflectance - Jul. (MOD13Q1)',\n",
    "\t'veg_blue_mod13q1.v061_p50_250m_s0..0cm_year.12.01..year.12.31_v1': 'Monthly blue reflectance - Dec. (MOD13Q1)',\n",
    "\t'veg_blue_mod13q1.v061_p50_250m_s0..0cm_year_v1': 'Annual blue reflectance (MOD13Q1)',\n",
    "\t'veg_mir_mod13q1.v061_p50_250m_s0..0cm_year.02.01..year.02.28_v1': 'Monthly MIR reflectance - Feb. (MOD13Q1)',\n",
    "\t'veg_mir_mod13q1.v061_p50_250m_s0..0cm_year.03.01..year.03.31_v1': 'Monthly MIR reflectance - Mar. (MOD13Q1)',\n",
    "\t'veg_mir_mod13q1.v061_p50_250m_s0..0cm_year.04.01..year.04.30_v1': 'Monthly MIR reflectance - Apr. (MOD13Q1)',\n",
    "\t'veg_mir_mod13q1.v061_p50_250m_s0..0cm_year.05.01..year.05.31_v1': 'Monthly MIR reflectance - May (MOD13Q1)',\n",
    "\t'veg_mir_mod13q1.v061_p50_250m_s0..0cm_year.10.01..year.10.31_v1': 'Monthly MIR reflectance - Oct. (MOD13Q1)',\n",
    "\t'veg_mir_mod13q1.v061_p50_250m_s0..0cm_year.11.01..year.11.30_v1': 'Monthly MIR reflectance - Nov. (MOD13Q1)',\n",
    "\t'veg_mir_mod13q1.v061_p50_250m_s0..0cm_year_v1': 'Annual MIR reflectance (MOD13Q1)',\n",
    "\t'veg_ndvi_mod13q1.v061.trend_p50_250m_s0..0cm_year.01.01..year.01.31_v1': 'Monthly vegetation index trend (NDVI) - Jan. (MOD13Q1)',\n",
    "\t'veg_ndvi_mod13q1.v061.trend_p50_250m_s0..0cm_year.02.01..year.02.28_v1': 'Monthly vegetation index trend (NDVI) - Feb. (MOD13Q1)',\n",
    "\t'veg_ndvi_mod13q1.v061.trend_p50_250m_s0..0cm_year.03.01..year.03.31_v1': 'Monthly vegetation index trend (NDVI) - Mar. (MOD13Q1)',\n",
    "\t'veg_ndvi_mod13q1.v061.trend_p50_250m_s0..0cm_year.05.01..year.05.31_v1': 'Monthly vegetation index trend (NDVI) - May (MOD13Q1)',\n",
    "\t'veg_ndvi_mod13q1.v061.trend_p50_250m_s0..0cm_year.07.01..year.07.31_v1': 'Monthly vegetation index trend (NDVI) - Jun. (MOD13Q1)',\n",
    "\t'veg_ndvi_mod13q1.v061.trend_p50_250m_s0..0cm_year.09.01..year.09.30_v1': 'Monthly vegetation index trend (NDVI) - Sep. (MOD13Q1)',\n",
    "\t'veg_ndvi_mod13q1.v061.trend_p50_250m_s0..0cm_year.10.01..year.10.31_v1': 'Monthly vegetation index trend (NDVI) - Oct. (MOD13Q1)',\n",
    "\t'veg_ndvi_mod13q1.v061.trend_p50_250m_s0..0cm_year.12.01..year.12.31_v1': 'Monthly vegetation index trend (NDVI) - Dec. (MOD13Q1)',\n",
    "\t'veg_ndvi_mod13q1.v061_p50_250m_s0..0cm_year.05.01..year.05.31_v1': 'Annual vegetation index (NDVI) - Jan. (MOD13Q1)',\n",
    "\t'veg_nir_mod13q1.v061_p50_250m_s0..0cm_year.01.01..year.01.31_v1': 'Monthly NIR reflectance - Jan. (MOD13Q1)',\n",
    "\t'veg_nir_mod13q1.v061_p50_250m_s0..0cm_year.02.01..year.02.28_v1': 'Monthly NIR reflectance - Feb. (MOD13Q1)',\n",
    "\t'veg_nir_mod13q1.v061_p50_250m_s0..0cm_year.03.01..year.03.31_v1': 'Monthly NIR reflectance - Mar. (MOD13Q1)',\n",
    "\t'veg_nir_mod13q1.v061_p50_250m_s0..0cm_year.04.01..year.04.30_v1': 'Monthly NIR reflectance - Apr. (MOD13Q1)',\n",
    "\t'veg_nir_mod13q1.v061_p50_250m_s0..0cm_year.05.01..year.05.31_v1': 'Monthly NIR reflectance - May. (MOD13Q1)',\n",
    "\t'veg_nir_mod13q1.v061_p50_250m_s0..0cm_year.06.01..year.06.30_v1': 'Monthly NIR reflectance - Jun. (MOD13Q1)',\n",
    "\t'veg_nir_mod13q1.v061_p50_250m_s0..0cm_year.07.01..year.07.31_v1': 'Monthly NIR reflectance - Jul. (MOD13Q1)',\n",
    "\t'veg_nir_mod13q1.v061_p50_250m_s0..0cm_year.08.01..year.08.31_v1': 'Monthly NIR reflectance - Aug. (MOD13Q1)',\n",
    "\t'veg_nir_mod13q1.v061_p50_250m_s0..0cm_year.09.01..year.09.30_v1': 'Monthly NIR reflectance - Sep. (MOD13Q1)',\n",
    "\t'veg_nir_mod13q1.v061_p50_250m_s0..0cm_year.10.01..year.10.31_v1': 'Monthly NIR reflectance - Oct. (MOD13Q1)',\n",
    "\t'veg_nir_mod13q1.v061_p50_250m_s0..0cm_year.11.01..year.11.30_v1': 'Monthly NIR reflectance - Nov. (MOD13Q1)',\n",
    "\t'veg_nir_mod13q1.v061_p50_250m_s0..0cm_year.12.01..year.12.31_v1': 'Monthly NIR reflectance - Dec. (MOD13Q1)',\n",
    "\t'veg_nir_mod13q1.v061_p50_250m_s0..0cm_year_v1': 'Annual NIR reflectance (MOD13Q1)',\n",
    "\t'veg_red_mod13q1.v061_p50_250m_s0..0cm_year.01.01..year.01.31_v1': 'Monthly red reflectance - Jan. (MOD13Q1)',\n",
    "\t'veg_red_mod13q1.v061_p50_250m_s0..0cm_year.02.01..year.02.28_v1': 'Monthly red reflectance - Feb. (MOD13Q1)',\n",
    "\t'veg_red_mod13q1.v061_p50_250m_s0..0cm_year.03.01..year.03.31_v1': 'Monthly red reflectance - Mar. (MOD13Q1)',\n",
    "\t'veg_red_mod13q1.v061_p50_250m_s0..0cm_year.04.01..year.04.30_v1': 'Monthly red reflectance - Apr. (MOD13Q1)',\n",
    "\t'veg_red_mod13q1.v061_p50_250m_s0..0cm_year.05.01..year.05.31_v1': 'Monthly red reflectance - May (MOD13Q1)',\n",
    "\t'veg_red_mod13q1.v061_p50_250m_s0..0cm_year.08.01..year.08.31_v1': 'Monthly red reflectance - Aug. (MOD13Q1)',\n",
    "\t'veg_red_mod13q1.v061_p50_250m_s0..0cm_year.09.01..year.09.30_v1': 'Monthly red reflectance - Sep. (MOD13Q1)',\n",
    "\t'veg_red_mod13q1.v061_p50_250m_s0..0cm_year.11.01..year.11.30_v1': 'Monthly red reflectance - Nov. (MOD13Q1)',\n",
    "\t'veg_red_mod13q1.v061_p50_250m_s0..0cm_year.12.01..year.12.31_v1': 'Monthly red reflectance - Dec. (MOD13Q1)',\n",
    "\t'wilderness_li2022.human.footprint_p_1km_s_year0101_year1231_go_epsg.4326_v16022022': 'Annual wilderness, Human Footprint (Mu et al., 2022)',\n",
    "\t'wv_mcd19a2v061.seasconv.m.yearly_p25_1km_s_year0101_year1231_go_epsg.4326_v20230619': 'Annual water vapor - 25th perc. (MCD19A2)',\n",
    "\t'wv_mcd19a2v061.seasconv.m.yearly_p75_1km_s_year0101_year1231_go_epsg.4326_v20230619': 'Annual water vapor - 75th perc. (MCD19A2)',\n",
    "\t'wv_mcd19a2v061.seasconv.m.yearly_sd_1km_s_year0101_year1231_go_epsg.4326_v20230619': 'Annual water vapor - std. (MCD19A2)',\n",
    "\t'wv_mcd19a2v061.seasconv.sd.yearly_p25_1km_s_year0101_year1231_go_epsg.4326_v20230619': 'Annual std. water vapor - 25th perc. (MCD19A2)',\n",
    "\t'wv_mcd19a2v061.seasconv.sd.yearly_p50_1km_s_year0101_year1231_go_epsg.4326_v20230619': 'Annual std. water vapor - 50th perc. (MCD19A2)',\n",
    "\t'wv_mcd19a2v061.seasconv.sd.yearly_p75_1km_s_year0101_year1231_go_epsg.4326_v20230619': 'Annual std. water vapor - 75th perc. (MCD19A2)',\n",
    "\t'wv_mcd19a2v061.seasconv.sd.yearly_sd_1km_s_year0101_year1231_go_epsg.4326_v20230619': 'Annual std. water vapor - std (MCD19A2)',\n",
    "\t'wv_mcd19a2v061.seasconv_m_1km_s_year0101_year0131_go_epsg.4326_v20230619': 'Monthly water vapor - Jan. (MCD19A2)',\n",
    "\t'wv_mcd19a2v061.seasconv_m_1km_s_year0701_year0731_go_epsg.4326_v20230619': 'Monthly water vapor - Jul. (MCD19A2)',\n",
    "\t'wv_mcd19a2v061.seasconv_m_1km_s_year0801_year0831_go_epsg.4326_v20230619': 'Monthly water vapor - Aug. (MCD19A2)',\n",
    "\t'wv_mcd19a2v061.seasconv_m_1km_s_year1001_year1031_go_epsg.4326_v20230619': 'Monthly water vapor - Oct. (MCD19A2)',\n",
    "\t'wv_mcd19a2v061.seasconv_m_1km_s_year1101_year1130_go_epsg.4326_v20230619': 'Monthly water vapor - Nov. (MCD19A2)',\n",
    "\t'wv_mcd19a2v061.seasconv_m_1km_s_year1201_year1231_go_epsg.4326_v20230619': 'Monthly water vapor - Dec. (MCD19A2)'\n",
    "}"
   ]
  },
  {
   "cell_type": "code",
   "execution_count": null,
   "id": "889745bf-eb9f-435e-8e7e-527f22450f0f",
   "metadata": {
    "tags": []
   },
   "outputs": [],
   "source": [
    "def plot_var_imp(feature_cols, estimator, title, top_n = 20, figsize=(4,7), color = 'blue', model='rf'):\n",
    "    \n",
    "  if model == 'rf':\n",
    "      var_imp = pd.DataFrame({'name':feature_cols, 'importance': estimator.feature_importances_})\n",
    "  else:\n",
    "      var_imp = pd.DataFrame({'name':feature_cols, 'importance': estimator.booster_.feature_importance(importance_type='gain')})\n",
    "  \n",
    "  var_imp['importance'] = var_imp['importance'] / var_imp['importance'].sum()\n",
    "  var_imp.index = var_imp['name']\n",
    "  result = var_imp.sort_values('importance', ascending=False)[0:top_n].sort_values('importance').plot(kind = 'barh', ylabel=\"\", xlabel=\"Normalized importance\", figsize=figsize, title = title, color = color)\n",
    "  plt.title(title, fontweight='bold')\n",
    "  return result"
   ]
  },
  {
   "cell_type": "code",
   "execution_count": null,
   "id": "5c58d682-47f3-4cb0-bb30-34b8b33af91b",
   "metadata": {},
   "outputs": [],
   "source": [
    "max_log = math.ceil(np.max(np.log10(livestock_rows_hexbin.to_numpy())))\n",
    "print(max_log)\n",
    "\n",
    "livestock_rows_hexbin.plot.hexbin(x=pred_label, y=expe_label, mincnt=1, gridsize=48,  cmap=\"copper_r\", \n",
    "                                       yscale='log', xscale='log', bins='log', extent=[-0.2,max_log,-0.2,max_log], ax=axs[p[0],p[1]])"
   ]
  },
  {
   "cell_type": "markdown",
   "id": "ec175d6e-ab55-4eab-81ca-1c79a44f1956",
   "metadata": {},
   "source": [
    "### Partial Dependency Analysis (PDA)"
   ]
  },
  {
   "cell_type": "code",
   "execution_count": null,
   "id": "3d802989-ec8d-4ef6-9c70-10409c588919",
   "metadata": {
    "tags": []
   },
   "outputs": [],
   "source": [
    "animal = 'cattle'\n",
    "\n",
    "covs_rfe_rf = models[f'{animal}_rf']['rfe']\n",
    "samples_test = samples[np.logical_and.reduce([\n",
    "    samples[f'ind_{animal}'] == 1, \n",
    "    samples[f'{animal}_ml_type'] == 'testing'\n",
    "])]\n",
    "mask = (samples_test[f'{animal}_density'] <= max_density[animal])\n",
    "X = samples_test[mask][covs_rfe_rf]\n",
    "\n",
    "feature_cols = [ feat_labels[f].replace(' (',' \\n(') for f in models[f'{animal}_rf']['rfe'] ]\n",
    "estimator = models[f'{animal}_rf']['prod']\n",
    "var_imp = pd.DataFrame({'name':feature_cols, 'importance': estimator.feature_importances_})\n",
    "\n",
    "top_feat = list(var_imp.sort_values('importance', ascending=False).head(4)['name'])"
   ]
  },
  {
   "cell_type": "markdown",
   "id": "9e59257e-cf36-4b1f-8dac-0c1ffe6c3a11",
   "metadata": {},
   "source": [
    "### Partial Dep. plots"
   ]
  },
  {
   "cell_type": "code",
   "execution_count": null,
   "id": "8b5d8ced-5cb9-4109-bfc4-9a8937a2a361",
   "metadata": {
    "tags": []
   },
   "outputs": [],
   "source": [
    "animal = 'sheep'\n",
    "\n",
    "covs_rfe_rf = models[f'{animal}_rf']['rfe']\n",
    "samples_test = samples[np.logical_and.reduce([\n",
    "    samples[f'ind_{animal}'] == 1, \n",
    "    samples[f'{animal}_ml_type'] == 'testing'\n",
    "])]\n",
    "mask = (samples_test[f'{animal}_density'] <= max_density[animal])\n",
    "X = samples_test[mask][covs_rfe_rf]\n",
    "\n",
    "feature_cols = [ feat_labels[f].replace(' (',' \\n(') for f in models[f'{animal}_rf']['rfe'] ]\n",
    "estimator = models[f'{animal}_rf']['prod']\n",
    "var_imp = pd.DataFrame({'name':feature_cols, 'importance': estimator.feature_importances_})\n",
    "\n",
    "top_feat = list(var_imp.sort_values('importance', ascending=False).head(4)['name'])"
   ]
  },
  {
   "cell_type": "code",
   "execution_count": null,
   "id": "0bb0dbed-b280-4ef0-97e1-2082cc3929dc",
   "metadata": {
    "tags": []
   },
   "outputs": [],
   "source": [
    "# 'Annual fraction of forest cover (ESA/CCI)'\n",
    "# Monthly MIR reflectance - Oct. (MOD13Q1)\n",
    "\n",
    "fontsize = 14\n",
    "\n",
    "plt.rc('font', size=fontsize)          # controls default text sizes\n",
    "plt.rc('axes', titlesize=fontsize)     # fontsize of the axes title\n",
    "plt.rc('axes', labelsize=fontsize)    # fontsize of the x and y labels\n",
    "plt.rc('xtick', labelsize=fontsize)    # fontsize of the tick labels\n",
    "plt.rc('ytick', labelsize=fontsize)    # fontsize of the tick labels\n",
    "plt.rc('legend', fontsize=fontsize)    # legend fontsize\n",
    "plt.rc('figure', titlesize=fontsize)  # fontsize of the figure title\n",
    "\n",
    "title = f'{animal.capitalize()} model (Random Forest)'\n",
    "\n",
    "fig, ax = plt.subplots(figsize=(15, 4))\n",
    "plt.tight_layout()\n",
    "ax.set_title(title, fontweight='bold')\n",
    "\n",
    "pdd = PartialDependenceDisplay.from_estimator(models[f'{animal}_rf']['prod'], \n",
    "                                              X, \n",
    "                                              top_feat, \n",
    "                                              n_cols=4,\n",
    "                                              subsample=None, feature_names=feature_cols, ax=ax)\n",
    "fig.savefig(f\"{animal}_rf_pda_top4.pdf\", bbox_inches='tight')"
   ]
  },
  {
   "cell_type": "code",
   "execution_count": null,
   "id": "021e2046-da6d-41fb-8d92-051a7d3ca569",
   "metadata": {
    "tags": []
   },
   "outputs": [],
   "source": [
    "fontsize = 14\n",
    "\n",
    "plt.rc('font', size=fontsize)          # controls default text sizes\n",
    "plt.rc('axes', titlesize=fontsize)     # fontsize of the axes title\n",
    "plt.rc('axes', labelsize=fontsize)    # fontsize of the x and y labels\n",
    "plt.rc('xtick', labelsize=fontsize)    # fontsize of the tick labels\n",
    "plt.rc('ytick', labelsize=fontsize)    # fontsize of the tick labels\n",
    "plt.rc('legend', fontsize=fontsize)    # legend fontsize\n",
    "plt.rc('figure', titlesize=fontsize)  # fontsize of the figure title\n",
    "\n",
    "fig, axs = plt.subplots(ncols=2, nrows=2, figsize=(12,10))\n",
    "#fig.suptitle(title)\n",
    "#plt.tight_layout(pad=3, h_pad=4)\n",
    "pos = [[0,0],[0,1],[1,0],[1,1]]\n",
    "\n",
    "for p, a in zip(pos,animals):\n",
    "    feature_cols = [ feat_labels[f] for f in models[f'{a}_rf']['rfe'] ]\n",
    "    estimator = models[f'{a}_rf']['prod']\n",
    "    title = f'{a.capitalize()} model (Random Forest)'\n",
    "    color = '#bf794d'\n",
    "    top_n = 20\n",
    "    \n",
    "    var_imp = pd.DataFrame({'name':feature_cols, 'importance': estimator.feature_importances_})\n",
    "    var_imp['importance'] = var_imp['importance'] / var_imp['importance'].sum()\n",
    "    var_imp.index = var_imp['name']\n",
    "    result = var_imp.sort_values('importance', ascending=False)[0:top_n].sort_values('importance').plot(kind = 'barh', ylabel=\"\", \n",
    "                xlabel=\"Normalized importance\", title = title, color = color,\n",
    "                ax=axs[p[0],p[1]])\n",
    "    "
   ]
  },
  {
   "cell_type": "markdown",
   "id": "7b90764f-cd54-498c-a590-e0cc02bfb722",
   "metadata": {
    "tags": []
   },
   "source": [
    "## Model benchmark"
   ]
  },
  {
   "cell_type": "code",
   "execution_count": null,
   "id": "d1450aee-e255-4e80-acd2-de04c379f81c",
   "metadata": {
    "tags": []
   },
   "outputs": [],
   "source": [
    "find_files(wd, 'test*v20250216.pq')"
   ]
  },
  {
   "cell_type": "code",
   "execution_count": null,
   "id": "5eba01c5-1e5f-436c-bb39-7c09bafce675",
   "metadata": {
    "tags": []
   },
   "outputs": [],
   "source": [
    "from skmap.misc import find_files\n",
    "\n",
    "df_bm = pd.concat([ pd.read_parquet(f) for f in find_files(wd, 'test*.pq') ])\n",
    "df_bm = df_bm[df_bm['model'].isin(['lgb','lgb_boxcox','rf','rf_boxcox'])]\n",
    "df_bm['model'] = df_bm['model'] + df_bm['strategy'].map({\n",
    "    'zonal_models_zeros_nowei_prod_v20250216': '',\n",
    "    'zonal_models_zeros_wei_prod_v20250216': '_weight'\n",
    "})\n",
    "df_bm['label'] = df_bm['model'].map({\n",
    "    'lgb': 'GBT',\n",
    "    'lgb_boxcox': 'GBT / BoxCox trans.',\n",
    "    'rf': 'RF',\n",
    "    'rf_boxcox': 'RF / BoxCox Trans.',\n",
    "    'lgb_weight': 'GBT / Sample weights',\n",
    "    'lgb_boxcox_weight': 'GBT / BoxCox trans. / Sample weights',\n",
    "    'rf_weight': 'RF / Sample weights',\n",
    "    'rf_boxcox_weight': 'RF / BoxCox trans. / Sample weights'\n",
    "})\n",
    "df_bm"
   ]
  },
  {
   "cell_type": "code",
   "execution_count": null,
   "id": "8d078507-ede2-4a91-8a04-84ee28f62ffb",
   "metadata": {
    "tags": []
   },
   "outputs": [],
   "source": [
    "mask = np.logical_and.reduce([\n",
    "    df_bm['livestock_area_km'] > 0,\n",
    "    df_bm['expected'] > 0,\n",
    "    df_bm['predicted'] > 0\n",
    "])"
   ]
  },
  {
   "cell_type": "code",
   "execution_count": null,
   "id": "7f10f11b-668c-4154-a416-1bf31146cbbc",
   "metadata": {
    "tags": []
   },
   "outputs": [],
   "source": [
    "results = []\n",
    "for (label, animal), frows in df_bm[mask].groupby(['label','animal']):\n",
    "    expe_label, pred_label = 'expected_density', 'predicted_density'\n",
    "    results.append({\n",
    "        'label': label,\n",
    "        'animal': animal,\n",
    "        'd2': d2_tweedie_score(frows[expe_label], frows[pred_label], power=1),\n",
    "        'rmse': mean_squared_error(frows[expe_label], frows[pred_label], squared=False),\n",
    "        'ccc': concordance_correlation_coefficient(frows[expe_label], frows[pred_label], np.ones(frows.shape[0])),\n",
    "        'r2': r2_score(frows[expe_label], frows[pred_label])\n",
    "    })\n",
    "\n",
    "results = pd.DataFrame(results)"
   ]
  },
  {
   "cell_type": "code",
   "execution_count": null,
   "id": "cc50286f-d5ed-4f76-af60-d826a0ceb028",
   "metadata": {
    "tags": []
   },
   "outputs": [],
   "source": [
    "results['label'] = results['label'].replace({\n",
    "    'GBT / BoxCox trans. / Sample weights': 'GBT / BoxCox trans. / weighed samples',\n",
    "    'GBT / Sample weights': 'GBT / weighed samples',\n",
    "    'RF / BoxCox trans. / Sample weights': 'RF / BoxCox trans. / weighed samples',\n",
    "    'RF / Sample weights': 'RF / weighed samples',\n",
    "    'RF': 'RF',\n",
    "    \n",
    "})"
   ]
  },
  {
   "cell_type": "code",
   "execution_count": null,
   "id": "b953f7d4-616f-4b4f-8deb-bf9547ffc0ee",
   "metadata": {
    "tags": []
   },
   "outputs": [],
   "source": [
    "results[['animal','label','d2','r2','ccc','rmse']].round(3).sort_values(['animal','label'], ascending=True).to_csv('benchmark.csv')"
   ]
  },
  {
   "cell_type": "code",
   "execution_count": null,
   "id": "09690da2-2fc8-4497-8050-d634c8076f89",
   "metadata": {
    "tags": []
   },
   "outputs": [],
   "source": [
    "results.groupby('animal').agg('label')"
   ]
  },
  {
   "cell_type": "code",
   "execution_count": null,
   "id": "25f8ff91-d7e0-4652-9e9b-d9abaa9fdbef",
   "metadata": {
    "tags": []
   },
   "outputs": [],
   "source": [
    "animal = 'horse'\n",
    "livestock_test[np.logical_and.reduce([\n",
    "        livestock_test['animal'] == animal,\n",
    "        livestock_test['model'] == 'rf',\n",
    "        livestock_test['expected_density'] > 1,\n",
    "        livestock_test['expected_density'] <= max_density[animal]\n",
    "])][['expected_density','predicted_density']]\\\n",
    ".plot.hist(bins=128,  histtype='step', linewidth=1.5)"
   ]
  },
  {
   "cell_type": "code",
   "execution_count": null,
   "id": "ab6dfc93-3e1a-4ba3-a606-41634d6d6f70",
   "metadata": {
    "tags": []
   },
   "outputs": [],
   "source": [
    "for source, livestock_rows_hexbin in livestock_test[np.logical_and.reduce([\n",
    "        livestock_test['animal'] == 'cattle',\n",
    "        livestock_test['source'] == 'GPW',\n",
    "        livestock_test['model'] == 'rf',\n",
    "    ])].groupby('country'):\n",
    "    print(source, livestock_rows_hexbin.shape)\n",
    "    \n",
    "    pred_label = 'predicted'\n",
    "    expe_label = 'expected' \n",
    "    \n",
    "    livestock_rows_hexbin_log = pd.DataFrame(livestock_rows_hexbin)\n",
    "    livestock_rows_hexbin_log[expe_label] = np.log1p(livestock_rows_hexbin[expe_label])\n",
    "    livestock_rows_hexbin_log[pred_label] = np.log1p(livestock_rows_hexbin[pred_label])\n",
    "    \n",
    "    d2 = d2_tweedie_score(livestock_rows_hexbin[expe_label], livestock_rows_hexbin[pred_label], power=1)\n",
    "    nrmse = NormRootMeanSqrtErr(livestock_rows_hexbin[expe_label], livestock_rows_hexbin[pred_label], 'sd')\n",
    "    ccc = concordance_correlation_coefficient(livestock_rows_hexbin_log[expe_label], livestock_rows_hexbin_log[pred_label], \n",
    "                                        np.ones(livestock_rows_hexbin.shape[0]))\n",
    "    #r2 = r2_score(livestock_rows_hexbin_log[expe_label], livestock_rows_hexbin_log[pred_label])\n",
    "    stats=f'D2={d2:.3f} NRMSE={nrmse:.3f} CCC(log1p)={ccc:.3f}'\n",
    "    print(stats)"
   ]
  },
  {
   "cell_type": "code",
   "execution_count": null,
   "id": "18a44511-96f4-4bec-928e-8a946757b376",
   "metadata": {
    "tags": []
   },
   "outputs": [],
   "source": [
    "import math\n",
    "for animal in animals:\n",
    "  for model in models:\n",
    "\n",
    "    #animal = 'cattle'\n",
    "    #model = 'rf' #'lgb'\n",
    "    fn_model = f'{animal}.{animal}_density'\n",
    "\n",
    "    wd = '/mnt/tupi/WRI/livestock_global_modeling/livestock_census_ard'\n",
    "\n",
    "    #locals().update(**joblib.load(f'{wd}/zonal_models_prod_v20250203/{fn_model}.{model}_cv.lz4'))\n",
    "    locals().update(**joblib.load(f'{wd}/zonal_models_prod_v20250203/{fn_model}.{model}_prod.lz4'))\n",
    "    locals().update(**joblib.load(f'{wd}/zonal_models_prod_v20250203/{fn_model}_rfecv.lz4'))\n",
    "\n",
    "    prod_mod = eval(f\"prod_{model}\")\n",
    "\n",
    "    samples_test = samples[np.logical_and(samples[f'ind_{animal}'] == 1, samples[f'{animal}_ml_type'] == 'testing')]\n",
    "    \n",
    "    if 'boxcox' in fn_model:\n",
    "      df_cv['predicted'] = target_pt.inverse_transform(df_cv['predicted'].to_numpy().reshape(-1,1))\n",
    "      df_cv['expected'] = target_pt.inverse_transform(df_cv['expected'].to_numpy().reshape(-1,1))\n",
    "\n",
    "    mask = (samples_test[f'{animal}_density'] <= max_density[animal])\n",
    "    df_test = pd.DataFrame({\n",
    "      'predicted': prod_mod.predict(samples_test[mask][covs_rfe])  * samples_test[mask][f'livestock_area_km'],\n",
    "      'expected':  samples_test[mask][f'{animal}_density'] * samples_test[mask][f'livestock_area_km'],\n",
    "      'weight': samples_test[mask]['weight']\n",
    "    })\n",
    "\n",
    "    if 'boxcox' in fn_model:\n",
    "      min_transformed_val = -2.65610344\n",
    "      df_test.loc[df_test['predicted'] < min_transformed_val, 'predicted'] = min_transformed_val\n",
    "      df_test['predicted'] = target_pt.inverse_transform(df_test['predicted'].to_numpy().reshape(-1,1))\n",
    "    \n",
    "    max_hist = np.percentile(df_test[['expected','predicted']].to_numpy(),[99])[0]\n",
    "    mask_hist = np.logical_and(df_test['expected'] <= max_hist, df_test['predicted'] <= max_hist)\n",
    "    \n",
    "    plot = df_test[mask_hist][['predicted','expected']].plot.hist(bins=128, title=f\"{fn_model}.{model}\", histtype='step', linewidth=1.5, log=True)\n",
    "    fig = plot.get_figure()\n",
    "    #fig.savefig(f\"{wd}/models/{fn_model}.{model}_test.log.hist.png\")\n",
    "    \n",
    "    #plot = df_test_agg[['predicted','expected']].plot.hist(bins=128, title=f\"{fn_model}.{model}\", histtype='step', linewidth=1.5, density=1, stacked=False)\n",
    "    #fig = plot.get_figure()\n",
    "    #fig.savefig(f\"{wd}/models/{fn_model}.{model}_test.hist.png\")\n",
    "    #print(f\"{wd}/models/{fn_model}.{model}_test.hist.png\")\n",
    "    df_test['weight'] = 1\n",
    "    #r2 = r2_score(df_test['expected'], df_test['predicted'], sample_weight=df_test['weight'])\n",
    "    d2 = d2_tweedie_score(df_test['expected'], df_test['predicted'], power=1)\n",
    "    rmse = mean_squared_error(df_test['expected'], df_test['predicted'], sample_weight=df_test['weight'], squared=False)\n",
    "    \n",
    "    #ccc = concordance_correlation_coefficient(df_test['expected'], df_test['predicted'], df_test['weight'])\n",
    "    \n",
    "    max_log = math.ceil(np.log10(np.max(df_test[['expected','predicted']].to_numpy())))\n",
    "    \n",
    "    #plot = df_test.plot.hexbin(x='expected', y='predicted', mincnt=1, gridsize=48,  cmap=\"Spectral_r\", extent=[-0.2,max_log,-0.2,max_log],\n",
    "    #                        title=f'{fn_model}.{model} \\nd2={d2:.3f} rmse={rmse:.3f}', \n",
    "    #                             yscale='log', xscale='log', bins='log')\n",
    "    #plot.axline([0, 0], [1, 1], color='silver')\n",
    "    #fig = plot.get_figure()\n",
    "    #fig.savefig(f\"{wd}/models/{fn_model}.{model}_test.hebin.png\")\n",
    "\n",
    "    #ax.set_aspect('equal', 'datalim', share=True)\n",
    "    #ax.set_aspect(1)\n",
    "\n",
    "    plot = plot_var_imp(covs_rfe, prod_mod, f'{fn_model}.{model}', 40, color='#6fa8dd', model=model)\n",
    "    fig = plot.get_figure()\n",
    "    #fig.savefig(f\"{wd}/models/{fn_model}.{model}_var.imp.png\", bbox_inches=\"tight\")\n",
    "\n",
    "    "
   ]
  },
  {
   "cell_type": "markdown",
   "id": "1ba5d390-c6e7-4c09-8ec4-51035cfd333d",
   "metadata": {},
   "source": [
    "## Point time-series"
   ]
  },
  {
   "cell_type": "code",
   "execution_count": null,
   "id": "7e3d5167-0fc5-4860-b9b7-a1c0fb511a5e",
   "metadata": {
    "tags": []
   },
   "outputs": [],
   "source": [
    "y,x = -8.96941598, -64.01426078 #-9.04264281, -63.45872163"
   ]
  },
  {
   "cell_type": "code",
   "execution_count": null,
   "id": "520ddc0b-0cbd-4f90-b1db-a873a9de91e8",
   "metadata": {
    "tags": []
   },
   "outputs": [],
   "source": [
    "df = pd.DataFrame({\n",
    "    'x': x,\n",
    "    'y': y,\n",
    "    'year': range(y1, y2+1) \n",
    "})\n",
    "gdf = gpd.GeoDataFrame(\n",
    "    df, geometry=gpd.points_from_xy(df.x, df.y), crs=\"EPSG:4326\"\n",
    ").to_crs('+proj=igh +lon_0=0 +x_0=0 +y_0=0 +datum=WGS84 +units=m +no_defs +type=crs')\n",
    "#gdf['dt'] = pd.to_datetime(df['year'],format='%Y')"
   ]
  },
  {
   "cell_type": "code",
   "execution_count": null,
   "id": "74f70f5b-db1e-45a1-9774-b796475bce80",
   "metadata": {
    "tags": []
   },
   "outputs": [],
   "source": [
    "import rasterio\n",
    "def sample(row):\n",
    "    y = row['year']\n",
    "    \n",
    "    ds = rasterio.open(f'https://s3.opengeohub.org/gpw/livestock/gpw_cattle.density_rf_m_1km_s_{y}0101_{y}1231_go_epsg.4326_v1.tif')\n",
    "    row['density'] = next(ds.sample([(row[\"geometry\"].x,row[\"geometry\"].y)]))[0] * 0.1\n",
    "    \n",
    "    ds1 = rasterio.open(f'https://s3.opengeohub.org/gpw/livestock/gpw_cattle.density_rf_p.025_1km_s_{y}0101_{y}1231_go_epsg.4326_v1.tif')\n",
    "    row['density_p025'] = next(ds1.sample([(row[\"geometry\"].x,row[\"geometry\"].y)]))[0] * 0.1\n",
    "    \n",
    "    ds3 = rasterio.open(f'https://s3.opengeohub.org/gpw/livestock/gpw_cattle.density_rf_p.975_1km_s_{y}0101_{y}1231_go_epsg.4326_v1.tif')\n",
    "    row['density_p975'] = next(ds3.sample([(row[\"geometry\"].x,row[\"geometry\"].y)]))[0] * 0.1\n",
    "    \n",
    "    std = (row['density_p975'] - row['density_p025']) / 4\n",
    "    row['lower'] = row['density'] - std\n",
    "    row['upper'] = row['density'] + std\n",
    "    \n",
    "    return row\n",
    "\n",
    "result = gdf.apply(sample, axis=1)"
   ]
  },
  {
   "cell_type": "code",
   "execution_count": null,
   "id": "dd845cec-ca66-4e5b-b9e7-379e5af85e36",
   "metadata": {
    "tags": []
   },
   "outputs": [],
   "source": [
    "((result['density_p975'] - result['density_p025']) / 4).mean()"
   ]
  },
  {
   "cell_type": "code",
   "execution_count": null,
   "id": "e495b3ff-a53a-4569-bdab-5a41a0fc2a6d",
   "metadata": {
    "tags": []
   },
   "outputs": [],
   "source": [
    "import seaborn \n",
    "import matplotlib\n",
    "import matplotlib.pyplot as plt\n",
    "import matplotlib.dates as mdates\n",
    "import seaborn as sns\n",
    "\n",
    "sns.set_style(\"ticks\")\n",
    "FONT_SIZE = 25\n",
    "plt.rc('font', size=FONT_SIZE)          # controls default text sizes\n",
    "plt.rc('axes', titlesize=FONT_SIZE)     # fontsize of the axes title\n",
    "plt.rc('axes', labelsize=FONT_SIZE)    # fontsize of the x and y labels\n",
    "plt.rc('xtick', labelsize=FONT_SIZE)    # fontsize of the tick labels\n",
    "plt.rc('ytick', labelsize=FONT_SIZE)    # fontsize of the tick labels\n",
    "plt.rc('legend', fontsize=FONT_SIZE)    # legend fontsize\n",
    "plt.rc('figure', titlesize=FONT_SIZE) \n",
    "\n",
    "myfig, myax = plt.subplots(figsize=(24, 6))\n",
    "\n",
    "# Plot temperature\n",
    "myax.plot(result['year'], result['density'], color='tab:red', linestyle='-', label='Cattle density')\n",
    "myax.fill_between(result['year'], result['lower'], result['upper'], color='tab:red', alpha=0.2, label='Prediction error (1 SD)')\n",
    "myax.fill_between(result['year'], result['density_p025'], result['density_p975'], color='tab:blue', alpha=0.2, label='Prediction interval (95% prob.)')\n",
    "#myax.plot(pd.to_datetime(gpf['start_date'], format='%Y-%m-%d'), gpf['value']/10000, color='tab:blue', linestyle='-', label='Gapfilled')\n",
    "#myax.plot(pd.to_datetime(stl['start_date'], format='%Y-%m-%d'), stl['value']/10000, color='tab:green', linestyle='-', label='Trend')\n",
    "\n",
    "myax.set_ylim([0,900])\n",
    "myax.set_ylabel('Heads per km-square')\n",
    "myax.set_title(f'Coordinate: {x:.4f}, {y:.4f}; average cattle density: {result[\"density\"].mean():.1f}')\n",
    "myax.grid(True)\n",
    "\n",
    "# format x axis labels\n",
    "#myax.xaxis.set_major_locator(DayLocator())\n",
    "#myax.xaxis.set_major_formatter(mdates.DateFormatter('%y%m%d'))\n",
    "#fmt_half_year = mdates.MonthLocator(interval=29)\n",
    "\n",
    "myax.legend(loc='upper right');"
   ]
  },
  {
   "cell_type": "code",
   "execution_count": null,
   "id": "d7632c15-2631-4fd9-8043-856ddf200193",
   "metadata": {
    "tags": []
   },
   "outputs": [],
   "source": [
    "import geopandas as gpd\n",
    "import pandas as pd\n",
    "\n",
    "wd = '/mnt/tupi/WRI/livestock_global_modeling'\n",
    "\n",
    "polygons = gpd.read_file(f'{wd}/livestock_census_ard/gpw_livestock.animals_gpw.fao.glw3_polygon.samples_20000101_20231231_go_epsg.4326_v1.gpkg')\n",
    "polygons"
   ]
  },
  {
   "cell_type": "code",
   "execution_count": null,
   "id": "373275c4-51fe-4997-ae21-6823c26052cd",
   "metadata": {
    "tags": []
   },
   "outputs": [],
   "source": [
    "import pandas as pd\n",
    "import numpy as np\n",
    "\n",
    "grassland_size = pd.read_csv(f'{wd}/grassland_size.csv')\n",
    "grassland_pols = grassland_size.join(polygons['geometry'])\n",
    "\n",
    "animals = ['cattle', 'sheep', 'goat', 'horse', 'buffalo']\n",
    "livestock_all_rows = []\n",
    "\n",
    "for animal in animals:\n",
    "    for y in range(2000, 2021):\n",
    "        col = f'{animal}_{y}'\n",
    "        gcol = f'grassland_w_{y}'\n",
    "        mask = ~np.isnan(grassland_pols[col])\n",
    "        cols = ['gazID', 'gazName', 'source', 'geometry', 'total_pixels', col, gcol]\n",
    "        rcols = {}\n",
    "        rcols[col] = 'total'\n",
    "        rcols[gcol] = 'grassland_area'\n",
    "        animal_rows = grassland_pols[mask][cols].rename(columns=rcols)\n",
    "        animal_rows['animal'] = animal\n",
    "        animal_rows['year'] = y\n",
    "        livestock_all_rows.append(animal_rows)\n",
    "        print(col, animal_rows.shape)\n",
    "        \n",
    "livestock_all_rows = pd.concat(livestock_all_rows).reset_index(drop=True)\n",
    "#livestock_rows['index'] = livestock_rows.index\n",
    "#livestock_rows = livestock_rows.to_crs('ESRI:54052')\n",
    "livestock_all_rows"
   ]
  },
  {
   "cell_type": "code",
   "execution_count": null,
   "id": "ba152e58-d548-450c-829a-5071d6f765aa",
   "metadata": {
    "tags": []
   },
   "outputs": [],
   "source": [
    "livestock_all_rows['source'].value_counts()"
   ]
  },
  {
   "cell_type": "code",
   "execution_count": null,
   "id": "d3a080d7-da29-4b5f-8031-f1b738a933b2",
   "metadata": {
    "tags": []
   },
   "outputs": [],
   "source": [
    "def q01(x):\n",
    "    return x.quantile(0.01)\n",
    "def q02(x):\n",
    "    return x.quantile(0.02)\n",
    "def q03(x):\n",
    "    return x.quantile(0.03)\n",
    "def q04(x):\n",
    "    return x.quantile(0.04)\n",
    "def q05(x):\n",
    "    return x.quantile(0.05)\n",
    "\n",
    "def q95(x):\n",
    "    return x.quantile(0.95)\n",
    "def q96(x):\n",
    "    return x.quantile(0.96)\n",
    "def q97(x):\n",
    "    return x.quantile(0.97)\n",
    "def q98(x):\n",
    "    return x.quantile(0.98)\n",
    "def q99(x):\n",
    "    return x.quantile(0.99)\n",
    "\n",
    "livestock_all_rows[np.logical_and.reduce([\n",
    "    livestock_all_rows['source'].isin(['GPW','fao_glw3']),\n",
    "    livestock_all_rows['grassland_pct'] >= 0.02,\n",
    "    #livestock_all_rows['grassland_area'] > 1000,\n",
    "    livestock_all_rows['total'] >= 100,\n",
    "])][['density','animal']].groupby('animal').agg({'density': ['min', q01, q02, q03, q04, q05, 'mean', 'median', q95, q96, q97, q98, q99, 'max']}).T.round(3)\n",
    "#.groupby(['animal']).transform(\"count\")\n",
    "#.plot(kind='hist',bins=128, log=True, histtype='step')\n",
    "#['density'].plot(kind='hist',bins=128, log=True)"
   ]
  },
  {
   "cell_type": "code",
   "execution_count": null,
   "id": "7a515107-7945-45ac-9ce9-63fd6f369a01",
   "metadata": {
    "tags": []
   },
   "outputs": [],
   "source": [
    "filters = [\n",
    "    ('cattle', 1965),\n",
    "    ('buffalo', 298.0),\n",
    "    ('goat', 177),\n",
    "    ('horse', 27),\n",
    "    ('sheep', 178),\n",
    "]\n",
    "\n",
    "min_grassland_pct = 0.02\n",
    "min_n_animals = 1000"
   ]
  },
  {
   "cell_type": "code",
   "execution_count": null,
   "id": "53925457-e1a6-46a0-9517-9d009d583651",
   "metadata": {
    "tags": []
   },
   "outputs": [],
   "source": [
    "tgt_cols = pd.Index(['gazName','source','min_density','max_density','n_years','min_grassland_area','max_grassland_area','min_n_animals','max_n_animals','min__grassland_pct','max_grassland_pct'])\n",
    "\n",
    "for animal, max_density in filters:\n",
    "    cols = list(livestock_all_rows.columns[1:3])\n",
    "\n",
    "    mask = np.logical_or.reduce([\n",
    "        np.logical_and.reduce([\n",
    "            livestock_all_rows['source'] == 'FAOSTAT',\n",
    "            livestock_all_rows['animal'] == animal\n",
    "        ]),\n",
    "        np.logical_and.reduce([\n",
    "            livestock_all_rows['source'].isin(['GPW','fao_glw3']),\n",
    "            livestock_all_rows['grassland_pct'] >= min_grassland_pct,\n",
    "            livestock_all_rows['density'] <= max_density,\n",
    "            livestock_all_rows['animal'] == animal,\n",
    "            livestock_all_rows['total'] >= min_n_animals\n",
    "        ])\n",
    "    ])\n",
    "    #print(min_grassland_pct, max_density, animal, min_n_animals, livestock_all_rows[mask].shape)\n",
    "    grassland_systems = livestock_all_rows[mask].groupby(cols).aggregate({\n",
    "        'density': ['min', 'max'], \n",
    "        'year': 'count', \n",
    "        'grassland_area': ['min', 'max'], \n",
    "        'total': ['min', 'max'],\n",
    "        'grassland_pct': ['min', 'max']\n",
    "    }).reset_index()\n",
    "    grassland_systems.columns = tgt_cols\n",
    "    print(f\"{animal} grassland_systems: {grassland_systems.shape}\")\n",
    "    \n",
    "    landless_mask = np.logical_and.reduce([\n",
    "        livestock_all_rows['animal'] == animal,\n",
    "        livestock_all_rows['total'] >= min_n_animals,\n",
    "        livestock_all_rows['density'] > max_density,\n",
    "        ~livestock_all_rows['gazName'].isin(grassland_systems['gazName'])\n",
    "    ])\n",
    "    \n",
    "    landless_systems = livestock_all_rows[landless_mask].groupby(cols).aggregate({\n",
    "        'density': ['min', 'max'], \n",
    "        'year': 'count', \n",
    "        'grassland_area': ['min', 'max'], \n",
    "        'total': ['min', 'max'],\n",
    "        'grassland_pct': ['min', 'max']\n",
    "    }).reset_index()\n",
    "    landless_systems.columns = tgt_cols\n",
    "    print(f\"{animal} landless_systems: {landless_systems.shape}\")\n",
    "    \n",
    "    removed_mask = np.logical_and.reduce([\n",
    "        livestock_all_rows['animal'] == animal,\n",
    "        ~livestock_all_rows['gazName'].isin(grassland_systems['gazName']),\n",
    "        ~livestock_all_rows['gazName'].isin(landless_systems['gazName'])\n",
    "    ])\n",
    "    \n",
    "    removed = livestock_all_rows[removed_mask].groupby(cols).aggregate({\n",
    "        'density': ['min', 'max'], \n",
    "        'year': 'count', \n",
    "        'grassland_area': ['min', 'max'], \n",
    "        'total': ['min', 'max'],\n",
    "        'grassland_pct': ['min', 'max']\n",
    "    }).reset_index()\n",
    "    removed.columns = tgt_cols\n",
    "    print(f\"{animal} removed: {removed.shape}\")\n",
    "    \n",
    "    grassland_systems = polygons[['gazID', 'gazName','source','geometry']].merge(grassland_systems, on=['gazName','source'])\n",
    "    grassland_systems.loc[:,'category'] = 'Grazing systems'\n",
    "    \n",
    "    landless_systems = polygons[['gazID', 'gazName','source','geometry']].merge(landless_systems, on=['gazName','source'])\n",
    "    landless_systems.loc[:,'category'] = 'Non-grazing systems'\n",
    "    \n",
    "    removed = polygons[['gazID', 'gazName','source','geometry']].merge(removed, on=['gazName','source'])\n",
    "    removed.loc[:,'category'] = 'Ignored'\n",
    "    \n",
    "    pd.concat([\n",
    "        grassland_systems,\n",
    "        landless_systems,\n",
    "        removed\n",
    "    ]).to_file(f'gpw_livestock.systems.category_{animal}.gpkg')\n",
    "    \n",
    "    #polygons[['gazID', 'gazName','source','geometry']].merge(grassland_systems, on=['gazName','source']).to_file(f'livestock.grassland.{animal}.gpkg')\n",
    "    #polygons[['gazID', 'gazName','source','geometry']].merge(landless_systems, on=['gazName','source']).to_file(f'livestock.landless.{animal}.gpkg')\n",
    "    #polygons[['gazID', 'gazName','source','geometry']].merge(removed, on=['gazName','source']).to_file(f'livestock.removed.{animal}.gpkg')"
   ]
  },
  {
   "cell_type": "code",
   "execution_count": null,
   "id": "8606c303-5369-4394-bfc4-f28e491089cb",
   "metadata": {
    "tags": []
   },
   "outputs": [],
   "source": [
    "animal = 'cattle'\n",
    "#livestock_systems = gpd.read_file(f'gpw_livestock.systems.category_{animal}.gpkg')\n"
   ]
  },
  {
   "cell_type": "code",
   "execution_count": null,
   "id": "bd58b8df-838f-42c5-ab8b-6e668499c6e7",
   "metadata": {
    "tags": []
   },
   "outputs": [],
   "source": []
  },
  {
   "cell_type": "code",
   "execution_count": null,
   "id": "8efda811-7624-4e6a-81cb-b05b39748d7b",
   "metadata": {
    "tags": []
   },
   "outputs": [],
   "source": [
    "livestock_systems_map = {}\n",
    "for animal,_ in filters:\n",
    "    livestock_systems_map[animal] = gpd.read_file(f'gpw_livestock.systems.category_{animal}.gpkg')"
   ]
  },
  {
   "cell_type": "code",
   "execution_count": null,
   "id": "203ebedc-9b4a-4ac4-a8fb-d6fdc0bdfdb7",
   "metadata": {
    "tags": []
   },
   "outputs": [],
   "source": [
    "animal = 'goat'\n",
    "#for animal,_ in filters:\n",
    "print(f\"#####: {animal}\")\n",
    "livestock_systems = livestock_systems_map[animal]\n",
    "livestock_systems['category'].value_counts().plot(kind='pie', colors=['#ffe201','#ff0105','#01f3ff'], title='Number of polygons')\n",
    "livestock_systems['polygon_area_km'] = livestock_systems.to_crs('ESRI:54052').geometry.area / 1000000\n",
    "livestock_systems.groupby('category').aggregate({'polygon_area_km': 'sum'}).plot(kind='pie', y='polygon_area_km', colors=['#ffe201','#ff0105','#01f3ff'], title='Area of polygons',legend=False)"
   ]
  },
  {
   "cell_type": "code",
   "execution_count": null,
   "id": "8f3c87fb-913a-4256-9272-079ad1d47b39",
   "metadata": {
    "tags": []
   },
   "outputs": [],
   "source": [
    "polygons['gazID'].isnull().value_counts()a"
   ]
  },
  {
   "cell_type": "code",
   "execution_count": null,
   "id": "883cc8ed-5aa0-4c7a-8290-5bdd4ea5e4b5",
   "metadata": {
    "tags": []
   },
   "outputs": [],
   "source": [
    "len(polygons['gazName'].unique())"
   ]
  },
  {
   "cell_type": "code",
   "execution_count": null,
   "id": "5705defc-6f50-4951-aea9-c4f913f83b55",
   "metadata": {
    "tags": []
   },
   "outputs": [],
   "source": [
    "polygons[['gazID', 'gazName','source','geometry']].merge(livestock_all_rows[landless_mask], on=['gazName','source']).to_file(f'livestock.landless.{animal}.gpkg')"
   ]
  },
  {
   "cell_type": "code",
   "execution_count": null,
   "id": "b4425f23-1943-45e9-94d2-1160faba7a5f",
   "metadata": {
    "tags": []
   },
   "outputs": [],
   "source": [
    "polygons[['gazID', 'gazName','source','geometry']].merge(livestock_all_rows[landless_mask], on=['gazName','source'])"
   ]
  },
  {
   "cell_type": "code",
   "execution_count": null,
   "id": "0707a319-a7d3-4c39-9815-1115111fea15",
   "metadata": {
    "tags": []
   },
   "outputs": [],
   "source": [
    "import seaborn as sns\n",
    "\n",
    "sns.set_theme(style=\"whitegrid\", palette=\"pastel\")\n",
    "sns.set_context(\"notebook\")\n",
    "\n",
    "livestock_all_rows[livestock_all_rows['grassland_pct'] < 0.1]['grassland_pct'].plot(kind='hist',bins=128, log=True)"
   ]
  },
  {
   "cell_type": "code",
   "execution_count": null,
   "id": "1733ef7c-0fd1-4bb5-b719-fef12e7ab989",
   "metadata": {
    "tags": []
   },
   "outputs": [],
   "source": [
    "#livestock_all_rows.loc[:,['grassland_pct']] = livestock_all_rows['grassland_area'] / livestock_all_rows['total_pixels']\n",
    "#livestock_all_rows.loc[:,['density']] = livestock_all_rows['total'] / livestock_all_rows['grassland_area']\n",
    "livestock_all_rows\n",
    "#livestock_all_rows[livestock_all_rows['grassland_area'] > livestock_all_rows['total_pixels']]"
   ]
  },
  {
   "cell_type": "code",
   "execution_count": null,
   "id": "cc4008eb-5cf9-46b5-af02-323a36797616",
   "metadata": {
    "tags": []
   },
   "outputs": [],
   "source": [
    "import pandas as pd\n",
    "grassland_size = pd.read_csv(f'{wd}/grassland_size.csv')\n",
    "\n",
    "animals = ['cattle', 'sheep', 'goat', 'horse', 'buffalo']\n",
    "\n",
    "for animal in animals:\n",
    "    livestock_test = pd.read_csv(f'{wd}/../{animal}_validation_set_v2.csv')\n",
    "    livestock_test.loc[:,'index'] = livestock_test.index\n",
    "    \n",
    "    animal_cols = livestock_test.columns.drop(\n",
    "        sum([ list(livestock_test.columns[livestock_test.columns.str.contains(a)]) for a in animals if a != animal],[])\n",
    "    )\n",
    "    \n",
    "    livestock_test = polygons[['gazName', 'source', 'geometry']].merge(livestock_test[animal_cols], on=['gazName', 'source'])\n",
    "    print(f\"Saving test polygons for {animal} ({livestock_test.shape})\")\n",
    "    \n",
    "    livestock_test.to_file(f'{wd}/{animal}_validation_set_v2.gpkg')"
   ]
  },
  {
   "cell_type": "code",
   "execution_count": null,
   "id": "4000e148-b620-4a96-8673-31d91d6e4c70",
   "metadata": {
    "tags": []
   },
   "outputs": [],
   "source": [
    "#import pandas as pd\n",
    "#import geopandas as gpd\n",
    "#livestock_test = gpd.read_file(f'{wd}/livestock_validation_set.gpkg')"
   ]
  },
  {
   "cell_type": "code",
   "execution_count": null,
   "id": "8af0c812-5a70-4316-94b5-59027fd07a5b",
   "metadata": {
    "scrolled": true,
    "tags": []
   },
   "outputs": [],
   "source": [
    "import numpy as np\n",
    "\n",
    "animals = ['cattle', 'sheep', 'goat', 'horse', 'buffalo']\n",
    "livestock_rows = []\n",
    "\n",
    "for animal in animals:\n",
    "    livestock_test = gpd.read_file(f'{wd}/{animal}_validation_set_v2.gpkg')\n",
    "    \n",
    "    for y in range(2000, 2021):\n",
    "        col = f'{animal}_{y}'\n",
    "        gcol = f'grassland_w_{y}'\n",
    "        mask = ~np.isnan(livestock_test[col])\n",
    "        cols = ['gazID', 'gazName', 'source', 'geometry', 'total_pixels', col, gcol]\n",
    "        rcols = {}\n",
    "        rcols[col] = 'total'\n",
    "        rcols[gcol] = 'grassland_area'\n",
    "        animal_rows = livestock_test[mask][cols].rename(columns=rcols)\n",
    "        animal_rows['animal'] = animal\n",
    "        animal_rows['year'] = y\n",
    "        livestock_rows.append(animal_rows)\n",
    "        print(col, animal_rows.shape)\n",
    "        \n",
    "livestock_rows = pd.concat(livestock_rows).reset_index(drop=True)\n",
    "livestock_rows['index'] = livestock_rows.index\n",
    "livestock_rows = livestock_rows.to_crs('ESRI:54052')\n",
    "livestock_rows"
   ]
  },
  {
   "cell_type": "code",
   "execution_count": null,
   "id": "f520c579-6146-4e7d-b7c2-ab4f591cd32b",
   "metadata": {
    "tags": []
   },
   "outputs": [],
   "source": [
    "#livestock_polygon = livestock_rows[np.logical_and(livestock_rows['animal'] == 'cattle', livestock_rows['year'] == 2020)]\n",
    "#livestock_polygon"
   ]
  },
  {
   "cell_type": "code",
   "execution_count": null,
   "id": "10b3b305-7f72-4fa1-91d3-88158d482d99",
   "metadata": {
    "tags": []
   },
   "outputs": [],
   "source": [
    "from rasterstats import zonal_stats\n",
    "import geopandas as gpd\n",
    "\n",
    "def run_zonal(rows, animal, year):\n",
    "    models = [ 'rf_m', 'lgb_m', 'eml_p.025', 'eml_m', 'eml_p.975' ]\n",
    "    \n",
    "    out = rows[['index','geometry']]\n",
    "    try:\n",
    "        for m in models:\n",
    "            out = gpd.GeoDataFrame.from_features(\n",
    "                    zonal_stats(\n",
    "                    out, \n",
    "                    f\"/vsicurl/http://192.168.49.30:8333/gpw/arco/gpw_{animal}.total_{m}_1km_s_{year}0101_{year}1231_go_esri.54052_v20240809.tif\",\n",
    "                    prefix=f\"{m}\",\n",
    "                    stats=\"sum\", \n",
    "                    geojson_out=True)\n",
    "            )\n",
    "    except:\n",
    "        pass\n",
    "    \n",
    "    return out"
   ]
  },
  {
   "cell_type": "code",
   "execution_count": null,
   "id": "3433de76-b41b-4e0b-bbf3-14a936ac579c",
   "metadata": {
    "tags": []
   },
   "outputs": [],
   "source": [
    "args = []\n",
    "\n",
    "for (animal, year), rows in livestock_rows[livestock_rows['animal'].isin(animals)].groupby(['animal','year']):\n",
    "    args.append((rows, animal, year,))\n",
    "\n",
    "len(args)"
   ]
  },
  {
   "cell_type": "code",
   "execution_count": null,
   "id": "7d073b1a-51a5-45be-8fdc-9b41c23cdb3a",
   "metadata": {
    "tags": []
   },
   "outputs": [],
   "source": [
    "from eumap import parallel\n",
    "from skmap.misc import ttprint\n",
    "\n",
    "ttprint(\"Start zonal\")\n",
    "df = pd.concat([ df for df in parallel.job(run_zonal, args, n_jobs=40, joblib_args={'backend': 'multiprocessing'}) ])\n",
    "ttprint(\"End zonal\")"
   ]
  },
  {
   "cell_type": "code",
   "execution_count": null,
   "id": "3b555159-8bb1-460a-80fd-bf174eb099bf",
   "metadata": {
    "tags": []
   },
   "outputs": [],
   "source": [
    "livestock_rows_df = pd.merge(livestock_rows, df, on='index')"
   ]
  },
  {
   "cell_type": "code",
   "execution_count": null,
   "id": "279445fe-4f1e-4d19-81fd-2209b799828c",
   "metadata": {
    "tags": []
   },
   "outputs": [],
   "source": [
    "raster_cols = livestock_rows_df.columns[livestock_rows_df.columns.str.contains('sum')]\n",
    "livestock_rows_df.loc[:,raster_cols] = livestock_rows_df[raster_cols]  / 10\n",
    "livestock_rows_df"
   ]
  },
  {
   "cell_type": "code",
   "execution_count": null,
   "id": "307f3f94-6694-4c9f-9e45-f3f1d4368a79",
   "metadata": {
    "tags": []
   },
   "outputs": [],
   "source": [
    "livestock_rows_df['inside_pred_interval'] = np.logical_and.reduce([\n",
    "    livestock_rows_df['total'] <= livestock_rows_df['eml_p.975sum'],\n",
    "    livestock_rows_df['total'] >= livestock_rows_df['eml_p.025sum'] \n",
    "])"
   ]
  },
  {
   "cell_type": "code",
   "execution_count": null,
   "id": "ad0d65ef-d03c-4cc6-b1c1-e7d894b9ab76",
   "metadata": {
    "tags": []
   },
   "outputs": [],
   "source": [
    "livestock_rows_df['density'] = livestock_rows_df['total'] / livestock_rows_df['grassland_area']"
   ]
  },
  {
   "cell_type": "code",
   "execution_count": null,
   "id": "d8e550db-bb39-43a8-a4fc-7281bd730d23",
   "metadata": {
    "tags": []
   },
   "outputs": [],
   "source": [
    "livestock_rows_df.drop(columns=['geometry_x', 'geometry_y']).to_parquet(f'{wd}/validation_set_v2_zonal.pq')"
   ]
  },
  {
   "cell_type": "code",
   "execution_count": null,
   "id": "edd29889-771b-4273-a84f-9e40b77bb580",
   "metadata": {
    "tags": []
   },
   "outputs": [],
   "source": []
  },
  {
   "cell_type": "code",
   "execution_count": null,
   "id": "310ef55c-e1b7-425c-862c-8de6371f0681",
   "metadata": {
    "tags": []
   },
   "outputs": [],
   "source": [
    "#livestock_rows_df = pd.read_parquet(f'{wd}/livestock_validation_set_zonal.pq')\n",
    "#livestock_rows_df = livestock_rows_df.drop(columns=['geometry_x', 'geometry_y'])\n",
    "#livestock_rows_df"
   ]
  },
  {
   "cell_type": "code",
   "execution_count": null,
   "id": "b810344e-eda4-4be3-a026-10645faa5688",
   "metadata": {
    "tags": []
   },
   "outputs": [],
   "source": [
    "#livestock_rows_df['density'] = livestock_rows_df['total'] / livestock_rows_df['grassland_area']"
   ]
  },
  {
   "cell_type": "code",
   "execution_count": null,
   "id": "6a0838f6-8fa5-4211-8297-1caf5b0a911e",
   "metadata": {
    "tags": []
   },
   "outputs": [],
   "source": [
    "#predicted_col = 'eml_msum'\n",
    "#expected_col = 'total'\n",
    "#livestock_rows_df[livestock_rows_df['animal'] == 'cattle'][['total','rf_msum']]"
   ]
  },
  {
   "cell_type": "code",
   "execution_count": null,
   "id": "5a4ff1ca-1ba4-404f-8e62-a460ebe59e1b",
   "metadata": {
    "tags": []
   },
   "outputs": [],
   "source": [
    "#livestock_rows_df['inside_pred_interval'].value_counts()"
   ]
  },
  {
   "cell_type": "code",
   "execution_count": null,
   "id": "6d9a515f-4419-4bfb-8eab-9276e8793c0c",
   "metadata": {
    "tags": []
   },
   "outputs": [],
   "source": [
    "#[livestock_rows_df['gazID'] == '.002.003.003.022.019']\n",
    "\n",
    "nrs = []\n",
    "for gazName, rows in livestock_rows_df.groupby('gazName'):\n",
    "    nr = {}\n",
    "    for (year, animal), r in rows.groupby(['year', 'animal']):\n",
    "        for m in ['eml_m', 'eml_p.025', 'eml_p.975']:\n",
    "            nr[f'{animal}_{year}_{m}'] = r[f'{m}sum'].iloc[0]\n",
    "        nr[f'{animal}_{year}_picp'] = (r['inside_pred_interval'].iloc[0]).astype('int')\n",
    "        nr[f'{animal}_{year}_density'] = r['density'].iloc[0]\n",
    "        nr[f'gazName'] = r['gazName'].iloc[0]\n",
    "    nrs.append(nr)\n",
    "    \n",
    "nrs = pd.DataFrame(nrs)\n",
    "nrs"
   ]
  },
  {
   "cell_type": "code",
   "execution_count": null,
   "id": "5124986d-98dd-4ac7-a57e-cede20b30db3",
   "metadata": {
    "tags": []
   },
   "outputs": [],
   "source": [
    "nrs[['gazName'] + sorted(list(nrs.columns.drop(['gazName'])))]"
   ]
  },
  {
   "cell_type": "code",
   "execution_count": null,
   "id": "449658a6-155d-46bc-a2b6-b821130c16c8",
   "metadata": {
    "tags": []
   },
   "outputs": [],
   "source": [
    "#import geopandas as gpd\n",
    "#validation_set = gpd.read_file(f'{wd}/livestock_validation_set.gpkg')\n",
    "#validation_set"
   ]
  },
  {
   "cell_type": "code",
   "execution_count": null,
   "id": "da6d8789-65c6-4388-b5c4-c8bbf56b3fc1",
   "metadata": {
    "tags": []
   },
   "outputs": [],
   "source": [
    "livestock_test_nrs = livestock_test.merge(nrs, on='gazName')\n",
    "for a in animals:\n",
    "    livestock_test_nrs.loc[:,f'{a}_test'] = (np.nansum(livestock_test_nrs[livestock_test_nrs.columns[livestock_test_nrs.columns.str.contains(f'{a}_.*_density')]].to_numpy(), axis=-1) > 0).astype('int')\n",
    "\n",
    "for a in animals:\n",
    "    livestock_test_nrs.loc[:,f'{a}_picp'] = np.nansum(livestock_test_nrs[livestock_test_nrs.columns[livestock_test_nrs.columns.str.contains(f'{a}_.*_picp')]].to_numpy(), axis=-1)"
   ]
  },
  {
   "cell_type": "code",
   "execution_count": null,
   "id": "200fc60a-7c16-499e-bc53-b3e0f5f8d215",
   "metadata": {
    "tags": []
   },
   "outputs": [],
   "source": [
    "cols = list(livestock_test_nrs.columns[:3]) + sorted(list(livestock_test_nrs.columns[3:]))"
   ]
  },
  {
   "cell_type": "code",
   "execution_count": null,
   "id": "58eb3bdc-baa6-4c24-ae68-3531c2c24e46",
   "metadata": {
    "tags": []
   },
   "outputs": [],
   "source": [
    "list(livestock_test_nrs[cols].columns)"
   ]
  },
  {
   "cell_type": "code",
   "execution_count": null,
   "id": "9763c9bd-8988-4e11-b6d1-a6c6fd04d36f",
   "metadata": {
    "tags": []
   },
   "outputs": [],
   "source": [
    "livestock_test_nrs[cols].to_file(f'{wd}/validation_set_v2_zonal.gpkg')"
   ]
  },
  {
   "cell_type": "code",
   "execution_count": null,
   "id": "83bfe4b1-e5db-4b36-8820-6dbd619c6ca6",
   "metadata": {
    "tags": []
   },
   "outputs": [],
   "source": [
    "mask = np.logical_and.reduce([\n",
    "    livestock_rows_df['animal'] == 'goat',\n",
    "    livestock_rows_df['source'] == 'GPW',\n",
    "    livestock_rows_df['total'] < 500\n",
    "])\n"
   ]
  },
  {
   "cell_type": "code",
   "execution_count": null,
   "id": "7d1acba9-63ef-4403-8f24-9002180f2fcc",
   "metadata": {
    "tags": []
   },
   "outputs": [],
   "source": [
    "blunders = (livestock_rows_df[mask]['total'] - livestock_rows_df[mask]['eml_msum']).sort_values().head(10).index\n",
    "livestock_rows_df.loc[blunders,:]"
   ]
  },
  {
   "cell_type": "code",
   "execution_count": null,
   "id": "d0b9da15-6183-474c-bcde-adb86e214304",
   "metadata": {
    "tags": []
   },
   "outputs": [],
   "source": [
    "livestock_rows.loc[blunders,:].to_file('/tmp/goat.gpkg')"
   ]
  },
  {
   "cell_type": "code",
   "execution_count": null,
   "id": "143a0657-9a20-4c59-8041-3684e0f30694",
   "metadata": {
    "tags": []
   },
   "outputs": [],
   "source": [
    "#livestock_rows_df[np.logical_and.reduce([\n",
    "#    livestock_rows_df['animal'] == 'goat',\n",
    "#    livestock_rows_df['source'] == 'GPW',\n",
    "#    livestock_rows_df['total'] < 500\n",
    "#])][['eml_msum','total']].plot.hist(bins=64, histtype='step', log=True, linewidth=1)"
   ]
  },
  {
   "cell_type": "code",
   "execution_count": null,
   "id": "1e05f4a3-25e2-4599-8da9-bf11c0581e84",
   "metadata": {
    "tags": []
   },
   "outputs": [],
   "source": [
    "pred_intervals_check = []\n",
    "\n",
    "max_density = {\n",
    "  'cattle': 4271,\n",
    "    'sheep': 344,\n",
    "    'goat': 279,\n",
    "    'horse': 42,\n",
    "    'buffalo': 290\n",
    "}\n",
    "\n",
    "for a in animals:\n",
    "    animal_df = livestock_rows_df[np.logical_and.reduce([\n",
    "        livestock_rows_df['animal'] == a,\n",
    "        livestock_rows_df['source'] == 'GPW',\n",
    "        livestock_rows_df['density'] < max_density[a]\n",
    "    ])]\n",
    "    animal_df.loc[:,'total_pixels'] = animal_df['total_pixels'] / animal_df['total_pixels'].sum()\n",
    "    pred_intervals_check.append(\n",
    "        {\n",
    "            'Animal': a.title(),\n",
    "            'Inside': ((animal_df['inside_pred_interval'] == 1).astype('int') * animal_df['total_pixels']).sum()\n",
    "        }\n",
    "    )\n",
    "\n",
    "pd.DataFrame(pred_intervals_check).set_index('Animal').plot(kind='barh', legend=False, xlabel=\"Prediction Interval Coverage Probability\")"
   ]
  },
  {
   "cell_type": "code",
   "execution_count": null,
   "id": "57fe64f5-addb-4073-bf5a-08cc88cdb7ce",
   "metadata": {},
   "outputs": [],
   "source": [
    "#%%\n",
    "#https://rowannicholls.github.io/python/statistics/agreement/concordance_correlation_coefficient.html\n",
    "#https://github.com/stylianos-kampakis/supervisedPCA-Python/blob/master/Untitled.py\n",
    "import pandas as pd\n",
    "import numpy as np\n",
    "from sklearn.metrics import make_scorer\n",
    "from statsmodels.stats.weightstats import DescrStatsW\n",
    "\n",
    "def NormRootMeanSqrtErr(y_true, y_pred, type = \"minmax\"):\n",
    "    \"\"\"\n",
    "    Normalized Root Mean Square Error.\n",
    "    \n",
    "    interpretation: smaller is better.\n",
    "\n",
    "    Args:\n",
    "        y_true ([np.array]): test samples\n",
    "        y_pred ([np.array]): predicted samples\n",
    "        type (str): type of normalization. default is \"minmax\"\n",
    "        - sd (standard deviation) : it divides the value by the standard deviation of the data.\n",
    "        - mean (mean) : it divides the value by the mean of the data.\n",
    "        - minmax (min-max) : it divides the value by the range of the data.\n",
    "        - iqr (interquartile range) : it divides the value by the interquartile range of the data.\n",
    "\n",
    "    Returns:\n",
    "        [float]: normalized root mean square error\n",
    "    \"\"\"\n",
    "    if type==\"sd\":\n",
    "        return np.sqrt(mean_squared_error(y_true, y_pred))/np.std(y_true)\n",
    "    elif type==\"mean\":\n",
    "        return np.sqrt(mean_squared_error(y_true, y_pred))/np.mean(y_true)\n",
    "    elif type==\"minmax\":\n",
    "        return np.sqrt(mean_squared_error(y_true, y_pred))/(np.max(y_true) - np.min(y_true))\n",
    "    elif type==\"iqr\":\n",
    "        return np.sqrt(mean_squared_error(y_true, y_pred))/(np.quantile(y_true, 0.75) - np.quantile(y_true, 0.25))\n",
    "    elif type!=\"\":\n",
    "        raise ValueError(\"type must be either 'sd', 'mean', 'minmax', or 'iqr'\")\n",
    "\n",
    "def concordance_correlation_coefficient(y_true, y_pred):\n",
    "    \"\"\"Concordance correlation coefficient.\"\"\"\n",
    "    # Raw data\n",
    "    dct = {\n",
    "        'y_true': y_true,\n",
    "        'y_pred': y_pred\n",
    "    }\n",
    "    wei = np.ones(len(y_true))\n",
    "    df = pd.DataFrame(dct)\n",
    "    # Remove NaNs\n",
    "    df = df.dropna()\n",
    "    # Pearson product-moment correlation coefficients\n",
    "    y_true = df['y_true']\n",
    "    y_pred = df['y_pred']\n",
    "    #cor = np.corrcoef(y_true, y_pred)[0][1]\n",
    "    cor = DescrStatsW(df.to_numpy(), weights=wei).corrcoef[0][1]\n",
    "    # Means\n",
    "    mean_true = np.average(y_true, weights=wei)\n",
    "    mean_pred = np.average(y_pred, weights=wei)\n",
    "    # Population variances\n",
    "    #var_true = np.var(y_true)\n",
    "    var_true = DescrStatsW(y_true, weights=wei).var\n",
    "    #print(var_true, var_true1)\n",
    "    #var_pred = np.var(y_pred)\n",
    "    var_pred = DescrStatsW(y_pred, weights=wei).var\n",
    "    # Population standard deviations\n",
    "    sd_true = DescrStatsW(y_true, weights=wei).std\n",
    "    sd_pred = DescrStatsW(y_pred, weights=wei).std\n",
    "    # Calculate CCC\n",
    "    numerator = 2 * cor * sd_true * sd_pred\n",
    "    denominator = var_true + var_pred + (mean_true - mean_pred)**2\n",
    "\n",
    "    return numerator / denominator\n",
    "\n",
    "ccc_scorer = make_scorer(concordance_correlation_coefficient, greater_is_better=True)"
   ]
  },
  {
   "cell_type": "code",
   "execution_count": null,
   "id": "b5f27245-d1ae-4237-ae32-a59d1b3f16bb",
   "metadata": {
    "tags": []
   },
   "outputs": [],
   "source": [
    "from sklearn.metrics import r2_score, mean_squared_error\n",
    "from sklearn.metrics import mean_absolute_error, mean_squared_log_error, mean_absolute_percentage_error, d2_tweedie_score\n",
    "\n",
    "import math\n",
    "import seaborn as sns\n",
    "import matplotlib.pyplot as plt\n",
    "\n",
    "sns.set_theme(style=\"whitegrid\", palette=\"deep\")\n",
    "sns.set_context(\"notebook\")\n",
    "\n",
    "max_density = {\n",
    "    'cattle': 4271,\n",
    "    'sheep': 344,\n",
    "    'goat': 279,\n",
    "    'horse': 42,\n",
    "    'buffalo': 290\n",
    "}\n",
    "\n",
    "def compute_accuracy(df, predicted_col, animal, max_density):\n",
    "    mask = np.logical_and.reduce([\n",
    "        ~np.isnan(df[predicted_col]), \n",
    "        df[predicted_col] > 0,\n",
    "        df['animal'] == animal,\n",
    "        df['source'] == 'GPW',\n",
    "        df['density'] < max_density[animal],\n",
    "    ])\n",
    "    \n",
    "    result = {}\n",
    "    result[f'R2'] = r2_score(df[mask][expected_col], df[mask][predicted_col])\n",
    "    result[f'NRMSE'] = NormRootMeanSqrtErr(df[mask][expected_col], df[mask][predicted_col], 'sd')\n",
    "    result[f'MSLE'] = mean_squared_log_error(df[mask][expected_col], df[mask][predicted_col])\n",
    "    result[f'MAPE'] = mean_absolute_percentage_error(df[mask][expected_col], df[mask][predicted_col])\n",
    "    result[f'D2'] = d2_tweedie_score(df[mask][expected_col], df[mask][predicted_col], power=1.5)\n",
    "    result[f'CCC'] = concordance_correlation_coefficient(df[mask][expected_col], df[mask][predicted_col])\n",
    "    result['Animal'] = animal.title()\n",
    "    result['Model'] = predicted_col\n",
    "    \n",
    "    return result\n",
    "\n",
    "def plot_accuracy(acc_result, metrics, mscales):\n",
    "    n_metrics = len(metrics)\n",
    "    fig, axs = plt.subplots(ncols=n_metrics, figsize=(n_metrics*3,2))\n",
    "    plt.tight_layout(pad=-0.5)\n",
    "\n",
    "    for i, metric, mscale in zip(range(0,len(metrics)), metrics, mscales):\n",
    "        sns.barplot(x=metric, y='Animal', hue='Model', data=acc_result, ax=axs[i], alpha=0.9)\n",
    "        scale = 1 / mscale\n",
    "        mix_tick, max_tick = math.floor(acc_result[metric].min() * scale) / scale, math.ceil(acc_result[metric].max() * scale) / scale\n",
    "        if i > 0:\n",
    "            axs[i].set(yticklabels=[], ylabel=\"\")\n",
    "            axs[i].legend_.remove()\n",
    "        else:\n",
    "            sns.move_legend(axs[i], \"center left\", bbox_to_anchor=(-0.03, 1.10), ncol=3, title='')\n",
    "        #axs[i].set_xticks(np.arange(0, max_tick+mscale, mscale))\n",
    "\n",
    "expected_col = 'total'\n",
    "cols = ['eml_msum', 'rf_msum', 'lgb_msum']\n",
    "#animals = ['cattle', 'buffalo', 'horse']\n",
    "animals = ['goat', 'sheep']\n",
    "col_remap = {\n",
    "    'eml_msum': 'Ensemble',\n",
    "    'rf_msum': 'Random forest',\n",
    "    'lgb_msum': 'Gradient-boosted trees',\n",
    "}\n",
    "\n",
    "metrics = ['R2', 'CCC', 'NRMSE']\n",
    "mscales = [0.1, 0.1, 0.25]\n",
    "\n",
    "acc_result = []\n",
    "for animal in animals:\n",
    "    for c in cols:\n",
    "        acc_result.append(compute_accuracy(livestock_rows_df, c, animal, max_density))\n",
    "        \n",
    "acc_result = pd.DataFrame(acc_result)\n",
    "acc_result['Model'] = acc_result['Model'].map(col_remap)\n",
    "\n",
    "plot_accuracy(acc_result, metrics, mscales)"
   ]
  },
  {
   "cell_type": "code",
   "execution_count": null,
   "id": "389d33e0-cd94-4eac-9805-cd22b53a049e",
   "metadata": {
    "tags": []
   },
   "outputs": [],
   "source": []
  },
  {
   "cell_type": "code",
   "execution_count": null,
   "id": "95dbfa57-913d-4e59-9fee-324a915cbf71",
   "metadata": {},
   "outputs": [],
   "source": []
  }
 ],
 "metadata": {
  "kernelspec": {
   "display_name": "Python 3 (ipykernel)",
   "language": "python",
   "name": "python3"
  },
  "language_info": {
   "codemirror_mode": {
    "name": "ipython",
    "version": 3
   },
   "file_extension": ".py",
   "mimetype": "text/x-python",
   "name": "python",
   "nbconvert_exporter": "python",
   "pygments_lexer": "ipython3",
   "version": "3.8.16"
  }
 },
 "nbformat": 4,
 "nbformat_minor": 5
}
