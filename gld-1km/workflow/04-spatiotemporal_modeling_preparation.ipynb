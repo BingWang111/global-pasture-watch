{
 "cells": [
  {
   "cell_type": "code",
   "execution_count": null,
   "id": "062e4c5d-c762-44d0-880f-b6acacb9abf0",
   "metadata": {
    "tags": []
   },
   "outputs": [],
   "source": [
    "import sys\n",
    "sys.path.insert(0,'./scikit-map')\n",
    "import skmap\n",
    "print(skmap.__file__)"
   ]
  },
  {
   "cell_type": "code",
   "execution_count": null,
   "id": "0e875173-d490-4b6b-9fa6-516e31277dc1",
   "metadata": {
    "tags": []
   },
   "outputs": [],
   "source": [
    "wd = '/mnt/tupi/WRI/livestock_global_modeling/'"
   ]
  },
  {
   "cell_type": "markdown",
   "id": "138685d9-20c0-4e48-90a2-d688c590fb80",
   "metadata": {
    "tags": []
   },
   "source": [
    "## Polygon samples"
   ]
  },
  {
   "cell_type": "code",
   "execution_count": null,
   "id": "44b3af0b-65d3-4eb6-8384-094e5ad92429",
   "metadata": {
    "tags": []
   },
   "outputs": [],
   "source": [
    "import geopandas as gpd\n",
    "import joblib\n",
    "#polygons_fn = f'{wd}livestock_census_ard/gpw_livestock.animals_gpw.fao.glw3_polygon.samples_20000101_20231231_go_epsg.4326_v1.gpkg'\n",
    "#polygon_samples = gpd.read_file(polygons_fn)\n",
    "polygon_samples = joblib.load('polygon_samples.lz4')\n",
    "polygon_samples"
   ]
  },
  {
   "cell_type": "markdown",
   "id": "26c747f3-a6c6-4176-8679-2814b00f746d",
   "metadata": {
    "tags": []
   },
   "source": [
    "## Features"
   ]
  },
  {
   "cell_type": "code",
   "execution_count": null,
   "id": "88120de5-105e-4d59-898e-0e4a32b205a8",
   "metadata": {
    "tags": []
   },
   "outputs": [],
   "source": [
    "import pandas as pd\n",
    "from pathlib import Path\n",
    "\n",
    "livestock_covs = pd.read_csv(f'{wd}/livestock_census_ard/livestock_cov.csv')\n",
    "livestock_covs"
   ]
  },
  {
   "cell_type": "code",
   "execution_count": null,
   "id": "2ebb596f-796d-4537-a006-f90cd374ea3b",
   "metadata": {
    "scrolled": true,
    "tags": []
   },
   "outputs": [],
   "source": [
    "import numpy as np\n",
    "\n",
    "prefixes = [\n",
    "    'bare', 'crop', 'clm_accum.precipitation', 'clm_lst_mod11a2.nighttime_p50', 'clm_lst_mod11a2.nighttime.trend_p50',\n",
    "    'clm_lst_mod11a2.daytime_p50', 'clm_lst_mod11a2.daytime.trend_p50', 'clm_lst_max.geom', 'clm_lst_min.geom', \n",
    "    'veg_blue_mod13q1.v061_p50_', 'veg_mir_mod13q1.v061_p50_', 'veg_red_mod13q1.v061_p50_', 'veg_nir_mod13q1.v061_p50_',  'veg_ndvi_mod13q1.v061.trend_p50_', \n",
    "    'easterness_','filtered.dtm_','flow.accum_','geomorphon_', 'hillshade_','lcv_', 'neg.openness_', 'northerness_', 'nosink_', \n",
    "    'pop.count_','pos.openness_', 'slope_','spec.catch.area.factor_','wilderness_','wv_','surface.water','wetlands_',\n",
    "    'lcv_wetlands','forest.cover', 'gdp.per.capita', 'hdi',\n",
    "]\n",
    "n_prefixes = ['clm_lst_mod11a2.nighttime_sd', 'clm_lst_mod11a2.daytime_sd', \n",
    "              'lcv_water.distance_glad.interanual.dynamic.classes', 'lcv_bare.surface_landsat.', 'bsf']\n",
    "\n",
    "def _covs(layernames, prefixes, n_prefixes):\n",
    "    return layernames[\n",
    "        np.logical_and(\n",
    "            np.logical_or.reduce(\n",
    "                [ layernames.str.contains(p) for p in prefixes ]\n",
    "            ),\n",
    "            np.logical_not(np.logical_or.reduce(\n",
    "                [ layernames.str.contains(p) for p in n_prefixes ]\n",
    "        ))\n",
    "    )]\n",
    "\n",
    "static_covs = _covs(livestock_covs[livestock_covs['type'] == 'static'].layername, prefixes, n_prefixes)\n",
    "temporal_covs = _covs(livestock_covs[livestock_covs['type'] == 'temporal'].layername, prefixes, n_prefixes)"
   ]
  },
  {
   "cell_type": "markdown",
   "id": "4bddd8e3-84f3-4d1f-b75e-0b3cc4938707",
   "metadata": {},
   "source": [
    "## Modeling"
   ]
  },
  {
   "cell_type": "code",
   "execution_count": null,
   "id": "f1ab38ce-4e76-46e9-929d-65401d0c7c5e",
   "metadata": {
    "tags": []
   },
   "outputs": [],
   "source": [
    "import geopandas as gpd\n",
    "import joblib\n",
    "\n",
    "livestock_polygons = joblib.load(f'{wd}/livestock_census_raw/gpw_livestock.animals_gpw.fao.glw3_polygon.samples_20000101_20231231_go_epsg.4326_v1.lz4')\n",
    "#livestock_polygons = joblib.load('/mnt/tupi/WRI/internal-develop/gpw/livestock-modeling/faostat_livestock_all.lz4')\n",
    "livestock_polygons"
   ]
  },
  {
   "cell_type": "code",
   "execution_count": null,
   "id": "f5589e7d-6277-4b6a-989b-3a886d5446b4",
   "metadata": {
    "tags": []
   },
   "outputs": [],
   "source": [
    "import pandas as pd\n",
    "livestock_zonal = pd.read_parquet('livestock_zonal_ultimate.pq')\n",
    "#livestock_zonal = pd.read_parquet('livestock_zonal_ultimate_faostat.pq')\n",
    "livestock_zonal"
   ]
  },
  {
   "cell_type": "code",
   "execution_count": null,
   "id": "5121ddd4-fb63-482c-a037-c6fe860d6192",
   "metadata": {
    "tags": []
   },
   "outputs": [],
   "source": [
    "sample_cols = list(livestock_zonal.columns.drop('polygon_idx')) + ['gazID', 'gazName', 'source', 'level', 'country']\n",
    "#sample_cols = list(livestock_zonal.columns.drop('polygon_idx')) + ['gazID', 'gazName', 'source']\n",
    "\n",
    "livestock_zonal = livestock_zonal.set_index('polygon_idx', drop=True).merge(\n",
    "    livestock_polygons,\n",
    "    left_index = True,\n",
    "    right_index = True\n",
    ")\n",
    "\n",
    "livestock_zonal"
   ]
  },
  {
   "cell_type": "code",
   "execution_count": null,
   "id": "14bf0bd3-d09a-42d7-aad9-36e27ddecd7b",
   "metadata": {
    "scrolled": true,
    "tags": []
   },
   "outputs": [],
   "source": [
    "import numpy as np\n",
    "import math\n",
    "livestock_samples = []\n",
    "\n",
    "animals = ['cattle', 'horse', 'goat', 'sheep', 'buffalo']\n",
    "igh = '+proj=igh +lon_0=0 +x_0=0 +y_0=0 +datum=WGS84 +units=m +no_defs +type=crs'\n",
    "representative_point = gpd.GeoSeries(livestock_zonal['geometry']).representative_point()\n",
    "gpd.GeoSeries(livestock_zonal['geometry'])\n",
    "\n",
    "for year, rows in livestock_zonal.groupby('year'):\n",
    "    \n",
    "    print(f\"Preparing {rows.shape} rows for {year}\")\n",
    "    row_cols = list(sample_cols) + ['x', 'y', '1_radius']\n",
    "    \n",
    "    for animal in animals:\n",
    "        density_col = f'{animal}_density'\n",
    "        rows[density_col] = rows[f'{animal}_{year}'] / rows['livestock_area_km']\n",
    "        row_cols.append(density_col)\n",
    "        \n",
    "        heads_col = f'{animal}_heads'\n",
    "        rows[heads_col] = rows[f'{animal}_{year}']\n",
    "        row_cols.append(heads_col)\n",
    "        \n",
    "        rows.loc[np.isinf(rows[f'{animal}_density']),f'{animal}_density'] = np.nan\n",
    "        rows.loc[rows[f'{animal}_density'] == 0,f'{animal}_density'] = np.nan\n",
    "    \n",
    "    # Handleling multi-part polygons\n",
    "    #rows['1_radius'] = gpd.GeoSeries(rows['geometry']).to_crs(igh).minimum_bounding_circle().area.apply(lambda f: 1/math.sqrt(f / math.pi)).mean()\n",
    "    \n",
    "    # Handleling multi-part polygons\n",
    "    rows_wei = gpd.GeoDataFrame(rows['geometry']).to_crs(igh).explode()\n",
    "    rows_wei['1_radius'] = rows_wei.minimum_bounding_circle().area\n",
    "    rows_wei['1_radius'] = rows_wei['1_radius'].apply(lambda f: 1/math.sqrt(f / math.pi))\n",
    "    rows['1_radius'] = rows_wei['1_radius'].groupby(level='polygon_idx').max()\n",
    "    \n",
    "    rows['x'] = gpd.GeoSeries(rows['geometry']).representative_point().x\n",
    "    rows['y'] = gpd.GeoSeries(rows['geometry']).representative_point().y\n",
    "    livestock_samples.append(rows[row_cols])\n",
    "\n",
    "livestock_samples = pd.concat(livestock_samples).reset_index(drop=True)\n",
    "livestock_samples"
   ]
  },
  {
   "cell_type": "code",
   "execution_count": null,
   "id": "46970fd1-c4df-4d71-910b-d2ab6675c5ef",
   "metadata": {
    "tags": []
   },
   "outputs": [],
   "source": [
    "red = 'veg_red_mod13q1.v061_p50_250m_s0..0cm_year.05.01..year.05.31_v1'\n",
    "nir = 'veg_nir_mod13q1.v061_p50_250m_s0..0cm_year.05.01..year.05.31_v1'\n",
    "livestock_samples['veg_ndvi_mod13q1.v061_p50_250m_s0..0cm_year.05.01..year.05.31_v1'] = (livestock_samples[nir] - livestock_samples[red]) / (livestock_samples[nir] + livestock_samples[red])"
   ]
  },
  {
   "cell_type": "code",
   "execution_count": null,
   "id": "27234ae9-87cf-499f-9716-b60f27c42b26",
   "metadata": {
    "tags": []
   },
   "outputs": [],
   "source": [
    "import numexpr as ne\n",
    "from datetime import datetime\n",
    "import math\n",
    "\n",
    "def geo_temp(fi, day, a=37.03043, b=-15.43029):\n",
    "    f =fi\n",
    "    pi = math.pi \n",
    "\n",
    "    #math.cos((day - 18) * math.pi / 182.5 + math.pow(2, (1 - math.copysign(1, fi))) * math.pi) \n",
    "    sign = 'where(abs(fi) - fi == 0, 1, -1)'\n",
    "    costeta = f\"cos((day - 18) * pi / 182.5 + 2**(1 - {sign}) * pi)\"\n",
    "\n",
    "    #math.cos(fi * math.pi / 180)\n",
    "    cosfi = \"cos(fi * pi / 180)\"\n",
    "    A = cosfi\n",
    "\n",
    "    #(1 - costeta) * abs(math.sin(fi * math.pi / 180) )\n",
    "    B = f\"(1 - {costeta}) * abs(sin(fi * pi / 180) )\"\n",
    "\n",
    "    x = f\"(a * {A} + b * {B})\"\n",
    "    return ne.evaluate(x)\n",
    "\n",
    "def add_geo_temp(pts):\n",
    "\n",
    "    elev_corr = 0.006 * pts['filtered.dtm_edtm_m_240m_s_20000101_20221231_go_epsg.4326_v20240528'].to_numpy() * 0.1\n",
    "\n",
    "    for m in range(1,13):\n",
    "        doy = (datetime.strptime(f'2000-{m}-15', '%Y-%m-%d').timetuple().tm_yday)\n",
    "        max_temp_name = f'clm_lst_max.geom.temp_m_30m_s_m{m}' \n",
    "        min_temp_name = f'clm_lst_min.geom.temp_m_30m_s_m{m}'\n",
    "        print(f\"Adding {max_temp_name} & {min_temp_name}\")\n",
    "        pts[max_temp_name] = ((geo_temp(pts['y'].to_numpy(), day=doy, a=37.03043, b=-15.43029) - elev_corr) * 100).round()\n",
    "        pts[min_temp_name] = ((geo_temp(pts['y'].to_numpy(), day=doy, a=24.16453, b=-15.71751) - elev_corr) * 100).round()\n",
    "\n",
    "    return(pts)\n",
    "\n",
    "livestock_samples = add_geo_temp(livestock_samples)\n",
    "livestock_samples"
   ]
  },
  {
   "cell_type": "code",
   "execution_count": null,
   "id": "19b96085-4ac8-4a53-9576-c28cfc641f83",
   "metadata": {
    "tags": []
   },
   "outputs": [],
   "source": [
    "livestock_samples_bkp = livestock_samples.copy()\n",
    "livestock_samples_bkp\n",
    "\n",
    "#livestock_samples = livestock_samples_bkp.copy()\n",
    "#livestock_samples"
   ]
  },
  {
   "cell_type": "code",
   "execution_count": null,
   "id": "feb2ec83-740e-450b-ab63-c83dad75fcc0",
   "metadata": {
    "tags": []
   },
   "outputs": [],
   "source": [
    "meta_cols = ['gazID', 'gazName', 'source', 'level', 'country', 'x', 'y', '1_radius', 'year', 'mask_layer', 'livestock_area_km', \n",
    "             'cattle_density', 'horse_density', 'goat_density', 'sheep_density', 'buffalo_density', \n",
    "             'cattle_heads', 'horse_heads', 'goat_heads', 'sheep_heads', 'buffalo_heads']\n",
    "covs = sorted(list(livestock_samples.columns.drop(meta_cols)))"
   ]
  },
  {
   "cell_type": "code",
   "execution_count": null,
   "id": "f835fd1c-1124-4619-a037-ff16dcb0796f",
   "metadata": {
    "tags": []
   },
   "outputs": [],
   "source": [
    "n_heads_zero_th = livestock_samples[np.logical_and.reduce([\n",
    "    livestock_samples['livestock_area_km'] == 0,\n",
    "    np.any(np.isnan(livestock_samples[covs]),1) == False\n",
    "])][[ f'{a}_heads' for a in animals ]].median().to_dict()\n",
    "\n",
    "for k in n_heads_zero_th.keys():\n",
    "    print(k)\n",
    "    to_drop = livestock_samples[np.logical_and.reduce([\n",
    "        livestock_samples['livestock_area_km'] == 0,\n",
    "        livestock_samples[k] > n_heads_zero_th[k],\n",
    "    ])].index\n",
    "    \n",
    "    to_zero = livestock_samples[np.logical_and.reduce([\n",
    "        livestock_samples['livestock_area_km'] == 0,\n",
    "        livestock_samples[k] <= n_heads_zero_th[k],\n",
    "    ])].index\n",
    "    \n",
    "    livestock_samples = livestock_samples.drop(index=to_drop)\n",
    "    print(f\"Removing {to_drop.shape[0]} samples\")\n",
    "    \n",
    "    livestock_samples.loc[to_zero, k.replace('_heads','_density')] = 0\n",
    "    print(f\"Inputing zeros {to_zero.shape[0]} samples\")"
   ]
  },
  {
   "cell_type": "code",
   "execution_count": null,
   "id": "be4b2c85-fa83-4283-a0b5-529cd7f17845",
   "metadata": {
    "tags": []
   },
   "outputs": [],
   "source": [
    "livestock_samples[np.isnan(livestock_samples['lcv_snow.duration_global.snowpack_m_500m_0..0cm_year_v04042022'])]['gazName']"
   ]
  },
  {
   "cell_type": "code",
   "execution_count": null,
   "id": "f1cde814-864e-4cc3-931b-0118ebf65f74",
   "metadata": {
    "tags": []
   },
   "outputs": [],
   "source": [
    "import numpy as np\n",
    "from eumap.misc import ttprint\n",
    "\n",
    "any_nan_samples = np.sum(np.isnan(livestock_samples[covs].to_numpy()).astype('int'), axis=0)\n",
    "cols_to_remove = []\n",
    "\n",
    "for th in [1, 0.5, 0.2, 0.1, 0.05, 0.02]:\n",
    "    ttprint(f\"Columns with {th*100}% of nan values\")\n",
    "    for c,s in zip(covs, any_nan_samples):\n",
    "        if s > (livestock_samples.shape[0] * th):\n",
    "            ttprint(f' - {s} => {c}')\n",
    "            cols_to_remove += [c]\n",
    "\n",
    "cols_to_remove = set(cols_to_remove)\n",
    "ttprint(cols_to_remove)\n",
    "ttprint(f\"Removing {len(cols_to_remove)} columns (>= {th*100}% of nan values)\")"
   ]
  },
  {
   "cell_type": "code",
   "execution_count": null,
   "id": "10954412-5a3d-4553-b4a1-6e79074aae8a",
   "metadata": {
    "tags": []
   },
   "outputs": [],
   "source": [
    "livestock_samples = livestock_samples.drop(columns=cols_to_remove)"
   ]
  },
  {
   "cell_type": "code",
   "execution_count": null,
   "id": "301b4fed-c357-4913-9d57-d0b9cd929e0a",
   "metadata": {
    "tags": []
   },
   "outputs": [],
   "source": [
    "covs = sorted(list(livestock_samples.columns.drop(meta_cols)))"
   ]
  },
  {
   "cell_type": "code",
   "execution_count": null,
   "id": "dd9137de-053b-422d-9702-b5fad7d6ebb3",
   "metadata": {
    "tags": []
   },
   "outputs": [],
   "source": [
    "nan_samples = livestock_samples[np.any(np.isnan(livestock_samples[covs].to_numpy()).astype('int'), axis=1)].index\n",
    "ttprint(f\"Removing {len(nan_samples)} samples with at least one column with nan\")\n",
    "livestock_samples = livestock_samples.drop(nan_samples)\n",
    "\n",
    "density_cols = livestock_samples.columns[livestock_samples.columns.str.contains('_density')]\n",
    "dnan_samples = livestock_samples[np.all(np.isnan(livestock_samples[density_cols].to_numpy()), axis=1)].index\n",
    "ttprint(f\"Removing {len(dnan_samples)} samples with all densities nan\")\n",
    "livestock_samples = livestock_samples.drop(dnan_samples)\n",
    "\n",
    "livestock_samples"
   ]
  },
  {
   "cell_type": "code",
   "execution_count": null,
   "id": "de6338bc-5ec2-4ba8-a171-7303a69db516",
   "metadata": {
    "scrolled": true,
    "tags": []
   },
   "outputs": [],
   "source": [
    "list(livestock_samples.columns)"
   ]
  },
  {
   "cell_type": "code",
   "execution_count": null,
   "id": "35050028-0b13-46fc-b976-f980cffd2a3e",
   "metadata": {
    "tags": []
   },
   "outputs": [],
   "source": [
    "livestock_samples[livestock_samples['gazName'].isnull()]['sheep_density'].plot(kind='hist', bins=64,  histtype='step', linewidth=1.5, log=True, legend=True)"
   ]
  },
  {
   "cell_type": "code",
   "execution_count": null,
   "id": "b83b6c8b-2d28-412f-9e58-ac8daca42bdf",
   "metadata": {
    "tags": []
   },
   "outputs": [],
   "source": [
    "# Compromise the train, test, calibration split\n",
    "nan_gazname = livestock_samples['gazName'].isnull()\n",
    "ttprint(f\"Fixing {len(nan_samples)} samples without gazName\")\n",
    "#livestock_samples = livestock_samples.drop(nan_gazname)\n",
    "\n",
    "livestock_samples.loc[nan_gazname,'gazName'] = livestock_samples[nan_gazname]['gazID']"
   ]
  },
  {
   "cell_type": "code",
   "execution_count": null,
   "id": "cab56362-a452-41b1-bb94-63c944921434",
   "metadata": {
    "tags": []
   },
   "outputs": [],
   "source": [
    "animals = ['cattle', 'horse', 'goat', 'sheep', 'buffalo']\n",
    "calib_pct = 0.1\n",
    "test_pct = 0.1\n",
    "\n",
    "for animal in animals:\n",
    "    \n",
    "    mask = np.logical_not(np.isnan(livestock_samples[f'{animal}_density']))\n",
    "    animal_samples = livestock_samples[mask]\n",
    "    \n",
    "    gaz_names = pd.Series(animal_samples['gazName'].unique())    \n",
    "    \n",
    "    n_names = gaz_names.shape[0]\n",
    "    test_names = gaz_names.sample(int(n_names * test_pct))\n",
    "    calib_names = gaz_names.drop(test_names.index).sample(int(n_names * test_pct))\n",
    "    \n",
    "    test_mask = np.logical_and.reduce([\n",
    "        mask,\n",
    "        livestock_samples['gazName'].isin(test_names)\n",
    "    ])\n",
    "    calib_mask = np.logical_and.reduce([\n",
    "        mask,\n",
    "        livestock_samples['gazName'].isin(calib_names)\n",
    "    ])\n",
    "    \n",
    "    ttprint(f\"{animal} shape: {np.sum(mask.astype('int'))}\")\n",
    "    ttprint(f\"Testing shape: {np.sum(test_mask.astype('int'))}\")\n",
    "    ttprint(f\"Calibration shape: {np.sum(calib_mask.astype('int'))}\")\n",
    "    \n",
    "    livestock_samples.loc[mask, f'ind_{animal}'] = 1\n",
    "    livestock_samples.loc[mask, f'{animal}_ml_type'] = 'training'\n",
    "    livestock_samples.loc[test_mask, f'{animal}_ml_type'] = 'testing'\n",
    "    livestock_samples.loc[calib_mask, f'{animal}_ml_type'] = 'calibration'\n",
    "\n",
    "livestock_samples"
   ]
  },
  {
   "cell_type": "code",
   "execution_count": null,
   "id": "ea219e50-5f90-4103-9c26-7911ab4bda80",
   "metadata": {
    "tags": []
   },
   "outputs": [],
   "source": [
    "livestock_samples['weight'] = np.nan\n",
    "meta_cols += ['weight']\n",
    "\n",
    "for animal in animals:\n",
    "    mask = (livestock_samples[f'ind_{animal}'] == 1)\n",
    "    \n",
    "    rmin, rmax = livestock_samples[mask]['1_radius'].min(), livestock_samples[mask]['1_radius'].max()\n",
    "    livestock_samples.loc[mask, 'weight'] = (livestock_samples[mask]['1_radius'] - rmin*0.1) / (rmax - rmin*0.1)\n",
    "    \n",
    "    print(mask.value_counts(), livestock_samples[mask]['weight'].min(), livestock_samples[mask]['weight'].max())"
   ]
  },
  {
   "cell_type": "code",
   "execution_count": null,
   "id": "ac8fb3bc-de6c-43a9-bb3b-4971076b08dc",
   "metadata": {
    "tags": []
   },
   "outputs": [],
   "source": [
    "livestock_samples[np.logical_and.reduce([\n",
    "    livestock_samples['weight'] == 0,\n",
    "    livestock_samples['ind_cattle'] == 1,\n",
    "])][['livestock_area_km', 'gazName', '1_radius','weight']]"
   ]
  },
  {
   "cell_type": "code",
   "execution_count": null,
   "id": "bd92fc98-03de-4aec-be9e-480137158695",
   "metadata": {
    "scrolled": true,
    "tags": []
   },
   "outputs": [],
   "source": [
    "meta_cols = meta_cols + [ f'{animal}_ml_type' for animal in animals ]  + [ f'ind_{animal}' for animal in animals ]\n",
    "covs = sorted(list(livestock_samples.columns.drop(meta_cols)))\n",
    "covs"
   ]
  },
  {
   "cell_type": "code",
   "execution_count": null,
   "id": "e8ab50a1-0e4f-4ecb-8b08-968ddd10b368",
   "metadata": {
    "tags": []
   },
   "outputs": [],
   "source": [
    "livestock_samples = livestock_samples[meta_cols + covs].reset_index(drop=True)\n",
    "livestock_samples"
   ]
  },
  {
   "cell_type": "code",
   "execution_count": null,
   "id": "31092ec8-3238-419e-b8ec-91f029c56c5c",
   "metadata": {
    "tags": []
   },
   "outputs": [],
   "source": [
    "livestock_samples[[ f'{a}_density' for a in animals ]] = livestock_samples[[ f'{a}_density' for a in animals ]].round(1)"
   ]
  },
  {
   "cell_type": "code",
   "execution_count": null,
   "id": "45dfc5eb-2a85-4a3d-9f3e-d4a59b9b9284",
   "metadata": {
    "tags": []
   },
   "outputs": [],
   "source": [
    "zero_val = 0.001\n",
    "\n",
    "for animal in animals:\n",
    "    col_density = f'{animal}_density'\n",
    "    col_ind = f'ind_{animal}'\n",
    "    \n",
    "    n_samples = np.sum(livestock_samples[col_ind] == 1)\n",
    "    \n",
    "    mask = np.logical_and.reduce([\n",
    "        livestock_samples[col_ind] == 1,\n",
    "        livestock_samples[col_density] > 0\n",
    "    ])\n",
    "    \n",
    "    q02 = livestock_samples[mask][col_density].quantile(0.02)\n",
    "    mask = np.logical_and.reduce([\n",
    "        livestock_samples[col_ind] == 1,\n",
    "        livestock_samples[col_density] <= q02\n",
    "    ])\n",
    "    print(animal, (np.sum(mask) / n_samples) * 100, q02)\n",
    "    livestock_samples.loc[mask,col_density] = zero_val"
   ]
  },
  {
   "cell_type": "raw",
   "id": "79115469-505a-483e-9d48-5c0063f3cdcd",
   "metadata": {},
   "source": [
    "cattle 2.5711881300395705 3.5\n",
    "horse 4.103032422699776 0.3\n",
    "goat 12.771185642111064 0.1\n",
    "sheep 5.429159095497678 0.2\n",
    "buffalo 39.54949280647086 0.1"
   ]
  },
  {
   "cell_type": "code",
   "execution_count": null,
   "id": "d87154c5-292a-4994-be3e-208292d44a40",
   "metadata": {
    "tags": []
   },
   "outputs": [],
   "source": [
    "cov_idx = livestock_samples.columns.get_loc(list(livestock_samples.columns[livestock_samples.columns.str.contains('ind_')])[-1]) + 1\n",
    "livestock_samples.columns[cov_idx:]"
   ]
  },
  {
   "cell_type": "code",
   "execution_count": null,
   "id": "1f03bee1-2d80-40b3-a2d0-a908134dc261",
   "metadata": {
    "tags": []
   },
   "outputs": [],
   "source": [
    "# Removing lcv_road.distance_osm\n",
    "drop_cols = livestock_samples.columns[np.logical_or.reduce([\n",
    "    livestock_samples.columns.str.contains('distance_osm'),\n",
    "    livestock_samples.columns.str.contains('pop.count')\n",
    "])]\n",
    "\n",
    "livestock_samples = livestock_samples.drop(columns=drop_cols)"
   ]
  },
  {
   "cell_type": "code",
   "execution_count": null,
   "id": "e7e55b14-da34-4ace-9cb0-0f40e95cb345",
   "metadata": {
    "tags": []
   },
   "outputs": [],
   "source": [
    "#livestock_samples.to_parquet(f'{wd}/livestock_census_ard/gpw_livestock.animals_faostat_zonal.samples_20000101_20211231_go_epsg.4326_v1.pq')\n",
    "livestock_samples.to_parquet(f'{wd}/livestock_census_ard/gpw_livestock.animals_gpw.fao.glw3_zonal.samples_20000101_20211231_go_epsg.4326_v1.pq')"
   ]
  },
  {
   "cell_type": "code",
   "execution_count": null,
   "id": "e119a475-0f25-48d0-b342-2959a942e8a5",
   "metadata": {},
   "outputs": [],
   "source": [
    "max_density = {\n",
    "    'cattle': 1428,\n",
    "    'sheep': 534,\n",
    "    'goat': 311,\n",
    "    'horse': 52,\n",
    "    'buffalo': 338,\n",
    "}"
   ]
  },
  {
   "cell_type": "code",
   "execution_count": null,
   "id": "25e658d3-362e-44d5-a5d4-6aac10892f52",
   "metadata": {
    "tags": []
   },
   "outputs": [],
   "source": [
    "import seaborn as sns\n",
    "sns.set_theme(style=\"whitegrid\", palette=\"pastel\")\n",
    "sns.set_context(\"notebook\")\n",
    "\n",
    "animal_types = ['cattle', 'sheep', 'goat', 'horse', 'buffalo']\n",
    "\n",
    "for animal in animal_types:\n",
    "    col_density = f'{animal}_density'\n",
    "    print(animal, livestock_samples[np.logical_and.reduce([\n",
    "        livestock_samples[f'ind_{animal}'] == 1,\n",
    "        livestock_samples[col_density] > 0.001\n",
    "    ])][[col_density]].quantile(q=[0.0,0.01,0.02,0.03,0.04,0.05,0.5,0.95,0.975,0.98,0.99,1.0]).round())\n",
    "    livestock_samples[np.logical_and(livestock_samples[f'ind_{animal}'] == 1,livestock_samples[col_density] < 10000)][[col_density]].plot(kind='hist', bins=64,  histtype='step', linewidth=1.5, log=True, legend=True)"
   ]
  }
 ],
 "metadata": {
  "kernelspec": {
   "display_name": "Python 3 (ipykernel)",
   "language": "python",
   "name": "python3"
  },
  "language_info": {
   "codemirror_mode": {
    "name": "ipython",
    "version": 3
   },
   "file_extension": ".py",
   "mimetype": "text/x-python",
   "name": "python",
   "nbconvert_exporter": "python",
   "pygments_lexer": "ipython3",
   "version": "3.8.16"
  }
 },
 "nbformat": 4,
 "nbformat_minor": 5
}
