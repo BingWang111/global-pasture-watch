{
 "cells": [
  {
   "cell_type": "code",
   "execution_count": 1,
   "id": "5b8ae0fb-8792-411c-9721-e9c9050a844f",
   "metadata": {},
   "outputs": [],
   "source": [
    "from eumap.raster import read_rasters, save_rasters\n",
    "from eumap.misc import find_files, ttprint\n",
    "from eumap import parallel\n",
    "from pathlib import Path\n",
    "import numpy as np\n",
    "import joblib\n",
    "import bottleneck as bn\n",
    "import pandas as pd\n",
    "import geopandas as gpd\n",
    "import rasterio"
   ]
  },
  {
   "cell_type": "markdown",
   "id": "b5946e21-45fd-492d-a76f-6de215dbc585",
   "metadata": {},
   "source": [
    "## Layer aggregation"
   ]
  },
  {
   "cell_type": "code",
   "execution_count": null,
   "id": "a253d440-925b-4bc0-b3ec-ee2531689931",
   "metadata": {},
   "outputs": [],
   "source": [
    "def mean_sd(raster_files, outfile):\n",
    "    data, _ = read_rasters(raster_files=raster_files, n_jobs=4, dtype='float32')\n",
    "    result = np.stack([bn.nanmean(data, axis=-1), bn.nanstd(data, axis=-1)], axis=-1)\n",
    "    outfiles = [ outfile.replace('{op}', 'm'), outfile.replace('{op}', 'std') ]\n",
    "    save_rasters(raster_files[0], outfiles, result)\n",
    "\n",
    "mean_sd(find_files('/mnt/landmark/land1km/layers1km/static/', 'CHELSA_pr*.tif'), \\\n",
    "        './rasters_4326/clm_pre_chelsea.monthly.sum_{op}_1km_s0..0cm_1981..2010_v2.1.tif')\n",
    "mean_sd(find_files('/mnt/landmark/land1km/layers1km/static/', 'clm_lst_*nighttime*p50_*.tif'), \\\n",
    "        './rasters_4326/clm_lst_mod11a2.daytime.monthly.p50_{op}_1km_s0..0cm_2000..2021_v1.2.tif')\n",
    "mean_sd(find_files('/mnt/landmark/land1km/layers1km/static/', 'clm_lst_*daytime*p50_*.tif'), \\\n",
    "        './rasters_4326/clm_lst_mod11a2.nightime.monthly.p50_{op}_1km_s0..0cm_2000..2021_v1.2.tif')\n",
    "mean_sd(find_files('/mnt/landmark/land1km/layers1km/static/', 'clm_snow.prob*p.90*.tif'), \\\n",
    "        './rasters_4326/clm_snow.prob_esacci.p90_{op}_1km_s0..0cm_2000..2012_v2.0.tif')\n"
   ]
  },
  {
   "cell_type": "markdown",
   "id": "8021b163-ff00-4488-b05b-47baf61be189",
   "metadata": {},
   "source": [
    "## Layer Reprojection"
   ]
  },
  {
   "cell_type": "raw",
   "id": "92960c3d-88b4-46a6-a8d9-d697fe1f2e77",
   "metadata": {},
   "source": [
    "find -name '*.tif' -exec echo echo gdalwarp -t_srs 'EPSG:3857' -overwrite -ts 36136 29694 --config GDAL_CACHEMAX 2048 -co BLOCKSIZE=1024 -co BIGTIFF=YES -co COMPRESS=DEFLATE -co NUM_THREADS=8 -co LEVEL=9 -of COG {} ../rasters_3857/\\`basename {}\\`  \\; | bash | parallel -j 16"
   ]
  },
  {
   "cell_type": "markdown",
   "id": "65d033c5-7515-4cc8-8776-0f7a6a6ef2e1",
   "metadata": {},
   "source": [
    "## Load Data"
   ]
  },
  {
   "cell_type": "code",
   "execution_count": 2,
   "id": "73240201-acdb-4eb9-a2d3-97d215203ff8",
   "metadata": {},
   "outputs": [
    {
     "data": {
      "text/plain": [
       "[PosixPath('/mnt/europa/WRI/rasters_3857/clm_lst_mod11a2.daytime.monthly.p50_m_1km_s0..0cm_2000..2021_v1.2.tif'),\n",
       " PosixPath('/mnt/europa/WRI/rasters_3857/clm_lst_mod11a2.daytime.monthly.p50_std_1km_s0..0cm_2000..2021_v1.2.tif'),\n",
       " PosixPath('/mnt/europa/WRI/rasters_3857/clm_lst_mod11a2.nightime.monthly.p50_m_1km_s0..0cm_2000..2021_v1.2.tif'),\n",
       " PosixPath('/mnt/europa/WRI/rasters_3857/clm_lst_mod11a2.nightime.monthly.p50_std_1km_s0..0cm_2000..2021_v1.2.tif'),\n",
       " PosixPath('/mnt/europa/WRI/rasters_3857/clm_pre_chelsea.monthly.sum_m_1km_s0..0cm_1981..2010_v2.1.tif'),\n",
       " PosixPath('/mnt/europa/WRI/rasters_3857/clm_pre_chelsea.monthly.sum_std_1km_s0..0cm_1981..2010_v2.1.tif'),\n",
       " PosixPath('/mnt/europa/WRI/rasters_3857/clm_snow.prob_esacci.p90_m_1km_s0..0cm_2000..2012_v2.0.tif'),\n",
       " PosixPath('/mnt/europa/WRI/rasters_3857/clm_snow.prob_esacci.p90_std_1km_s0..0cm_2000..2012_v2.0.tif'),\n",
       " PosixPath('/mnt/europa/WRI/rasters_3857/dtm_elevation_glo90.copernicus_m_1km_s0..0cm_2019_epsg.4326_v1.0.tif'),\n",
       " PosixPath('/mnt/europa/WRI/rasters_3857/dtm_floodmap.500y_jrc.hazardmapping_m_1km_s0..0cm_1500..2016_v1.0.tif'),\n",
       " PosixPath('/mnt/europa/WRI/rasters_3857/dtm_slope_merit.dem_m_1km_s0..0cm_2017_v1.0.tif'),\n",
       " PosixPath('/mnt/europa/WRI/rasters_3857/lcv_water.occurrence_jrc.gsw_p_1km_s0..0cm_2020_epsg4326.tif'),\n",
       " PosixPath('/mnt/europa/WRI/rasters_3857/CHELSA_bio12_1981-2010_V.2.1.tif'),\n",
       " PosixPath('/mnt/europa/WRI/rasters_3857/CHELSA_bio13_1981-2010_V.2.1.tif'),\n",
       " PosixPath('/mnt/europa/WRI/rasters_3857/CHELSA_bio14_1981-2010_V.2.1.tif')]"
      ]
     },
     "execution_count": 2,
     "metadata": {},
     "output_type": "execute_result"
    }
   ],
   "source": [
    "pasture_layer = find_files('/mnt/europa/WRI/rasters_3857', '*short.veg*')\n",
    "\n",
    "raster_layers = find_files('/mnt/europa/WRI/rasters_3857/', 'clm*.tif') + \\\n",
    "                find_files('/mnt/europa/WRI/rasters_3857/', 'dtm*.tif') + \\\n",
    "                find_files('/mnt/europa/WRI/rasters_3857/', 'lcv_water*.tif') + \\\n",
    "                find_files('/mnt/europa/WRI/rasters_3857/', 'CHELSA*.tif')\n",
    "\n",
    "raster_layers"
   ]
  },
  {
   "cell_type": "code",
   "execution_count": 3,
   "id": "f16e280b-be30-41cd-a02a-aab040d6836b",
   "metadata": {},
   "outputs": [
    {
     "name": "stdout",
     "output_type": "stream",
     "text": [
      "36136 29694 clm_lst_mod11a2.daytime.monthly.p50_m_1km_s0..0cm_2000..2021_v1.2.tif\n",
      "36136 29694 clm_lst_mod11a2.daytime.monthly.p50_std_1km_s0..0cm_2000..2021_v1.2.tif\n",
      "36136 29694 clm_lst_mod11a2.nightime.monthly.p50_m_1km_s0..0cm_2000..2021_v1.2.tif\n",
      "36136 29694 clm_lst_mod11a2.nightime.monthly.p50_std_1km_s0..0cm_2000..2021_v1.2.tif\n",
      "36136 29694 clm_pre_chelsea.monthly.sum_m_1km_s0..0cm_1981..2010_v2.1.tif\n",
      "36136 29694 clm_pre_chelsea.monthly.sum_std_1km_s0..0cm_1981..2010_v2.1.tif\n",
      "36136 29694 clm_snow.prob_esacci.p90_m_1km_s0..0cm_2000..2012_v2.0.tif\n",
      "36136 29694 clm_snow.prob_esacci.p90_std_1km_s0..0cm_2000..2012_v2.0.tif\n",
      "36136 29694 dtm_elevation_glo90.copernicus_m_1km_s0..0cm_2019_epsg.4326_v1.0.tif\n",
      "36136 29694 dtm_floodmap.500y_jrc.hazardmapping_m_1km_s0..0cm_1500..2016_v1.0.tif\n",
      "36136 29694 dtm_slope_merit.dem_m_1km_s0..0cm_2017_v1.0.tif\n",
      "36136 29694 lcv_water.occurrence_jrc.gsw_p_1km_s0..0cm_2020_epsg4326.tif\n",
      "36136 29694 CHELSA_bio12_1981-2010_V.2.1.tif\n",
      "36136 29694 CHELSA_bio13_1981-2010_V.2.1.tif\n",
      "36136 29694 CHELSA_bio14_1981-2010_V.2.1.tif\n"
     ]
    }
   ],
   "source": [
    "import rasterio\n",
    "for r in raster_layers:\n",
    "    ds = rasterio.open(r)\n",
    "    print(ds.width, ds.height, Path(r).name)"
   ]
  },
  {
   "cell_type": "code",
   "execution_count": 5,
   "id": "b43c809b-089e-4ea1-861c-2f61077eaa6a",
   "metadata": {},
   "outputs": [
    {
     "name": "stdout",
     "output_type": "stream",
     "text": [
      "(29694, 36136, 15)\n"
     ]
    }
   ],
   "source": [
    "data, _ = read_rasters(raster_files=raster_layers, n_jobs=10, dtype='float32')\n",
    "print(data.shape)"
   ]
  },
  {
   "cell_type": "code",
   "execution_count": 4,
   "id": "17efdede-9f27-4ef5-ad0d-cc5947a5766f",
   "metadata": {},
   "outputs": [
    {
     "data": {
      "text/plain": [
       "[PosixPath('/mnt/europa/WRI/rasters_3857/lcv_land.cover_esacci.lc.short.veg_c_1km_s0..0cm_2020_v1.0.tif')]"
      ]
     },
     "execution_count": 4,
     "metadata": {},
     "output_type": "execute_result"
    }
   ],
   "source": [
    "pasture_layer"
   ]
  },
  {
   "cell_type": "code",
   "execution_count": 6,
   "id": "95704978-7c92-4691-a39e-6eabd6672ee0",
   "metadata": {},
   "outputs": [],
   "source": [
    "data_mask, _ = read_rasters(raster_files=pasture_layer, n_jobs=1)\n",
    "data_mask = (data_mask >= 1)[:,:,0]"
   ]
  },
  {
   "cell_type": "code",
   "execution_count": 7,
   "id": "fabcbf9b-976a-4171-b69d-f3efdb1443e5",
   "metadata": {},
   "outputs": [],
   "source": [
    "fscs_input = np.ascontiguousarray(data[data_mask])"
   ]
  },
  {
   "cell_type": "code",
   "execution_count": 8,
   "id": "11538e06-cd83-442c-8547-8bd20744ad27",
   "metadata": {},
   "outputs": [
    {
     "data": {
      "text/plain": [
       "['data.joblib']"
      ]
     },
     "execution_count": 8,
     "metadata": {},
     "output_type": "execute_result"
    }
   ],
   "source": [
    "result = {\n",
    "    'data': data,\n",
    "    'data_mask': data_mask,\n",
    "    'fscs_input': fscs_input\n",
    "}\n",
    "joblib.dump(result, 'data.joblib', compress = 'lz4')"
   ]
  },
  {
   "cell_type": "code",
   "execution_count": 2,
   "id": "cf2641b6-f150-4f7f-8d1a-3b299d573b93",
   "metadata": {},
   "outputs": [],
   "source": [
    "result = joblib.load('data.joblib')"
   ]
  },
  {
   "cell_type": "markdown",
   "id": "7e1057cd-b409-4cdd-ba75-e521ba4f8c32",
   "metadata": {},
   "source": [
    "## Feature Space Coverage Sampling"
   ]
  },
  {
   "cell_type": "code",
   "execution_count": 3,
   "id": "586c0e83-69e2-48f8-bcd3-0421b2bf5afa",
   "metadata": {},
   "outputs": [],
   "source": [
    "data = result['data']"
   ]
  },
  {
   "cell_type": "code",
   "execution_count": 9,
   "id": "26288807-579e-4426-bb8c-5a7a270a5d10",
   "metadata": {},
   "outputs": [],
   "source": [
    "not_nan_mask = np.all(~np.isnan(data), axis=-1)\n",
    "not_inf_mask = np.all(~np.isinf(data), axis=-1)\n",
    "fscs_mask = np.logical_and.reduce([data_mask, not_nan_mask, not_inf_mask])"
   ]
  },
  {
   "cell_type": "code",
   "execution_count": 10,
   "id": "d4ffbe19-be9a-4937-9f58-e8221255a29c",
   "metadata": {},
   "outputs": [],
   "source": [
    "fscs_input = data[fscs_mask]"
   ]
  },
  {
   "cell_type": "code",
   "execution_count": 11,
   "id": "cc08f789-19cc-4911-93f2-ca784c085448",
   "metadata": {},
   "outputs": [
    {
     "data": {
      "text/plain": [
       "Pipeline(steps=[('scaler', StandardScaler()),\n",
       "                ('pca',\n",
       "                 PCA(n_components=10, random_state=0, svd_solver='arpack')),\n",
       "                ('kmeans',\n",
       "                 MiniBatchKMeans(batch_size=166411, max_no_improvement=25,\n",
       "                                 n_clusters=10000, n_init=5, random_state=0,\n",
       "                                 verbose=True))],\n",
       "         verbose=True)"
      ]
     },
     "execution_count": 11,
     "metadata": {},
     "output_type": "execute_result"
    }
   ],
   "source": [
    "from sklearn.impute import SimpleImputer\n",
    "from sklearn.preprocessing import StandardScaler\n",
    "from sklearn.decomposition import PCA\n",
    "from sklearn.cluster import MiniBatchKMeans\n",
    "from sklearn.pipeline import Pipeline\n",
    "\n",
    "n_cluster = 10000 \n",
    "n_components = 10\n",
    "batch_size = int(fscs_input.shape[0] / 1024)\n",
    "\n",
    "fscs_model = Pipeline(\n",
    "    steps=[\n",
    "        ('scaler', StandardScaler()), \n",
    "        ('pca', PCA(n_components=n_components, svd_solver='arpack', random_state=0)),\n",
    "        ('kmeans', MiniBatchKMeans(n_clusters=n_cluster, n_init=5, max_no_improvement=25, compute_labels=True, random_state=0, batch_size=batch_size, verbose=True)),\n",
    "    ], verbose=True)\n",
    "\n",
    "fscs_model"
   ]
  },
  {
   "cell_type": "code",
   "execution_count": 12,
   "id": "4ff37162-97d6-4d3d-9d56-7bd2d5a6966d",
   "metadata": {},
   "outputs": [
    {
     "name": "stdout",
     "output_type": "stream",
     "text": [
      "[Pipeline] ............ (step 1 of 3) Processing scaler, total= 1.1min\n",
      "[Pipeline] ............... (step 2 of 3) Processing pca, total=  55.9s\n",
      "Init 1/5 with method: k-means++\n",
      "Inertia for init 1/5: 86792.085938\n",
      "Init 2/5 with method: k-means++\n",
      "Inertia for init 2/5: 86727.406250\n",
      "Init 3/5 with method: k-means++\n",
      "Inertia for init 3/5: 86793.140625\n",
      "Init 4/5 with method: k-means++\n",
      "Inertia for init 4/5: 86719.640625\n",
      "Init 5/5 with method: k-means++\n",
      "Inertia for init 5/5: 86827.664062\n",
      "Minibatch iteration 1/102500: mean batch inertia: 0.191721, ewa inertia: 0.191721 \n",
      "Minibatch iteration 2/102500: mean batch inertia: 0.192278, ewa inertia: 0.191722 \n",
      "Minibatch iteration 3/102500: mean batch inertia: 0.187767, ewa inertia: 0.191714 \n",
      "Minibatch iteration 4/102500: mean batch inertia: 0.188556, ewa inertia: 0.191708 \n",
      "Minibatch iteration 5/102500: mean batch inertia: 0.188037, ewa inertia: 0.191701 \n",
      "Minibatch iteration 6/102500: mean batch inertia: 0.184546, ewa inertia: 0.191687 \n",
      "Minibatch iteration 7/102500: mean batch inertia: 0.184519, ewa inertia: 0.191673 \n",
      "Minibatch iteration 8/102500: mean batch inertia: 0.184731, ewa inertia: 0.191659 \n",
      "Minibatch iteration 9/102500: mean batch inertia: 0.184401, ewa inertia: 0.191645 \n",
      "[MiniBatchKMeans] Reassigning 1455 cluster centers.\n",
      "Minibatch iteration 10/102500: mean batch inertia: 0.183893, ewa inertia: 0.191630 \n",
      "Minibatch iteration 11/102500: mean batch inertia: 0.222876, ewa inertia: 0.191691 \n",
      "Minibatch iteration 12/102500: mean batch inertia: 0.216256, ewa inertia: 0.191739 \n",
      "Minibatch iteration 13/102500: mean batch inertia: 0.219613, ewa inertia: 0.191793 \n",
      "Minibatch iteration 14/102500: mean batch inertia: 0.214303, ewa inertia: 0.191837 \n",
      "Minibatch iteration 15/102500: mean batch inertia: 0.217958, ewa inertia: 0.191888 \n",
      "Minibatch iteration 16/102500: mean batch inertia: 0.223546, ewa inertia: 0.191950 \n",
      "Minibatch iteration 17/102500: mean batch inertia: 0.210625, ewa inertia: 0.191986 \n",
      "Minibatch iteration 18/102500: mean batch inertia: 0.209254, ewa inertia: 0.192020 \n",
      "Minibatch iteration 19/102500: mean batch inertia: 0.209408, ewa inertia: 0.192054 \n",
      "Minibatch iteration 20/102500: mean batch inertia: 0.209594, ewa inertia: 0.192088 \n",
      "Minibatch iteration 21/102500: mean batch inertia: 0.208077, ewa inertia: 0.192120 \n",
      "Minibatch iteration 22/102500: mean batch inertia: 0.209085, ewa inertia: 0.192153 \n",
      "Minibatch iteration 23/102500: mean batch inertia: 0.203973, ewa inertia: 0.192176 \n",
      "Minibatch iteration 24/102500: mean batch inertia: 0.207432, ewa inertia: 0.192206 \n",
      "Minibatch iteration 25/102500: mean batch inertia: 0.202741, ewa inertia: 0.192226 \n",
      "Minibatch iteration 26/102500: mean batch inertia: 0.208822, ewa inertia: 0.192259 \n",
      "Minibatch iteration 27/102500: mean batch inertia: 0.206395, ewa inertia: 0.192286 \n",
      "Minibatch iteration 28/102500: mean batch inertia: 0.206392, ewa inertia: 0.192314 \n",
      "Minibatch iteration 29/102500: mean batch inertia: 0.201766, ewa inertia: 0.192332 \n",
      "Minibatch iteration 30/102500: mean batch inertia: 0.206788, ewa inertia: 0.192360 \n",
      "Minibatch iteration 31/102500: mean batch inertia: 0.203745, ewa inertia: 0.192383 \n",
      "Minibatch iteration 32/102500: mean batch inertia: 0.208018, ewa inertia: 0.192413 \n",
      "Minibatch iteration 33/102500: mean batch inertia: 0.204040, ewa inertia: 0.192436 \n",
      "Minibatch iteration 34/102500: mean batch inertia: 0.203788, ewa inertia: 0.192458 \n",
      "Minibatch iteration 35/102500: mean batch inertia: 0.202322, ewa inertia: 0.192477 \n",
      "Converged (lack of improvement in inertia) at iteration 35/102500\n",
      "Computing label assignment and total inertia\n",
      "[Pipeline] ............ (step 3 of 3) Processing kmeans, total=44.2min\n"
     ]
    },
    {
     "data": {
      "text/plain": [
       "Pipeline(steps=[('scaler', StandardScaler()),\n",
       "                ('pca',\n",
       "                 PCA(n_components=10, random_state=0, svd_solver='arpack')),\n",
       "                ('kmeans',\n",
       "                 MiniBatchKMeans(batch_size=166411, max_no_improvement=25,\n",
       "                                 n_clusters=10000, n_init=5, random_state=0,\n",
       "                                 verbose=True))],\n",
       "         verbose=True)"
      ]
     },
     "execution_count": 12,
     "metadata": {},
     "output_type": "execute_result"
    }
   ],
   "source": [
    "#fscs_distances = fscs_model.fit_transform(fscs_input_sub[np.random.choice(fscs_input_sub.shape[0], 25000000, replace=False)])\n",
    "fscs_model.fit(fscs_input)"
   ]
  },
  {
   "cell_type": "code",
   "execution_count": 18,
   "id": "ff49f068-424e-4d26-9dcb-24c4baea11b8",
   "metadata": {},
   "outputs": [
    {
     "data": {
      "text/plain": [
       "['fscs_model.joblib']"
      ]
     },
     "execution_count": 18,
     "metadata": {},
     "output_type": "execute_result"
    }
   ],
   "source": [
    "joblib.dump(fscs_model, 'fscs_model.joblib', compress = 'lz4')"
   ]
  },
  {
   "cell_type": "markdown",
   "id": "7c42efdc-ec43-484b-8df5-b0b40ac6959a",
   "metadata": {},
   "source": [
    "## Calculating cluster distances"
   ]
  },
  {
   "cell_type": "code",
   "execution_count": 45,
   "id": "bf7d679d-884c-4ed1-8031-89b340e420db",
   "metadata": {},
   "outputs": [
    {
     "data": {
      "text/plain": [
       "(170405809, 15)"
      ]
     },
     "execution_count": 45,
     "metadata": {},
     "output_type": "execute_result"
    }
   ],
   "source": [
    "fscs_input.shape"
   ]
  },
  {
   "cell_type": "code",
   "execution_count": 19,
   "id": "47995b0d-2128-462b-91a1-eb06d5d2bd33",
   "metadata": {},
   "outputs": [
    {
     "name": "stdout",
     "output_type": "stream",
     "text": [
      "[07:16:23] Calculating cluster distances for all samples\n",
      "[08:58:05] End\n"
     ]
    }
   ],
   "source": [
    "import bottleneck as bn\n",
    "\n",
    "indices = np.arange(fscs_input.shape[0])\n",
    "\n",
    "map_fscs_min = []\n",
    "map_fscs_argmin = []\n",
    "\n",
    "def map_fscs_distance(fscs_model, input_data, ind):\n",
    "    fscs_distance = fscs_model.transform(input_data)\n",
    "    return bn.nanmin(fscs_distance, axis=0), ind[bn.nanargmin(fscs_distance, axis=0)]\n",
    "\n",
    "ttprint(\"Calculating cluster distances for all samples\")\n",
    "args = [ (fscs_model, fscs_input[ind], ind) for ind in np.array_split(indices, 10000) ]\n",
    "\n",
    "for (fscs_min, fscs_argmin) in parallel.job(map_fscs_distance, args, n_jobs=-1, joblib_args={'backend': 'threading'}):\n",
    "    map_fscs_min.append(fscs_min)\n",
    "    map_fscs_argmin.append(fscs_argmin)\n",
    "ttprint(\"End\")\n",
    "# 00:00"
   ]
  },
  {
   "cell_type": "code",
   "execution_count": 20,
   "id": "409fcfc2-d5a1-4abd-be59-e97202b60128",
   "metadata": {},
   "outputs": [
    {
     "name": "stdout",
     "output_type": "stream",
     "text": [
      "(10000,) (10000, 10000)\n"
     ]
    }
   ],
   "source": [
    "arg_ind = np.argmin(np.stack(map_fscs_min, axis=0), axis=0)\n",
    "fscs_argmin = np.stack(map_fscs_argmin, axis=0)\n",
    "print(arg_ind.shape, fscs_argmin.shape)"
   ]
  },
  {
   "cell_type": "code",
   "execution_count": 61,
   "id": "32d2ee84-d80d-4f31-b3a3-962d46dd7519",
   "metadata": {},
   "outputs": [
    {
     "data": {
      "text/plain": [
       "(10000,)"
      ]
     },
     "execution_count": 61,
     "metadata": {},
     "output_type": "execute_result"
    }
   ],
   "source": [
    "arg_min.shape"
   ]
  },
  {
   "cell_type": "code",
   "execution_count": 60,
   "id": "daa4e6c3-67e8-453b-a9e1-721ca7fe0c7b",
   "metadata": {},
   "outputs": [
    {
     "data": {
      "text/plain": [
       "array([[115080479, 145945787,  65360628, ..., 103997607, 155019070,\n",
       "        170313051]])"
      ]
     },
     "execution_count": 60,
     "metadata": {},
     "output_type": "execute_result"
    }
   ],
   "source": [
    "arg_min = np.min(np.stack(map_fscs_min, axis=0), axis=0)\n",
    "nearest_center = np.take_along_axis(fscs_argmin, np.stack([arg_ind], axis=0), axis=0)\n",
    "#nearest_center_val = np.take_along_axis(fscs_argmin, np.stack([arg_min], axis=0), axis=0)"
   ]
  },
  {
   "cell_type": "code",
   "execution_count": 22,
   "id": "c4e275fb-9a08-43d0-844d-2debf1ebca4a",
   "metadata": {},
   "outputs": [
    {
     "data": {
      "text/plain": [
       "['fscs_distances.joblib']"
      ]
     },
     "execution_count": 22,
     "metadata": {},
     "output_type": "execute_result"
    }
   ],
   "source": [
    "fscs_distances = {\n",
    "    'map_fscs_min': map_fscs_min,\n",
    "    'map_fscs_argmin': map_fscs_argmin,\n",
    "    'nearest_center': nearest_center\n",
    "}\n",
    "joblib.dump(fscs_distances, 'fscs_distances.joblib')"
   ]
  },
  {
   "cell_type": "markdown",
   "id": "7269515d-8980-4ca4-a04c-1bb647465db1",
   "metadata": {},
   "source": [
    "## Predicting cluster"
   ]
  },
  {
   "cell_type": "code",
   "execution_count": null,
   "id": "00d0e299-251d-49c7-a3bd-9dd8ac9a2186",
   "metadata": {},
   "outputs": [],
   "source": [
    "ttprint(\"Calculating cluster\")\n",
    "clusters = fscs_model.predict(fscs_input)\n",
    "ttprint(\"End\")"
   ]
  },
  {
   "cell_type": "code",
   "execution_count": 64,
   "id": "83dca24e-0b5b-4199-9a5c-7ad9da88db86",
   "metadata": {},
   "outputs": [],
   "source": [
    "val, count = np.unique(clusters, return_counts=True)"
   ]
  },
  {
   "cell_type": "code",
   "execution_count": 86,
   "id": "1848aef4-02af-4ffe-a383-cd4b0ff5e491",
   "metadata": {},
   "outputs": [
    {
     "data": {
      "text/html": [
       "<div>\n",
       "<style scoped>\n",
       "    .dataframe tbody tr th:only-of-type {\n",
       "        vertical-align: middle;\n",
       "    }\n",
       "\n",
       "    .dataframe tbody tr th {\n",
       "        vertical-align: top;\n",
       "    }\n",
       "\n",
       "    .dataframe thead th {\n",
       "        text-align: right;\n",
       "    }\n",
       "</style>\n",
       "<table border=\"1\" class=\"dataframe\">\n",
       "  <thead>\n",
       "    <tr style=\"text-align: right;\">\n",
       "      <th></th>\n",
       "      <th>value</th>\n",
       "      <th>cluster_size</th>\n",
       "    </tr>\n",
       "  </thead>\n",
       "  <tbody>\n",
       "    <tr>\n",
       "      <th>0</th>\n",
       "      <td>0</td>\n",
       "      <td>14261</td>\n",
       "    </tr>\n",
       "    <tr>\n",
       "      <th>1</th>\n",
       "      <td>1</td>\n",
       "      <td>17025</td>\n",
       "    </tr>\n",
       "    <tr>\n",
       "      <th>2</th>\n",
       "      <td>2</td>\n",
       "      <td>21028</td>\n",
       "    </tr>\n",
       "    <tr>\n",
       "      <th>3</th>\n",
       "      <td>3</td>\n",
       "      <td>6254</td>\n",
       "    </tr>\n",
       "    <tr>\n",
       "      <th>4</th>\n",
       "      <td>4</td>\n",
       "      <td>30944</td>\n",
       "    </tr>\n",
       "    <tr>\n",
       "      <th>...</th>\n",
       "      <td>...</td>\n",
       "      <td>...</td>\n",
       "    </tr>\n",
       "    <tr>\n",
       "      <th>9993</th>\n",
       "      <td>9995</td>\n",
       "      <td>12310</td>\n",
       "    </tr>\n",
       "    <tr>\n",
       "      <th>9994</th>\n",
       "      <td>9996</td>\n",
       "      <td>28960</td>\n",
       "    </tr>\n",
       "    <tr>\n",
       "      <th>9995</th>\n",
       "      <td>9997</td>\n",
       "      <td>2614</td>\n",
       "    </tr>\n",
       "    <tr>\n",
       "      <th>9996</th>\n",
       "      <td>9998</td>\n",
       "      <td>31850</td>\n",
       "    </tr>\n",
       "    <tr>\n",
       "      <th>9997</th>\n",
       "      <td>9999</td>\n",
       "      <td>7737</td>\n",
       "    </tr>\n",
       "  </tbody>\n",
       "</table>\n",
       "<p>9998 rows × 2 columns</p>\n",
       "</div>"
      ],
      "text/plain": [
       "      value  cluster_size\n",
       "0         0         14261\n",
       "1         1         17025\n",
       "2         2         21028\n",
       "3         3          6254\n",
       "4         4         30944\n",
       "...     ...           ...\n",
       "9993   9995         12310\n",
       "9994   9996         28960\n",
       "9995   9997          2614\n",
       "9996   9998         31850\n",
       "9997   9999          7737\n",
       "\n",
       "[9998 rows x 2 columns]"
      ]
     },
     "execution_count": 86,
     "metadata": {},
     "output_type": "execute_result"
    }
   ],
   "source": [
    "count_df = pd.DataFrame(np.stack([val, count], axis=0).transpose(1,0), columns=['value', 'cluster_size'])\n",
    "count_df"
   ]
  },
  {
   "cell_type": "markdown",
   "id": "a76f118e-75d1-443d-bd29-0ae003f74c45",
   "metadata": {},
   "source": [
    "## Generating point samples"
   ]
  },
  {
   "cell_type": "code",
   "execution_count": 23,
   "id": "79592bfb-54b8-444b-a611-dac41b5416c3",
   "metadata": {},
   "outputs": [],
   "source": [
    "import rasterio\n",
    "ds = rasterio.open(raster_layers[0])\n",
    "\n",
    "lon = np.arange(0.5, ds.width + 0.5)\n",
    "lat = np.arange(0.5, ds.height + 0.5)\n",
    "pixel_size = ds.transform[0]\n",
    "lon_grid, lat_grid = ds.transform * np.meshgrid(lon, lat)"
   ]
  },
  {
   "cell_type": "code",
   "execution_count": 71,
   "id": "a308395e-187a-4c93-8665-40b37ab092ec",
   "metadata": {},
   "outputs": [
    {
     "name": "stdout",
     "output_type": "stream",
     "text": [
      "(170405809, 15) (170405809,)\n"
     ]
    }
   ],
   "source": [
    "print(fscs_input.shape, lon_grid[fscs_mask].shape)"
   ]
  },
  {
   "cell_type": "code",
   "execution_count": 38,
   "id": "87f470be-28e2-46db-95e7-858c33e84614",
   "metadata": {},
   "outputs": [
    {
     "name": "stdout",
     "output_type": "stream",
     "text": [
      "(10000,) (10000,)\n"
     ]
    }
   ],
   "source": [
    "lon = lon_grid[fscs_mask][nearest_center.flatten()]\n",
    "lat = lat_grid[fscs_mask][nearest_center.flatten()]\n",
    "print(lon.shape, lat.shape)"
   ]
  },
  {
   "cell_type": "code",
   "execution_count": 42,
   "id": "8ee1ea53-7474-42c7-bf0c-a6d57d58762d",
   "metadata": {},
   "outputs": [
    {
     "name": "stdout",
     "output_type": "stream",
     "text": [
      "Computing label assignment and total inertia\n"
     ]
    }
   ],
   "source": [
    "samp_clusters = fscs_model.predict(fscs_input[nearest_center.flatten()])"
   ]
  },
  {
   "cell_type": "code",
   "execution_count": 108,
   "id": "63dbd299-3ef6-4bbe-a6bb-27d80cf43a69",
   "metadata": {},
   "outputs": [
    {
     "data": {
      "text/plain": [
       "170405809.0"
      ]
     },
     "execution_count": 108,
     "metadata": {},
     "output_type": "execute_result"
    }
   ],
   "source": [
    "np.sum(points['cluster_size'])"
   ]
  },
  {
   "cell_type": "code",
   "execution_count": 109,
   "id": "3e096a48-cc60-4a41-8934-0c587f418f2a",
   "metadata": {},
   "outputs": [
    {
     "data": {
      "text/html": [
       "<div>\n",
       "<style scoped>\n",
       "    .dataframe tbody tr th:only-of-type {\n",
       "        vertical-align: middle;\n",
       "    }\n",
       "\n",
       "    .dataframe tbody tr th {\n",
       "        vertical-align: top;\n",
       "    }\n",
       "\n",
       "    .dataframe thead th {\n",
       "        text-align: right;\n",
       "    }\n",
       "</style>\n",
       "<table border=\"1\" class=\"dataframe\">\n",
       "  <thead>\n",
       "    <tr style=\"text-align: right;\">\n",
       "      <th></th>\n",
       "      <th>X</th>\n",
       "      <th>Y</th>\n",
       "      <th>cluster_id</th>\n",
       "      <th>cluster_distance</th>\n",
       "      <th>cluster_size</th>\n",
       "      <th>priority</th>\n",
       "      <th>geometry</th>\n",
       "    </tr>\n",
       "  </thead>\n",
       "  <tbody>\n",
       "    <tr>\n",
       "      <th>0</th>\n",
       "      <td>7.708703e+06</td>\n",
       "      <td>4.055308e+06</td>\n",
       "      <td>4778.0</td>\n",
       "      <td>0.161393</td>\n",
       "      <td>172650.0</td>\n",
       "      <td>0</td>\n",
       "      <td>POINT (7708702.815 4055307.859)</td>\n",
       "    </tr>\n",
       "    <tr>\n",
       "      <th>1</th>\n",
       "      <td>1.644638e+07</td>\n",
       "      <td>1.171749e+07</td>\n",
       "      <td>858.0</td>\n",
       "      <td>0.028470</td>\n",
       "      <td>172390.0</td>\n",
       "      <td>1</td>\n",
       "      <td>POINT (16446383.333 11717486.478)</td>\n",
       "    </tr>\n",
       "    <tr>\n",
       "      <th>2</th>\n",
       "      <td>-1.429353e+07</td>\n",
       "      <td>8.116518e+06</td>\n",
       "      <td>7602.0</td>\n",
       "      <td>0.129038</td>\n",
       "      <td>169294.0</td>\n",
       "      <td>2</td>\n",
       "      <td>POINT (-14293528.619 8116517.600)</td>\n",
       "    </tr>\n",
       "    <tr>\n",
       "      <th>3</th>\n",
       "      <td>8.475010e+06</td>\n",
       "      <td>8.062176e+06</td>\n",
       "      <td>954.0</td>\n",
       "      <td>0.033937</td>\n",
       "      <td>157247.0</td>\n",
       "      <td>3</td>\n",
       "      <td>POINT (8475010.372 8062175.908)</td>\n",
       "    </tr>\n",
       "    <tr>\n",
       "      <th>4</th>\n",
       "      <td>9.813553e+06</td>\n",
       "      <td>6.584969e+06</td>\n",
       "      <td>8765.0</td>\n",
       "      <td>0.124192</td>\n",
       "      <td>151456.0</td>\n",
       "      <td>4</td>\n",
       "      <td>POINT (9813553.383 6584969.087)</td>\n",
       "    </tr>\n",
       "    <tr>\n",
       "      <th>...</th>\n",
       "      <td>...</td>\n",
       "      <td>...</td>\n",
       "      <td>...</td>\n",
       "      <td>...</td>\n",
       "      <td>...</td>\n",
       "      <td>...</td>\n",
       "      <td>...</td>\n",
       "    </tr>\n",
       "    <tr>\n",
       "      <th>9995</th>\n",
       "      <td>1.108778e+07</td>\n",
       "      <td>1.357076e+06</td>\n",
       "      <td>7621.0</td>\n",
       "      <td>0.124492</td>\n",
       "      <td>5.0</td>\n",
       "      <td>9995</td>\n",
       "      <td>POINT (11087775.355 1357076.482)</td>\n",
       "    </tr>\n",
       "    <tr>\n",
       "      <th>9996</th>\n",
       "      <td>-1.530936e+07</td>\n",
       "      <td>1.026911e+07</td>\n",
       "      <td>6740.0</td>\n",
       "      <td>0.050092</td>\n",
       "      <td>3.0</td>\n",
       "      <td>9996</td>\n",
       "      <td>POINT (-15309357.450 10269114.025)</td>\n",
       "    </tr>\n",
       "    <tr>\n",
       "      <th>9997</th>\n",
       "      <td>-1.419039e+07</td>\n",
       "      <td>6.994195e+06</td>\n",
       "      <td>4970.0</td>\n",
       "      <td>0.287460</td>\n",
       "      <td>2.0</td>\n",
       "      <td>9997</td>\n",
       "      <td>POINT (-14190393.159 6994195.301)</td>\n",
       "    </tr>\n",
       "    <tr>\n",
       "      <th>9998</th>\n",
       "      <td>4.999456e+06</td>\n",
       "      <td>-2.212840e+06</td>\n",
       "      <td>9998.0</td>\n",
       "      <td>0.087632</td>\n",
       "      <td>NaN</td>\n",
       "      <td>9998</td>\n",
       "      <td>POINT (4999456.273 -2212840.000)</td>\n",
       "    </tr>\n",
       "    <tr>\n",
       "      <th>9999</th>\n",
       "      <td>-7.727238e+06</td>\n",
       "      <td>-7.106919e+06</td>\n",
       "      <td>9999.0</td>\n",
       "      <td>0.080048</td>\n",
       "      <td>NaN</td>\n",
       "      <td>9999</td>\n",
       "      <td>POINT (-7727237.675 -7106919.352)</td>\n",
       "    </tr>\n",
       "  </tbody>\n",
       "</table>\n",
       "<p>10000 rows × 7 columns</p>\n",
       "</div>"
      ],
      "text/plain": [
       "                 X             Y  cluster_id  cluster_distance  cluster_size  \\\n",
       "0     7.708703e+06  4.055308e+06      4778.0          0.161393      172650.0   \n",
       "1     1.644638e+07  1.171749e+07       858.0          0.028470      172390.0   \n",
       "2    -1.429353e+07  8.116518e+06      7602.0          0.129038      169294.0   \n",
       "3     8.475010e+06  8.062176e+06       954.0          0.033937      157247.0   \n",
       "4     9.813553e+06  6.584969e+06      8765.0          0.124192      151456.0   \n",
       "...            ...           ...         ...               ...           ...   \n",
       "9995  1.108778e+07  1.357076e+06      7621.0          0.124492           5.0   \n",
       "9996 -1.530936e+07  1.026911e+07      6740.0          0.050092           3.0   \n",
       "9997 -1.419039e+07  6.994195e+06      4970.0          0.287460           2.0   \n",
       "9998  4.999456e+06 -2.212840e+06      9998.0          0.087632           NaN   \n",
       "9999 -7.727238e+06 -7.106919e+06      9999.0          0.080048           NaN   \n",
       "\n",
       "      priority                            geometry  \n",
       "0            0     POINT (7708702.815 4055307.859)  \n",
       "1            1   POINT (16446383.333 11717486.478)  \n",
       "2            2   POINT (-14293528.619 8116517.600)  \n",
       "3            3     POINT (8475010.372 8062175.908)  \n",
       "4            4     POINT (9813553.383 6584969.087)  \n",
       "...        ...                                 ...  \n",
       "9995      9995    POINT (11087775.355 1357076.482)  \n",
       "9996      9996  POINT (-15309357.450 10269114.025)  \n",
       "9997      9997   POINT (-14190393.159 6994195.301)  \n",
       "9998      9998    POINT (4999456.273 -2212840.000)  \n",
       "9999      9999   POINT (-7727237.675 -7106919.352)  \n",
       "\n",
       "[10000 rows x 7 columns]"
      ]
     },
     "execution_count": 109,
     "metadata": {},
     "output_type": "execute_result"
    }
   ],
   "source": [
    "samples = np.stack([lon, lat, samp_clusters, arg_min], axis=0).transpose(1,0)\n",
    "samples_df = pd.DataFrame(samples, columns=['X', 'Y', 'cluster_id', 'cluster_distance'])\n",
    "samples_df = samples_df.join(count_df).drop(columns=['value'])\n",
    "\n",
    "samples_df = samples_df.sort_values('cluster_size', ascending=False).reset_index(drop=True)\n",
    "samples_df['priority'] = range(0, samples_df.shape[0])\n",
    "samples_df\n",
    "\n",
    "points = gpd.GeoDataFrame(samples_df, geometry=gpd.points_from_xy(samples_df.X, samples_df.Y))\n",
    "points = points.set_crs(ds.crs)\n",
    "points"
   ]
  },
  {
   "cell_type": "code",
   "execution_count": 91,
   "id": "3b49f21d-741e-47ce-a284-ea39b21247aa",
   "metadata": {},
   "outputs": [],
   "source": [
    "import fiona\n",
    "points.to_file(f'samples_2.gpkg',  driver=\"GPKG\")"
   ]
  },
  {
   "cell_type": "markdown",
   "id": "3a395d04-5081-47f1-9afb-69b6ed32b282",
   "metadata": {},
   "source": [
    "## Generating Tiles"
   ]
  },
  {
   "cell_type": "code",
   "execution_count": 120,
   "id": "b3a324af-aaa4-4b08-9473-2dfb9b34e61b",
   "metadata": {},
   "outputs": [
    {
     "data": {
      "text/html": [
       "<div>\n",
       "<style scoped>\n",
       "    .dataframe tbody tr th:only-of-type {\n",
       "        vertical-align: middle;\n",
       "    }\n",
       "\n",
       "    .dataframe tbody tr th {\n",
       "        vertical-align: top;\n",
       "    }\n",
       "\n",
       "    .dataframe thead th {\n",
       "        text-align: right;\n",
       "    }\n",
       "</style>\n",
       "<table border=\"1\" class=\"dataframe\">\n",
       "  <thead>\n",
       "    <tr style=\"text-align: right;\">\n",
       "      <th></th>\n",
       "      <th>X</th>\n",
       "      <th>Y</th>\n",
       "      <th>cluster_id</th>\n",
       "      <th>cluster_distance</th>\n",
       "      <th>cluster_size</th>\n",
       "      <th>priority</th>\n",
       "      <th>geometry</th>\n",
       "    </tr>\n",
       "  </thead>\n",
       "  <tbody>\n",
       "    <tr>\n",
       "      <th>0</th>\n",
       "      <td>7.708703e+06</td>\n",
       "      <td>4.055308e+06</td>\n",
       "      <td>4778.0</td>\n",
       "      <td>0.161393</td>\n",
       "      <td>172650.0</td>\n",
       "      <td>0</td>\n",
       "      <td>POLYGON ((7708202.815 4054807.859, 7709202.815...</td>\n",
       "    </tr>\n",
       "    <tr>\n",
       "      <th>1</th>\n",
       "      <td>1.644638e+07</td>\n",
       "      <td>1.171749e+07</td>\n",
       "      <td>858.0</td>\n",
       "      <td>0.028470</td>\n",
       "      <td>172390.0</td>\n",
       "      <td>1</td>\n",
       "      <td>POLYGON ((16445883.333 11716986.478, 16446883....</td>\n",
       "    </tr>\n",
       "    <tr>\n",
       "      <th>2</th>\n",
       "      <td>-1.429353e+07</td>\n",
       "      <td>8.116518e+06</td>\n",
       "      <td>7602.0</td>\n",
       "      <td>0.129038</td>\n",
       "      <td>169294.0</td>\n",
       "      <td>2</td>\n",
       "      <td>POLYGON ((-14294028.619 8116017.600, -14293028...</td>\n",
       "    </tr>\n",
       "    <tr>\n",
       "      <th>3</th>\n",
       "      <td>8.475010e+06</td>\n",
       "      <td>8.062176e+06</td>\n",
       "      <td>954.0</td>\n",
       "      <td>0.033937</td>\n",
       "      <td>157247.0</td>\n",
       "      <td>3</td>\n",
       "      <td>POLYGON ((8474510.372 8061675.908, 8475510.372...</td>\n",
       "    </tr>\n",
       "    <tr>\n",
       "      <th>4</th>\n",
       "      <td>9.813553e+06</td>\n",
       "      <td>6.584969e+06</td>\n",
       "      <td>8765.0</td>\n",
       "      <td>0.124192</td>\n",
       "      <td>151456.0</td>\n",
       "      <td>4</td>\n",
       "      <td>POLYGON ((9813053.383 6584469.087, 9814053.383...</td>\n",
       "    </tr>\n",
       "    <tr>\n",
       "      <th>...</th>\n",
       "      <td>...</td>\n",
       "      <td>...</td>\n",
       "      <td>...</td>\n",
       "      <td>...</td>\n",
       "      <td>...</td>\n",
       "      <td>...</td>\n",
       "      <td>...</td>\n",
       "    </tr>\n",
       "    <tr>\n",
       "      <th>9995</th>\n",
       "      <td>1.108778e+07</td>\n",
       "      <td>1.357076e+06</td>\n",
       "      <td>7621.0</td>\n",
       "      <td>0.124492</td>\n",
       "      <td>5.0</td>\n",
       "      <td>9995</td>\n",
       "      <td>POLYGON ((11087275.355 1356576.482, 11088275.3...</td>\n",
       "    </tr>\n",
       "    <tr>\n",
       "      <th>9996</th>\n",
       "      <td>-1.530936e+07</td>\n",
       "      <td>1.026911e+07</td>\n",
       "      <td>6740.0</td>\n",
       "      <td>0.050092</td>\n",
       "      <td>3.0</td>\n",
       "      <td>9996</td>\n",
       "      <td>POLYGON ((-15309857.450 10268614.025, -1530885...</td>\n",
       "    </tr>\n",
       "    <tr>\n",
       "      <th>9997</th>\n",
       "      <td>-1.419039e+07</td>\n",
       "      <td>6.994195e+06</td>\n",
       "      <td>4970.0</td>\n",
       "      <td>0.287460</td>\n",
       "      <td>2.0</td>\n",
       "      <td>9997</td>\n",
       "      <td>POLYGON ((-14190893.159 6993695.301, -14189893...</td>\n",
       "    </tr>\n",
       "    <tr>\n",
       "      <th>9998</th>\n",
       "      <td>4.999456e+06</td>\n",
       "      <td>-2.212840e+06</td>\n",
       "      <td>9998.0</td>\n",
       "      <td>0.087632</td>\n",
       "      <td>NaN</td>\n",
       "      <td>9998</td>\n",
       "      <td>POLYGON ((4998956.273 -2213340.000, 4999956.27...</td>\n",
       "    </tr>\n",
       "    <tr>\n",
       "      <th>9999</th>\n",
       "      <td>-7.727238e+06</td>\n",
       "      <td>-7.106919e+06</td>\n",
       "      <td>9999.0</td>\n",
       "      <td>0.080048</td>\n",
       "      <td>NaN</td>\n",
       "      <td>9999</td>\n",
       "      <td>POLYGON ((-7727737.675 -7107419.352, -7726737....</td>\n",
       "    </tr>\n",
       "  </tbody>\n",
       "</table>\n",
       "<p>10000 rows × 7 columns</p>\n",
       "</div>"
      ],
      "text/plain": [
       "                 X             Y  cluster_id  cluster_distance  cluster_size  \\\n",
       "0     7.708703e+06  4.055308e+06      4778.0          0.161393      172650.0   \n",
       "1     1.644638e+07  1.171749e+07       858.0          0.028470      172390.0   \n",
       "2    -1.429353e+07  8.116518e+06      7602.0          0.129038      169294.0   \n",
       "3     8.475010e+06  8.062176e+06       954.0          0.033937      157247.0   \n",
       "4     9.813553e+06  6.584969e+06      8765.0          0.124192      151456.0   \n",
       "...            ...           ...         ...               ...           ...   \n",
       "9995  1.108778e+07  1.357076e+06      7621.0          0.124492           5.0   \n",
       "9996 -1.530936e+07  1.026911e+07      6740.0          0.050092           3.0   \n",
       "9997 -1.419039e+07  6.994195e+06      4970.0          0.287460           2.0   \n",
       "9998  4.999456e+06 -2.212840e+06      9998.0          0.087632           NaN   \n",
       "9999 -7.727238e+06 -7.106919e+06      9999.0          0.080048           NaN   \n",
       "\n",
       "      priority                                           geometry  \n",
       "0            0  POLYGON ((7708202.815 4054807.859, 7709202.815...  \n",
       "1            1  POLYGON ((16445883.333 11716986.478, 16446883....  \n",
       "2            2  POLYGON ((-14294028.619 8116017.600, -14293028...  \n",
       "3            3  POLYGON ((8474510.372 8061675.908, 8475510.372...  \n",
       "4            4  POLYGON ((9813053.383 6584469.087, 9814053.383...  \n",
       "...        ...                                                ...  \n",
       "9995      9995  POLYGON ((11087275.355 1356576.482, 11088275.3...  \n",
       "9996      9996  POLYGON ((-15309857.450 10268614.025, -1530885...  \n",
       "9997      9997  POLYGON ((-14190893.159 6993695.301, -14189893...  \n",
       "9998      9998  POLYGON ((4998956.273 -2213340.000, 4999956.27...  \n",
       "9999      9999  POLYGON ((-7727737.675 -7107419.352, -7726737....  \n",
       "\n",
       "[10000 rows x 7 columns]"
      ]
     },
     "execution_count": 120,
     "metadata": {},
     "output_type": "execute_result"
    }
   ],
   "source": [
    "tiles = points.copy()\n",
    "tiles['geometry'] = tiles['geometry'].buffer(500).envelope\n",
    "tiles"
   ]
  },
  {
   "cell_type": "code",
   "execution_count": 121,
   "id": "931b9c52-bd9f-448d-90d5-2761e35c245f",
   "metadata": {},
   "outputs": [],
   "source": [
    "tiles.to_file(f'tiles.gpkg',  driver=\"GPKG\")"
   ]
  },
  {
   "cell_type": "markdown",
   "id": "c62b98f5-224c-49d9-a2d8-c501d19d0c7a",
   "metadata": {},
   "source": [
    "## Filtering to MVP area"
   ]
  },
  {
   "cell_type": "code",
   "execution_count": 122,
   "id": "bed9dd27-8c66-4282-92e1-4fe0f1b5ecb1",
   "metadata": {},
   "outputs": [
    {
     "name": "stderr",
     "output_type": "stream",
     "text": [
      "/opt/conda/lib/python3.8/site-packages/geopandas/geodataframe.py:577: RuntimeWarning: Sequential read of iterator was interrupted. Resetting iterator. This can negatively impact the performance.\n",
      "  for feature in features_lst:\n"
     ]
    },
    {
     "data": {
      "text/plain": [
       "(4, 2)"
      ]
     },
     "execution_count": 122,
     "metadata": {},
     "output_type": "execute_result"
    }
   ],
   "source": [
    "mvp_area = gpd.read_file('/mnt/lacus/raw/WRI_Pasture_Mapping/sampling_design/vectors_3857/mvp_area.gpkg')"
   ]
  },
  {
   "cell_type": "code",
   "execution_count": 128,
   "id": "c1a22cd9-9657-4e4c-b25c-313daebbe10c",
   "metadata": {},
   "outputs": [
    {
     "data": {
      "text/plain": [
       "(1793, 9)"
      ]
     },
     "execution_count": 128,
     "metadata": {},
     "output_type": "execute_result"
    }
   ],
   "source": [
    "tiles_mvp = gpd.sjoin(tiles, mvp_area, how=\"inner\")\n",
    "samples_mvp = gpd.sjoin(points, mvp_area, how=\"inner\")\n",
    "tiles_mvp.shape"
   ]
  },
  {
   "cell_type": "code",
   "execution_count": 129,
   "id": "21e13b9c-6982-48c7-b411-78489ab07931",
   "metadata": {},
   "outputs": [],
   "source": [
    "tiles_mvp.to_file(f'lcv_pastures_fscs.tiles_epsg.3857_mvp.gpkg',  driver=\"GPKG\")\n",
    "samples_mvp.to_file(f'lcv_pastures_fscs.samples_epsg.3857_mvp.gpkg',  driver=\"GPKG\")"
   ]
  },
  {
   "cell_type": "code",
   "execution_count": 149,
   "id": "c13954c3-3d7f-435a-90fb-ee06dbd4c6a8",
   "metadata": {},
   "outputs": [],
   "source": [
    "n_analyst = 10\n",
    "out_dir = Path('tiles_split')\n",
    "\n",
    "out_dir.mkdir(parents=True, exist_ok=True)\n",
    "tiles_mvp = tiles_mvp.sort_values('cluster_size', ascending=False).reset_index(drop=True)\n",
    "\n",
    "for idx in np.array_split(range(0,tiles_mvp.shape[0]), n_analyst):\n",
    "    out_file = out_dir.joinpath(f'lcv_pastures_fscs.tiles_epsg.3857_mvp.{np.min(idx)}.{np.max(idx)}.gpkg')\n",
    "    tiles_mvp.iloc[idx].to_file(out_file,  driver=\"GPKG\")"
   ]
  },
  {
   "cell_type": "markdown",
   "id": "016ca2b7-7211-4a47-8416-cbeef3969c81",
   "metadata": {},
   "source": [
    "## Raster output"
   ]
  },
  {
   "cell_type": "code",
   "execution_count": 28,
   "id": "e821bab1-96a8-410a-aa95-8a2ae8d915a0",
   "metadata": {},
   "outputs": [],
   "source": [
    "land_layer = find_files('/mnt/europa/WRI/rasters_3857/', '*landmask*')\n",
    "land, _ = read_rasters(raster_files=land_layer, n_jobs=1)\n",
    "land = np.where(land[:,:,0] == 2, -10000, -1)"
   ]
  },
  {
   "cell_type": "code",
   "execution_count": 30,
   "id": "4b1ae940-40fd-4afb-b52e-3bd32d401ce2",
   "metadata": {},
   "outputs": [],
   "source": [
    "land[fscs_mask] = clusters"
   ]
  },
  {
   "cell_type": "code",
   "execution_count": 31,
   "id": "03f42402-de60-4a60-ab02-6ad8903a0fd4",
   "metadata": {},
   "outputs": [
    {
     "data": {
      "text/plain": [
       "['kmeans.tif']"
      ]
     },
     "execution_count": 31,
     "metadata": {},
     "output_type": "execute_result"
    }
   ],
   "source": [
    "save_rasters(land_layer[0], ['kmeans.tif'], np.stack([land],axis=-1), dtype='int16', nodata=-10000)"
   ]
  }
 ],
 "metadata": {
  "kernelspec": {
   "display_name": "Python 3 (ipykernel)",
   "language": "python",
   "name": "python3"
  },
  "language_info": {
   "codemirror_mode": {
    "name": "ipython",
    "version": 3
   },
   "file_extension": ".py",
   "mimetype": "text/x-python",
   "name": "python",
   "nbconvert_exporter": "python",
   "pygments_lexer": "ipython3",
   "version": "3.8.10"
  }
 },
 "nbformat": 4,
 "nbformat_minor": 5
}
